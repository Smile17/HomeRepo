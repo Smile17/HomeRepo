{
 "cells": [
  {
   "cell_type": "code",
   "execution_count": 1,
   "metadata": {},
   "outputs": [
    {
     "name": "stderr",
     "output_type": "stream",
     "text": [
      "C:\\Anaconda\\lib\\site-packages\\h5py\\__init__.py:36: FutureWarning: Conversion of the second argument of issubdtype from `float` to `np.floating` is deprecated. In future, it will be treated as `np.float64 == np.dtype(float).type`.\n",
      "  from ._conv import register_converters as _register_converters\n"
     ]
    }
   ],
   "source": [
    "import tensorflow as tf"
   ]
  },
  {
   "cell_type": "code",
   "execution_count": 4,
   "metadata": {},
   "outputs": [],
   "source": [
    "from matplotlib.pyplot import imshow\n",
    "import numpy as np\n",
    "import pandas as pd\n",
    "import h5py\n",
    "import cv2\n",
    "import time\n",
    "import video_recognition_library as vrl\n",
    "import video_cnn_recognition_library as cnn"
   ]
  },
  {
   "cell_type": "code",
   "execution_count": 5,
   "metadata": {},
   "outputs": [],
   "source": [
    "from keras.layers import Activation, Conv3D, Conv2D, Conv1D\n",
    "from keras.layers import BatchNormalization\n",
    "from keras.layers import Reshape, Dense, LSTM, GRU, RNN\n",
    "from keras.models import Model, load_model, Sequential\n",
    "from keras.layers import Input, add\n",
    "from keras.layers import MaxPooling3D, GlobalMaxPooling1D, Flatten, MaxPooling1D\n",
    "from keras.regularizers import l2\n",
    "from keras.callbacks import EarlyStopping, ModelCheckpoint, TensorBoard\n",
    "from keras.layers import Dense, Activation, Dropout"
   ]
  },
  {
   "cell_type": "code",
   "execution_count": 6,
   "metadata": {},
   "outputs": [],
   "source": [
    "def get_few_frames(tensor, center, n_points, step):\n",
    "    \"\"\"From video tensor with shape (n_frames, ...) get n_points\n",
    "    frames around center with some step\"\"\"\n",
    "    indexes = center + np.arange(-n_points//2, n_points//2+1)*step\n",
    "    indexes = indexes[:tensor.shape[0]]\n",
    "    tensor = tensor[indexes]\n",
    "    return tensor\n",
    "\n",
    "def process_for_frames(tensor):\n",
    "    tensor = tensor[:,:]\n",
    "    tensor = get_few_frames(tensor, center=tensor.shape[0]//2, n_points=14, step=5)\n",
    "    return tensor"
   ]
  },
  {
   "cell_type": "code",
   "execution_count": 7,
   "metadata": {},
   "outputs": [],
   "source": [
    "base_path = 'bin\\\\'"
   ]
  },
  {
   "cell_type": "code",
   "execution_count": 9,
   "metadata": {},
   "outputs": [
    {
     "name": "stdout",
     "output_type": "stream",
     "text": [
      "4\n"
     ]
    }
   ],
   "source": [
    "metadata = pd.read_csv(base_path + 'metadata.csv')\n",
    "metadata = metadata.loc[metadata.modality == 'video']\n",
    "print(len(metadata))"
   ]
  },
  {
   "cell_type": "code",
   "execution_count": 10,
   "metadata": {},
   "outputs": [],
   "source": [
    "def generator_few_frames(batch_size=16, metadata=metadata):\n",
    "    return vrl.generator_few_frames(batch_size, metadata, base_path, \"data_dlib.h5\", \"labels_dlib.h5\", process_for_frames)"
   ]
  },
  {
   "cell_type": "code",
   "execution_count": 13,
   "metadata": {},
   "outputs": [
    {
     "name": "stdout",
     "output_type": "stream",
     "text": [
      "<generator object generator_few_frames at 0x00000275032ED830>\n"
     ]
    }
   ],
   "source": [
    "g = generator_few_frames()\n",
    "print(g)"
   ]
  },
  {
   "cell_type": "code",
   "execution_count": 14,
   "metadata": {},
   "outputs": [],
   "source": [
    "x, label = next(g)"
   ]
  },
  {
   "cell_type": "code",
   "execution_count": 16,
   "metadata": {},
   "outputs": [
    {
     "name": "stdout",
     "output_type": "stream",
     "text": [
      "[[0 0 0 ... 0 0 0]\n",
      " [0 0 0 ... 0 0 0]\n",
      " [0 0 0 ... 0 0 0]\n",
      " ...\n",
      " [0 0 0 ... 0 0 0]\n",
      " [0 0 0 ... 0 0 0]\n",
      " [0 0 0 ... 0 0 0]]\n",
      "[  0   0   0   0   0   0 173 173]\n"
     ]
    }
   ],
   "source": [
    "print(x[1])\n",
    "print(label[1])"
   ]
  },
  {
   "cell_type": "code",
   "execution_count": 17,
   "metadata": {},
   "outputs": [
    {
     "data": {
      "text/plain": [
       "(4, 15, 4624)"
      ]
     },
     "execution_count": 17,
     "metadata": {},
     "output_type": "execute_result"
    }
   ],
   "source": [
    "x.shape"
   ]
  },
  {
   "cell_type": "code",
   "execution_count": 18,
   "metadata": {},
   "outputs": [],
   "source": [
    "def model_1(input_shape=(15, 4624), num_classes=8, l2_regularization=0.0001):\n",
    "    regularization = l2(l2_regularization)\n",
    "#Result - 0.5\n",
    "   \n",
    "    # base\n",
    "    img_input = Input(input_shape)\n",
    "    x = img_input\n",
    "    \n",
    "    # create model\n",
    "    model = Sequential()\n",
    "    model.add(Dense(512, input_shape=input_shape, activation='relu'))\n",
    "    model.add(Dense(512, activation='relu'))\n",
    "    model.add(Dense(512, activation='relu'))\n",
    "    model.add(GlobalMaxPooling1D())\n",
    "    model.add(Dense(output_dim=8, activation='softmax'))\n",
    "    \n",
    "    model.compile(loss='categorical_crossentropy',\n",
    "                  optimizer='adam',\n",
    "                  metrics=['accuracy'])\n",
    "    return model"
   ]
  },
  {
   "cell_type": "code",
   "execution_count": 19,
   "metadata": {},
   "outputs": [],
   "source": [
    "def model_2(input_shape=(15, 4624), num_classes=8, l2_regularization=0.0001):\n",
    "    regularization = l2(l2_regularization)\n",
    "#Result - 0.6\n",
    "   \n",
    "    # base\n",
    "    img_input = Input(input_shape)\n",
    "    x = img_input\n",
    "    \n",
    "    # create model\n",
    "    model = Sequential()\n",
    "    model.add(Dense(512, input_shape=input_shape, activation='relu'))\n",
    "    model.add(Dense(512, activation='relu'))\n",
    "    model.add(Dense(512, activation='relu'))\n",
    "    model.add(Dense(512, activation='relu'))\n",
    "    model.add(Dense(512, activation='relu'))\n",
    "    model.add(GlobalMaxPooling1D())\n",
    "    model.add(Dense(output_dim=8, activation='softmax'))\n",
    "    \n",
    "    model.compile(loss='categorical_crossentropy',\n",
    "                  optimizer='adam',\n",
    "                  metrics=['accuracy'])\n",
    "    return model"
   ]
  },
  {
   "cell_type": "code",
   "execution_count": 20,
   "metadata": {},
   "outputs": [],
   "source": [
    "def model_3(input_shape=(8, 4624), num_classes=8, l2_regularization=0.0001):\n",
    "    regularization = l2(l2_regularization)\n",
    "#Result - 0.6\n",
    "   \n",
    "    # base\n",
    "    img_input = Input(input_shape)\n",
    "    x = img_input\n",
    "    \n",
    "    # create model\n",
    "    model = Sequential()\n",
    "    model.add(Dense(1024, input_shape=input_shape, activation='relu'))\n",
    "    model.add(Dense(1024, activation='relu'))\n",
    "    model.add(Dense(1024, activation='relu'))\n",
    "    model.add(Dense(1024, activation='relu'))\n",
    "    model.add(GlobalMaxPooling1D())\n",
    "    model.add(Dense(output_dim=8, activation='softmax'))\n",
    "    \n",
    "    model.compile(loss='categorical_crossentropy',\n",
    "                  optimizer='adam',\n",
    "                  metrics=['accuracy'])\n",
    "    return model"
   ]
  },
  {
   "cell_type": "code",
   "execution_count": 21,
   "metadata": {},
   "outputs": [],
   "source": [
    "def model_4(input_shape=(5, 4624), num_classes=8, l2_regularization=0.01):\n",
    "    regularization = l2(l2_regularization)\n",
    "#Result - 0.5\n",
    "   \n",
    "    # base\n",
    "    img_input = Input(input_shape)\n",
    "    x = img_input\n",
    "    \n",
    "    # create model\n",
    "    model = Sequential()\n",
    "    model.add(Dense(1024, input_shape=input_shape, activation='relu'))\n",
    "    model.add(Dense(512, activation='relu'))\n",
    "    model.add(Dense(512, activation='relu'))\n",
    "    model.add(Dense(512, activation='relu'))\n",
    "    model.add(GRU(256, activation='relu'))\n",
    "    model.add(Dense(output_dim=8, activation='softmax'))\n",
    "    \n",
    "    model.compile(loss='categorical_crossentropy',\n",
    "                  optimizer='adam',\n",
    "                  metrics=['accuracy'])\n",
    "    return model"
   ]
  },
  {
   "cell_type": "code",
   "execution_count": 22,
   "metadata": {},
   "outputs": [],
   "source": [
    "def model_5(input_shape=(8, 4624), num_classes=8, l2_regularization=0.01):\n",
    "    regularization = l2(l2_regularization)\n",
    "#Result - 0.65\n",
    "   \n",
    "    # base\n",
    "    img_input = Input(input_shape)\n",
    "    x = img_input\n",
    "    \n",
    "    # create model\n",
    "    model = Sequential()\n",
    "    model.add(Conv1D(4, (2), input_shape=input_shape,\n",
    "               strides=(1), \n",
    "               kernel_regularizer=regularization,\n",
    "               use_bias=False, \n",
    "               padding='same'))\n",
    "    model.add(MaxPooling1D((2), \n",
    "                     strides=(1), \n",
    "                     padding='same'))\n",
    "    model.add(BatchNormalization())\n",
    "    model.add(Activation('relu'))\n",
    "    model.add(Dense(1024, activation='relu'))\n",
    "    model.add(Dense(512, activation='relu'))\n",
    "    model.add(Dense(512, activation='relu'))\n",
    "    model.add(Dense(512, activation='relu'))\n",
    "    model.add(GRU(256, activation='relu'))\n",
    "    #model.add(GlobalMaxPooling1D())\n",
    "    model.add(Dense(output_dim=8, activation='softmax'))\n",
    "    \n",
    "    model.compile(loss='categorical_crossentropy',\n",
    "                  optimizer='adam',\n",
    "                  metrics=['accuracy'])\n",
    "    return model"
   ]
  },
  {
   "cell_type": "code",
   "execution_count": 23,
   "metadata": {},
   "outputs": [],
   "source": [
    "def model_6(input_shape=(15, 4624), num_classes=8, l2_regularization=0.0001):\n",
    "    regularization = l2(l2_regularization)\n",
    "#Result - 0.75, 0.58\n",
    "   \n",
    "    # base\n",
    "    img_input = Input(input_shape)\n",
    "    x = img_input\n",
    "    \n",
    "    # create model\n",
    "    model = Sequential()\n",
    "    \n",
    "    model.add(Conv1D(4, (2), input_shape=input_shape,\n",
    "               strides=(1), \n",
    "               kernel_regularizer=regularization,\n",
    "               use_bias=True, \n",
    "               padding='same'))\n",
    "    model.add(MaxPooling1D((2), \n",
    "                     strides=(1), \n",
    "                     padding='same'))\n",
    "    model.add(BatchNormalization())\n",
    "    model.add(Activation('relu'))\n",
    "    model.add(Dense(1024, activation='relu'))\n",
    "    \n",
    "    model.add(Dense(512, activation='relu'))\n",
    "    model.add(Dense(512, activation='relu'))\n",
    "    model.add(Dense(512, activation='relu'))\n",
    "    model.add(GlobalMaxPooling1D())\n",
    "    model.add(Dense(output_dim=8, activation='softmax'))\n",
    "    \n",
    "    model.compile(loss='categorical_crossentropy',\n",
    "                  optimizer='adam',\n",
    "                  metrics=['accuracy'])\n",
    "    return model"
   ]
  },
  {
   "cell_type": "code",
   "execution_count": 24,
   "metadata": {},
   "outputs": [
    {
     "name": "stderr",
     "output_type": "stream",
     "text": [
      "C:\\Anaconda\\lib\\site-packages\\ipykernel\\__main__.py:17: UserWarning: Update your `Dense` call to the Keras 2 API: `Dense(activation=\"softmax\", units=8)`\n"
     ]
    }
   ],
   "source": [
    "model = model_2()"
   ]
  },
  {
   "cell_type": "code",
   "execution_count": 25,
   "metadata": {},
   "outputs": [
    {
     "name": "stdout",
     "output_type": "stream",
     "text": [
      "_________________________________________________________________\n",
      "Layer (type)                 Output Shape              Param #   \n",
      "=================================================================\n",
      "dense_1 (Dense)              (None, 15, 512)           2368000   \n",
      "_________________________________________________________________\n",
      "dense_2 (Dense)              (None, 15, 512)           262656    \n",
      "_________________________________________________________________\n",
      "dense_3 (Dense)              (None, 15, 512)           262656    \n",
      "_________________________________________________________________\n",
      "dense_4 (Dense)              (None, 15, 512)           262656    \n",
      "_________________________________________________________________\n",
      "dense_5 (Dense)              (None, 15, 512)           262656    \n",
      "_________________________________________________________________\n",
      "global_max_pooling1d_1 (Glob (None, 512)               0         \n",
      "_________________________________________________________________\n",
      "dense_6 (Dense)              (None, 8)                 4104      \n",
      "=================================================================\n",
      "Total params: 3,422,728\n",
      "Trainable params: 3,422,728\n",
      "Non-trainable params: 0\n",
      "_________________________________________________________________\n"
     ]
    }
   ],
   "source": [
    "model.summary()"
   ]
  },
  {
   "cell_type": "code",
   "execution_count": 27,
   "metadata": {},
   "outputs": [],
   "source": [
    "model_name = 'model_11_25_2093_dlib_2'\n",
    "file_path = model_name + '.hdf5'\n",
    "checkpoint = ModelCheckpoint(file_path, monitor='val_loss', verbose=1, save_best_only=True, mode='min')\n",
    "early = EarlyStopping(monitor='val_loss', mode='min', patience=20)\n",
    "tensor_board = TensorBoard(log_dir='./logs/' + model_name, histogram_freq=0, batch_size=32, write_graph=True, write_grads=False, write_images=False, embeddings_freq=0, embeddings_layer_names=None, embeddings_metadata=None)\n",
    "callbacks_list = [checkpoint, early, tensor_board] "
   ]
  },
  {
   "cell_type": "code",
   "execution_count": 28,
   "metadata": {},
   "outputs": [],
   "source": [
    "batch_size = 16\n",
    "epochs = 20"
   ]
  },
  {
   "cell_type": "code",
   "execution_count": 29,
   "metadata": {},
   "outputs": [
    {
     "data": {
      "text/plain": [
       "4"
      ]
     },
     "execution_count": 29,
     "metadata": {},
     "output_type": "execute_result"
    }
   ],
   "source": [
    "metadata = metadata.sample(frac=1, random_state=42)\n",
    "len(metadata)"
   ]
  },
  {
   "cell_type": "code",
   "execution_count": 31,
   "metadata": {},
   "outputs": [
    {
     "data": {
      "text/plain": [
       "3"
      ]
     },
     "execution_count": 31,
     "metadata": {},
     "output_type": "execute_result"
    }
   ],
   "source": [
    "train = metadata.iloc[:int(0.8*metadata.shape[0])]\n",
    "test = metadata.iloc[int(0.8*metadata.shape[0]):]\n",
    "len(train)"
   ]
  },
  {
   "cell_type": "code",
   "execution_count": 32,
   "metadata": {},
   "outputs": [],
   "source": [
    "gen_train = generator_few_frames(batch_size, train)\n",
    "gen_test = generator_few_frames(batch_size, test)"
   ]
  },
  {
   "cell_type": "code",
   "execution_count": 33,
   "metadata": {},
   "outputs": [
    {
     "name": "stdout",
     "output_type": "stream",
     "text": [
      "0\n",
      "<generator object generator_few_frames at 0x00000275055EA888>\n"
     ]
    }
   ],
   "source": [
    "validation_steps=test.shape[0]//batch_size\n",
    "print(validation_steps)\n",
    "print(gen_train)"
   ]
  },
  {
   "cell_type": "code",
   "execution_count": 34,
   "metadata": {},
   "outputs": [
    {
     "name": "stdout",
     "output_type": "stream",
     "text": [
      "   actor  emotion emotional_intensity  \\\n",
      "1      1    angry              strong   \n",
      "3      1    angry              strong   \n",
      "0      6  fearful              strong   \n",
      "\n",
      "                                           file_name modality vocal_channel  \\\n",
      "1  ..\\DataSet\\Video_Song_Actor_01\\Actor_01\\01-02-...    video          song   \n",
      "3  ..\\DataSet\\Video_Song_Actor_01\\Actor_01\\01-02-...    video          song   \n",
      "0  ..\\DataSet\\Video_Speech_Actor_06\\Actor_06\\02-0...    video        speech   \n",
      "\n",
      "   angry  calm  disgust  fearful  happy  neutral  sad  surprised  size  \\\n",
      "1      1     0        0        0      0        0    0          0   173   \n",
      "3      1     0        0        0      0        0    0          0   148   \n",
      "0      0     0        0        1      0        0    0          0   107   \n",
      "\n",
      "   size_dlib  \n",
      "1        173  \n",
      "3        148  \n",
      "0        107  \n"
     ]
    }
   ],
   "source": [
    "print(train)"
   ]
  },
  {
   "cell_type": "code",
   "execution_count": 31,
   "metadata": {},
   "outputs": [
    {
     "name": "stdout",
     "output_type": "stream",
     "text": [
      "Epoch 1/20\n",
      "29/29 [==============================] - 26s 881ms/step - loss: 2.0694 - acc: 0.1740 - val_loss: 1.9233 - val_acc: 0.2804\n",
      "\n",
      "Epoch 00001: val_loss improved from inf to 1.92330, saving model to model_11_25_2093_dlib_2.hdf5\n",
      "Epoch 2/20\n",
      "29/29 [==============================] - 22s 760ms/step - loss: 1.8366 - acc: 0.2717 - val_loss: 1.9408 - val_acc: 0.2410\n",
      "\n",
      "Epoch 00002: val_loss did not improve from 1.92330\n",
      "Epoch 3/20\n",
      "29/29 [==============================] - 22s 765ms/step - loss: 1.7507 - acc: 0.3123 - val_loss: 1.7296 - val_acc: 0.3043\n",
      "\n",
      "Epoch 00003: val_loss improved from 1.92330 to 1.72961, saving model to model_11_25_2093_dlib_2.hdf5\n",
      "Epoch 4/20\n",
      "29/29 [==============================] - 22s 773ms/step - loss: 1.6441 - acc: 0.3441 - val_loss: 1.5359 - val_acc: 0.4301\n",
      "\n",
      "Epoch 00004: val_loss improved from 1.72961 to 1.53585, saving model to model_11_25_2093_dlib_2.hdf5\n",
      "Epoch 5/20\n",
      "29/29 [==============================] - 22s 760ms/step - loss: 1.5798 - acc: 0.3704 - val_loss: 1.5913 - val_acc: 0.3421\n",
      "\n",
      "Epoch 00005: val_loss did not improve from 1.53585\n",
      "Epoch 6/20\n",
      "29/29 [==============================] - 23s 789ms/step - loss: 1.5301 - acc: 0.3950 - val_loss: 1.7657 - val_acc: 0.3289\n",
      "\n",
      "Epoch 00006: val_loss did not improve from 1.53585\n",
      "Epoch 7/20\n",
      "29/29 [==============================] - 22s 765ms/step - loss: 1.5149 - acc: 0.4033 - val_loss: 1.4835 - val_acc: 0.3906\n",
      "\n",
      "Epoch 00007: val_loss improved from 1.53585 to 1.48352, saving model to model_11_25_2093_dlib_2.hdf5\n",
      "Epoch 8/20\n",
      "29/29 [==============================] - 22s 774ms/step - loss: 1.4355 - acc: 0.4239 - val_loss: 1.6243 - val_acc: 0.4005\n",
      "\n",
      "Epoch 00008: val_loss did not improve from 1.48352\n",
      "Epoch 9/20\n",
      "29/29 [==============================] - 22s 770ms/step - loss: 1.3894 - acc: 0.4509 - val_loss: 1.3179 - val_acc: 0.4901\n",
      "\n",
      "Epoch 00009: val_loss improved from 1.48352 to 1.31788, saving model to model_11_25_2093_dlib_2.hdf5\n",
      "Epoch 10/20\n",
      "29/29 [==============================] - 22s 773ms/step - loss: 1.3495 - acc: 0.4613 - val_loss: 1.2583 - val_acc: 0.4959\n",
      "\n",
      "Epoch 00010: val_loss improved from 1.31788 to 1.25832, saving model to model_11_25_2093_dlib_2.hdf5\n",
      "Epoch 11/20\n",
      "29/29 [==============================] - 23s 784ms/step - loss: 1.3056 - acc: 0.4866 - val_loss: 1.2434 - val_acc: 0.5041\n",
      "\n",
      "Epoch 00011: val_loss improved from 1.25832 to 1.24336, saving model to model_11_25_2093_dlib_2.hdf5\n",
      "Epoch 12/20\n",
      "29/29 [==============================] - 21s 740ms/step - loss: 1.2620 - acc: 0.5026 - val_loss: 1.2022 - val_acc: 0.5156\n",
      "\n",
      "Epoch 00012: val_loss improved from 1.24336 to 1.20224, saving model to model_11_25_2093_dlib_2.hdf5\n",
      "Epoch 13/20\n",
      "29/29 [==============================] - 23s 778ms/step - loss: 1.2276 - acc: 0.5154 - val_loss: 1.1739 - val_acc: 0.5164\n",
      "\n",
      "Epoch 00013: val_loss improved from 1.20224 to 1.17391, saving model to model_11_25_2093_dlib_2.hdf5\n",
      "Epoch 14/20\n",
      "29/29 [==============================] - 22s 745ms/step - loss: 1.2042 - acc: 0.5253 - val_loss: 1.2520 - val_acc: 0.4901\n",
      "\n",
      "Epoch 00014: val_loss did not improve from 1.17391\n",
      "Epoch 15/20\n",
      "29/29 [==============================] - 22s 742ms/step - loss: 1.1762 - acc: 0.5504 - val_loss: 1.1079 - val_acc: 0.5724\n",
      "\n",
      "Epoch 00015: val_loss improved from 1.17391 to 1.10788, saving model to model_11_25_2093_dlib_2.hdf5\n",
      "Epoch 16/20\n",
      "29/29 [==============================] - 22s 764ms/step - loss: 1.1528 - acc: 0.5479 - val_loss: 1.1813 - val_acc: 0.5436\n",
      "\n",
      "Epoch 00016: val_loss did not improve from 1.10788\n",
      "Epoch 17/20\n",
      "29/29 [==============================] - 22s 756ms/step - loss: 1.1280 - acc: 0.5607 - val_loss: 1.0988 - val_acc: 0.5748\n",
      "\n",
      "Epoch 00017: val_loss improved from 1.10788 to 1.09879, saving model to model_11_25_2093_dlib_2.hdf5\n",
      "Epoch 18/20\n",
      "29/29 [==============================] - 22s 752ms/step - loss: 1.1196 - acc: 0.5736 - val_loss: 1.1093 - val_acc: 0.5650\n",
      "\n",
      "Epoch 00018: val_loss did not improve from 1.09879\n",
      "Epoch 19/20\n",
      "29/29 [==============================] - 22s 772ms/step - loss: 1.0508 - acc: 0.5914 - val_loss: 1.0676 - val_acc: 0.5946\n",
      "\n",
      "Epoch 00019: val_loss improved from 1.09879 to 1.06762, saving model to model_11_25_2093_dlib_2.hdf5\n",
      "Epoch 20/20\n",
      "29/29 [==============================] - 22s 770ms/step - loss: 1.0583 - acc: 0.5880 - val_loss: 0.9892 - val_acc: 0.6201\n",
      "\n",
      "Epoch 00020: val_loss improved from 1.06762 to 0.98915, saving model to model_11_25_2093_dlib_2.hdf5\n"
     ]
    },
    {
     "data": {
      "text/plain": [
       "<keras.callbacks.History at 0x237d222d860>"
      ]
     },
     "execution_count": 31,
     "metadata": {},
     "output_type": "execute_result"
    }
   ],
   "source": [
    "model.fit_generator(gen_train, \n",
    "                    epochs=epochs, \n",
    "                    steps_per_epoch=train.shape[0]//batch_size, \n",
    "                    validation_data=gen_test, \n",
    "                    callbacks=callbacks_list,\n",
    "                    validation_steps=test.shape[0]//batch_size\n",
    "                   )"
   ]
  }
 ],
 "metadata": {
  "kernelspec": {
   "display_name": "Python [default]",
   "language": "python",
   "name": "python3"
  },
  "language_info": {
   "codemirror_mode": {
    "name": "ipython",
    "version": 3
   },
   "file_extension": ".py",
   "mimetype": "text/x-python",
   "name": "python",
   "nbconvert_exporter": "python",
   "pygments_lexer": "ipython3",
   "version": "3.6.4"
  }
 },
 "nbformat": 4,
 "nbformat_minor": 2
}
