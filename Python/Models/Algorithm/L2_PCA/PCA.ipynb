{
 "cells": [
  {
   "cell_type": "markdown",
   "metadata": {
    "id": "xqGSGVTXaaOx"
   },
   "source": [
    "## 1 - Packages ##"
   ]
  },
  {
   "cell_type": "code",
   "execution_count": 1,
   "metadata": {
    "ExecuteTime": {
     "end_time": "2021-08-30T20:54:13.815727Z",
     "start_time": "2021-08-30T20:54:13.183931Z"
    },
    "id": "caEUwSVIaaOy"
   },
   "outputs": [],
   "source": [
    "import numpy as np\n",
    "import matplotlib.pyplot as plt\n",
    "from matplotlib.pyplot import figure"
   ]
  },
  {
   "cell_type": "markdown",
   "metadata": {},
   "source": [
    "## 2 - Setup data"
   ]
  },
  {
   "cell_type": "code",
   "execution_count": 11,
   "metadata": {},
   "outputs": [],
   "source": [
    "# Read data from file and create train set\n",
    "X1 = np.asarray([[np.sqrt(5), 3],\n",
    "                [0, 0],\n",
    "                [np.sqrt(7), 1]])\n",
    "X2 = np.asarray([[-np.sqrt(5),-3],\n",
    "                 [-np.sqrt(7),-1 ]])"
   ]
  },
  {
   "cell_type": "code",
   "execution_count": 12,
   "metadata": {},
   "outputs": [],
   "source": [
    "#X1 = np.asarray([[np.sqrt(3/2), 0],\n",
    "#                [0, 0],\n",
    "#                [1, 1]])\n",
    "#X2 = np.asarray([[-np.sqrt(3/2),0],\n",
    "#                 [-1, -1]])"
   ]
  },
  {
   "cell_type": "code",
   "execution_count": 13,
   "metadata": {},
   "outputs": [
    {
     "data": {
      "image/png": "[encoded data removed]",
      "text/plain": [
       "<Figure size 432x288 with 1 Axes>"
      ]
     },
     "metadata": {
      "needs_background": "light"
     },
     "output_type": "display_data"
    }
   ],
   "source": [
    "# Show results in the plot\n",
    "plt.scatter(X1[:, 0], X1[:, 1])\n",
    "plt.scatter(X2[:, 0], X2[:, 1])\n",
    "plt.show()"
   ]
  },
  {
   "cell_type": "markdown",
   "metadata": {
    "id": "LM61ZQPvaaPc"
   },
   "source": [
    "## 3 -  Principal Component Analysis"
   ]
  },
  {
   "cell_type": "markdown",
   "metadata": {
    "id": "cdhebXYbaaPf"
   },
   "source": [
    "### 3.1 -  Covariance matrix"
   ]
  },
  {
   "cell_type": "code",
   "execution_count": 20,
   "metadata": {
    "ExecuteTime": {
     "end_time": "2021-08-30T21:39:02.739917Z",
     "start_time": "2021-08-30T21:39:02.728396Z"
    },
    "id": "ZxHUD411aaP4"
   },
   "outputs": [],
   "source": [
    "class Eigendecomposition():\n",
    "        \n",
    "    def covariance(self, X):\n",
    "        \"\"\"\n",
    "        Calculates covariance matrix for one class\n",
    "        \n",
    "        Arguments:\n",
    "        X -- normalized input matrix with shape (n_examples, n_features) \n",
    "        \n",
    "        Returnes:\n",
    "        covariance matrix with shape (n_features, n_features)\n",
    "        \"\"\"\n",
    "        \n",
    "        n = X.shape[0]\n",
    "        A = np.dot(np.transpose(X), X) / n\n",
    "        \n",
    "        return A\n",
    "    def covariance_classes(self, Xs):\n",
    "        \"\"\"\n",
    "        Calculates covariance matrix for several class\n",
    "        Xs -- list of normalized input matrix with shape (n_examples, n_features) \n",
    "        \n",
    "        Returnes:\n",
    "        united covariance matrix\n",
    "        \"\"\"\n",
    "        n = Xs[0].shape[1]\n",
    "        A = np.zeros((n, n))\n",
    "        for X in Xs:\n",
    "            A = A + self.covariance(X)\n",
    "        A = A * (1/len(Xs))\n",
    "        return A\n",
    "        "
   ]
  },
  {
   "cell_type": "code",
   "execution_count": 21,
   "metadata": {},
   "outputs": [
    {
     "data": {
      "text/plain": [
       "array([[ 0.74374085, -0.66846806],\n",
       "       [ 0.66846806,  0.74374085]])"
      ]
     },
     "execution_count": 21,
     "metadata": {},
     "output_type": "execute_result"
    }
   ],
   "source": [
    "A = Eigendecomposition().covariance_classes([X1, X2])\n",
    "cov_vals, cov_vect = np.linalg.eig(A)\n",
    "cov_vect"
   ]
  },
  {
   "cell_type": "code",
   "execution_count": 22,
   "metadata": {},
   "outputs": [
    {
     "data": {
      "image/png": "[encoded data removed]",
      "text/plain": [
       "<Figure size 432x288 with 1 Axes>"
      ]
     },
     "metadata": {},
     "output_type": "display_data"
    }
   ],
   "source": [
    "tot = sum(cov_vals)\n",
    "var_exp = [(i / tot)*100 for i in sorted(cov_vals, reverse=True)]\n",
    "cum_var_exp = np.cumsum(var_exp)\n",
    "var_exp\n",
    "with plt.style.context('seaborn-whitegrid'):\n",
    "    plt.figure(figsize=(6, 4))\n",
    "    n = len(var_exp)\n",
    "    plt.bar(range(n), var_exp, alpha=0.5, align='center',\n",
    "            label='individual explained variance')\n",
    "    plt.step(range(n), cum_var_exp, where='mid',\n",
    "             label='cumulative explained variance')\n",
    "    plt.ylabel('Explained variance ratio')\n",
    "    plt.xlabel('Principal components')\n",
    "    plt.legend(loc='best')\n",
    "    plt.tight_layout()\n",
    "plt.show()"
   ]
  },
  {
   "cell_type": "code",
   "execution_count": 23,
   "metadata": {
    "ExecuteTime": {
     "end_time": "2021-08-30T21:46:33.723501Z",
     "start_time": "2021-08-30T21:46:33.709731Z"
    },
    "id": "04kV_rK3aaQs"
   },
   "outputs": [],
   "source": [
    "class PCA():\n",
    "    \"\"\"\n",
    "    Parameters:\n",
    "    -----------\n",
    "    Xs -- list of matrix of input features of shape (n_examples, n_features) \n",
    "    n -- number of principal components\n",
    "    \"\"\"\n",
    "    \n",
    "    def __init__(self, Xs, n, eigendecomposition):\n",
    "        self.Xs = Xs\n",
    "        self.n = n\n",
    "        self.eigendecomposition = eigendecomposition\n",
    "        self.X = None\n",
    "        self.S = None\n",
    "        self.Y = None\n",
    "        \n",
    "        \n",
    "    def transform(self):\n",
    "        \"\"\"\n",
    "        Transforms the samples into the new subspace\n",
    "        \n",
    "        Returns:\n",
    "        transformed -- reduced matrix of input features with shape (n_samples, n)\n",
    "        matrix_w -- matrix of n eigenvectors with largest eigenvalues with shape (n_features, n)\n",
    "        \"\"\"\n",
    "        A = self.eigendecomposition(self.Xs)\n",
    "        e_val, e_vect = np.linalg.eig(A)\n",
    "        idx = np.argsort(-1 * e_val)[:self.n]\n",
    "        e_val = e_val[idx]\n",
    "        e_vect = e_vect[:,idx]\n",
    "        self.X = np.concatenate(self.Xs, axis = 0)\n",
    "        self.S = e_vect\n",
    "        self.Y = self.X @ self.S\n",
    "\n",
    "        return self.Y, self.S\n",
    "\n",
    "        \n",
    "    def restore(self):\n",
    "        \"\"\"\n",
    "        Restores \"original\" values\n",
    "\n",
    "        Returns:\n",
    "        matrix with shape (n_features, n_examples), \n",
    "            containing restored values depending on reduced input matrix of features   \n",
    "        \"\"\"\n",
    "        X_norm = self.Y @ self.S.T\n",
    "        return X_norm\n"
   ]
  },
  {
   "cell_type": "code",
   "execution_count": 24,
   "metadata": {},
   "outputs": [
    {
     "data": {
      "text/plain": [
       "array([[ 2.23606798,  3.        ],\n",
       "       [ 0.        ,  0.        ],\n",
       "       [ 2.64575131,  1.        ],\n",
       "       [-2.23606798, -3.        ],\n",
       "       [-2.64575131, -1.        ]])"
      ]
     },
     "execution_count": 24,
     "metadata": {},
     "output_type": "execute_result"
    }
   ],
   "source": [
    "X = np.concatenate([X1, X2], axis=0)\n",
    "X"
   ]
  },
  {
   "cell_type": "code",
   "execution_count": 25,
   "metadata": {
    "ExecuteTime": {
     "end_time": "2021-08-30T21:46:35.469042Z",
     "start_time": "2021-08-30T21:46:35.458880Z"
    },
    "id": "5lQqOjCaaaRE"
   },
   "outputs": [],
   "source": [
    "pca = PCA([X1, X2], 1, Eigendecomposition().covariance_classes)"
   ]
  },
  {
   "cell_type": "markdown",
   "metadata": {
    "id": "4qxSCzoqaaRJ"
   },
   "source": [
    "Reducing of input matrix dimencion:"
   ]
  },
  {
   "cell_type": "code",
   "execution_count": 26,
   "metadata": {
    "ExecuteTime": {
     "end_time": "2021-08-30T21:46:36.331683Z",
     "start_time": "2021-08-30T21:46:36.322965Z"
    },
    "id": "iyoR8Iz3aaRK"
   },
   "outputs": [
    {
     "name": "stdout",
     "output_type": "stream",
     "text": [
      "Reduced input matrix:\n",
      "[[ 3.66845928]\n",
      " [ 0.        ]\n",
      " [ 2.6362214 ]\n",
      " [-3.66845928]\n",
      " [-2.6362214 ]]\n"
     ]
    }
   ],
   "source": [
    "reduced_x, reduced_eigenvects = pca.transform()\n",
    "print('Reduced input matrix:')\n",
    "print(reduced_x)"
   ]
  },
  {
   "cell_type": "markdown",
   "metadata": {
    "id": "-ueVCiI3aaRV"
   },
   "source": [
    "Let's plot our reduced data and compare it with original:"
   ]
  },
  {
   "cell_type": "code",
   "execution_count": 27,
   "metadata": {
    "ExecuteTime": {
     "end_time": "2021-08-30T21:46:39.523603Z",
     "start_time": "2021-08-30T21:46:39.510480Z"
    },
    "id": "eYUZ_E_caaRi"
   },
   "outputs": [
    {
     "name": "stdout",
     "output_type": "stream",
     "text": [
      "Restored:\n",
      "[[ 2.72838303  2.45224784]\n",
      " [ 0.          0.        ]\n",
      " [ 1.96066555  1.76222979]\n",
      " [-2.72838303 -2.45224784]\n",
      " [-1.96066555 -1.76222979]]\n"
     ]
    }
   ],
   "source": [
    "new_x = pca.restore()\n",
    "print('Restored:')\n",
    "print(new_x)"
   ]
  },
  {
   "cell_type": "code",
   "execution_count": 28,
   "metadata": {},
   "outputs": [
    {
     "data": {
      "text/plain": [
       "array([[0.74374085],\n",
       "       [0.66846806]])"
      ]
     },
     "execution_count": 28,
     "metadata": {},
     "output_type": "execute_result"
    }
   ],
   "source": [
    "reduced_eigenvects"
   ]
  },
  {
   "cell_type": "markdown",
   "metadata": {
    "id": "hvtfeBnZaaRq"
   },
   "source": [
    "Visualising of initial and restored values:"
   ]
  },
  {
   "cell_type": "code",
   "execution_count": 33,
   "metadata": {},
   "outputs": [
    {
     "data": {
      "image/png": "[encoded data removed]",
      "text/plain": [
       "<Figure size 432x432 with 1 Axes>"
      ]
     },
     "metadata": {
      "needs_background": "light"
     },
     "output_type": "display_data"
    }
   ],
   "source": [
    "figure(figsize=(6, 6))\n",
    "plt.scatter(X1[:, 0], X1[:, 1])\n",
    "plt.scatter(X2[:, 0], X2[:, 1])\n",
    "# x/e[0] = y/e[1]\n",
    "# y = e[1]/e[0] * x\n",
    "x = np.arange(-4, 4)\n",
    "e = reduced_eigenvects\n",
    "y = e[1] * x / e[0]\n",
    "plt.plot(x, y, color = \"green\")\n",
    "plt.scatter(new_x[0:3, 0], new_x[0:3, 1], color='blue')\n",
    "plt.scatter(new_x[3:5, 0], new_x[3:5, 1], color='orange')\n",
    "plt.show()"
   ]
  },
  {
   "cell_type": "code",
   "execution_count": null,
   "metadata": {},
   "outputs": [],
   "source": []
  }
 ],
 "metadata": {
  "colab": {
   "collapsed_sections": [],
   "name": "PCA - NEW.ipynb",
   "provenance": []
  },
  "kernelspec": {
   "display_name": "Python 3 (ipykernel)",
   "language": "python",
   "name": "python3"
  },
  "language_info": {
   "codemirror_mode": {
    "name": "ipython",
    "version": 3
   },
   "file_extension": ".py",
   "mimetype": "text/x-python",
   "name": "python",
   "nbconvert_exporter": "python",
   "pygments_lexer": "ipython3",
   "version": "3.9.7"
  },
  "toc": {
   "base_numbering": 1,
   "nav_menu": {},
   "number_sections": true,
   "sideBar": true,
   "skip_h1_title": false,
   "title_cell": "Table of Contents",
   "title_sidebar": "Contents",
   "toc_cell": false,
   "toc_position": {},
   "toc_section_display": true,
   "toc_window_display": false
  }
 },
 "nbformat": 4,
 "nbformat_minor": 4
}
