{
 "cells": [
  {
   "cell_type": "markdown",
   "metadata": {
    "id": "xqGSGVTXaaOx"
   },
   "source": [
    "# Linear Discriminant Analysis"
   ]
  },
  {
   "cell_type": "markdown",
   "metadata": {},
   "source": [
    "## 1 - Packages ##"
   ]
  },
  {
   "cell_type": "code",
   "execution_count": 1,
   "metadata": {
    "ExecuteTime": {
     "end_time": "2021-08-30T20:54:13.815727Z",
     "start_time": "2021-08-30T20:54:13.183931Z"
    },
    "id": "caEUwSVIaaOy"
   },
   "outputs": [],
   "source": [
    "import numpy as np\n",
    "import matplotlib.pyplot as plt\n",
    "from matplotlib.pyplot import figure"
   ]
  },
  {
   "cell_type": "markdown",
   "metadata": {},
   "source": [
    "## 2 - Setup data"
   ]
  },
  {
   "cell_type": "code",
   "execution_count": 2,
   "metadata": {},
   "outputs": [],
   "source": [
    "X1 = np.asarray([[2, 1],\n",
    "                [1, 0],\n",
    "                [1, 5],\n",
    "                [4, 8]])\n",
    "X2 = np.asarray([[-1, 0],\n",
    "                 [-1, 1],\n",
    "                 [-3, 1],\n",
    "                 [-5, 2]])"
   ]
  },
  {
   "cell_type": "code",
   "execution_count": 4,
   "metadata": {},
   "outputs": [],
   "source": [
    "X1 = np.asarray([[0,2],\n",
    "                [0,1],\n",
    "                [1,0]])\n",
    "X2 = np.asarray([[-1, 0],\n",
    "                 [0, -3]])"
   ]
  },
  {
   "cell_type": "code",
   "execution_count": 234,
   "metadata": {},
   "outputs": [],
   "source": [
    "X = np.concatenate([X1, X2], axis = 0)"
   ]
  },
  {
   "cell_type": "code",
   "execution_count": 5,
   "metadata": {},
   "outputs": [
    {
     "data": {
      "image/png": "[encoded data removed]",
      "text/plain": [
       "<Figure size 432x288 with 1 Axes>"
      ]
     },
     "metadata": {
      "needs_background": "light"
     },
     "output_type": "display_data"
    }
   ],
   "source": [
    "# Show results in the plot\n",
    "plt.scatter(X1[:, 0], X1[:, 1])\n",
    "plt.scatter(X2[:, 0], X2[:, 1])\n",
    "plt.show()"
   ]
  },
  {
   "cell_type": "markdown",
   "metadata": {
    "id": "LM61ZQPvaaPc"
   },
   "source": [
    "## 3 -  Linear Discriminant Analysis"
   ]
  },
  {
   "cell_type": "markdown",
   "metadata": {
    "id": "cdhebXYbaaPf"
   },
   "source": [
    "### 3.1 -  Mean vector and Covariance matrix"
   ]
  },
  {
   "cell_type": "code",
   "execution_count": 20,
   "metadata": {
    "ExecuteTime": {
     "end_time": "2021-08-30T21:39:02.739917Z",
     "start_time": "2021-08-30T21:39:02.728396Z"
    },
    "id": "ZxHUD411aaP4"
   },
   "outputs": [],
   "source": [
    "def covariance(X):\n",
    "    \"\"\"\n",
    "    Calculates mean and covariance matrix for one class\n",
    "\n",
    "    Arguments:\n",
    "    X -- input matrix with shape (n_examples, n_features) \n",
    "\n",
    "    Returnes:\n",
    "    mean vector\n",
    "    covariance matrix with shape (n_features, n_features)\n",
    "    \"\"\"\n",
    "    n = X.shape[0]\n",
    "    m = X.mean(axis=0)\n",
    "    Y = X.copy() - m\n",
    "    S = np.dot(np.transpose(Y), Y)\n",
    "    \n",
    "    return m, S\n",
    "\n",
    "def covariance_classes(Xs):\n",
    "    \"\"\"\n",
    "    Calculates covariance matrix for several class\n",
    "    Xs -- list of normalized input matrix with shape (n_examples, n_features) \n",
    "\n",
    "    Returnes:\n",
    "    united covariance matrix\n",
    "    \"\"\"\n",
    "    ms = []\n",
    "    Ss = []\n",
    "    for X in Xs:\n",
    "        m, S = covariance(X)\n",
    "        ms.append(m)\n",
    "        Ss.append(S)\n",
    "    return ms, np.sum(Ss, axis=0)\n",
    "        "
   ]
  },
  {
   "cell_type": "code",
   "execution_count": 235,
   "metadata": {},
   "outputs": [],
   "source": [
    "class LDA():\n",
    "    \"\"\"\n",
    "    Parameters:\n",
    "    -----------\n",
    "    Xs -- list of matrix of input features of shape (n_examples, n_features) \n",
    "    \"\"\"\n",
    "    \n",
    "    def __init__(self, Xs):\n",
    "        self.Xs = Xs\n",
    "        self.X = np.concatenate(self.Xs, axis = 0) # All data points\n",
    "        self.Y = None # Transformed data points\n",
    "        self.w = None # w vector\n",
    "        self.S = None # Covariance matrix\n",
    "        self.ms = None # mean vector\n",
    "        \n",
    "    def transform(self):\n",
    "        \"\"\"\n",
    "        Transforms the samples into the new subspace\n",
    "        \n",
    "        Returns:\n",
    "        transformed -- reduced matrix of input features with shape (n_samples, n)\n",
    "        \"\"\"\n",
    "        ms, self.S = covariance_classes(self.Xs)\n",
    "        self.w = (np.linalg.inv(self.S) @ (ms[0] - ms[1])).reshape(1, -1)\n",
    "        norm = np.linalg.norm(w)\n",
    "        self.w = w / norm\n",
    "        self.Y = self.X @ self.w.T\n",
    "\n",
    "        return self.Y, self.w\n",
    "    \n",
    "    def restore(self):\n",
    "        \"\"\"\n",
    "        Restores \"original\" values\n",
    "\n",
    "        Returns:\n",
    "        matrix with shape (n_features, n_examples), \n",
    "            containing restored values depending on reduced input matrix of features   \n",
    "        \"\"\"\n",
    "        #v = self.w[0]\n",
    "        #print(np.dot(v, v))\n",
    "        #X_norm = []\n",
    "        #for u in self.X:\n",
    "        #    X_norm.append(np.dot(u, v)*v)\n",
    "        X_norm = self.Y * self.w\n",
    "        return X_norm\n"
   ]
  },
  {
   "cell_type": "code",
   "execution_count": 236,
   "metadata": {},
   "outputs": [],
   "source": [
    "model = LDA([X1, X2])\n",
    "Y, w = model.transform()"
   ]
  },
  {
   "cell_type": "code",
   "execution_count": 237,
   "metadata": {},
   "outputs": [],
   "source": [
    "new_X = model.restore()"
   ]
  },
  {
   "cell_type": "code",
   "execution_count": 238,
   "metadata": {},
   "outputs": [
    {
     "data": {
      "text/plain": [
       "array([[ 0.72413793,  0.31034483],\n",
       "       [ 0.36206897,  0.15517241],\n",
       "       [ 0.84482759,  0.36206897],\n",
       "       [-0.84482759, -0.36206897],\n",
       "       [-1.0862069 , -0.46551724]])"
      ]
     },
     "execution_count": 238,
     "metadata": {},
     "output_type": "execute_result"
    }
   ],
   "source": [
    "new_X"
   ]
  },
  {
   "cell_type": "markdown",
   "metadata": {
    "id": "hvtfeBnZaaRq"
   },
   "source": [
    "Visualising of initial and restored values:"
   ]
  },
  {
   "cell_type": "code",
   "execution_count": 246,
   "metadata": {},
   "outputs": [
    {
     "data": {
      "image/png": "[encoded data removed]",
      "text/plain": [
       "<Figure size 576x576 with 1 Axes>"
      ]
     },
     "metadata": {
      "needs_background": "light"
     },
     "output_type": "display_data"
    }
   ],
   "source": [
    "figure(figsize=(8,8))\n",
    "plt.scatter(X1[:, 0], X1[:, 1], color='blue', label='X1')\n",
    "plt.scatter(X2[:, 0], X2[:, 1], color='orange', label='X2')\n",
    "x = np.arange(-4, 4)\n",
    "y = w[0][1] * x / w[0][0]\n",
    "plt.plot(x, y, color = \"green\")\n",
    "plt.scatter(new_X[0:len(X1), 0], new_X[0:len(X1), 1], color='blue', alpha=0.5)\n",
    "plt.scatter(new_X[len(X1):, 0], new_X[len(X1):, 1], color='orange', alpha=0.5)\n",
    "for p1, p2 in zip(X, new_X):\n",
    "    plt.plot([p1[0], p2[0]], [p1[1], p2[1]], ':', color='gray')\n",
    "plt.legend()\n",
    "plt.axis('equal')\n",
    "plt.grid()\n",
    "plt.show()"
   ]
  },
  {
   "cell_type": "code",
   "execution_count": null,
   "metadata": {},
   "outputs": [],
   "source": []
  }
 ],
 "metadata": {
  "colab": {
   "collapsed_sections": [],
   "name": "PCA - NEW.ipynb",
   "provenance": []
  },
  "kernelspec": {
   "display_name": "Python 3 (ipykernel)",
   "language": "python",
   "name": "python3"
  },
  "language_info": {
   "codemirror_mode": {
    "name": "ipython",
    "version": 3
   },
   "file_extension": ".py",
   "mimetype": "text/x-python",
   "name": "python",
   "nbconvert_exporter": "python",
   "pygments_lexer": "ipython3",
   "version": "3.9.7"
  },
  "toc": {
   "base_numbering": 1,
   "nav_menu": {},
   "number_sections": true,
   "sideBar": true,
   "skip_h1_title": false,
   "title_cell": "Table of Contents",
   "title_sidebar": "Contents",
   "toc_cell": false,
   "toc_position": {},
   "toc_section_display": true,
   "toc_window_display": false
  }
 },
 "nbformat": 4,
 "nbformat_minor": 4
}
