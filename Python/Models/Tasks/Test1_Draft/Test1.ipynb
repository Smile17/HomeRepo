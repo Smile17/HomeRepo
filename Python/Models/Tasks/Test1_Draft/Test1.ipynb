{
 "cells": [
  {
   "cell_type": "markdown",
   "id": "c5fe58ec-a94a-4ecf-82c0-2d311a6e950a",
   "metadata": {},
   "source": [
    "# Test Assignment 1\n",
    "Download this video.\n",
    "Please detect each of the yellow shapes on the video frames. Classify the shapes into classes: circle, rectangle, triangle. Make an output video with each of the shapes signed by the name of its class. Mark the classes with different colors. The shapes which are partly visible may be ignored.\n",
    "\n",
    "Deliverables for this task:\n",
    "- code \n",
    "- output video"
   ]
  },
  {
   "cell_type": "markdown",
   "id": "a4bbb395-51e5-404e-9f0d-71c341856519",
   "metadata": {},
   "source": [
    "## Import libraries and read video"
   ]
  },
  {
   "cell_type": "code",
   "execution_count": 3,
   "id": "ec93ea2e-7055-40a7-a34a-d67bae8b3da0",
   "metadata": {
    "ExecuteTime": {
     "end_time": "2022-01-04T10:44:36.141417Z",
     "start_time": "2022-01-04T10:44:35.688939Z"
    }
   },
   "outputs": [],
   "source": [
    "import numpy as np\n",
    "import cv2"
   ]
  },
  {
   "cell_type": "code",
   "execution_count": 4,
   "id": "51743128-634d-4c0a-a66d-f05fc411c72f",
   "metadata": {
    "ExecuteTime": {
     "end_time": "2022-01-04T10:44:43.941008Z",
     "start_time": "2022-01-04T10:44:37.318517Z"
    }
   },
   "outputs": [
    {
     "name": "stdout",
     "output_type": "stream",
     "text": [
      "Frames per second :  30.0 FPS\n",
      "Frame count :  686.0\n"
     ]
    }
   ],
   "source": [
    "# Create a video capture object, in this case we are reading the video from a file\n",
    "cap = cv2.VideoCapture('Test task1_video.mp4')\n",
    "\n",
    "if (cap.isOpened() == False):\n",
    "    print(\"Error opening the video file\")\n",
    "# Read fps and frame count\n",
    "else:\n",
    "    # Get frame rate information\n",
    "    fps = cap.get(5)\n",
    "    print('Frames per second : ', fps,'FPS')\n",
    "\n",
    "    # Get frame count\n",
    "    frame_count = cap.get(7)\n",
    "    print('Frame count : ', frame_count)\n",
    "i = 0\n",
    "while(cap.isOpened()):\n",
    "    ret, frame = cap.read()\n",
    "    #print(frame.shape) # 1080, 1920\n",
    "    if ret == True:\n",
    "        #if(i == 0):\n",
    "        #    cv2.imwrite('1.jpg',frame)\n",
    "        #    i = i + 1\n",
    "        cv2.imshow('Frame',frame)\n",
    "        if cv2.waitKey(1) & 0xFF == ord('q'):\n",
    "            break\n",
    "    else:\n",
    "        break\n",
    "\n",
    "# Release the video capture object\n",
    "cap.release()\n",
    "cv2.destroyAllWindows()"
   ]
  },
  {
   "cell_type": "markdown",
   "id": "8d387b08-77b1-4bcf-8912-d172255c6e12",
   "metadata": {},
   "source": [
    "## Shape detection"
   ]
  },
  {
   "cell_type": "code",
   "execution_count": 6,
   "id": "950aa35d-3019-4c46-bc13-266a2e9c260a",
   "metadata": {
    "ExecuteTime": {
     "end_time": "2022-01-04T10:44:43.955946Z",
     "start_time": "2022-01-04T10:44:43.943009Z"
    }
   },
   "outputs": [],
   "source": [
    "import cv2\n",
    "class ShapeDetector:\n",
    "    def __init__(self):\n",
    "        pass\n",
    "    def detect(self, c):\n",
    "        # initialize the shape name and approximate the contour\n",
    "        shape = \"unidentified\"\n",
    "        peri = cv2.arcLength(c, True)\n",
    "        approx = cv2.approxPolyDP(c, 0.04 * peri, True)\n",
    "        # if the shape is a triangle, it will have 3 vertices\n",
    "        if len(approx) == 3:\n",
    "            shape = \"triangle\"\n",
    "        # if the shape has 4 vertices, it is either a square or\n",
    "        # a rectangle\n",
    "        elif len(approx) == 4:\n",
    "            # compute the bounding box of the contour and use the\n",
    "            # bounding box to compute the aspect ratio\n",
    "            (x, y, w, h) = cv2.boundingRect(approx)\n",
    "            ar = w / float(h)\n",
    "            # a square will have an aspect ratio that is approximately\n",
    "            # equal to one, otherwise, the shape is a rectangle\n",
    "            shape = \"square\" if ar >= 0.95 and ar <= 1.05 else \"rectangle\"\n",
    "        else:\n",
    "            shape = \"circle\"\n",
    "        # return the name of the shape\n",
    "        return shape"
   ]
  },
  {
   "cell_type": "code",
   "execution_count": 7,
   "id": "7441a433-dd74-422d-a547-ae9d5f63b6ce",
   "metadata": {
    "ExecuteTime": {
     "end_time": "2022-01-04T10:44:43.971900Z",
     "start_time": "2022-01-04T10:44:43.957937Z"
    }
   },
   "outputs": [],
   "source": [
    "colors = dict({'triangle': (255, 255, 255), 'square': (255, 0, 255), 'rectangle': (255, 50, 255), 'circle': (0, 255, 255)})"
   ]
  },
  {
   "cell_type": "code",
   "execution_count": 8,
   "id": "13e4d9e2-c82f-4e1c-ace6-7eeb4cb7a4a2",
   "metadata": {
    "ExecuteTime": {
     "end_time": "2022-01-04T10:49:40.560233Z",
     "start_time": "2022-01-04T10:48:32.830320Z"
    }
   },
   "outputs": [],
   "source": [
    "cap = cv2.VideoCapture('Test task1_video.mp4')\n",
    "sd = ShapeDetector()\n",
    "i = 0\n",
    "while(cap.isOpened()):\n",
    "    # vid_capture.read() methods returns a tuple, first element is a bool \n",
    "    # and the second is frame\n",
    "    ret, frame = cap.read()\n",
    "    if ret == True:\n",
    "        # Detect table background and remove it\n",
    "        f = frame.copy()\n",
    "        gray = cv2.cvtColor(f, cv2.COLOR_BGR2GRAY)\n",
    "        blur = cv2.GaussianBlur(gray, (7,7), 0)\n",
    "        f = cv2.threshold(blur, 0, 255, cv2.THRESH_BINARY + cv2.THRESH_OTSU)[1]\n",
    "        \n",
    "        cnts = cv2.findContours(f, cv2.RETR_EXTERNAL,cv2.CHAIN_APPROX_SIMPLE)\n",
    "        cnts = cnts[0] if len(cnts) == 2 else cnts[1]\n",
    "        cnts = sorted(cnts, key=cv2.contourArea, reverse=True)\n",
    "        contour = cnts[0]\n",
    "        #cv2.drawContours(frame, [contour], 0, (0, 0, 255), 2)\n",
    "        \n",
    "        f = frame.copy()\n",
    "        cv2.fillPoly(f, [contour], color = (0, 0, 0))\n",
    "        f = cv2.absdiff(frame, f)\n",
    "        #if((i % 50 == 0) and (i < 200)):\n",
    "        #    cv2.imwrite(str(i) + '.jpg',f)\n",
    "        #print(i)\n",
    "        #i = i + 1\n",
    "        hsv = cv2.cvtColor(f, cv2.COLOR_BGR2HSV)\n",
    "        f = cv2.inRange(hsv, (0, 0, 0), (179,255,183)) # find values for range with a snippet at the end of the file\n",
    "        \n",
    "\n",
    "        contours, _ = cv2.findContours(f, cv2.RETR_TREE, cv2.CHAIN_APPROX_SIMPLE)\n",
    "        j = 0\n",
    "        contours = sorted(contours, key=cv2.contourArea, reverse=True)\n",
    "        for contour in contours:\n",
    "            # here we are ignoring first counter because\n",
    "            # findcontour function detects whole image as shape\n",
    "            if j == 0:\n",
    "                j = j + 1\n",
    "                continue\n",
    "            area = cv2.contourArea(contour)\n",
    "            if(area > 1500 and area < 200000):\n",
    "                cv2.drawContours(frame, [contour], 0, (0, 0, 255), 2)\n",
    "                shape = sd.detect(contour)\n",
    "\n",
    "                # finding center point of shape\n",
    "                if(shape != 'undefined'):\n",
    "                    M = cv2.moments(contour)\n",
    "                    if M['m00'] != 0.0:\n",
    "                        x = int(M['m10']/M['m00'])\n",
    "                        y = int(M['m01']/M['m00'])\n",
    "\n",
    "                        cv2.putText(frame, shape, (x, y), cv2.FONT_HERSHEY_SIMPLEX, fontScale=0.5, color=colors[shape], thickness=2)\n",
    "        \n",
    "        # Save frame into image file\n",
    "        s = \"\"\n",
    "        if(i < 10):\n",
    "            s = \"00\"\n",
    "        elif(i < 100):\n",
    "            s = \"0\"\n",
    "        cv2.imwrite('res\\kang_'+ s +str(i)+'.jpg',frame)\n",
    "        i = i + 1\n",
    "        \n",
    "        # displaying the video\n",
    "        #cv2.imshow(\"Processed Video\",frame)\n",
    "        if cv2.waitKey(1) & 0xFF == ord('q'):\n",
    "            break\n",
    "    else:\n",
    "        break\n",
    "\n",
    "cap.release()\n",
    "cv2.destroyAllWindows()"
   ]
  },
  {
   "cell_type": "code",
   "execution_count": 9,
   "id": "99b7d959-e224-4b13-afba-239365776d79",
   "metadata": {
    "ExecuteTime": {
     "end_time": "2022-01-04T10:54:52.785720Z",
     "start_time": "2022-01-04T10:54:03.822424Z"
    }
   },
   "outputs": [],
   "source": [
    "# Save images into a video file\n",
    "import cv2\n",
    "import numpy as np\n",
    "import glob\n",
    "\n",
    "img_array = []\n",
    "for filename in glob.glob('res\\kang*.jpg'):\n",
    "    img = cv2.imread(filename)\n",
    "    height, width, layers = img.shape\n",
    "    size = (width,height)\n",
    "    img_array.append(img)\n",
    "\n",
    "out = cv2.VideoWriter('output.mp4',cv2.VideoWriter_fourcc(*'DIVX'), 30, size)\n",
    " \n",
    "for i in range(len(img_array)):\n",
    "    out.write(img_array[i])\n",
    "out.release()"
   ]
  },
  {
   "cell_type": "markdown",
   "id": "b9f68428",
   "metadata": {},
   "source": [
    "# Snippets"
   ]
  },
  {
   "cell_type": "code",
   "execution_count": null,
   "id": "b413b503-a2df-4659-bce2-bcfc9173cc52",
   "metadata": {},
   "outputs": [],
   "source": [
    "# Snippet for manually find value for inRange function that looks for yellow shapes in white sheet\n",
    "import cv2\n",
    "import numpy as np\n",
    "\n",
    "def nothing(x):\n",
    "    pass\n",
    "\n",
    "# Load image\n",
    "image = cv2.imread('131.jpg')\n",
    "\n",
    "# Create a window\n",
    "cv2.namedWindow('image')\n",
    "\n",
    "# Create trackbars for color change\n",
    "# Hue is from 0-179 for Opencv\n",
    "cv2.createTrackbar('HMin', 'image', 0, 179, nothing)\n",
    "cv2.createTrackbar('SMin', 'image', 0, 255, nothing)\n",
    "cv2.createTrackbar('VMin', 'image', 0, 255, nothing)\n",
    "cv2.createTrackbar('HMax', 'image', 0, 179, nothing)\n",
    "cv2.createTrackbar('SMax', 'image', 0, 255, nothing)\n",
    "cv2.createTrackbar('VMax', 'image', 0, 255, nothing)\n",
    "\n",
    "# Set default value for Max HSV trackbars\n",
    "cv2.setTrackbarPos('HMax', 'image', 179)\n",
    "cv2.setTrackbarPos('SMax', 'image', 255)\n",
    "cv2.setTrackbarPos('VMax', 'image', 255)\n",
    "\n",
    "# Initialize HSV min/max values\n",
    "hMin = sMin = vMin = hMax = sMax = vMax = 0\n",
    "phMin = psMin = pvMin = phMax = psMax = pvMax = 0\n",
    "\n",
    "while(1):\n",
    "    # Get current positions of all trackbars\n",
    "    hMin = cv2.getTrackbarPos('HMin', 'image')\n",
    "    sMin = cv2.getTrackbarPos('SMin', 'image')\n",
    "    vMin = cv2.getTrackbarPos('VMin', 'image')\n",
    "    hMax = cv2.getTrackbarPos('HMax', 'image')\n",
    "    sMax = cv2.getTrackbarPos('SMax', 'image')\n",
    "    vMax = cv2.getTrackbarPos('VMax', 'image')\n",
    "\n",
    "    # Set minimum and maximum HSV values to display\n",
    "    lower = np.array([hMin, sMin, vMin])\n",
    "    upper = np.array([hMax, sMax, vMax])\n",
    "\n",
    "    # Convert to HSV format and color threshold\n",
    "    hsv = cv2.cvtColor(image, cv2.COLOR_BGR2HSV)\n",
    "    mask = cv2.inRange(hsv, lower, upper)\n",
    "    result = cv2.bitwise_and(image, image, mask=mask)\n",
    "\n",
    "    # Print if there is a change in HSV value\n",
    "    if((phMin != hMin) | (psMin != sMin) | (pvMin != vMin) | (phMax != hMax) | (psMax != sMax) | (pvMax != vMax) ):\n",
    "        print(\"(hMin = %d , sMin = %d, vMin = %d), (hMax = %d , sMax = %d, vMax = %d)\" % (hMin , sMin , vMin, hMax, sMax , vMax))\n",
    "        phMin = hMin\n",
    "        psMin = sMin\n",
    "        pvMin = vMin\n",
    "        phMax = hMax\n",
    "        psMax = sMax\n",
    "        pvMax = vMax\n",
    "\n",
    "    # Display result image\n",
    "    cv2.imshow('image', result)\n",
    "    if cv2.waitKey(10) & 0xFF == ord('q'):\n",
    "        break\n",
    "\n",
    "cv2.destroyAllWindows()"
   ]
  }
 ],
 "metadata": {
  "kernelspec": {
   "display_name": "Python 3 (ipykernel)",
   "language": "python",
   "name": "python3"
  },
  "language_info": {
   "codemirror_mode": {
    "name": "ipython",
    "version": 3
   },
   "file_extension": ".py",
   "mimetype": "text/x-python",
   "name": "python",
   "nbconvert_exporter": "python",
   "pygments_lexer": "ipython3",
   "version": "3.9.7"
  },
  "toc": {
   "base_numbering": 1,
   "nav_menu": {},
   "number_sections": true,
   "sideBar": true,
   "skip_h1_title": false,
   "title_cell": "Table of Contents",
   "title_sidebar": "Contents",
   "toc_cell": false,
   "toc_position": {},
   "toc_section_display": true,
   "toc_window_display": false
  }
 },
 "nbformat": 4,
 "nbformat_minor": 5
}
