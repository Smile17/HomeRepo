{
 "cells": [
  {
   "cell_type": "markdown",
   "metadata": {},
   "source": [
    "# Лабораторна 1"
   ]
  },
  {
   "cell_type": "code",
   "execution_count": 2,
   "metadata": {},
   "outputs": [],
   "source": [
    "import pandas as pd\n",
    "import numpy as np\n",
    "import math\n",
    "import matplotlib.pyplot as plt\n",
    "import seaborn as sns\n",
    "sns.set()\n",
    "data1 = pd.read_csv(\"1.txt\") \n",
    "data2 = pd.read_csv(\"2.txt\")\n",
    "data = [data1, data2]\n",
    "res = [data1, data2]"
   ]
  },
  {
   "cell_type": "code",
   "execution_count": 3,
   "metadata": {},
   "outputs": [],
   "source": [
    "for i in range(len(data)):\n",
    "    data[i][\"$x^2$\"] = data[i][\"x\"] * data[i][\"x\"]\n",
    "    data[i][\"$y^2$\"] = data[i][\"y\"] * data[i][\"y\"]\n",
    "    data[i][\"xy\"] = data[i][\"x\"] * data[i][\"y\"]\n",
    "    res[i] = pd.DataFrame(data[i])\n",
    "    res[i].loc['Total']= data[i].sum(numeric_only=True, axis=0)"
   ]
  },
  {
   "cell_type": "code",
   "execution_count": 4,
   "metadata": {},
   "outputs": [
    {
     "data": {
      "text/html": [
       "<div>\n",
       "<style scoped>\n",
       "    .dataframe tbody tr th:only-of-type {\n",
       "        vertical-align: middle;\n",
       "    }\n",
       "\n",
       "    .dataframe tbody tr th {\n",
       "        vertical-align: top;\n",
       "    }\n",
       "\n",
       "    .dataframe thead th {\n",
       "        text-align: right;\n",
       "    }\n",
       "</style>\n",
       "<table border=\"1\" class=\"dataframe\">\n",
       "  <thead>\n",
       "    <tr style=\"text-align: right;\">\n",
       "      <th></th>\n",
       "      <th>x</th>\n",
       "      <th>y</th>\n",
       "      <th>$x^2$</th>\n",
       "      <th>$y^2$</th>\n",
       "      <th>xy</th>\n",
       "    </tr>\n",
       "  </thead>\n",
       "  <tbody>\n",
       "    <tr>\n",
       "      <th>0</th>\n",
       "      <td>71</td>\n",
       "      <td>26</td>\n",
       "      <td>5041</td>\n",
       "      <td>676</td>\n",
       "      <td>1846</td>\n",
       "    </tr>\n",
       "    <tr>\n",
       "      <th>1</th>\n",
       "      <td>69</td>\n",
       "      <td>26</td>\n",
       "      <td>4761</td>\n",
       "      <td>676</td>\n",
       "      <td>1794</td>\n",
       "    </tr>\n",
       "    <tr>\n",
       "      <th>2</th>\n",
       "      <td>71</td>\n",
       "      <td>32</td>\n",
       "      <td>5041</td>\n",
       "      <td>1024</td>\n",
       "      <td>2272</td>\n",
       "    </tr>\n",
       "    <tr>\n",
       "      <th>3</th>\n",
       "      <td>80</td>\n",
       "      <td>32</td>\n",
       "      <td>6400</td>\n",
       "      <td>1024</td>\n",
       "      <td>2560</td>\n",
       "    </tr>\n",
       "    <tr>\n",
       "      <th>4</th>\n",
       "      <td>75</td>\n",
       "      <td>30</td>\n",
       "      <td>5625</td>\n",
       "      <td>900</td>\n",
       "      <td>2250</td>\n",
       "    </tr>\n",
       "    <tr>\n",
       "      <th>5</th>\n",
       "      <td>74</td>\n",
       "      <td>34</td>\n",
       "      <td>5476</td>\n",
       "      <td>1156</td>\n",
       "      <td>2516</td>\n",
       "    </tr>\n",
       "    <tr>\n",
       "      <th>6</th>\n",
       "      <td>84</td>\n",
       "      <td>42</td>\n",
       "      <td>7056</td>\n",
       "      <td>1764</td>\n",
       "      <td>3528</td>\n",
       "    </tr>\n",
       "    <tr>\n",
       "      <th>7</th>\n",
       "      <td>72</td>\n",
       "      <td>36</td>\n",
       "      <td>5184</td>\n",
       "      <td>1296</td>\n",
       "      <td>2592</td>\n",
       "    </tr>\n",
       "    <tr>\n",
       "      <th>8</th>\n",
       "      <td>76</td>\n",
       "      <td>9</td>\n",
       "      <td>5776</td>\n",
       "      <td>81</td>\n",
       "      <td>684</td>\n",
       "    </tr>\n",
       "    <tr>\n",
       "      <th>9</th>\n",
       "      <td>60</td>\n",
       "      <td>6</td>\n",
       "      <td>3600</td>\n",
       "      <td>36</td>\n",
       "      <td>360</td>\n",
       "    </tr>\n",
       "    <tr>\n",
       "      <th>10</th>\n",
       "      <td>69</td>\n",
       "      <td>9</td>\n",
       "      <td>4761</td>\n",
       "      <td>81</td>\n",
       "      <td>621</td>\n",
       "    </tr>\n",
       "    <tr>\n",
       "      <th>11</th>\n",
       "      <td>75</td>\n",
       "      <td>9</td>\n",
       "      <td>5625</td>\n",
       "      <td>81</td>\n",
       "      <td>675</td>\n",
       "    </tr>\n",
       "    <tr>\n",
       "      <th>12</th>\n",
       "      <td>75</td>\n",
       "      <td>8</td>\n",
       "      <td>5625</td>\n",
       "      <td>64</td>\n",
       "      <td>600</td>\n",
       "    </tr>\n",
       "    <tr>\n",
       "      <th>13</th>\n",
       "      <td>64</td>\n",
       "      <td>3</td>\n",
       "      <td>4096</td>\n",
       "      <td>9</td>\n",
       "      <td>192</td>\n",
       "    </tr>\n",
       "    <tr>\n",
       "      <th>14</th>\n",
       "      <td>70</td>\n",
       "      <td>3</td>\n",
       "      <td>4900</td>\n",
       "      <td>9</td>\n",
       "      <td>210</td>\n",
       "    </tr>\n",
       "    <tr>\n",
       "      <th>15</th>\n",
       "      <td>75</td>\n",
       "      <td>3</td>\n",
       "      <td>5625</td>\n",
       "      <td>9</td>\n",
       "      <td>225</td>\n",
       "    </tr>\n",
       "    <tr>\n",
       "      <th>Total</th>\n",
       "      <td>1160</td>\n",
       "      <td>308</td>\n",
       "      <td>84592</td>\n",
       "      <td>8886</td>\n",
       "      <td>22925</td>\n",
       "    </tr>\n",
       "  </tbody>\n",
       "</table>\n",
       "</div>"
      ],
      "text/plain": [
       "          x    y  $x^2$  $y^2$     xy\n",
       "0        71   26   5041    676   1846\n",
       "1        69   26   4761    676   1794\n",
       "2        71   32   5041   1024   2272\n",
       "3        80   32   6400   1024   2560\n",
       "4        75   30   5625    900   2250\n",
       "5        74   34   5476   1156   2516\n",
       "6        84   42   7056   1764   3528\n",
       "7        72   36   5184   1296   2592\n",
       "8        76    9   5776     81    684\n",
       "9        60    6   3600     36    360\n",
       "10       69    9   4761     81    621\n",
       "11       75    9   5625     81    675\n",
       "12       75    8   5625     64    600\n",
       "13       64    3   4096      9    192\n",
       "14       70    3   4900      9    210\n",
       "15       75    3   5625      9    225\n",
       "Total  1160  308  84592   8886  22925"
      ]
     },
     "execution_count": 4,
     "metadata": {},
     "output_type": "execute_result"
    }
   ],
   "source": [
    "res[0]"
   ]
  },
  {
   "cell_type": "code",
   "execution_count": 5,
   "metadata": {},
   "outputs": [
    {
     "data": {
      "text/html": [
       "<div>\n",
       "<style scoped>\n",
       "    .dataframe tbody tr th:only-of-type {\n",
       "        vertical-align: middle;\n",
       "    }\n",
       "\n",
       "    .dataframe tbody tr th {\n",
       "        vertical-align: top;\n",
       "    }\n",
       "\n",
       "    .dataframe thead th {\n",
       "        text-align: right;\n",
       "    }\n",
       "</style>\n",
       "<table border=\"1\" class=\"dataframe\">\n",
       "  <thead>\n",
       "    <tr style=\"text-align: right;\">\n",
       "      <th></th>\n",
       "      <th>x</th>\n",
       "      <th>y</th>\n",
       "      <th>$x^2$</th>\n",
       "      <th>$y^2$</th>\n",
       "      <th>xy</th>\n",
       "    </tr>\n",
       "  </thead>\n",
       "  <tbody>\n",
       "    <tr>\n",
       "      <th>0</th>\n",
       "      <td>0.44</td>\n",
       "      <td>0.90</td>\n",
       "      <td>0.1936</td>\n",
       "      <td>0.8100</td>\n",
       "      <td>0.3960</td>\n",
       "    </tr>\n",
       "    <tr>\n",
       "      <th>1</th>\n",
       "      <td>0.46</td>\n",
       "      <td>0.86</td>\n",
       "      <td>0.2116</td>\n",
       "      <td>0.7396</td>\n",
       "      <td>0.3956</td>\n",
       "    </tr>\n",
       "    <tr>\n",
       "      <th>2</th>\n",
       "      <td>0.48</td>\n",
       "      <td>0.66</td>\n",
       "      <td>0.2304</td>\n",
       "      <td>0.4356</td>\n",
       "      <td>0.3168</td>\n",
       "    </tr>\n",
       "    <tr>\n",
       "      <th>3</th>\n",
       "      <td>0.50</td>\n",
       "      <td>0.56</td>\n",
       "      <td>0.2500</td>\n",
       "      <td>0.3136</td>\n",
       "      <td>0.2800</td>\n",
       "    </tr>\n",
       "    <tr>\n",
       "      <th>4</th>\n",
       "      <td>0.52</td>\n",
       "      <td>0.47</td>\n",
       "      <td>0.2704</td>\n",
       "      <td>0.2209</td>\n",
       "      <td>0.2444</td>\n",
       "    </tr>\n",
       "    <tr>\n",
       "      <th>5</th>\n",
       "      <td>0.54</td>\n",
       "      <td>0.43</td>\n",
       "      <td>0.2916</td>\n",
       "      <td>0.1849</td>\n",
       "      <td>0.2322</td>\n",
       "    </tr>\n",
       "    <tr>\n",
       "      <th>6</th>\n",
       "      <td>0.56</td>\n",
       "      <td>0.39</td>\n",
       "      <td>0.3136</td>\n",
       "      <td>0.1521</td>\n",
       "      <td>0.2184</td>\n",
       "    </tr>\n",
       "    <tr>\n",
       "      <th>7</th>\n",
       "      <td>0.58</td>\n",
       "      <td>0.35</td>\n",
       "      <td>0.3364</td>\n",
       "      <td>0.1225</td>\n",
       "      <td>0.2030</td>\n",
       "    </tr>\n",
       "    <tr>\n",
       "      <th>8</th>\n",
       "      <td>0.60</td>\n",
       "      <td>0.27</td>\n",
       "      <td>0.3600</td>\n",
       "      <td>0.0729</td>\n",
       "      <td>0.1620</td>\n",
       "    </tr>\n",
       "    <tr>\n",
       "      <th>9</th>\n",
       "      <td>0.62</td>\n",
       "      <td>0.25</td>\n",
       "      <td>0.3844</td>\n",
       "      <td>0.0625</td>\n",
       "      <td>0.1550</td>\n",
       "    </tr>\n",
       "    <tr>\n",
       "      <th>Total</th>\n",
       "      <td>5.30</td>\n",
       "      <td>5.14</td>\n",
       "      <td>2.8420</td>\n",
       "      <td>3.1146</td>\n",
       "      <td>2.6034</td>\n",
       "    </tr>\n",
       "  </tbody>\n",
       "</table>\n",
       "</div>"
      ],
      "text/plain": [
       "          x     y   $x^2$   $y^2$      xy\n",
       "0      0.44  0.90  0.1936  0.8100  0.3960\n",
       "1      0.46  0.86  0.2116  0.7396  0.3956\n",
       "2      0.48  0.66  0.2304  0.4356  0.3168\n",
       "3      0.50  0.56  0.2500  0.3136  0.2800\n",
       "4      0.52  0.47  0.2704  0.2209  0.2444\n",
       "5      0.54  0.43  0.2916  0.1849  0.2322\n",
       "6      0.56  0.39  0.3136  0.1521  0.2184\n",
       "7      0.58  0.35  0.3364  0.1225  0.2030\n",
       "8      0.60  0.27  0.3600  0.0729  0.1620\n",
       "9      0.62  0.25  0.3844  0.0625  0.1550\n",
       "Total  5.30  5.14  2.8420  3.1146  2.6034"
      ]
     },
     "execution_count": 5,
     "metadata": {},
     "output_type": "execute_result"
    }
   ],
   "source": [
    "res[1]"
   ]
  },
  {
   "cell_type": "code",
   "execution_count": 8,
   "metadata": {},
   "outputs": [
    {
     "name": "stdout",
     "output_type": "stream",
     "text": [
      "Таблиця 1.3л\n"
     ]
    },
    {
     "data": {
      "text/html": [
       "<div>\n",
       "<style scoped>\n",
       "    .dataframe tbody tr th:only-of-type {\n",
       "        vertical-align: middle;\n",
       "    }\n",
       "\n",
       "    .dataframe tbody tr th {\n",
       "        vertical-align: top;\n",
       "    }\n",
       "\n",
       "    .dataframe thead th {\n",
       "        text-align: right;\n",
       "    }\n",
       "</style>\n",
       "<table border=\"1\" class=\"dataframe\">\n",
       "  <thead>\n",
       "    <tr style=\"text-align: right;\">\n",
       "      <th></th>\n",
       "      <th>x</th>\n",
       "      <th>y</th>\n",
       "      <th>$x^2$</th>\n",
       "      <th>$y^2$</th>\n",
       "      <th>xy</th>\n",
       "    </tr>\n",
       "  </thead>\n",
       "  <tbody>\n",
       "    <tr>\n",
       "      <th>Вибірка 1</th>\n",
       "      <td>1375</td>\n",
       "      <td>334</td>\n",
       "      <td>100255</td>\n",
       "      <td>11406</td>\n",
       "      <td>23823</td>\n",
       "    </tr>\n",
       "    <tr>\n",
       "      <th>Вибірка 2</th>\n",
       "      <td>1375</td>\n",
       "      <td>334</td>\n",
       "      <td>100255</td>\n",
       "      <td>11406</td>\n",
       "      <td>23823</td>\n",
       "    </tr>\n",
       "  </tbody>\n",
       "</table>\n",
       "</div>"
      ],
      "text/plain": [
       "              x    y   $x^2$  $y^2$     xy\n",
       "Вибірка 1  1375  334  100255  11406  23823\n",
       "Вибірка 2  1375  334  100255  11406  23823"
      ]
     },
     "execution_count": 8,
     "metadata": {},
     "output_type": "execute_result"
    }
   ],
   "source": [
    "table1 = pd.DataFrame(columns=[\"x\", \"y\", \"$x^2$\", \"$y^2$\", \"xy\"])\n",
    "table1.loc[\"Вибірка 1\"] = res[0].loc[\"Total\"]\n",
    "table1.loc[\"Вибірка 2\"] = res[0].loc[\"Total\"]\n",
    "print(\"Таблиця 1.3л\")\n",
    "table1"
   ]
  },
  {
   "cell_type": "code",
   "execution_count": 9,
   "metadata": {},
   "outputs": [],
   "source": [
    "n = 10\n",
    "table2 = pd.DataFrame(columns=[\"$\\overline{x}$\", \"$\\overline{y}$\", \"S(x)\", \"S(y)\", \"R\", \"a\", \"b\", \"$a_1$\", \"$b_1$\"])\n",
    "for i in range(len(data)):\n",
    "    x_mean = data[i][\"x\"].mean()\n",
    "    y_mean = data[i][\"y\"].mean()\n",
    "    S_x = math.sqrt(((data[i][\"x\"] - x_mean) ** 2).sum() / (n - 1))\n",
    "    S_y = math.sqrt(((data[i][\"y\"] - y_mean) ** 2).sum() / (n - 1))\n",
    "    R = ((data[i][\"x\"] * data[i][\"y\"]).sum() - n * x_mean * y_mean) / ((n -1) * S_x * S_y)\n",
    "    a = R * S_y / S_x\n",
    "    b = y_mean - a * x_mean\n",
    "    a1 = R * S_x / S_y\n",
    "    b1 = x_mean - a1 * y_mean\n",
    "    table2.loc[\"Вибірка \" + str(i + 1)] = [x_mean, y_mean, S_x, S_y, R, a, b, a1, b1]"
   ]
  },
  {
   "cell_type": "code",
   "execution_count": 10,
   "metadata": {},
   "outputs": [
    {
     "name": "stdout",
     "output_type": "stream",
     "text": [
      "Таблиця 1.4\n"
     ]
    },
    {
     "data": {
      "text/html": [
       "<div>\n",
       "<style scoped>\n",
       "    .dataframe tbody tr th:only-of-type {\n",
       "        vertical-align: middle;\n",
       "    }\n",
       "\n",
       "    .dataframe tbody tr th {\n",
       "        vertical-align: top;\n",
       "    }\n",
       "\n",
       "    .dataframe thead th {\n",
       "        text-align: right;\n",
       "    }\n",
       "</style>\n",
       "<table border=\"1\" class=\"dataframe\">\n",
       "  <thead>\n",
       "    <tr style=\"text-align: right;\">\n",
       "      <th></th>\n",
       "      <th>$\\overline{x}$</th>\n",
       "      <th>$\\overline{y}$</th>\n",
       "      <th>S(x)</th>\n",
       "      <th>S(y)</th>\n",
       "      <th>R</th>\n",
       "      <th>a</th>\n",
       "      <th>b</th>\n",
       "      <th>$a_1$</th>\n",
       "      <th>$b_1$</th>\n",
       "    </tr>\n",
       "  </thead>\n",
       "  <tbody>\n",
       "    <tr>\n",
       "      <th>Вибірка 1</th>\n",
       "      <td>72.368421</td>\n",
       "      <td>17.578947</td>\n",
       "      <td>9.119095</td>\n",
       "      <td>24.798368</td>\n",
       "      <td>5.454565</td>\n",
       "      <td>14.833085</td>\n",
       "      <td>-1055.868019</td>\n",
       "      <td>2.005805</td>\n",
       "      <td>37.108475</td>\n",
       "    </tr>\n",
       "    <tr>\n",
       "      <th>Вибірка 2</th>\n",
       "      <td>0.530000</td>\n",
       "      <td>0.514000</td>\n",
       "      <td>0.060553</td>\n",
       "      <td>0.229163</td>\n",
       "      <td>-0.967263</td>\n",
       "      <td>-3.660606</td>\n",
       "      <td>2.454121</td>\n",
       "      <td>-0.255586</td>\n",
       "      <td>0.661371</td>\n",
       "    </tr>\n",
       "  </tbody>\n",
       "</table>\n",
       "</div>"
      ],
      "text/plain": [
       "           $\\overline{x}$  $\\overline{y}$      S(x)       S(y)         R  \\\n",
       "Вибірка 1       72.368421       17.578947  9.119095  24.798368  5.454565   \n",
       "Вибірка 2        0.530000        0.514000  0.060553   0.229163 -0.967263   \n",
       "\n",
       "                   a            b     $a_1$      $b_1$  \n",
       "Вибірка 1  14.833085 -1055.868019  2.005805  37.108475  \n",
       "Вибірка 2  -3.660606     2.454121 -0.255586   0.661371  "
      ]
     },
     "execution_count": 10,
     "metadata": {},
     "output_type": "execute_result"
    }
   ],
   "source": [
    "print(\"Таблиця 1.4\")\n",
    "table2"
   ]
  },
  {
   "cell_type": "code",
   "execution_count": 102,
   "metadata": {},
   "outputs": [
    {
     "data": {
      "image/png": "[encoded data removed]",
      "text/plain": [
       "<Figure size 720x288 with 2 Axes>"
      ]
     },
     "metadata": {},
     "output_type": "display_data"
    }
   ],
   "source": [
    "colors = ['blue', 'green']\n",
    "_, axs = plt.subplots(1, 2, figsize=(10, 4))\n",
    "for i in range(len(data)):\n",
    "    x = data[i][\"x\"]\n",
    "    y = data[i][\"y\"]\n",
    "    axs[i].title.set_text('Кореляційне поле вибірки ' + str(i + 1))\n",
    "    axs[i].scatter(x, y, alpha=0.5, color = colors[i])"
   ]
  },
  {
   "cell_type": "code",
   "execution_count": 118,
   "metadata": {},
   "outputs": [
    {
     "name": "stdout",
     "output_type": "stream",
     "text": [
      "0    0.44\n",
      "1    0.46\n",
      "2    0.48\n",
      "3    0.50\n",
      "4    0.52\n",
      "5    0.54\n",
      "6    0.56\n",
      "7    0.58\n",
      "8    0.60\n",
      "9    0.62\n",
      "Name: x, dtype: float64\n"
     ]
    },
    {
     "data": {
      "text/plain": [
       "array([0.44, 0.54, 0.64])"
      ]
     },
     "execution_count": 118,
     "metadata": {},
     "output_type": "execute_result"
    }
   ],
   "source": [
    "x = data[1][\"x\"]\n",
    "print(x)\n",
    "np.arange(x.min(), x.max() + 0.1, 0.1)"
   ]
  },
  {
   "cell_type": "code",
   "execution_count": 133,
   "metadata": {},
   "outputs": [
    {
     "data": {
      "image/png": "[encoded data removed]",
      "text/plain": [
       "<Figure size 1152x432 with 2 Axes>"
      ]
     },
     "metadata": {},
     "output_type": "display_data"
    }
   ],
   "source": [
    "colors = ['blue', 'green']\n",
    "_, axs = plt.subplots(1, 2, figsize=(16, 6))\n",
    "for i in range(len(data)):\n",
    "    x = data[i][\"x\"]\n",
    "    y = data[i][\"y\"]\n",
    "    axs[i].title.set_text('Кореляційне поле вибірки ' + str(i + 1) + \" з лініями регресії\")\n",
    "    axs[i].scatter(x, y, alpha=0.2, color = colors[i], label = \"\")\n",
    "    a = table2.iloc[i][\"a\"]\n",
    "    b = table2.iloc[i][\"b\"]\n",
    "    x = np.arange(x.min(), x.max() + 0.1, 0.1)\n",
    "    axs[i].plot(x, a * x + b, alpha=0.8, color = colors[i], label = \"y = ax + b\")\n",
    "    a1 = table2.iloc[i][\"$a_1$\"]\n",
    "    b1 = table2.iloc[i][\"$b_1$\"]\n",
    "    axs[i].plot(x, (x - b1) / a1, '--', alpha=0.8, color = colors[i], label = \"$x = a_1 * y + b_1$\")\n",
    "    axs[i].legend()"
   ]
  },
  {
   "cell_type": "markdown",
   "metadata": {},
   "source": [
    "# Лабораторна 2"
   ]
  },
  {
   "cell_type": "code",
   "execution_count": 140,
   "metadata": {},
   "outputs": [
    {
     "data": {
      "text/html": [
       "<div>\n",
       "<style scoped>\n",
       "    .dataframe tbody tr th:only-of-type {\n",
       "        vertical-align: middle;\n",
       "    }\n",
       "\n",
       "    .dataframe tbody tr th {\n",
       "        vertical-align: top;\n",
       "    }\n",
       "\n",
       "    .dataframe thead th {\n",
       "        text-align: right;\n",
       "    }\n",
       "</style>\n",
       "<table border=\"1\" class=\"dataframe\">\n",
       "  <thead>\n",
       "    <tr style=\"text-align: right;\">\n",
       "      <th></th>\n",
       "      <th>a1</th>\n",
       "      <th>a2</th>\n",
       "      <th>a3</th>\n",
       "      <th>a4</th>\n",
       "      <th>a5</th>\n",
       "      <th>a6</th>\n",
       "      <th>a7</th>\n",
       "      <th>a8</th>\n",
       "      <th>a9</th>\n",
       "      <th>a10</th>\n",
       "      <th>a0</th>\n",
       "    </tr>\n",
       "  </thead>\n",
       "  <tbody>\n",
       "    <tr>\n",
       "      <th>0</th>\n",
       "      <td>2</td>\n",
       "      <td>2</td>\n",
       "      <td>3</td>\n",
       "      <td>13</td>\n",
       "      <td>0.35</td>\n",
       "      <td>19</td>\n",
       "      <td>1</td>\n",
       "      <td>1</td>\n",
       "      <td>1</td>\n",
       "      <td>2</td>\n",
       "      <td>1</td>\n",
       "    </tr>\n",
       "    <tr>\n",
       "      <th>1</th>\n",
       "      <td>2</td>\n",
       "      <td>4</td>\n",
       "      <td>4</td>\n",
       "      <td>29</td>\n",
       "      <td>0.98</td>\n",
       "      <td>22</td>\n",
       "      <td>2</td>\n",
       "      <td>1</td>\n",
       "      <td>1</td>\n",
       "      <td>1</td>\n",
       "      <td>1</td>\n",
       "    </tr>\n",
       "    <tr>\n",
       "      <th>2</th>\n",
       "      <td>0</td>\n",
       "      <td>1</td>\n",
       "      <td>1</td>\n",
       "      <td>36</td>\n",
       "      <td>0.12</td>\n",
       "      <td>12</td>\n",
       "      <td>1</td>\n",
       "      <td>2</td>\n",
       "      <td>1</td>\n",
       "      <td>1</td>\n",
       "      <td>1</td>\n",
       "    </tr>\n",
       "    <tr>\n",
       "      <th>3</th>\n",
       "      <td>3</td>\n",
       "      <td>2</td>\n",
       "      <td>3</td>\n",
       "      <td>5</td>\n",
       "      <td>0.35</td>\n",
       "      <td>23</td>\n",
       "      <td>2</td>\n",
       "      <td>1</td>\n",
       "      <td>2</td>\n",
       "      <td>2</td>\n",
       "      <td>1</td>\n",
       "    </tr>\n",
       "    <tr>\n",
       "      <th>4</th>\n",
       "      <td>3</td>\n",
       "      <td>6</td>\n",
       "      <td>4</td>\n",
       "      <td>26</td>\n",
       "      <td>0.78</td>\n",
       "      <td>19</td>\n",
       "      <td>1</td>\n",
       "      <td>1</td>\n",
       "      <td>1</td>\n",
       "      <td>2</td>\n",
       "      <td>1</td>\n",
       "    </tr>\n",
       "  </tbody>\n",
       "</table>\n",
       "</div>"
      ],
      "text/plain": [
       "   a1  a2  a3  a4    a5  a6  a7  a8  a9  a10  a0\n",
       "0   2   2   3  13  0.35  19   1   1   1    2   1\n",
       "1   2   4   4  29  0.98  22   2   1   1    1   1\n",
       "2   0   1   1  36  0.12  12   1   2   1    1   1\n",
       "3   3   2   3   5  0.35  23   2   1   2    2   1\n",
       "4   3   6   4  26  0.78  19   1   1   1    2   1"
      ]
     },
     "execution_count": 140,
     "metadata": {},
     "output_type": "execute_result"
    }
   ],
   "source": [
    "import pandas as pd\n",
    "import numpy as np\n",
    "import math\n",
    "import matplotlib.pyplot as plt\n",
    "import seaborn as sns\n",
    "sns.set()\n",
    "patients = pd.read_csv(\"2_patients.txt\")\n",
    "patients[\"a0\"] = [1] * len(patients)\n",
    "coef = pd.read_csv(\"2_coef.txt\")\n",
    "patients"
   ]
  },
  {
   "cell_type": "code",
   "execution_count": 141,
   "metadata": {},
   "outputs": [
    {
     "data": {
      "text/html": [
       "<div>\n",
       "<style scoped>\n",
       "    .dataframe tbody tr th:only-of-type {\n",
       "        vertical-align: middle;\n",
       "    }\n",
       "\n",
       "    .dataframe tbody tr th {\n",
       "        vertical-align: top;\n",
       "    }\n",
       "\n",
       "    .dataframe thead th {\n",
       "        text-align: right;\n",
       "    }\n",
       "</style>\n",
       "<table border=\"1\" class=\"dataframe\">\n",
       "  <thead>\n",
       "    <tr style=\"text-align: right;\">\n",
       "      <th></th>\n",
       "      <th>a1</th>\n",
       "      <th>a2</th>\n",
       "      <th>a3</th>\n",
       "      <th>a4</th>\n",
       "      <th>a5</th>\n",
       "      <th>a6</th>\n",
       "      <th>a7</th>\n",
       "      <th>a8</th>\n",
       "      <th>a9</th>\n",
       "      <th>a10</th>\n",
       "      <th>a0</th>\n",
       "    </tr>\n",
       "  </thead>\n",
       "  <tbody>\n",
       "    <tr>\n",
       "      <th>0</th>\n",
       "      <td>1.417</td>\n",
       "      <td>0.244</td>\n",
       "      <td>-1.310</td>\n",
       "      <td>-2.039</td>\n",
       "      <td>1.070</td>\n",
       "      <td>1.65</td>\n",
       "      <td>1.667</td>\n",
       "      <td>-2.324</td>\n",
       "      <td>-0.918</td>\n",
       "      <td>1.443</td>\n",
       "      <td>4.609</td>\n",
       "    </tr>\n",
       "    <tr>\n",
       "      <th>1</th>\n",
       "      <td>0.095</td>\n",
       "      <td>0.283</td>\n",
       "      <td>0.566</td>\n",
       "      <td>1.766</td>\n",
       "      <td>-0.532</td>\n",
       "      <td>0.29</td>\n",
       "      <td>-0.061</td>\n",
       "      <td>1.254</td>\n",
       "      <td>-0.136</td>\n",
       "      <td>-0.753</td>\n",
       "      <td>-23.565</td>\n",
       "    </tr>\n",
       "  </tbody>\n",
       "</table>\n",
       "</div>"
      ],
      "text/plain": [
       "      a1     a2     a3     a4     a5    a6     a7     a8     a9    a10      a0\n",
       "0  1.417  0.244 -1.310 -2.039  1.070  1.65  1.667 -2.324 -0.918  1.443   4.609\n",
       "1  0.095  0.283  0.566  1.766 -0.532  0.29 -0.061  1.254 -0.136 -0.753 -23.565"
      ]
     },
     "execution_count": 141,
     "metadata": {},
     "output_type": "execute_result"
    }
   ],
   "source": [
    "coef"
   ]
  },
  {
   "cell_type": "code",
   "execution_count": 157,
   "metadata": {},
   "outputs": [
    {
     "data": {
      "text/html": [
       "<div>\n",
       "<style scoped>\n",
       "    .dataframe tbody tr th:only-of-type {\n",
       "        vertical-align: middle;\n",
       "    }\n",
       "\n",
       "    .dataframe tbody tr th {\n",
       "        vertical-align: top;\n",
       "    }\n",
       "\n",
       "    .dataframe thead th {\n",
       "        text-align: right;\n",
       "    }\n",
       "</style>\n",
       "<table border=\"1\" class=\"dataframe\">\n",
       "  <thead>\n",
       "    <tr style=\"text-align: right;\">\n",
       "      <th></th>\n",
       "      <th>a1</th>\n",
       "      <th>a2</th>\n",
       "      <th>a3</th>\n",
       "      <th>a4</th>\n",
       "      <th>a5</th>\n",
       "      <th>a6</th>\n",
       "      <th>a7</th>\n",
       "      <th>a8</th>\n",
       "      <th>a9</th>\n",
       "      <th>a10</th>\n",
       "      <th>a0</th>\n",
       "      <th>sum</th>\n",
       "    </tr>\n",
       "  </thead>\n",
       "  <tbody>\n",
       "    <tr>\n",
       "      <th>0</th>\n",
       "      <td>2.834</td>\n",
       "      <td>0.488</td>\n",
       "      <td>-3.93</td>\n",
       "      <td>-26.507</td>\n",
       "      <td>0.3745</td>\n",
       "      <td>31.35</td>\n",
       "      <td>1.667</td>\n",
       "      <td>-2.324</td>\n",
       "      <td>-0.918</td>\n",
       "      <td>2.886</td>\n",
       "      <td>4.609</td>\n",
       "      <td>1.05295</td>\n",
       "    </tr>\n",
       "    <tr>\n",
       "      <th>1</th>\n",
       "      <td>2.834</td>\n",
       "      <td>0.976</td>\n",
       "      <td>-5.24</td>\n",
       "      <td>-59.131</td>\n",
       "      <td>1.0486</td>\n",
       "      <td>36.30</td>\n",
       "      <td>3.334</td>\n",
       "      <td>-2.324</td>\n",
       "      <td>-0.918</td>\n",
       "      <td>1.443</td>\n",
       "      <td>4.609</td>\n",
       "      <td>-1.70684</td>\n",
       "    </tr>\n",
       "    <tr>\n",
       "      <th>2</th>\n",
       "      <td>0.000</td>\n",
       "      <td>0.244</td>\n",
       "      <td>-1.31</td>\n",
       "      <td>-73.404</td>\n",
       "      <td>0.1284</td>\n",
       "      <td>19.80</td>\n",
       "      <td>1.667</td>\n",
       "      <td>-4.648</td>\n",
       "      <td>-0.918</td>\n",
       "      <td>1.443</td>\n",
       "      <td>4.609</td>\n",
       "      <td>-5.23886</td>\n",
       "    </tr>\n",
       "    <tr>\n",
       "      <th>3</th>\n",
       "      <td>4.251</td>\n",
       "      <td>0.488</td>\n",
       "      <td>-3.93</td>\n",
       "      <td>-10.195</td>\n",
       "      <td>0.3745</td>\n",
       "      <td>37.95</td>\n",
       "      <td>3.334</td>\n",
       "      <td>-2.324</td>\n",
       "      <td>-1.836</td>\n",
       "      <td>2.886</td>\n",
       "      <td>4.609</td>\n",
       "      <td>3.56075</td>\n",
       "    </tr>\n",
       "    <tr>\n",
       "      <th>4</th>\n",
       "      <td>4.251</td>\n",
       "      <td>1.464</td>\n",
       "      <td>-5.24</td>\n",
       "      <td>-53.014</td>\n",
       "      <td>0.8346</td>\n",
       "      <td>31.35</td>\n",
       "      <td>1.667</td>\n",
       "      <td>-2.324</td>\n",
       "      <td>-0.918</td>\n",
       "      <td>2.886</td>\n",
       "      <td>4.609</td>\n",
       "      <td>-1.44344</td>\n",
       "    </tr>\n",
       "  </tbody>\n",
       "</table>\n",
       "</div>"
      ],
      "text/plain": [
       "      a1     a2    a3      a4      a5     a6     a7     a8     a9    a10  \\\n",
       "0  2.834  0.488 -3.93 -26.507  0.3745  31.35  1.667 -2.324 -0.918  2.886   \n",
       "1  2.834  0.976 -5.24 -59.131  1.0486  36.30  3.334 -2.324 -0.918  1.443   \n",
       "2  0.000  0.244 -1.31 -73.404  0.1284  19.80  1.667 -4.648 -0.918  1.443   \n",
       "3  4.251  0.488 -3.93 -10.195  0.3745  37.95  3.334 -2.324 -1.836  2.886   \n",
       "4  4.251  1.464 -5.24 -53.014  0.8346  31.35  1.667 -2.324 -0.918  2.886   \n",
       "\n",
       "      a0      sum  \n",
       "0  4.609  1.05295  \n",
       "1  4.609 -1.70684  \n",
       "2  4.609 -5.23886  \n",
       "3  4.609  3.56075  \n",
       "4  4.609 -1.44344  "
      ]
     },
     "execution_count": 157,
     "metadata": {},
     "output_type": "execute_result"
    }
   ],
   "source": [
    "n = 10\n",
    "res1 = patients * coef.iloc[0]\n",
    "res1[\"sum\"] = res1.sum(axis=1) / n\n",
    "res1"
   ]
  },
  {
   "cell_type": "code",
   "execution_count": 158,
   "metadata": {},
   "outputs": [
    {
     "data": {
      "text/html": [
       "<div>\n",
       "<style scoped>\n",
       "    .dataframe tbody tr th:only-of-type {\n",
       "        vertical-align: middle;\n",
       "    }\n",
       "\n",
       "    .dataframe tbody tr th {\n",
       "        vertical-align: top;\n",
       "    }\n",
       "\n",
       "    .dataframe thead th {\n",
       "        text-align: right;\n",
       "    }\n",
       "</style>\n",
       "<table border=\"1\" class=\"dataframe\">\n",
       "  <thead>\n",
       "    <tr style=\"text-align: right;\">\n",
       "      <th></th>\n",
       "      <th>a1</th>\n",
       "      <th>a2</th>\n",
       "      <th>a3</th>\n",
       "      <th>a4</th>\n",
       "      <th>a5</th>\n",
       "      <th>a6</th>\n",
       "      <th>a7</th>\n",
       "      <th>a8</th>\n",
       "      <th>a9</th>\n",
       "      <th>a10</th>\n",
       "      <th>a0</th>\n",
       "      <th>sum</th>\n",
       "    </tr>\n",
       "  </thead>\n",
       "  <tbody>\n",
       "    <tr>\n",
       "      <th>0</th>\n",
       "      <td>0.190</td>\n",
       "      <td>0.566</td>\n",
       "      <td>1.698</td>\n",
       "      <td>22.958</td>\n",
       "      <td>-0.18620</td>\n",
       "      <td>5.51</td>\n",
       "      <td>-0.061</td>\n",
       "      <td>1.254</td>\n",
       "      <td>-0.136</td>\n",
       "      <td>-1.506</td>\n",
       "      <td>-23.565</td>\n",
       "      <td>0.672180</td>\n",
       "    </tr>\n",
       "    <tr>\n",
       "      <th>1</th>\n",
       "      <td>0.190</td>\n",
       "      <td>1.132</td>\n",
       "      <td>2.264</td>\n",
       "      <td>51.214</td>\n",
       "      <td>-0.52136</td>\n",
       "      <td>6.38</td>\n",
       "      <td>-0.122</td>\n",
       "      <td>1.254</td>\n",
       "      <td>-0.136</td>\n",
       "      <td>-0.753</td>\n",
       "      <td>-23.565</td>\n",
       "      <td>3.733664</td>\n",
       "    </tr>\n",
       "    <tr>\n",
       "      <th>2</th>\n",
       "      <td>0.000</td>\n",
       "      <td>0.283</td>\n",
       "      <td>0.566</td>\n",
       "      <td>63.576</td>\n",
       "      <td>-0.06384</td>\n",
       "      <td>3.48</td>\n",
       "      <td>-0.061</td>\n",
       "      <td>2.508</td>\n",
       "      <td>-0.136</td>\n",
       "      <td>-0.753</td>\n",
       "      <td>-23.565</td>\n",
       "      <td>4.583416</td>\n",
       "    </tr>\n",
       "    <tr>\n",
       "      <th>3</th>\n",
       "      <td>0.285</td>\n",
       "      <td>0.566</td>\n",
       "      <td>1.698</td>\n",
       "      <td>8.830</td>\n",
       "      <td>-0.18620</td>\n",
       "      <td>6.67</td>\n",
       "      <td>-0.122</td>\n",
       "      <td>1.254</td>\n",
       "      <td>-0.272</td>\n",
       "      <td>-1.506</td>\n",
       "      <td>-23.565</td>\n",
       "      <td>-0.634820</td>\n",
       "    </tr>\n",
       "    <tr>\n",
       "      <th>4</th>\n",
       "      <td>0.285</td>\n",
       "      <td>1.698</td>\n",
       "      <td>2.264</td>\n",
       "      <td>45.916</td>\n",
       "      <td>-0.41496</td>\n",
       "      <td>5.51</td>\n",
       "      <td>-0.061</td>\n",
       "      <td>1.254</td>\n",
       "      <td>-0.136</td>\n",
       "      <td>-1.506</td>\n",
       "      <td>-23.565</td>\n",
       "      <td>3.124404</td>\n",
       "    </tr>\n",
       "  </tbody>\n",
       "</table>\n",
       "</div>"
      ],
      "text/plain": [
       "      a1     a2     a3      a4       a5    a6     a7     a8     a9    a10  \\\n",
       "0  0.190  0.566  1.698  22.958 -0.18620  5.51 -0.061  1.254 -0.136 -1.506   \n",
       "1  0.190  1.132  2.264  51.214 -0.52136  6.38 -0.122  1.254 -0.136 -0.753   \n",
       "2  0.000  0.283  0.566  63.576 -0.06384  3.48 -0.061  2.508 -0.136 -0.753   \n",
       "3  0.285  0.566  1.698   8.830 -0.18620  6.67 -0.122  1.254 -0.272 -1.506   \n",
       "4  0.285  1.698  2.264  45.916 -0.41496  5.51 -0.061  1.254 -0.136 -1.506   \n",
       "\n",
       "       a0       sum  \n",
       "0 -23.565  0.672180  \n",
       "1 -23.565  3.733664  \n",
       "2 -23.565  4.583416  \n",
       "3 -23.565 -0.634820  \n",
       "4 -23.565  3.124404  "
      ]
     },
     "execution_count": 158,
     "metadata": {},
     "output_type": "execute_result"
    }
   ],
   "source": [
    "n = 10\n",
    "res2 = patients * coef.iloc[1]\n",
    "res2[\"sum\"] = res2.sum(axis=1) / n\n",
    "res2"
   ]
  },
  {
   "cell_type": "code",
   "execution_count": 163,
   "metadata": {},
   "outputs": [
    {
     "data": {
      "text/html": [
       "<div>\n",
       "<style scoped>\n",
       "    .dataframe tbody tr th:only-of-type {\n",
       "        vertical-align: middle;\n",
       "    }\n",
       "\n",
       "    .dataframe tbody tr th {\n",
       "        vertical-align: top;\n",
       "    }\n",
       "\n",
       "    .dataframe thead th {\n",
       "        text-align: right;\n",
       "    }\n",
       "</style>\n",
       "<table border=\"1\" class=\"dataframe\">\n",
       "  <thead>\n",
       "    <tr style=\"text-align: right;\">\n",
       "      <th></th>\n",
       "      <th>Номер пацієнта</th>\n",
       "      <th>$F_1(x)$</th>\n",
       "      <th>$F_2(x)$</th>\n",
       "      <th>Ступень тяжкості когнітивних порушень</th>\n",
       "    </tr>\n",
       "  </thead>\n",
       "  <tbody>\n",
       "    <tr>\n",
       "      <th>0</th>\n",
       "      <td>1</td>\n",
       "      <td>1.05295</td>\n",
       "      <td>0.672180</td>\n",
       "      <td>2</td>\n",
       "    </tr>\n",
       "    <tr>\n",
       "      <th>1</th>\n",
       "      <td>2</td>\n",
       "      <td>-1.70684</td>\n",
       "      <td>3.733664</td>\n",
       "      <td>2</td>\n",
       "    </tr>\n",
       "    <tr>\n",
       "      <th>2</th>\n",
       "      <td>3</td>\n",
       "      <td>-5.23886</td>\n",
       "      <td>4.583416</td>\n",
       "      <td>1</td>\n",
       "    </tr>\n",
       "    <tr>\n",
       "      <th>3</th>\n",
       "      <td>4</td>\n",
       "      <td>3.56075</td>\n",
       "      <td>-0.634820</td>\n",
       "      <td>3</td>\n",
       "    </tr>\n",
       "    <tr>\n",
       "      <th>4</th>\n",
       "      <td>5</td>\n",
       "      <td>-1.44344</td>\n",
       "      <td>3.124404</td>\n",
       "      <td>2</td>\n",
       "    </tr>\n",
       "  </tbody>\n",
       "</table>\n",
       "</div>"
      ],
      "text/plain": [
       "   Номер пацієнта  $F_1(x)$  $F_2(x)$  Ступень тяжкості когнітивних порушень\n",
       "0               1   1.05295  0.672180                                      2\n",
       "1               2  -1.70684  3.733664                                      2\n",
       "2               3  -5.23886  4.583416                                      1\n",
       "3               4   3.56075 -0.634820                                      3\n",
       "4               5  -1.44344  3.124404                                      2"
      ]
     },
     "execution_count": 163,
     "metadata": {},
     "output_type": "execute_result"
    }
   ],
   "source": [
    "res = pd.DataFrame(columns=[\"Номер пацієнта\", \"$F_1(x)$\", \"$F_2(x)$\"])\n",
    "res[\"Номер пацієнта\"] = np.arange(1, len(patients) + 1)\n",
    "res[\"$F_1(x)$\"] = res1[\"sum\"]\n",
    "res[\"$F_2(x)$\"] = res2[\"sum\"]\n",
    "res[\"Ступень тяжкості когнітивних порушень\"] = [2, 2, 1, 3, 2]\n",
    "res"
   ]
  },
  {
   "cell_type": "markdown",
   "metadata": {},
   "source": [
    "# Математичні статистика"
   ]
  },
  {
   "cell_type": "code",
   "execution_count": 1,
   "metadata": {},
   "outputs": [],
   "source": [
    "sample = [10,4,7,7,3,1,6,8,3,7,4,5,10,3,10,7,6,7,1,7,0,4,7,3,10,9,6,10,9,8,1,7,6]"
   ]
  },
  {
   "cell_type": "code",
   "execution_count": 3,
   "metadata": {},
   "outputs": [
    {
     "data": {
      "text/plain": [
       "[0,\n",
       " 1,\n",
       " 1,\n",
       " 1,\n",
       " 3,\n",
       " 3,\n",
       " 3,\n",
       " 3,\n",
       " 4,\n",
       " 4,\n",
       " 4,\n",
       " 5,\n",
       " 6,\n",
       " 6,\n",
       " 6,\n",
       " 6,\n",
       " 7,\n",
       " 7,\n",
       " 7,\n",
       " 7,\n",
       " 7,\n",
       " 7,\n",
       " 7,\n",
       " 7,\n",
       " 8,\n",
       " 8,\n",
       " 9,\n",
       " 9,\n",
       " 10,\n",
       " 10,\n",
       " 10,\n",
       " 10,\n",
       " 10]"
      ]
     },
     "execution_count": 3,
     "metadata": {},
     "output_type": "execute_result"
    }
   ],
   "source": [
    "sorted(sample)"
   ]
  },
  {
   "cell_type": "code",
   "execution_count": 4,
   "metadata": {},
   "outputs": [],
   "source": [
    "def CountFrequency(my_list): \n",
    "  \n",
    "    # Creating an empty dictionary  \n",
    "    freq = {} \n",
    "    for item in my_list: \n",
    "        if (item in freq): \n",
    "            freq[item] += 1\n",
    "        else: \n",
    "            freq[item] = 1\n",
    "  \n",
    "    for key, value in freq.items(): \n",
    "        print (\"% d : % d\"%(key, value)) "
   ]
  },
  {
   "cell_type": "code",
   "execution_count": 6,
   "metadata": {},
   "outputs": [
    {
     "name": "stdout",
     "output_type": "stream",
     "text": [
      " 0 :  1\n",
      " 1 :  3\n",
      " 3 :  4\n",
      " 4 :  3\n",
      " 5 :  1\n",
      " 6 :  4\n",
      " 7 :  8\n",
      " 8 :  2\n",
      " 9 :  2\n",
      " 10 :  5\n"
     ]
    }
   ],
   "source": [
    "CountFrequency(sorted(sample))"
   ]
  },
  {
   "cell_type": "code",
   "execution_count": 9,
   "metadata": {},
   "outputs": [
    {
     "data": {
      "image/png": "[encoded data removed]",
      "text/plain": [
       "<Figure size 432x288 with 1 Axes>"
      ]
     },
     "metadata": {
      "needs_background": "light"
     },
     "output_type": "display_data"
    }
   ],
   "source": [
    "import matplotlib.pyplot as plt\n",
    "plt.hist(sample, bins=10)\n",
    "plt.show()"
   ]
  },
  {
   "cell_type": "code",
   "execution_count": 16,
   "metadata": {},
   "outputs": [
    {
     "name": "stdout",
     "output_type": "stream",
     "text": [
      "Sum:  196\n",
      "Mean:  5.9393939393939394\n"
     ]
    }
   ],
   "source": [
    "import numpy as np\n",
    "print(\"Sum: \", np.sum(sample))\n",
    "print(\"Mean: \", np.mean(sample))"
   ]
  },
  {
   "cell_type": "code",
   "execution_count": 17,
   "metadata": {},
   "outputs": [
    {
     "data": {
      "text/plain": [
       "33.0"
      ]
     },
     "execution_count": 17,
     "metadata": {},
     "output_type": "execute_result"
    }
   ],
   "source": [
    "196 / 5.9393939393939394"
   ]
  },
  {
   "cell_type": "code",
   "execution_count": 18,
   "metadata": {},
   "outputs": [
    {
     "data": {
      "text/plain": [
       "1438"
      ]
     },
     "execution_count": 18,
     "metadata": {},
     "output_type": "execute_result"
    }
   ],
   "source": [
    "sum([((x) ** 2) for x in sample])"
   ]
  },
  {
   "cell_type": "code",
   "execution_count": 20,
   "metadata": {},
   "outputs": [
    {
     "data": {
      "text/plain": [
       "2.880860497915184"
      ]
     },
     "execution_count": 20,
     "metadata": {},
     "output_type": "execute_result"
    }
   ],
   "source": [
    "(1438 / 33 - np.mean(sample) ** 2) ** 0.5"
   ]
  },
  {
   "cell_type": "code",
   "execution_count": 22,
   "metadata": {},
   "outputs": [
    {
     "data": {
      "text/plain": [
       "2.8808604979151835"
      ]
     },
     "execution_count": 22,
     "metadata": {},
     "output_type": "execute_result"
    }
   ],
   "source": [
    "mean = np.mean(sample)\n",
    "variance = sum([((x - mean) ** 2) for x in sample]) / len(sample) \n",
    "res = variance ** 0.5\n",
    "res"
   ]
  },
  {
   "cell_type": "code",
   "execution_count": 23,
   "metadata": {},
   "outputs": [
    {
     "data": {
      "text/plain": [
       "0.48504283893469924"
      ]
     },
     "execution_count": 23,
     "metadata": {},
     "output_type": "execute_result"
    }
   ],
   "source": [
    "res / mean"
   ]
  },
  {
   "cell_type": "code",
   "execution_count": null,
   "metadata": {},
   "outputs": [],
   "source": []
  }
 ],
 "metadata": {
  "kernelspec": {
   "display_name": "Python 3",
   "language": "python",
   "name": "python3"
  },
  "language_info": {
   "codemirror_mode": {
    "name": "ipython",
    "version": 3
   },
   "file_extension": ".py",
   "mimetype": "text/x-python",
   "name": "python",
   "nbconvert_exporter": "python",
   "pygments_lexer": "ipython3",
   "version": "3.7.3"
  }
 },
 "nbformat": 4,
 "nbformat_minor": 2
}
