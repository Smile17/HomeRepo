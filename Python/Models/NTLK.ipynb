{
 "cells": [
  {
   "cell_type": "code",
   "execution_count": 16,
   "id": "dc7be592",
   "metadata": {},
   "outputs": [
    {
     "name": "stdout",
     "output_type": "stream",
     "text": [
      "Surname: Ланько; Name: BBB; Group: 23; Lab: 1\n"
     ]
    }
   ],
   "source": [
    "# 1. Створити новий консольний проєкт мовою Python, при запуску вивести власне прізвище, ім’я, групу, номер ЛР. \n",
    "# Імпортувати до проєкту бібліотеку NLTK і корпус WordNet, який містить семантичний словник англійської мови.\n",
    "surname, name, group, number = \"Ланько\", \"Андрій\", \"ІС-1-3М\", 1\n",
    "print(\"Surname: {}; Name: {}; Group: {}; Lab: {}\".format(surname, name, group, number))\n",
    "\n",
    "import nltk\n",
    "from nltk.corpus import wordnet as wn\n",
    "#nltk.download('wordnet')"
   ]
  },
  {
   "cell_type": "code",
   "execution_count": 31,
   "id": "117a8aff",
   "metadata": {},
   "outputs": [
    {
     "name": "stdout",
     "output_type": "stream",
     "text": [
      "Definitions of pain\n",
      "['a symptom of some physical hurt or disorder', 'emotional distress; a fundamental feeling that people try to avoid', 'a somatic sensation of acute discomfort', 'a bothersome annoying person', 'something or someone that causes trouble; a source of unhappiness', 'cause bodily suffering to and make sick or indisposed', 'cause emotional anguish or make miserable']\n",
      "Definitions of gain\n",
      "['a quantity that is added', 'the advantageous quality of being beneficial', 'the amount of increase in signal power or voltage or current expressed as the ratio of output to input', 'the amount by which the revenue of a business exceeds its cost of operating', 'obtain', \"win something through one's efforts\", 'derive a benefit from', 'reach a destination, either real or abstract', 'obtain advantages, such as points, etc.', 'rise in rate or price', 'increase or develop', 'earn on some commercial or business transaction; earn as salary or wages', \"increase (one's body weight)\"]\n"
     ]
    }
   ],
   "source": [
    "# 2. Вивести в консоль визначення (тлумачення, definitions) для всіх значень іменника 1 і іменника 2 за індивідуальним варіантом \n",
    "word1, word2 = 'pain', 'gain'\n",
    "def definitions(word):\n",
    "    syn_arr = wn.synsets(word)\n",
    "    return [e.definition() for e in syn_arr]\n",
    "print('Definitions of', word1)\n",
    "print(definitions(word1))\n",
    "print('Definitions of', word2)\n",
    "print(definitions(word2))"
   ]
  },
  {
   "cell_type": "code",
   "execution_count": 32,
   "id": "6356f8a8",
   "metadata": {},
   "outputs": [
    {
     "name": "stdout",
     "output_type": "stream",
     "text": [
      "Hyponyms of: pain\n",
      "[[Synset('ache.n.01'), Synset('agony.n.02'), Synset('arthralgia.n.01'), Synset('burn.n.01'), Synset('causalgia.n.01'), Synset('chest_pain.n.01'), Synset('chiralgia.n.01'), Synset('colic.n.01'), Synset('distress.n.03'), Synset('dysmenorrhea.n.01'), Synset('glossalgia.n.01'), Synset('growing_pains.n.01'), Synset('hemorrhoid.n.01'), Synset('keratalgia.n.01'), Synset('labor_pain.n.01'), Synset('mastalgia.n.01'), Synset('melagra.n.01'), Synset('meralgia.n.01'), Synset('metralgia.n.01'), Synset('myalgia.n.01'), Synset('nephralgia.n.01'), Synset('neuralgia.n.01'), Synset('odynophagia.n.01'), Synset('orchidalgia.n.01'), Synset('pang.n.02'), Synset('pang.n.03'), Synset('photalgia.n.01'), Synset('pleurodynia.n.01'), Synset('podalgia.n.01'), Synset('proctalgia.n.01'), Synset('referred_pain.n.01'), Synset('renal_colic.n.01'), Synset('smart.n.01'), Synset('sting.n.01'), Synset('stitch.n.02'), Synset('tenderness.n.02'), Synset('thermalgesia.n.01'), Synset('throb.n.01'), Synset('torture.n.02'), Synset('ulalgia.n.01'), Synset('urodynia.n.01')], [Synset('distress.n.01'), Synset('growing_pains.n.02'), Synset('mental_anguish.n.01'), Synset('suffering.n.04'), Synset('unpleasantness.n.01')], [Synset('mittelschmerz.n.01'), Synset('phantom_limb_pain.n.01'), Synset('twinge.n.02')], [], [Synset('irritant.n.01'), Synset('nuisance.n.01'), Synset('plague.n.05')], [Synset('erupt.v.08')], [Synset('agonize.v.01'), Synset('break_someone's_heart.v.01'), Synset('torment.v.01'), Synset('try.v.06')]]\n",
      "Hypernyms of: pain\n",
      "[[Synset('symptom.n.01')], [Synset('feeling.n.01')], [Synset('somesthesia.n.01')], [Synset('unpleasant_person.n.01')], [Synset('negative_stimulus.n.01')], [Synset('hurt.v.02')], [Synset('upset.v.02')]]\n",
      "Hyponyms of: gain\n",
      "[[Synset('accretion.n.02')], [Synset('account.n.10'), Synset('profitableness.n.02')], [Synset('loop_gain.n.01')], [Synset('financial_gain.n.01'), Synset('paper_profit.n.01')], [Synset('reap.v.02')], [Synset('cozen.v.03')], [Synset('capitalize.v.01'), Synset('cash_in_on.v.01'), Synset('net.v.01'), Synset('profiteer.v.01'), Synset('pyramid.v.01')], [Synset('access.v.02'), Synset('bottom_out.v.01'), Synset('catch_up.v.01'), Synset('culminate.v.04'), Synset('find.v.15'), Synset('get_through.v.03'), Synset('ground.v.06'), Synset('make.v.37'), Synset('scale.v.04'), Synset('summit.v.01'), Synset('top.v.06'), Synset('top_out.v.03')], [Synset('score.v.01'), Synset('steal.v.03')], [], [], [Synset('eke_out.v.03'), Synset('gross.v.01'), Synset('profit.v.02'), Synset('rake_in.v.01'), Synset('rake_off.v.01'), Synset('take_home.v.01'), Synset('yield.v.10')], [Synset('pack_on.v.01'), Synset('round.v.07')]]\n",
      "Hypernyms of: gain\n",
      "[[Synset('indefinite_quantity.n.01')], [Synset('advantage.n.01')], [Synset('increase.n.04')], [Synset('sum.n.01')], [Synset('obtain.v.01')], [Synset('get.v.01')], [Synset('get.v.01')], [], [], [Synset('wax.v.02')], [Synset('increase.v.01')], [Synset('get.v.01')], [Synset('change_state.v.01')]]\n"
     ]
    }
   ],
   "source": [
    "# 3. Вивести в консоль усі гіпоніми та гіпероніми для цих же слів.\n",
    "def get_hyponyms(word):\n",
    "    print('Hyponyms of:', word)\n",
    "    syn_arr = wn.synsets(word)\n",
    "    res = []\n",
    "    for syn in syn_arr:\n",
    "        res.append(syn.hyponyms())\n",
    "    return res\n",
    "def get_hypernyms(word):\n",
    "    print('Hypernyms of:', word)\n",
    "    syn_arr = wn.synsets(word)\n",
    "    res = []\n",
    "    for syn in syn_arr:\n",
    "        res.append(syn.hypernyms())\n",
    "    return res\n",
    "print(get_hyponyms(word1))\n",
    "print(get_hypernyms(word1))\n",
    "print(get_hyponyms(word2))\n",
    "print(get_hypernyms(word2))"
   ]
  },
  {
   "cell_type": "code",
   "execution_count": 36,
   "id": "4a94ad5b",
   "metadata": {},
   "outputs": [
    {
     "name": "stdout",
     "output_type": "stream",
     "text": [
      "Path Distance Similarity: 1.0\n",
      "Wu-Palmer Similarity: 1.0\n",
      "Leacock Chodorow Similarity: 3.6375861597263857\n"
     ]
    }
   ],
   "source": [
    "# 4. Обчислити подібність іменника 1 і іменника 2 за допомогою методів: \n",
    "# Path Distance Similarity Wu-Palmer Similarity Leacock Chodorow Similarity \n",
    "# При цьому достатньо взяти лише перше значення кожного іменника\n",
    "\n",
    "def analyze_similarity(word1, word2):\n",
    "    synset1 = wn.synsets(word1)[0]\n",
    "    synset2 = wn.synsets(word1)[0]\n",
    "    val = synset1.path_similarity(synset2) \n",
    "    print('Path Distance Similarity:', val)\n",
    "    val = synset1.wup_similarity(synset2)\n",
    "    print('Wu-Palmer Similarity:', val)\n",
    "    val = synset1.lch_similarity(synset2)\n",
    "    print('Leacock Chodorow Similarity:', val)\n",
    "analyze_similarity(word1, word2)"
   ]
  },
  {
   "cell_type": "code",
   "execution_count": 38,
   "id": "b12d5ec5",
   "metadata": {},
   "outputs": [
    {
     "name": "stdout",
     "output_type": "stream",
     "text": [
      "Levenshtein edit-distance: 1\n"
     ]
    }
   ],
   "source": [
    "# 5. Знайти відстань Левенштейна між іменником 1 і іменником 2. При цьому можна обчислювати відстань або реалізувавши код \n",
    "# алгоритму на Python вручну, або скориставшись наявними вбудованими функціями бібліотек.\n",
    "print(\"Levenshtein edit-distance:\", nltk.edit_distance(word1, word2))"
   ]
  },
  {
   "cell_type": "code",
   "execution_count": 50,
   "id": "55a51da3",
   "metadata": {},
   "outputs": [
    {
     "name": "stdout",
     "output_type": "stream",
     "text": [
      "['mother' 'either' 'other' 'gather' 'father' 'brother' 'rather']\n",
      "[0 2 1 2 2 2 2]\n"
     ]
    }
   ],
   "source": [
    "# 6. Попросити користувача ввести довільне слово англійською мовою. Знайти до цього слова N\n",
    "# найближчих слів із наявного словника в долученому до завдання текстовому файлі 1–1000.txt*. \n",
    "import numpy as np\n",
    "N = 7\n",
    "#word = 'mother'\n",
    "word = input(\"Input word:\")\n",
    "f = open(\"1_1000.txt\", \"r\")\n",
    "words = f.read().split('\\n')\n",
    "lens = [nltk.edit_distance(word, w) for w in words]\n",
    "words = np.array(words)\n",
    "lens = np.array(lens)\n",
    "ind = np.argpartition(lens, N)[:N]\n",
    "print(words[ind])\n",
    "print(lens[ind])"
   ]
  },
  {
   "cell_type": "code",
   "execution_count": null,
   "id": "f5c41141",
   "metadata": {},
   "outputs": [],
   "source": [
    "# 7. Помістити у звіт із ЛР повний код програм(и) та скріншоти результатів роботи."
   ]
  },
  {
   "cell_type": "markdown",
   "id": "912dc474",
   "metadata": {},
   "source": []
  }
 ],
 "metadata": {
  "kernelspec": {
   "display_name": "Python 3 (ipykernel)",
   "language": "python",
   "name": "python3"
  },
  "language_info": {
   "codemirror_mode": {
    "name": "ipython",
    "version": 3
   },
   "file_extension": ".py",
   "mimetype": "text/x-python",
   "name": "python",
   "nbconvert_exporter": "python",
   "pygments_lexer": "ipython3",
   "version": "3.10.7"
  }
 },
 "nbformat": 4,
 "nbformat_minor": 5
}
