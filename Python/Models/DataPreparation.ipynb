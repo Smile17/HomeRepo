{
 "cells": [
  {
   "cell_type": "markdown",
   "id": "bbe3fac1-a7f4-4db3-a0e0-73f59f6726e1",
   "metadata": {},
   "source": [
    "# Data import"
   ]
  },
  {
   "cell_type": "code",
   "execution_count": 2,
   "id": "183b5928-697c-4e7c-81cb-3b66ee532fe1",
   "metadata": {},
   "outputs": [],
   "source": [
    "import pandas as pd\n",
    "import numpy as np\n",
    "import matplotlib.pyplot as plt\n",
    "import seaborn as sns\n",
    "import warnings # ignore warnings\n",
    "warnings.filterwarnings('ignore')\n",
    "pd.set_option(\"display.max_columns\", None) # display all columns for the dataframes"
   ]
  },
  {
   "cell_type": "code",
   "execution_count": 14,
   "id": "f07bb7e6-d6ff-4b5a-8f42-91c5cb8c1859",
   "metadata": {},
   "outputs": [
    {
     "data": {
      "text/html": [
       "<div>\n",
       "<style scoped>\n",
       "    .dataframe tbody tr th:only-of-type {\n",
       "        vertical-align: middle;\n",
       "    }\n",
       "\n",
       "    .dataframe tbody tr th {\n",
       "        vertical-align: top;\n",
       "    }\n",
       "\n",
       "    .dataframe thead th {\n",
       "        text-align: right;\n",
       "    }\n",
       "</style>\n",
       "<table border=\"1\" class=\"dataframe\">\n",
       "  <thead>\n",
       "    <tr style=\"text-align: right;\">\n",
       "      <th></th>\n",
       "      <th>target</th>\n",
       "      <th>c1</th>\n",
       "      <th>c2</th>\n",
       "      <th>c3</th>\n",
       "      <th>c4</th>\n",
       "      <th>c5</th>\n",
       "      <th>c6</th>\n",
       "      <th>c7</th>\n",
       "      <th>c8</th>\n",
       "      <th>c9</th>\n",
       "      <th>c10</th>\n",
       "      <th>c11</th>\n",
       "      <th>c12</th>\n",
       "      <th>c13</th>\n",
       "    </tr>\n",
       "  </thead>\n",
       "  <tbody>\n",
       "    <tr>\n",
       "      <th>0</th>\n",
       "      <td>0.0</td>\n",
       "      <td>0.6</td>\n",
       "      <td>3.848024360038754</td>\n",
       "      <td>-0.12489928599664912</td>\n",
       "      <td>-0.876288</td>\n",
       "      <td>a</td>\n",
       "      <td>0.0</td>\n",
       "      <td>1.0</td>\n",
       "      <td>0.0</td>\n",
       "      <td>-1.4022953844807486</td>\n",
       "      <td>996.8002935258253</td>\n",
       "      <td>2019-07-03</td>\n",
       "      <td>qq</td>\n",
       "      <td>q</td>\n",
       "    </tr>\n",
       "    <tr>\n",
       "      <th>1</th>\n",
       "      <td>0.0</td>\n",
       "      <td>-9999.0</td>\n",
       "      <td>3.686711750399645</td>\n",
       "      <td>2.7465579865302554</td>\n",
       "      <td>-16840.562852</td>\n",
       "      <td>fr</td>\n",
       "      <td>0.0</td>\n",
       "      <td>_</td>\n",
       "      <td>0.0</td>\n",
       "      <td>-3.0501812364863525</td>\n",
       "      <td>998.0628287070417</td>\n",
       "      <td>2019-04-12</td>\n",
       "      <td>cc</td>\n",
       "      <td>r</td>\n",
       "    </tr>\n",
       "    <tr>\n",
       "      <th>2</th>\n",
       "      <td>1.0</td>\n",
       "      <td>0.6</td>\n",
       "      <td>1.7903405757001267</td>\n",
       "      <td>-0.3791833083216618</td>\n",
       "      <td>1.115662</td>\n",
       "      <td>w</td>\n",
       "      <td>1.0</td>\n",
       "      <td>4.0</td>\n",
       "      <td>inf</td>\n",
       "      <td>inf</td>\n",
       "      <td>997.5618023143123</td>\n",
       "      <td>2019-09-30</td>\n",
       "      <td>aa</td>\n",
       "      <td>t</td>\n",
       "    </tr>\n",
       "    <tr>\n",
       "      <th>3</th>\n",
       "      <td>0.0</td>\n",
       "      <td>0.3</td>\n",
       "      <td>2.1368573082176185</td>\n",
       "      <td>1.8436547163343175</td>\n",
       "      <td>-2.593336</td>\n",
       "      <td>w</td>\n",
       "      <td>0.0</td>\n",
       "      <td>1.0</td>\n",
       "      <td>0.0</td>\n",
       "      <td>-0.8521568609928067</td>\n",
       "      <td>998.0647328947183</td>\n",
       "      <td>2019-06-11</td>\n",
       "      <td>dd</td>\n",
       "      <td>u</td>\n",
       "    </tr>\n",
       "    <tr>\n",
       "      <th>4</th>\n",
       "      <td>0.0</td>\n",
       "      <td>0.3</td>\n",
       "      <td>3.3008362240888207</td>\n",
       "      <td>1.492122687471352</td>\n",
       "      <td>-3.033777</td>\n",
       "      <td>f</td>\n",
       "      <td>0.0</td>\n",
       "      <td>3.0</td>\n",
       "      <td>0.0</td>\n",
       "      <td>-0.8116829603342575</td>\n",
       "      <td>1000.64857852335</td>\n",
       "      <td>2019-06-18</td>\n",
       "      <td>_</td>\n",
       "      <td>y</td>\n",
       "    </tr>\n",
       "  </tbody>\n",
       "</table>\n",
       "</div>"
      ],
      "text/plain": [
       "  target      c1                  c2                    c3            c4  c5  \\\n",
       "0    0.0     0.6   3.848024360038754  -0.12489928599664912     -0.876288   a   \n",
       "1    0.0 -9999.0   3.686711750399645    2.7465579865302554 -16840.562852  fr   \n",
       "2    1.0     0.6  1.7903405757001267   -0.3791833083216618      1.115662   w   \n",
       "3    0.0     0.3  2.1368573082176185    1.8436547163343175     -2.593336   w   \n",
       "4    0.0     0.3  3.3008362240888207     1.492122687471352     -3.033777   f   \n",
       "\n",
       "    c6   c7   c8                   c9                c10         c11 c12 c13  \n",
       "0  0.0  1.0  0.0  -1.4022953844807486  996.8002935258253  2019-07-03  qq   q  \n",
       "1  0.0    _  0.0  -3.0501812364863525  998.0628287070417  2019-04-12  cc   r  \n",
       "2  1.0  4.0  inf                  inf  997.5618023143123  2019-09-30  aa   t  \n",
       "3  0.0  1.0  0.0  -0.8521568609928067  998.0647328947183  2019-06-11  dd   u  \n",
       "4  0.0  3.0  0.0  -0.8116829603342575   1000.64857852335  2019-06-18   _   y  "
      ]
     },
     "execution_count": 14,
     "metadata": {},
     "output_type": "execute_result"
    }
   ],
   "source": [
    "df = pd.read_csv('data.csv', delimiter='}', encoding = \"utf-16\")\n",
    "df.head()"
   ]
  },
  {
   "cell_type": "code",
   "execution_count": 15,
   "id": "5b56cf0f-7742-4e51-be3f-5f173bf93986",
   "metadata": {},
   "outputs": [
    {
     "name": "stdout",
     "output_type": "stream",
     "text": [
      "Rows count: 1000000 Columns count: 14\n"
     ]
    }
   ],
   "source": [
    "# Dataframe size \n",
    "print(\"Rows count:\", df.shape[0], \"Columns count:\", df.shape[1])"
   ]
  },
  {
   "cell_type": "markdown",
   "id": "e72b1ad0-95e7-497c-b8fe-04d5964f53c4",
   "metadata": {
    "tags": []
   },
   "source": [
    "# Rename missing values & convert numeric data types"
   ]
  },
  {
   "cell_type": "code",
   "execution_count": 16,
   "id": "3ed73ffe-c556-4589-b1eb-2c181849fa5e",
   "metadata": {},
   "outputs": [],
   "source": [
    "df = df.replace('_', np.nan)"
   ]
  },
  {
   "cell_type": "code",
   "execution_count": 17,
   "id": "0f43859e-f326-4e80-989e-60686b04226a",
   "metadata": {},
   "outputs": [
    {
     "data": {
      "text/html": [
       "<div>\n",
       "<style scoped>\n",
       "    .dataframe tbody tr th:only-of-type {\n",
       "        vertical-align: middle;\n",
       "    }\n",
       "\n",
       "    .dataframe tbody tr th {\n",
       "        vertical-align: top;\n",
       "    }\n",
       "\n",
       "    .dataframe thead th {\n",
       "        text-align: right;\n",
       "    }\n",
       "</style>\n",
       "<table border=\"1\" class=\"dataframe\">\n",
       "  <thead>\n",
       "    <tr style=\"text-align: right;\">\n",
       "      <th></th>\n",
       "      <th>target</th>\n",
       "      <th>c1</th>\n",
       "      <th>c2</th>\n",
       "      <th>c3</th>\n",
       "      <th>c4</th>\n",
       "      <th>c5</th>\n",
       "      <th>c6</th>\n",
       "      <th>c7</th>\n",
       "      <th>c8</th>\n",
       "      <th>c9</th>\n",
       "      <th>c10</th>\n",
       "      <th>c11</th>\n",
       "      <th>c12</th>\n",
       "      <th>c13</th>\n",
       "    </tr>\n",
       "  </thead>\n",
       "  <tbody>\n",
       "    <tr>\n",
       "      <th>0</th>\n",
       "      <td>0.0</td>\n",
       "      <td>0.6</td>\n",
       "      <td>3.848024</td>\n",
       "      <td>-0.124899</td>\n",
       "      <td>-0.876288</td>\n",
       "      <td>a</td>\n",
       "      <td>0.0</td>\n",
       "      <td>1.0</td>\n",
       "      <td>0.0</td>\n",
       "      <td>-1.402295</td>\n",
       "      <td>996.800294</td>\n",
       "      <td>2019-07-03</td>\n",
       "      <td>qq</td>\n",
       "      <td>q</td>\n",
       "    </tr>\n",
       "    <tr>\n",
       "      <th>1</th>\n",
       "      <td>0.0</td>\n",
       "      <td>-9999.0</td>\n",
       "      <td>3.686712</td>\n",
       "      <td>2.746558</td>\n",
       "      <td>-16840.562852</td>\n",
       "      <td>fr</td>\n",
       "      <td>0.0</td>\n",
       "      <td>NaN</td>\n",
       "      <td>0.0</td>\n",
       "      <td>-3.050181</td>\n",
       "      <td>998.062829</td>\n",
       "      <td>2019-04-12</td>\n",
       "      <td>cc</td>\n",
       "      <td>r</td>\n",
       "    </tr>\n",
       "    <tr>\n",
       "      <th>2</th>\n",
       "      <td>1.0</td>\n",
       "      <td>0.6</td>\n",
       "      <td>1.790341</td>\n",
       "      <td>-0.379183</td>\n",
       "      <td>1.115662</td>\n",
       "      <td>w</td>\n",
       "      <td>1.0</td>\n",
       "      <td>4.0</td>\n",
       "      <td>inf</td>\n",
       "      <td>inf</td>\n",
       "      <td>997.561802</td>\n",
       "      <td>2019-09-30</td>\n",
       "      <td>aa</td>\n",
       "      <td>t</td>\n",
       "    </tr>\n",
       "    <tr>\n",
       "      <th>3</th>\n",
       "      <td>0.0</td>\n",
       "      <td>0.3</td>\n",
       "      <td>2.136857</td>\n",
       "      <td>1.843655</td>\n",
       "      <td>-2.593336</td>\n",
       "      <td>w</td>\n",
       "      <td>0.0</td>\n",
       "      <td>1.0</td>\n",
       "      <td>0.0</td>\n",
       "      <td>-0.852157</td>\n",
       "      <td>998.064733</td>\n",
       "      <td>2019-06-11</td>\n",
       "      <td>dd</td>\n",
       "      <td>u</td>\n",
       "    </tr>\n",
       "    <tr>\n",
       "      <th>4</th>\n",
       "      <td>0.0</td>\n",
       "      <td>0.3</td>\n",
       "      <td>3.300836</td>\n",
       "      <td>1.492123</td>\n",
       "      <td>-3.033777</td>\n",
       "      <td>f</td>\n",
       "      <td>0.0</td>\n",
       "      <td>3.0</td>\n",
       "      <td>0.0</td>\n",
       "      <td>-0.811683</td>\n",
       "      <td>1000.648579</td>\n",
       "      <td>2019-06-18</td>\n",
       "      <td>NaN</td>\n",
       "      <td>y</td>\n",
       "    </tr>\n",
       "  </tbody>\n",
       "</table>\n",
       "</div>"
      ],
      "text/plain": [
       "  target      c1        c2        c3            c4  c5   c6   c7   c8  \\\n",
       "0    0.0     0.6  3.848024 -0.124899     -0.876288   a  0.0  1.0  0.0   \n",
       "1    0.0 -9999.0  3.686712  2.746558 -16840.562852  fr  0.0  NaN  0.0   \n",
       "2    1.0     0.6  1.790341 -0.379183      1.115662   w  1.0  4.0  inf   \n",
       "3    0.0     0.3  2.136857  1.843655     -2.593336   w  0.0  1.0  0.0   \n",
       "4    0.0     0.3  3.300836  1.492123     -3.033777   f  0.0  3.0  0.0   \n",
       "\n",
       "         c9          c10         c11  c12 c13  \n",
       "0 -1.402295   996.800294  2019-07-03   qq   q  \n",
       "1 -3.050181   998.062829  2019-04-12   cc   r  \n",
       "2       inf   997.561802  2019-09-30   aa   t  \n",
       "3 -0.852157   998.064733  2019-06-11   dd   u  \n",
       "4 -0.811683  1000.648579  2019-06-18  NaN   y  "
      ]
     },
     "execution_count": 17,
     "metadata": {},
     "output_type": "execute_result"
    }
   ],
   "source": [
    "# Convert data to numeric\n",
    "numeric_columns = ['c1', 'c2', 'c3', 'c4', 'c6', 'c7', 'c8', 'c9', 'c10']\n",
    "df[numeric_columns] = df[numeric_columns].astype(float)\n",
    "df.head()"
   ]
  },
  {
   "cell_type": "markdown",
   "id": "75c159e2-1cfc-4b04-ab1f-bc778b03bf1f",
   "metadata": {
    "tags": []
   },
   "source": [
    "# Target column - drop missing data"
   ]
  },
  {
   "cell_type": "code",
   "execution_count": 18,
   "id": "6b5418ef-ff85-4f7e-a3bd-0c630a8dd903",
   "metadata": {},
   "outputs": [],
   "source": [
    "def checkColumn(col):\n",
    "    print(df[col].value_counts(dropna=False)) # check values\n",
    "    df[col].hist()\n",
    "    plt.show()"
   ]
  },
  {
   "cell_type": "code",
   "execution_count": 19,
   "id": "efb09e98-3aee-4568-aa63-726043ba3143",
   "metadata": {},
   "outputs": [
    {
     "name": "stdout",
     "output_type": "stream",
     "text": [
      "0.0    700383\n",
      "1.0    200486\n",
      "NaN     99131\n",
      "Name: target, dtype: int64\n"
     ]
    },
    {
     "data": {
      "image/png": "[encoded data removed]",
      "text/plain": [
       "<Figure size 432x288 with 1 Axes>"
      ]
     },
     "metadata": {
      "needs_background": "light"
     },
     "output_type": "display_data"
    }
   ],
   "source": [
    "col = 'target'\n",
    "checkColumn(col)"
   ]
  },
  {
   "cell_type": "code",
   "execution_count": 20,
   "id": "39d65b7d-dbe9-4049-b2ef-2d485d6fc0b6",
   "metadata": {},
   "outputs": [],
   "source": [
    "# Drop rows with target = Nan\n",
    "df.dropna(subset=['target'], inplace=True)"
   ]
  },
  {
   "cell_type": "code",
   "execution_count": 21,
   "id": "43df17d5-8e36-475c-954a-59b1ab11dcc1",
   "metadata": {},
   "outputs": [
    {
     "name": "stdout",
     "output_type": "stream",
     "text": [
      "0.0    700383\n",
      "1.0    200486\n",
      "Name: target, dtype: int64\n"
     ]
    },
    {
     "data": {
      "image/png": "[encoded data removed]",
      "text/plain": [
       "<Figure size 432x288 with 1 Axes>"
      ]
     },
     "metadata": {
      "needs_background": "light"
     },
     "output_type": "display_data"
    }
   ],
   "source": [
    "checkColumn(col)"
   ]
  },
  {
   "cell_type": "code",
   "execution_count": 24,
   "id": "53f97467-df25-421c-bf11-97101f92846d",
   "metadata": {},
   "outputs": [],
   "source": [
    "df[col] = df[col].apply(float).apply(int)"
   ]
  },
  {
   "cell_type": "markdown",
   "id": "1e073d4d-7911-4b77-bd21-4c0ea7d70aad",
   "metadata": {
    "tags": []
   },
   "source": [
    "# Numeric columns"
   ]
  },
  {
   "cell_type": "code",
   "execution_count": 26,
   "id": "c4890848-713e-428a-8462-e00f598471c6",
   "metadata": {},
   "outputs": [],
   "source": [
    "def clearInf(col):\n",
    "    print(df[col].value_counts(dropna=False)) # check values\n",
    "    m = df[col][df[col]!=-np.inf].min()\n",
    "    M = df[col][df[col]!=np.inf].max()\n",
    "    df[col] = df[col].replace(-np.inf, m)\n",
    "    df[col] = df[col].replace(np.inf, M)\n",
    "    df[col] = df[col].fillna(df[col].mean())\n",
    "    checkColumn(col)\n",
    "    plt.show()\n",
    "def clearNan(col):\n",
    "    print(df[col].value_counts(dropna=False)) # check values\n",
    "    df[col] = df[col].fillna(df[col].mean())\n",
    "    checkColumn(col)\n",
    "    plt.show()\n",
    "def normalize(col):\n",
    "    m = df[col].min()\n",
    "    M = df[col].max()\n",
    "    df[col] = (df[col] - m) / (M - m)\n",
    "    df[col].hist()\n",
    "    plt.show()"
   ]
  },
  {
   "cell_type": "markdown",
   "id": "7ab906e0-1228-4a91-b53d-90522f47e122",
   "metadata": {
    "tags": []
   },
   "source": [
    "## c1 - clear missing values"
   ]
  },
  {
   "cell_type": "code",
   "execution_count": 27,
   "id": "13122715-d43d-4ebf-9859-d392b3f829b5",
   "metadata": {
    "tags": []
   },
   "outputs": [
    {
     "name": "stdout",
     "output_type": "stream",
     "text": [
      " 0.3       90560\n",
      " 0.7       90414\n",
      " 0.2       90184\n",
      " 0.8       90157\n",
      "-9999.0    90075\n",
      " 0.5       90072\n",
      " 0.6       90064\n",
      " 0.4       89965\n",
      " 0.1       89694\n",
      " 0.9       89684\n",
      "Name: c1, dtype: int64\n"
     ]
    },
    {
     "data": {
      "image/png": "[encoded data removed]",
      "text/plain": [
       "<Figure size 432x288 with 1 Axes>"
      ]
     },
     "metadata": {
      "needs_background": "light"
     },
     "output_type": "display_data"
    }
   ],
   "source": [
    "col = 'c1'\n",
    "checkColumn(col)"
   ]
  },
  {
   "cell_type": "code",
   "execution_count": 28,
   "id": "f4152303-6d39-4531-8e25-e22bbfe7cb08",
   "metadata": {},
   "outputs": [],
   "source": [
    "df[col] = df[col].replace(-9999, np.nan) # for using fillna"
   ]
  },
  {
   "cell_type": "code",
   "execution_count": 29,
   "id": "195b063d-5bec-4350-95d2-c334de91b41e",
   "metadata": {},
   "outputs": [
    {
     "data": {
      "text/plain": [
       "0         0.600000\n",
       "1         0.499961\n",
       "2         0.600000\n",
       "3         0.300000\n",
       "4         0.300000\n",
       "            ...   \n",
       "999995    0.200000\n",
       "999996    0.100000\n",
       "999997    0.500000\n",
       "999998    0.900000\n",
       "999999    0.300000\n",
       "Name: c1, Length: 900869, dtype: float64"
      ]
     },
     "execution_count": 29,
     "metadata": {},
     "output_type": "execute_result"
    }
   ],
   "source": [
    "df[col].fillna(df[col].mean())"
   ]
  },
  {
   "cell_type": "markdown",
   "id": "4f303f05-e581-4496-a10e-7e6f4a7e4bc3",
   "metadata": {
    "tags": []
   },
   "source": [
    "## c2, c3, c8, c9 - clear missing values (inf, -inf)"
   ]
  },
  {
   "cell_type": "code",
   "execution_count": 30,
   "id": "b5defd36-17f3-4f60-90e6-e1c520a71ce9",
   "metadata": {
    "tags": []
   },
   "outputs": [],
   "source": [
    "cols = ['c2', 'c3', 'c8', 'c9']"
   ]
  },
  {
   "cell_type": "code",
   "execution_count": 31,
   "id": "10c1a03b-b83b-4caf-9096-c2807599cebe",
   "metadata": {},
   "outputs": [
    {
     "name": "stdout",
     "output_type": "stream",
     "text": [
      " inf         53705\n",
      "-inf         18168\n",
      " NaN         18067\n",
      " 3.848024        1\n",
      " 2.377580        1\n",
      "             ...  \n",
      " 1.601767        1\n",
      " 3.378654        1\n",
      " 2.746859        1\n",
      " 3.846122        1\n",
      " 1.848712        1\n",
      "Name: c2, Length: 810932, dtype: int64\n",
      "3.999997    53706\n",
      "1.000007    18169\n",
      "2.559683    18067\n",
      "3.848024        1\n",
      "2.196534        1\n",
      "            ...  \n",
      "1.601767        1\n",
      "3.378654        1\n",
      "2.746859        1\n",
      "3.846122        1\n",
      "1.848712        1\n",
      "Name: c2, Length: 810930, dtype: int64\n"
     ]
    },
    {
     "data": {
      "image/png": "[encoded data removed]",
      "text/plain": [
       "<Figure size 432x288 with 1 Axes>"
      ]
     },
     "metadata": {
      "needs_background": "light"
     },
     "output_type": "display_data"
    },
    {
     "name": "stdout",
     "output_type": "stream",
     "text": [
      " inf         53705\n",
      "-inf         18168\n",
      " NaN         18067\n",
      "-0.124899        1\n",
      " 2.126978        1\n",
      "             ...  \n",
      "-2.939322        1\n",
      " 1.718811        1\n",
      " 1.219249        1\n",
      " 0.433049        1\n",
      "-0.319606        1\n",
      "Name: c3, Length: 810932, dtype: int64\n",
      " 4.983165    53706\n",
      "-2.993001    18169\n",
      " 1.159543    18067\n",
      "-0.124899        1\n",
      " 2.126978        1\n",
      "             ...  \n",
      " 2.775992        1\n",
      "-2.939322        1\n",
      " 1.718811        1\n",
      " 1.219249        1\n",
      "-0.319606        1\n",
      "Name: c3, Length: 810930, dtype: int64\n"
     ]
    },
    {
     "data": {
      "image/png": "[encoded data removed]",
      "text/plain": [
       "<Figure size 432x288 with 1 Axes>"
      ]
     },
     "metadata": {
      "needs_background": "light"
     },
     "output_type": "display_data"
    },
    {
     "name": "stdout",
     "output_type": "stream",
     "text": [
      " 0.0    410271\n",
      " 1.0    210522\n",
      "-1.0     99912\n",
      " NaN     90217\n",
      "-inf     69785\n",
      " inf     20162\n",
      "Name: c8, dtype: int64\n",
      " 0.000000    410271\n",
      " 1.000000    230684\n",
      "-1.000000    169697\n",
      " 0.075232     90217\n",
      "Name: c8, dtype: int64\n"
     ]
    },
    {
     "data": {
      "image/png": "[encoded data removed]",
      "text/plain": [
       "<Figure size 432x288 with 1 Axes>"
      ]
     },
     "metadata": {
      "needs_background": "light"
     },
     "output_type": "display_data"
    },
    {
     "name": "stdout",
     "output_type": "stream",
     "text": [
      " NaN         90217\n",
      "-inf         69785\n",
      " inf         20162\n",
      "-1.402295        1\n",
      "-2.611484        1\n",
      "             ...  \n",
      "-0.219669        1\n",
      " 0.755339        1\n",
      "-4.067227        1\n",
      "-0.983552        1\n",
      "-1.891390        1\n",
      "Name: c9, Length: 720708, dtype: int64\n",
      "-1.107761    90217\n",
      "-4.984938    69786\n",
      " 2.987633    20163\n",
      "-1.402295        1\n",
      "-2.611484        1\n",
      "             ...  \n",
      "-0.219669        1\n",
      " 0.755339        1\n",
      "-4.067227        1\n",
      "-0.983552        1\n",
      "-1.891390        1\n",
      "Name: c9, Length: 720706, dtype: int64\n"
     ]
    },
    {
     "data": {
      "image/png": "[encoded data removed]",
      "text/plain": [
       "<Figure size 432x288 with 1 Axes>"
      ]
     },
     "metadata": {
      "needs_background": "light"
     },
     "output_type": "display_data"
    }
   ],
   "source": [
    "for col in cols:\n",
    "    clearInf(col)"
   ]
  },
  {
   "cell_type": "markdown",
   "id": "36f335b0-5b63-4563-8993-f9d36d8a3297",
   "metadata": {
    "tags": []
   },
   "source": [
    "## c6, c7, c10 - clear missing values (Nan)"
   ]
  },
  {
   "cell_type": "code",
   "execution_count": 32,
   "id": "425d6e83-2bd5-4df0-adba-3e78c8248fe8",
   "metadata": {},
   "outputs": [
    {
     "name": "stdout",
     "output_type": "stream",
     "text": [
      "0.0    530414\n",
      "1.0    290444\n",
      "NaN     80011\n",
      "Name: c6, dtype: int64\n",
      "0.00000    530414\n",
      "1.00000    290444\n",
      "0.35383     80011\n",
      "Name: c6, dtype: int64\n"
     ]
    },
    {
     "data": {
      "image/png": "[encoded data removed]",
      "text/plain": [
       "<Figure size 432x288 with 1 Axes>"
      ]
     },
     "metadata": {
      "needs_background": "light"
     },
     "output_type": "display_data"
    },
    {
     "name": "stdout",
     "output_type": "stream",
     "text": [
      "4.0    219997\n",
      "1.0    200601\n",
      "NaN    200260\n",
      "3.0    140451\n",
      "2.0    139560\n",
      "Name: c7, dtype: int64\n",
      "4.000000    219997\n",
      "1.000000    200601\n",
      "2.542163    200260\n",
      "3.000000    140451\n",
      "2.000000    139560\n",
      "Name: c7, dtype: int64\n"
     ]
    },
    {
     "data": {
      "image/png": "[encoded data removed]",
      "text/plain": [
       "<Figure size 432x288 with 1 Axes>"
      ]
     },
     "metadata": {
      "needs_background": "light"
     },
     "output_type": "display_data"
    },
    {
     "name": "stdout",
     "output_type": "stream",
     "text": [
      "996.800294     1\n",
      "999.893508     1\n",
      "995.692839     1\n",
      "1000.626000    1\n",
      "1000.229435    1\n",
      "              ..\n",
      "997.038983     1\n",
      "998.787805     1\n",
      "996.980483     1\n",
      "997.093210     1\n",
      "999.692560     1\n",
      "Name: c10, Length: 900869, dtype: int64\n",
      "996.800294     1\n",
      "999.893508     1\n",
      "995.692839     1\n",
      "1000.626000    1\n",
      "1000.229435    1\n",
      "              ..\n",
      "997.038983     1\n",
      "998.787805     1\n",
      "996.980483     1\n",
      "997.093210     1\n",
      "999.692560     1\n",
      "Name: c10, Length: 900869, dtype: int64\n"
     ]
    },
    {
     "data": {
      "image/png": "[encoded data removed]",
      "text/plain": [
       "<Figure size 432x288 with 1 Axes>"
      ]
     },
     "metadata": {
      "needs_background": "light"
     },
     "output_type": "display_data"
    }
   ],
   "source": [
    "cols = ['c6', 'c7', 'c10']\n",
    "for col in cols:\n",
    "    clearNan(col)"
   ]
  },
  {
   "cell_type": "markdown",
   "id": "12c21d63-a585-4217-8681-7ebcf1eb114f",
   "metadata": {
    "tags": []
   },
   "source": [
    "## c10"
   ]
  },
  {
   "cell_type": "code",
   "execution_count": 33,
   "id": "7cf6a042-c00b-45d6-965d-e9a73296f2ca",
   "metadata": {},
   "outputs": [
    {
     "name": "stdout",
     "output_type": "stream",
     "text": [
      "996.800294     1\n",
      "999.893508     1\n",
      "995.692839     1\n",
      "1000.626000    1\n",
      "1000.229435    1\n",
      "              ..\n",
      "997.038983     1\n",
      "998.787805     1\n",
      "996.980483     1\n",
      "997.093210     1\n",
      "999.692560     1\n",
      "Name: c10, Length: 900869, dtype: int64\n"
     ]
    },
    {
     "data": {
      "image/png": "[encoded data removed]",
      "text/plain": [
       "<Figure size 432x288 with 1 Axes>"
      ]
     },
     "metadata": {
      "needs_background": "light"
     },
     "output_type": "display_data"
    }
   ],
   "source": [
    "col = 'c10'\n",
    "checkColumn(col) # values are great distributed but it can be normalized"
   ]
  },
  {
   "cell_type": "code",
   "execution_count": 34,
   "id": "85b42ed7-403e-479a-bb13-b7202b220b7b",
   "metadata": {},
   "outputs": [
    {
     "data": {
      "image/png": "[encoded data removed]",
      "text/plain": [
       "<Figure size 432x288 with 1 Axes>"
      ]
     },
     "metadata": {
      "needs_background": "light"
     },
     "output_type": "display_data"
    }
   ],
   "source": [
    "normalize(col)"
   ]
  },
  {
   "cell_type": "markdown",
   "id": "53ceb178-0632-4027-89a9-03cd436b0d38",
   "metadata": {
    "tags": []
   },
   "source": [
    "# Correlation with target"
   ]
  },
  {
   "cell_type": "code",
   "execution_count": 35,
   "id": "589a2363-514c-49ee-8fcb-aff356780c4d",
   "metadata": {},
   "outputs": [
    {
     "data": {
      "text/plain": [
       "target    1.000000\n",
       "c1       -0.000579\n",
       "c2        0.000464\n",
       "c3       -0.000459\n",
       "c4       -0.000398\n",
       "c6        0.486502\n",
       "c7        0.058637\n",
       "c8       -0.375717\n",
       "c9       -0.000401\n",
       "c10       0.307215\n",
       "dtype: float64"
      ]
     },
     "execution_count": 35,
     "metadata": {},
     "output_type": "execute_result"
    }
   ],
   "source": [
    "df.corrwith(df[\"target\"])"
   ]
  },
  {
   "cell_type": "code",
   "execution_count": 36,
   "id": "9478b03d-b1b7-440b-9943-beac84297556",
   "metadata": {},
   "outputs": [],
   "source": [
    "# We can drop columns that have unsignificant correlation with target columns. So let's leave only c6, c8, c10, others will be dropped\n",
    "# drop columns\n",
    "drop_elements = ['c1', 'c2', 'c3', 'c4', 'c7', 'c9']\n",
    "df = df.drop(drop_elements, axis=1)\n",
    "df.head()"
   ]
  },
  {
   "cell_type": "code",
   "execution_count": 37,
   "id": "f44dbe30-fb27-4d66-89a0-ff370610b79d",
   "metadata": {},
   "outputs": [
    {
     "data": {
      "text/html": [
       "<div>\n",
       "<style scoped>\n",
       "    .dataframe tbody tr th:only-of-type {\n",
       "        vertical-align: middle;\n",
       "    }\n",
       "\n",
       "    .dataframe tbody tr th {\n",
       "        vertical-align: top;\n",
       "    }\n",
       "\n",
       "    .dataframe thead th {\n",
       "        text-align: right;\n",
       "    }\n",
       "</style>\n",
       "<table border=\"1\" class=\"dataframe\">\n",
       "  <thead>\n",
       "    <tr style=\"text-align: right;\">\n",
       "      <th></th>\n",
       "      <th>target</th>\n",
       "      <th>c5</th>\n",
       "      <th>c6</th>\n",
       "      <th>c8</th>\n",
       "      <th>c10</th>\n",
       "      <th>c11</th>\n",
       "      <th>c12</th>\n",
       "      <th>c13</th>\n",
       "    </tr>\n",
       "  </thead>\n",
       "  <tbody>\n",
       "    <tr>\n",
       "      <th>0</th>\n",
       "      <td>0</td>\n",
       "      <td>a</td>\n",
       "      <td>0.0</td>\n",
       "      <td>0.0</td>\n",
       "      <td>0.257071</td>\n",
       "      <td>2019-07-03</td>\n",
       "      <td>qq</td>\n",
       "      <td>q</td>\n",
       "    </tr>\n",
       "    <tr>\n",
       "      <th>1</th>\n",
       "      <td>0</td>\n",
       "      <td>fr</td>\n",
       "      <td>0.0</td>\n",
       "      <td>0.0</td>\n",
       "      <td>0.437672</td>\n",
       "      <td>2019-04-12</td>\n",
       "      <td>cc</td>\n",
       "      <td>r</td>\n",
       "    </tr>\n",
       "    <tr>\n",
       "      <th>2</th>\n",
       "      <td>1</td>\n",
       "      <td>w</td>\n",
       "      <td>1.0</td>\n",
       "      <td>1.0</td>\n",
       "      <td>0.366002</td>\n",
       "      <td>2019-09-30</td>\n",
       "      <td>aa</td>\n",
       "      <td>t</td>\n",
       "    </tr>\n",
       "    <tr>\n",
       "      <th>3</th>\n",
       "      <td>0</td>\n",
       "      <td>w</td>\n",
       "      <td>0.0</td>\n",
       "      <td>0.0</td>\n",
       "      <td>0.437944</td>\n",
       "      <td>2019-06-11</td>\n",
       "      <td>dd</td>\n",
       "      <td>u</td>\n",
       "    </tr>\n",
       "    <tr>\n",
       "      <th>4</th>\n",
       "      <td>0</td>\n",
       "      <td>f</td>\n",
       "      <td>0.0</td>\n",
       "      <td>0.0</td>\n",
       "      <td>0.807554</td>\n",
       "      <td>2019-06-18</td>\n",
       "      <td>NaN</td>\n",
       "      <td>y</td>\n",
       "    </tr>\n",
       "  </tbody>\n",
       "</table>\n",
       "</div>"
      ],
      "text/plain": [
       "   target  c5   c6   c8       c10         c11  c12 c13\n",
       "0       0   a  0.0  0.0  0.257071  2019-07-03   qq   q\n",
       "1       0  fr  0.0  0.0  0.437672  2019-04-12   cc   r\n",
       "2       1   w  1.0  1.0  0.366002  2019-09-30   aa   t\n",
       "3       0   w  0.0  0.0  0.437944  2019-06-11   dd   u\n",
       "4       0   f  0.0  0.0  0.807554  2019-06-18  NaN   y"
      ]
     },
     "execution_count": 37,
     "metadata": {},
     "output_type": "execute_result"
    }
   ],
   "source": []
  },
  {
   "cell_type": "markdown",
   "id": "cd357b6b-5e1e-4102-be7b-cab1ff42bd5b",
   "metadata": {},
   "source": [
    "# Categorical columns"
   ]
  },
  {
   "cell_type": "code",
   "execution_count": 38,
   "id": "20545b48-adc2-4ddb-8d51-6fce4c17df3e",
   "metadata": {},
   "outputs": [],
   "source": [
    "df['c12'] = df['c12'].fillna('_')"
   ]
  },
  {
   "cell_type": "code",
   "execution_count": 39,
   "id": "d1e5766c-3ea4-4b28-9918-624193d3c3ed",
   "metadata": {},
   "outputs": [],
   "source": [
    "from scipy.stats import spearmanr\n",
    "def checkCategoricalData(col):\n",
    "    print(col)\n",
    "    checkColumn(col)\n",
    "    # Spearman correlation coef in range [-1;1] and p-value for significant interpretation \n",
    "    coef, p = spearmanr(df[col], df['target']) # calculation is quite slow\n",
    "    print('Spearmans correlation coefficient: %.3f' % coef)\n",
    "    # interpret the significance\n",
    "    alpha = 0.05\n",
    "    if p > alpha:\n",
    "        print('Samples are uncorrelated (fail to reject H0) p=%.3f' % p)\n",
    "    else:\n",
    "        print('Samples are correlated (reject H0) p=%.3f' % p)"
   ]
  },
  {
   "cell_type": "code",
   "execution_count": 35,
   "id": "7a3fc9fb-8bd7-4dd2-acdf-0085fbe32921",
   "metadata": {},
   "outputs": [
    {
     "name": "stdout",
     "output_type": "stream",
     "text": [
      "c5\n",
      "f     125574\n",
      "fr    125210\n",
      "w     125087\n",
      "d     125071\n",
      "qw    124944\n",
      "a     124930\n",
      "ew    124852\n",
      "sd    124332\n",
      "Name: c5, dtype: int64\n"
     ]
    },
    {
     "data": {
      "image/png": "[encoded data removed]",
      "text/plain": [
       "<Figure size 432x288 with 1 Axes>"
      ]
     },
     "metadata": {
      "needs_background": "light"
     },
     "output_type": "display_data"
    },
    {
     "name": "stdout",
     "output_type": "stream",
     "text": [
      "Spearmans correlation coefficient: -0.001\n",
      "Samples are uncorrelated (fail to reject H0) p=0.550\n",
      "c12\n",
      "dd     142019\n",
      "yy     115157\n",
      "ee     114938\n",
      "_      114863\n",
      "aa     114841\n",
      "qq     114560\n",
      "ww     114305\n",
      "cc     114295\n",
      "rr      27622\n",
      "tty     27400\n",
      "Name: c12, dtype: int64\n"
     ]
    },
    {
     "data": {
      "image/png": "[encoded data removed]",
      "text/plain": [
       "<Figure size 432x288 with 1 Axes>"
      ]
     },
     "metadata": {
      "needs_background": "light"
     },
     "output_type": "display_data"
    },
    {
     "name": "stdout",
     "output_type": "stream",
     "text": [
      "Spearmans correlation coefficient: 0.048\n",
      "Samples are correlated (reject H0) p=0.000\n",
      "c13\n",
      "y    100426\n",
      "r    100261\n",
      "i    100118\n",
      "w    100080\n",
      "e     99982\n",
      "u     99951\n",
      "t     99903\n",
      "p     99791\n",
      "o     99746\n",
      "q     99742\n",
      "Name: c13, dtype: int64\n"
     ]
    },
    {
     "data": {
      "image/png": "[encoded data removed]",
      "text/plain": [
       "<Figure size 432x288 with 1 Axes>"
      ]
     },
     "metadata": {
      "needs_background": "light"
     },
     "output_type": "display_data"
    },
    {
     "name": "stdout",
     "output_type": "stream",
     "text": [
      "Spearmans correlation coefficient: 0.001\n",
      "Samples are uncorrelated (fail to reject H0) p=0.193\n"
     ]
    }
   ],
   "source": [
    "cols = ['c5', 'c12', 'c13']\n",
    "for col in cols:\n",
    "    checkCategoricalData(col)"
   ]
  },
  {
   "cell_type": "code",
   "execution_count": 40,
   "id": "b479e242-f7f1-4254-b9ad-8d5ba1447006",
   "metadata": {},
   "outputs": [
    {
     "data": {
      "text/html": [
       "<div>\n",
       "<style scoped>\n",
       "    .dataframe tbody tr th:only-of-type {\n",
       "        vertical-align: middle;\n",
       "    }\n",
       "\n",
       "    .dataframe tbody tr th {\n",
       "        vertical-align: top;\n",
       "    }\n",
       "\n",
       "    .dataframe thead th {\n",
       "        text-align: right;\n",
       "    }\n",
       "</style>\n",
       "<table border=\"1\" class=\"dataframe\">\n",
       "  <thead>\n",
       "    <tr style=\"text-align: right;\">\n",
       "      <th></th>\n",
       "      <th>target</th>\n",
       "      <th>c6</th>\n",
       "      <th>c8</th>\n",
       "      <th>c10</th>\n",
       "      <th>c11</th>\n",
       "      <th>c12</th>\n",
       "    </tr>\n",
       "  </thead>\n",
       "  <tbody>\n",
       "    <tr>\n",
       "      <th>0</th>\n",
       "      <td>0</td>\n",
       "      <td>0.0</td>\n",
       "      <td>0.0</td>\n",
       "      <td>0.257071</td>\n",
       "      <td>2019-07-03</td>\n",
       "      <td>qq</td>\n",
       "    </tr>\n",
       "    <tr>\n",
       "      <th>1</th>\n",
       "      <td>0</td>\n",
       "      <td>0.0</td>\n",
       "      <td>0.0</td>\n",
       "      <td>0.437672</td>\n",
       "      <td>2019-04-12</td>\n",
       "      <td>cc</td>\n",
       "    </tr>\n",
       "    <tr>\n",
       "      <th>2</th>\n",
       "      <td>1</td>\n",
       "      <td>1.0</td>\n",
       "      <td>1.0</td>\n",
       "      <td>0.366002</td>\n",
       "      <td>2019-09-30</td>\n",
       "      <td>aa</td>\n",
       "    </tr>\n",
       "    <tr>\n",
       "      <th>3</th>\n",
       "      <td>0</td>\n",
       "      <td>0.0</td>\n",
       "      <td>0.0</td>\n",
       "      <td>0.437944</td>\n",
       "      <td>2019-06-11</td>\n",
       "      <td>dd</td>\n",
       "    </tr>\n",
       "    <tr>\n",
       "      <th>4</th>\n",
       "      <td>0</td>\n",
       "      <td>0.0</td>\n",
       "      <td>0.0</td>\n",
       "      <td>0.807554</td>\n",
       "      <td>2019-06-18</td>\n",
       "      <td>_</td>\n",
       "    </tr>\n",
       "  </tbody>\n",
       "</table>\n",
       "</div>"
      ],
      "text/plain": [
       "   target   c6   c8       c10         c11 c12\n",
       "0       0  0.0  0.0  0.257071  2019-07-03  qq\n",
       "1       0  0.0  0.0  0.437672  2019-04-12  cc\n",
       "2       1  1.0  1.0  0.366002  2019-09-30  aa\n",
       "3       0  0.0  0.0  0.437944  2019-06-11  dd\n",
       "4       0  0.0  0.0  0.807554  2019-06-18   _"
      ]
     },
     "execution_count": 40,
     "metadata": {},
     "output_type": "execute_result"
    }
   ],
   "source": [
    "# Results: Only column c12 is significant\n",
    "# drop columns\n",
    "drop_elements = ['c5', 'c13']\n",
    "df = df.drop(drop_elements, axis=1)\n",
    "df.head()"
   ]
  },
  {
   "cell_type": "markdown",
   "id": "30bd26f1-08b3-4282-ac12-be57c167ffab",
   "metadata": {},
   "source": [
    "## c12"
   ]
  },
  {
   "cell_type": "code",
   "execution_count": 41,
   "id": "31af5db5-a27a-408d-8718-50cabbe8abcc",
   "metadata": {},
   "outputs": [
    {
     "data": {
      "text/html": [
       "<div>\n",
       "<style scoped>\n",
       "    .dataframe tbody tr th:only-of-type {\n",
       "        vertical-align: middle;\n",
       "    }\n",
       "\n",
       "    .dataframe tbody tr th {\n",
       "        vertical-align: top;\n",
       "    }\n",
       "\n",
       "    .dataframe thead tr th {\n",
       "        text-align: left;\n",
       "    }\n",
       "</style>\n",
       "<table border=\"1\" class=\"dataframe\">\n",
       "  <thead>\n",
       "    <tr>\n",
       "      <th></th>\n",
       "      <th>c12</th>\n",
       "      <th colspan=\"2\" halign=\"left\">target</th>\n",
       "    </tr>\n",
       "    <tr>\n",
       "      <th></th>\n",
       "      <th></th>\n",
       "      <th>mean</th>\n",
       "      <th>count</th>\n",
       "    </tr>\n",
       "  </thead>\n",
       "  <tbody>\n",
       "    <tr>\n",
       "      <th>0</th>\n",
       "      <td>_</td>\n",
       "      <td>0.173855</td>\n",
       "      <td>105686</td>\n",
       "    </tr>\n",
       "    <tr>\n",
       "      <th>1</th>\n",
       "      <td>aa</td>\n",
       "      <td>0.171021</td>\n",
       "      <td>106022</td>\n",
       "    </tr>\n",
       "    <tr>\n",
       "      <th>2</th>\n",
       "      <td>cc</td>\n",
       "      <td>0.171186</td>\n",
       "      <td>105219</td>\n",
       "    </tr>\n",
       "    <tr>\n",
       "      <th>3</th>\n",
       "      <td>dd</td>\n",
       "      <td>0.293139</td>\n",
       "      <td>124115</td>\n",
       "    </tr>\n",
       "    <tr>\n",
       "      <th>4</th>\n",
       "      <td>ee</td>\n",
       "      <td>0.172259</td>\n",
       "      <td>105928</td>\n",
       "    </tr>\n",
       "    <tr>\n",
       "      <th>5</th>\n",
       "      <td>qq</td>\n",
       "      <td>0.172358</td>\n",
       "      <td>105664</td>\n",
       "    </tr>\n",
       "    <tr>\n",
       "      <th>6</th>\n",
       "      <td>rr</td>\n",
       "      <td>1.000000</td>\n",
       "      <td>18520</td>\n",
       "    </tr>\n",
       "    <tr>\n",
       "      <th>7</th>\n",
       "      <td>tty</td>\n",
       "      <td>1.000000</td>\n",
       "      <td>18235</td>\n",
       "    </tr>\n",
       "    <tr>\n",
       "      <th>8</th>\n",
       "      <td>ww</td>\n",
       "      <td>0.170621</td>\n",
       "      <td>105339</td>\n",
       "    </tr>\n",
       "    <tr>\n",
       "      <th>9</th>\n",
       "      <td>yy</td>\n",
       "      <td>0.173335</td>\n",
       "      <td>106141</td>\n",
       "    </tr>\n",
       "  </tbody>\n",
       "</table>\n",
       "</div>"
      ],
      "text/plain": [
       "   c12    target        \n",
       "            mean   count\n",
       "0    _  0.173855  105686\n",
       "1   aa  0.171021  106022\n",
       "2   cc  0.171186  105219\n",
       "3   dd  0.293139  124115\n",
       "4   ee  0.172259  105928\n",
       "5   qq  0.172358  105664\n",
       "6   rr  1.000000   18520\n",
       "7  tty  1.000000   18235\n",
       "8   ww  0.170621  105339\n",
       "9   yy  0.173335  106141"
      ]
     },
     "execution_count": 41,
     "metadata": {},
     "output_type": "execute_result"
    }
   ],
   "source": [
    "# For correlation\n",
    "col = 'c12'\n",
    "df[[col, 'target']].groupby([col], as_index = False).agg({'target': ['mean', 'count']})"
   ]
  },
  {
   "cell_type": "code",
   "execution_count": 42,
   "id": "0bf12730-8615-49cf-ab67-1f5767c46060",
   "metadata": {},
   "outputs": [],
   "source": [
    "# We might use one-hot encoding or label encoding but it seems that data have some redundancies. We can create 3 groups: ['dd'] - 0.5, ['rr', 'tty'] - 1, [others] - 0\n",
    "df['c12_modified'] = df[col].map({'dd': 0.5, 'rr': 1, 'tty': 1})\n",
    "df['c12_modified'] = df['c12_modified'].fillna(0)"
   ]
  },
  {
   "cell_type": "code",
   "execution_count": 43,
   "id": "c4772e5a-9a25-44f2-bfbb-7da9f1fa7e99",
   "metadata": {},
   "outputs": [
    {
     "data": {
      "text/html": [
       "<div>\n",
       "<style scoped>\n",
       "    .dataframe tbody tr th:only-of-type {\n",
       "        vertical-align: middle;\n",
       "    }\n",
       "\n",
       "    .dataframe tbody tr th {\n",
       "        vertical-align: top;\n",
       "    }\n",
       "\n",
       "    .dataframe thead tr th {\n",
       "        text-align: left;\n",
       "    }\n",
       "</style>\n",
       "<table border=\"1\" class=\"dataframe\">\n",
       "  <thead>\n",
       "    <tr>\n",
       "      <th></th>\n",
       "      <th>c12_modified</th>\n",
       "      <th colspan=\"2\" halign=\"left\">target</th>\n",
       "    </tr>\n",
       "    <tr>\n",
       "      <th></th>\n",
       "      <th></th>\n",
       "      <th>mean</th>\n",
       "      <th>count</th>\n",
       "    </tr>\n",
       "  </thead>\n",
       "  <tbody>\n",
       "    <tr>\n",
       "      <th>0</th>\n",
       "      <td>0.0</td>\n",
       "      <td>0.172092</td>\n",
       "      <td>739999</td>\n",
       "    </tr>\n",
       "    <tr>\n",
       "      <th>1</th>\n",
       "      <td>0.5</td>\n",
       "      <td>0.293139</td>\n",
       "      <td>124115</td>\n",
       "    </tr>\n",
       "    <tr>\n",
       "      <th>2</th>\n",
       "      <td>1.0</td>\n",
       "      <td>1.000000</td>\n",
       "      <td>36755</td>\n",
       "    </tr>\n",
       "  </tbody>\n",
       "</table>\n",
       "</div>"
      ],
      "text/plain": [
       "  c12_modified    target        \n",
       "                    mean   count\n",
       "0          0.0  0.172092  739999\n",
       "1          0.5  0.293139  124115\n",
       "2          1.0  1.000000   36755"
      ]
     },
     "execution_count": 43,
     "metadata": {},
     "output_type": "execute_result"
    }
   ],
   "source": [
    "col = 'c12_modified'\n",
    "df[[col, 'target']].groupby([col], as_index = False).agg({'target': ['mean', 'count']})"
   ]
  },
  {
   "cell_type": "code",
   "execution_count": 44,
   "id": "f3452fb2-161d-42b4-8985-59a8ab94cbb6",
   "metadata": {},
   "outputs": [
    {
     "data": {
      "text/plain": [
       "target          1.000000\n",
       "c6              0.486502\n",
       "c8             -0.375717\n",
       "c10             0.307215\n",
       "c12_modified    0.349805\n",
       "dtype: float64"
      ]
     },
     "execution_count": 44,
     "metadata": {},
     "output_type": "execute_result"
    }
   ],
   "source": [
    "df.corrwith(df[\"target\"])"
   ]
  },
  {
   "cell_type": "code",
   "execution_count": 45,
   "id": "eb899193-b94c-4878-963e-f8c26f3208b0",
   "metadata": {},
   "outputs": [
    {
     "data": {
      "text/html": [
       "<div>\n",
       "<style scoped>\n",
       "    .dataframe tbody tr th:only-of-type {\n",
       "        vertical-align: middle;\n",
       "    }\n",
       "\n",
       "    .dataframe tbody tr th {\n",
       "        vertical-align: top;\n",
       "    }\n",
       "\n",
       "    .dataframe thead th {\n",
       "        text-align: right;\n",
       "    }\n",
       "</style>\n",
       "<table border=\"1\" class=\"dataframe\">\n",
       "  <thead>\n",
       "    <tr style=\"text-align: right;\">\n",
       "      <th></th>\n",
       "      <th>target</th>\n",
       "      <th>c6</th>\n",
       "      <th>c8</th>\n",
       "      <th>c10</th>\n",
       "      <th>c11</th>\n",
       "      <th>c12_modified</th>\n",
       "    </tr>\n",
       "  </thead>\n",
       "  <tbody>\n",
       "    <tr>\n",
       "      <th>0</th>\n",
       "      <td>0</td>\n",
       "      <td>0.0</td>\n",
       "      <td>0.0</td>\n",
       "      <td>0.257071</td>\n",
       "      <td>2019-07-03</td>\n",
       "      <td>0.0</td>\n",
       "    </tr>\n",
       "    <tr>\n",
       "      <th>1</th>\n",
       "      <td>0</td>\n",
       "      <td>0.0</td>\n",
       "      <td>0.0</td>\n",
       "      <td>0.437672</td>\n",
       "      <td>2019-04-12</td>\n",
       "      <td>0.0</td>\n",
       "    </tr>\n",
       "    <tr>\n",
       "      <th>2</th>\n",
       "      <td>1</td>\n",
       "      <td>1.0</td>\n",
       "      <td>1.0</td>\n",
       "      <td>0.366002</td>\n",
       "      <td>2019-09-30</td>\n",
       "      <td>0.0</td>\n",
       "    </tr>\n",
       "    <tr>\n",
       "      <th>3</th>\n",
       "      <td>0</td>\n",
       "      <td>0.0</td>\n",
       "      <td>0.0</td>\n",
       "      <td>0.437944</td>\n",
       "      <td>2019-06-11</td>\n",
       "      <td>0.5</td>\n",
       "    </tr>\n",
       "    <tr>\n",
       "      <th>4</th>\n",
       "      <td>0</td>\n",
       "      <td>0.0</td>\n",
       "      <td>0.0</td>\n",
       "      <td>0.807554</td>\n",
       "      <td>2019-06-18</td>\n",
       "      <td>0.0</td>\n",
       "    </tr>\n",
       "  </tbody>\n",
       "</table>\n",
       "</div>"
      ],
      "text/plain": [
       "   target   c6   c8       c10         c11  c12_modified\n",
       "0       0  0.0  0.0  0.257071  2019-07-03           0.0\n",
       "1       0  0.0  0.0  0.437672  2019-04-12           0.0\n",
       "2       1  1.0  1.0  0.366002  2019-09-30           0.0\n",
       "3       0  0.0  0.0  0.437944  2019-06-11           0.5\n",
       "4       0  0.0  0.0  0.807554  2019-06-18           0.0"
      ]
     },
     "execution_count": 45,
     "metadata": {},
     "output_type": "execute_result"
    }
   ],
   "source": [
    "drop_elements = ['c12']\n",
    "df = df.drop(drop_elements, axis=1)\n",
    "df.head()"
   ]
  },
  {
   "cell_type": "markdown",
   "id": "24c2e7cb-aa38-4ca3-afa4-28abeff73c6b",
   "metadata": {},
   "source": [
    "# DateTime column"
   ]
  },
  {
   "cell_type": "code",
   "execution_count": 46,
   "id": "c058b0ae-c2e6-485a-b525-2279b16ba4c0",
   "metadata": {},
   "outputs": [],
   "source": [
    "col = 'c11'\n",
    "df[col] = pd.to_datetime(df[col]) # change column to datetime type"
   ]
  },
  {
   "cell_type": "code",
   "execution_count": 47,
   "id": "707bde09-7e98-481d-9256-b924a71b5137",
   "metadata": {},
   "outputs": [
    {
     "data": {
      "text/plain": [
       "3096"
      ]
     },
     "execution_count": 47,
     "metadata": {},
     "output_type": "execute_result"
    }
   ],
   "source": [
    "df[col].isnull().sum() # There are no so many missing dates, we can just drop this rows"
   ]
  },
  {
   "cell_type": "code",
   "execution_count": 48,
   "id": "a030a1e5-dbad-435b-b256-602a4b90784c",
   "metadata": {},
   "outputs": [],
   "source": [
    "df.dropna(subset=[col], inplace=True)"
   ]
  },
  {
   "cell_type": "code",
   "execution_count": 49,
   "id": "fb5337a9-af10-47f1-96f2-14533d507b13",
   "metadata": {},
   "outputs": [
    {
     "data": {
      "text/plain": [
       "count                  897773\n",
       "unique                    366\n",
       "top       2019-08-03 00:00:00\n",
       "freq                     3348\n",
       "first     2019-01-01 00:00:00\n",
       "last      2020-01-01 00:00:00\n",
       "Name: c11, dtype: object"
      ]
     },
     "execution_count": 49,
     "metadata": {},
     "output_type": "execute_result"
    }
   ],
   "source": [
    "df[col].describe() # since all dates in 2019, year is insignificant"
   ]
  },
  {
   "cell_type": "code",
   "execution_count": 50,
   "id": "3fc5ad1f-bce3-44d7-9d0a-ae9085d8085d",
   "metadata": {},
   "outputs": [],
   "source": [
    "# Generate columns based on date: since start datetime, month number, week day number, is weekend\n",
    "df['c11_since'] = (df[col] - df[col].min()).dt.days # days since the start of the observation\n",
    "df['c11_month'] = df[col].dt.month\n",
    "df['c11_week_day'] = df[col].dt.weekday\n",
    "df['c11_weekend'] = 0\n",
    "df.loc[df['c11_week_day'].isin([5, 6]), 'c11_weekend'] = 1"
   ]
  },
  {
   "cell_type": "code",
   "execution_count": 51,
   "id": "b55e8a4a-0683-4cb9-ae51-a3bbf6ea22f9",
   "metadata": {},
   "outputs": [
    {
     "data": {
      "text/html": [
       "<div>\n",
       "<style scoped>\n",
       "    .dataframe tbody tr th:only-of-type {\n",
       "        vertical-align: middle;\n",
       "    }\n",
       "\n",
       "    .dataframe tbody tr th {\n",
       "        vertical-align: top;\n",
       "    }\n",
       "\n",
       "    .dataframe thead th {\n",
       "        text-align: right;\n",
       "    }\n",
       "</style>\n",
       "<table border=\"1\" class=\"dataframe\">\n",
       "  <thead>\n",
       "    <tr style=\"text-align: right;\">\n",
       "      <th></th>\n",
       "      <th>target</th>\n",
       "      <th>c6</th>\n",
       "      <th>c8</th>\n",
       "      <th>c10</th>\n",
       "      <th>c11</th>\n",
       "      <th>c12_modified</th>\n",
       "      <th>c11_since</th>\n",
       "      <th>c11_month</th>\n",
       "      <th>c11_week_day</th>\n",
       "      <th>c11_weekend</th>\n",
       "      <th>c11_isholiday</th>\n",
       "      <th>c11_isholiday_weekend</th>\n",
       "    </tr>\n",
       "  </thead>\n",
       "  <tbody>\n",
       "    <tr>\n",
       "      <th>0</th>\n",
       "      <td>0</td>\n",
       "      <td>0.0</td>\n",
       "      <td>0.0</td>\n",
       "      <td>0.257071</td>\n",
       "      <td>2019-07-03</td>\n",
       "      <td>0.0</td>\n",
       "      <td>183</td>\n",
       "      <td>7</td>\n",
       "      <td>2</td>\n",
       "      <td>0</td>\n",
       "      <td>0</td>\n",
       "      <td>0</td>\n",
       "    </tr>\n",
       "    <tr>\n",
       "      <th>1</th>\n",
       "      <td>0</td>\n",
       "      <td>0.0</td>\n",
       "      <td>0.0</td>\n",
       "      <td>0.437672</td>\n",
       "      <td>2019-04-12</td>\n",
       "      <td>0.0</td>\n",
       "      <td>101</td>\n",
       "      <td>4</td>\n",
       "      <td>4</td>\n",
       "      <td>0</td>\n",
       "      <td>0</td>\n",
       "      <td>0</td>\n",
       "    </tr>\n",
       "    <tr>\n",
       "      <th>2</th>\n",
       "      <td>1</td>\n",
       "      <td>1.0</td>\n",
       "      <td>1.0</td>\n",
       "      <td>0.366002</td>\n",
       "      <td>2019-09-30</td>\n",
       "      <td>0.0</td>\n",
       "      <td>272</td>\n",
       "      <td>9</td>\n",
       "      <td>0</td>\n",
       "      <td>0</td>\n",
       "      <td>0</td>\n",
       "      <td>0</td>\n",
       "    </tr>\n",
       "    <tr>\n",
       "      <th>3</th>\n",
       "      <td>0</td>\n",
       "      <td>0.0</td>\n",
       "      <td>0.0</td>\n",
       "      <td>0.437944</td>\n",
       "      <td>2019-06-11</td>\n",
       "      <td>0.5</td>\n",
       "      <td>161</td>\n",
       "      <td>6</td>\n",
       "      <td>1</td>\n",
       "      <td>0</td>\n",
       "      <td>0</td>\n",
       "      <td>0</td>\n",
       "    </tr>\n",
       "    <tr>\n",
       "      <th>4</th>\n",
       "      <td>0</td>\n",
       "      <td>0.0</td>\n",
       "      <td>0.0</td>\n",
       "      <td>0.807554</td>\n",
       "      <td>2019-06-18</td>\n",
       "      <td>0.0</td>\n",
       "      <td>168</td>\n",
       "      <td>6</td>\n",
       "      <td>1</td>\n",
       "      <td>0</td>\n",
       "      <td>0</td>\n",
       "      <td>0</td>\n",
       "    </tr>\n",
       "  </tbody>\n",
       "</table>\n",
       "</div>"
      ],
      "text/plain": [
       "   target   c6   c8       c10        c11  c12_modified  c11_since  c11_month  \\\n",
       "0       0  0.0  0.0  0.257071 2019-07-03           0.0        183          7   \n",
       "1       0  0.0  0.0  0.437672 2019-04-12           0.0        101          4   \n",
       "2       1  1.0  1.0  0.366002 2019-09-30           0.0        272          9   \n",
       "3       0  0.0  0.0  0.437944 2019-06-11           0.5        161          6   \n",
       "4       0  0.0  0.0  0.807554 2019-06-18           0.0        168          6   \n",
       "\n",
       "   c11_week_day  c11_weekend  c11_isholiday  c11_isholiday_weekend  \n",
       "0             2            0              0                      0  \n",
       "1             4            0              0                      0  \n",
       "2             0            0              0                      0  \n",
       "3             1            0              0                      0  \n",
       "4             1            0              0                      0  "
      ]
     },
     "execution_count": 51,
     "metadata": {},
     "output_type": "execute_result"
    }
   ],
   "source": [
    "# Generate columns based on date: Is Holiday and Is Holiday or weekend\n",
    "from pandas.tseries.holiday import USFederalHolidayCalendar as calendar\n",
    "cal = calendar()\n",
    "holidays = cal.holidays(start=df[col].min(), end=df[col].max())\n",
    "\n",
    "df['c11_isholiday'] = df[col].isin(holidays).replace({True: 1, False: 0})\n",
    "df['c11_isholiday_weekend'] = 0\n",
    "df.loc[(df['c11_isholiday'] == 1) | (df['c11_weekend'] == 1), 'c11_isholiday_weekend'] = 1\n",
    "df.head()"
   ]
  },
  {
   "cell_type": "code",
   "execution_count": 52,
   "id": "fa1c590e-ac84-4f71-8b9f-261d784d01ec",
   "metadata": {},
   "outputs": [
    {
     "data": {
      "text/plain": [
       "target                   1.000000\n",
       "c6                       0.486178\n",
       "c8                      -0.375578\n",
       "c10                      0.306946\n",
       "c12_modified             0.349710\n",
       "c11_since                0.001758\n",
       "c11_month                0.005894\n",
       "c11_week_day             0.129179\n",
       "c11_weekend              0.329523\n",
       "c11_isholiday            0.020112\n",
       "c11_isholiday_weekend    0.331651\n",
       "dtype: float64"
      ]
     },
     "execution_count": 52,
     "metadata": {},
     "output_type": "execute_result"
    }
   ],
   "source": [
    "# Check correcation with target column\n",
    "df.corrwith(df[\"target\"])"
   ]
  },
  {
   "cell_type": "code",
   "execution_count": 53,
   "id": "f0cadfab-be82-4288-9998-9142d3eb9a23",
   "metadata": {},
   "outputs": [
    {
     "data": {
      "text/html": [
       "<div>\n",
       "<style scoped>\n",
       "    .dataframe tbody tr th:only-of-type {\n",
       "        vertical-align: middle;\n",
       "    }\n",
       "\n",
       "    .dataframe tbody tr th {\n",
       "        vertical-align: top;\n",
       "    }\n",
       "\n",
       "    .dataframe thead th {\n",
       "        text-align: right;\n",
       "    }\n",
       "</style>\n",
       "<table border=\"1\" class=\"dataframe\">\n",
       "  <thead>\n",
       "    <tr style=\"text-align: right;\">\n",
       "      <th></th>\n",
       "      <th>target</th>\n",
       "      <th>c6</th>\n",
       "      <th>c8</th>\n",
       "      <th>c10</th>\n",
       "      <th>c12_modified</th>\n",
       "      <th>c11_week_day</th>\n",
       "      <th>c11_weekend</th>\n",
       "      <th>c11_isholiday_weekend</th>\n",
       "    </tr>\n",
       "  </thead>\n",
       "  <tbody>\n",
       "    <tr>\n",
       "      <th>0</th>\n",
       "      <td>0</td>\n",
       "      <td>0.0</td>\n",
       "      <td>0.0</td>\n",
       "      <td>0.257071</td>\n",
       "      <td>0.0</td>\n",
       "      <td>2</td>\n",
       "      <td>0</td>\n",
       "      <td>0</td>\n",
       "    </tr>\n",
       "    <tr>\n",
       "      <th>1</th>\n",
       "      <td>0</td>\n",
       "      <td>0.0</td>\n",
       "      <td>0.0</td>\n",
       "      <td>0.437672</td>\n",
       "      <td>0.0</td>\n",
       "      <td>4</td>\n",
       "      <td>0</td>\n",
       "      <td>0</td>\n",
       "    </tr>\n",
       "    <tr>\n",
       "      <th>2</th>\n",
       "      <td>1</td>\n",
       "      <td>1.0</td>\n",
       "      <td>1.0</td>\n",
       "      <td>0.366002</td>\n",
       "      <td>0.0</td>\n",
       "      <td>0</td>\n",
       "      <td>0</td>\n",
       "      <td>0</td>\n",
       "    </tr>\n",
       "    <tr>\n",
       "      <th>3</th>\n",
       "      <td>0</td>\n",
       "      <td>0.0</td>\n",
       "      <td>0.0</td>\n",
       "      <td>0.437944</td>\n",
       "      <td>0.5</td>\n",
       "      <td>1</td>\n",
       "      <td>0</td>\n",
       "      <td>0</td>\n",
       "    </tr>\n",
       "    <tr>\n",
       "      <th>4</th>\n",
       "      <td>0</td>\n",
       "      <td>0.0</td>\n",
       "      <td>0.0</td>\n",
       "      <td>0.807554</td>\n",
       "      <td>0.0</td>\n",
       "      <td>1</td>\n",
       "      <td>0</td>\n",
       "      <td>0</td>\n",
       "    </tr>\n",
       "  </tbody>\n",
       "</table>\n",
       "</div>"
      ],
      "text/plain": [
       "   target   c6   c8       c10  c12_modified  c11_week_day  c11_weekend  \\\n",
       "0       0  0.0  0.0  0.257071           0.0             2            0   \n",
       "1       0  0.0  0.0  0.437672           0.0             4            0   \n",
       "2       1  1.0  1.0  0.366002           0.0             0            0   \n",
       "3       0  0.0  0.0  0.437944           0.5             1            0   \n",
       "4       0  0.0  0.0  0.807554           0.0             1            0   \n",
       "\n",
       "   c11_isholiday_weekend  \n",
       "0                      0  \n",
       "1                      0  \n",
       "2                      0  \n",
       "3                      0  \n",
       "4                      0  "
      ]
     },
     "execution_count": 53,
     "metadata": {},
     "output_type": "execute_result"
    }
   ],
   "source": [
    "# We get that c11_since, c11_month, c11_isholiday are quite unsignificant\n",
    "# drop columns\n",
    "drop_elements = ['c11_since', 'c11_month', 'c11_isholiday', 'c11']\n",
    "df = df.drop(drop_elements, axis=1)\n",
    "df.head()"
   ]
  },
  {
   "cell_type": "markdown",
   "id": "96c54bf8-393b-4bf9-81c1-0545db9ff6ac",
   "metadata": {},
   "source": [
    "# Check data"
   ]
  },
  {
   "cell_type": "code",
   "execution_count": 54,
   "id": "990a546f-bef2-47a3-a815-f6a594d09815",
   "metadata": {},
   "outputs": [
    {
     "data": {
      "text/plain": [
       "target                     int64\n",
       "c6                       float64\n",
       "c8                       float64\n",
       "c10                      float64\n",
       "c12_modified             float64\n",
       "c11_week_day               int64\n",
       "c11_weekend                int64\n",
       "c11_isholiday_weekend      int64\n",
       "dtype: object"
      ]
     },
     "execution_count": 54,
     "metadata": {},
     "output_type": "execute_result"
    }
   ],
   "source": [
    "df.dtypes # All columns are numeric"
   ]
  },
  {
   "cell_type": "code",
   "execution_count": 55,
   "id": "b6a11430-a2ab-449d-b211-945b1b7ab97d",
   "metadata": {},
   "outputs": [
    {
     "data": {
      "text/plain": [
       "target                   0\n",
       "c6                       0\n",
       "c8                       0\n",
       "c10                      0\n",
       "c12_modified             0\n",
       "c11_week_day             0\n",
       "c11_weekend              0\n",
       "c11_isholiday_weekend    0\n",
       "dtype: int64"
      ]
     },
     "execution_count": 55,
     "metadata": {},
     "output_type": "execute_result"
    }
   ],
   "source": [
    "df.isnull().sum() # No missing values"
   ]
  },
  {
   "cell_type": "markdown",
   "id": "3c6819cf-fbb2-4ab3-95f9-61c45656863c",
   "metadata": {},
   "source": [
    "# Save data"
   ]
  },
  {
   "cell_type": "code",
   "execution_count": 71,
   "id": "5bca3682-cce5-4e36-ae47-28e4bd3eb4df",
   "metadata": {},
   "outputs": [],
   "source": [
    "df.to_csv('data_processed.csv', index=False)"
   ]
  },
  {
   "cell_type": "code",
   "execution_count": 3,
   "id": "2a5cdae9-7d3d-48b6-b2e1-bbb487e6d3fb",
   "metadata": {},
   "outputs": [
    {
     "data": {
      "text/html": [
       "<div>\n",
       "<style scoped>\n",
       "    .dataframe tbody tr th:only-of-type {\n",
       "        vertical-align: middle;\n",
       "    }\n",
       "\n",
       "    .dataframe tbody tr th {\n",
       "        vertical-align: top;\n",
       "    }\n",
       "\n",
       "    .dataframe thead th {\n",
       "        text-align: right;\n",
       "    }\n",
       "</style>\n",
       "<table border=\"1\" class=\"dataframe\">\n",
       "  <thead>\n",
       "    <tr style=\"text-align: right;\">\n",
       "      <th></th>\n",
       "      <th>target</th>\n",
       "      <th>c6</th>\n",
       "      <th>c8</th>\n",
       "      <th>c10</th>\n",
       "      <th>c12_modified</th>\n",
       "      <th>c11_week_day</th>\n",
       "      <th>c11_weekend</th>\n",
       "      <th>c11_isholiday_weekend</th>\n",
       "    </tr>\n",
       "  </thead>\n",
       "  <tbody>\n",
       "    <tr>\n",
       "      <th>0</th>\n",
       "      <td>0</td>\n",
       "      <td>0.0</td>\n",
       "      <td>0.0</td>\n",
       "      <td>0.257071</td>\n",
       "      <td>0.0</td>\n",
       "      <td>2</td>\n",
       "      <td>0</td>\n",
       "      <td>0</td>\n",
       "    </tr>\n",
       "    <tr>\n",
       "      <th>1</th>\n",
       "      <td>0</td>\n",
       "      <td>0.0</td>\n",
       "      <td>0.0</td>\n",
       "      <td>0.437672</td>\n",
       "      <td>0.0</td>\n",
       "      <td>4</td>\n",
       "      <td>0</td>\n",
       "      <td>0</td>\n",
       "    </tr>\n",
       "    <tr>\n",
       "      <th>2</th>\n",
       "      <td>1</td>\n",
       "      <td>1.0</td>\n",
       "      <td>1.0</td>\n",
       "      <td>0.366002</td>\n",
       "      <td>0.0</td>\n",
       "      <td>0</td>\n",
       "      <td>0</td>\n",
       "      <td>0</td>\n",
       "    </tr>\n",
       "    <tr>\n",
       "      <th>3</th>\n",
       "      <td>0</td>\n",
       "      <td>0.0</td>\n",
       "      <td>0.0</td>\n",
       "      <td>0.437944</td>\n",
       "      <td>0.5</td>\n",
       "      <td>1</td>\n",
       "      <td>0</td>\n",
       "      <td>0</td>\n",
       "    </tr>\n",
       "    <tr>\n",
       "      <th>4</th>\n",
       "      <td>0</td>\n",
       "      <td>0.0</td>\n",
       "      <td>0.0</td>\n",
       "      <td>0.807554</td>\n",
       "      <td>0.0</td>\n",
       "      <td>1</td>\n",
       "      <td>0</td>\n",
       "      <td>0</td>\n",
       "    </tr>\n",
       "  </tbody>\n",
       "</table>\n",
       "</div>"
      ],
      "text/plain": [
       "   target   c6   c8       c10  c12_modified  c11_week_day  c11_weekend  \\\n",
       "0       0  0.0  0.0  0.257071           0.0             2            0   \n",
       "1       0  0.0  0.0  0.437672           0.0             4            0   \n",
       "2       1  1.0  1.0  0.366002           0.0             0            0   \n",
       "3       0  0.0  0.0  0.437944           0.5             1            0   \n",
       "4       0  0.0  0.0  0.807554           0.0             1            0   \n",
       "\n",
       "   c11_isholiday_weekend  \n",
       "0                      0  \n",
       "1                      0  \n",
       "2                      0  \n",
       "3                      0  \n",
       "4                      0  "
      ]
     },
     "execution_count": 3,
     "metadata": {},
     "output_type": "execute_result"
    }
   ],
   "source": [
    "import pandas as pd\n",
    "df1 = pd.read_csv('data_processed.csv')\n",
    "df1.head()"
   ]
  },
  {
   "cell_type": "code",
   "execution_count": 4,
   "id": "2f2810ef-1007-4a13-8a5c-e70c2f5d9d2c",
   "metadata": {},
   "outputs": [],
   "source": [
    "df = df1"
   ]
  },
  {
   "cell_type": "markdown",
   "id": "5522a037-b4f4-4019-a2b4-7e0f8e67ee06",
   "metadata": {},
   "source": [
    "# Some simple models"
   ]
  },
  {
   "cell_type": "code",
   "execution_count": 10,
   "id": "16859c54-cbdc-4743-b6a1-b80d70560e10",
   "metadata": {},
   "outputs": [],
   "source": [
    "# Just for the sake of checking that our cleaning is not bad\n",
    "from sklearn.metrics import accuracy_score\n",
    "from sklearn.inspection import permutation_importance"
   ]
  },
  {
   "cell_type": "code",
   "execution_count": 6,
   "id": "0428f48e-7d48-425a-b221-fc414be51086",
   "metadata": {},
   "outputs": [],
   "source": [
    "X = df.iloc[:, 1:].to_numpy()\n",
    "y = df.iloc[:, 0].to_numpy()\n",
    "from sklearn.model_selection import train_test_split\n",
    "X_train, X_test, y_train, y_test = train_test_split(X, y, test_size=0.2, random_state=0) # split data"
   ]
  },
  {
   "cell_type": "code",
   "execution_count": 7,
   "id": "7bb080fd-c3e7-48e2-9330-626255b0eb8f",
   "metadata": {},
   "outputs": [
    {
     "name": "stdout",
     "output_type": "stream",
     "text": [
      "0.8691041742084598\n"
     ]
    }
   ],
   "source": [
    "from sklearn.naive_bayes import GaussianNB\n",
    "model = GaussianNB()\n",
    "model.fit(X_train, y_train)\n",
    "predictions=model.predict(X_test)\n",
    "print(accuracy_score(y_test,predictions))"
   ]
  },
  {
   "cell_type": "code",
   "execution_count": 49,
   "id": "77c8d804-3b3e-40a3-a62e-4010f7bfdb57",
   "metadata": {},
   "outputs": [
    {
     "name": "stdout",
     "output_type": "stream",
     "text": [
      "[ 0.05742864  0.02061652  0.01467851  0.0498655  -0.00334828 -0.0041458\n",
      " -0.00342291]\n"
     ]
    }
   ],
   "source": [
    "imps = permutation_importance(model, X_test, y_test)\n",
    "print(imps.importances_mean)"
   ]
  },
  {
   "cell_type": "code",
   "execution_count": 8,
   "id": "02937754-f55e-4657-9a0f-b32ffd5f0a5a",
   "metadata": {},
   "outputs": [
    {
     "name": "stdout",
     "output_type": "stream",
     "text": [
      "0.9033889337528891\n"
     ]
    }
   ],
   "source": [
    "from sklearn.linear_model import LogisticRegression\n",
    "model = LogisticRegression(solver = 'lbfgs')\n",
    "model.fit(X_train, y_train)\n",
    "predictions=model.predict(X_test)\n",
    "print(accuracy_score(y_test,predictions))"
   ]
  },
  {
   "cell_type": "code",
   "execution_count": 11,
   "id": "8c2fb718-3cd8-4381-bece-c12dc2ce9c51",
   "metadata": {},
   "outputs": [
    {
     "name": "stdout",
     "output_type": "stream",
     "text": [
      "[0.06724291 0.03684665 0.02358609 0.02179277 0.11465122 0.20305756\n",
      " 0.00092339]\n"
     ]
    }
   ],
   "source": [
    "imps = permutation_importance(model, X_test, y_test)\n",
    "print(imps.importances_mean)"
   ]
  },
  {
   "cell_type": "code",
   "execution_count": null,
   "id": "0b636ee3-3e10-434e-82ad-cf497d80df17",
   "metadata": {},
   "outputs": [],
   "source": []
  }
 ],
 "metadata": {
  "kernelspec": {
   "display_name": "Python 3 (ipykernel)",
   "language": "python",
   "name": "python3"
  },
  "language_info": {
   "codemirror_mode": {
    "name": "ipython",
    "version": 3
   },
   "file_extension": ".py",
   "mimetype": "text/x-python",
   "name": "python",
   "nbconvert_exporter": "python",
   "pygments_lexer": "ipython3",
   "version": "3.9.7"
  }
 },
 "nbformat": 4,
 "nbformat_minor": 5
}
