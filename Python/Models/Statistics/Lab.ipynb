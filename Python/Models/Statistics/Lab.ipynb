{
 "cells": [
  {
   "cell_type": "markdown",
   "metadata": {},
   "source": [
    "# Імпортуємо бібліотеки і читаємо дані"
   ]
  },
  {
   "cell_type": "code",
   "execution_count": 50,
   "metadata": {},
   "outputs": [],
   "source": [
    "import pandas as pd\n",
    "import numpy as np\n",
    "import matplotlib.pyplot as plt\n",
    "import seaborn as sns\n",
    "sns.set()"
   ]
  },
  {
   "cell_type": "code",
   "execution_count": 19,
   "metadata": {},
   "outputs": [
    {
     "name": "stdout",
     "output_type": "stream",
     "text": [
      "(302, 1)\n"
     ]
    },
    {
     "data": {
      "text/html": [
       "<div>\n",
       "<style scoped>\n",
       "    .dataframe tbody tr th:only-of-type {\n",
       "        vertical-align: middle;\n",
       "    }\n",
       "\n",
       "    .dataframe tbody tr th {\n",
       "        vertical-align: top;\n",
       "    }\n",
       "\n",
       "    .dataframe thead th {\n",
       "        text-align: right;\n",
       "    }\n",
       "</style>\n",
       "<table border=\"1\" class=\"dataframe\">\n",
       "  <thead>\n",
       "    <tr style=\"text-align: right;\">\n",
       "      <th></th>\n",
       "      <th>x</th>\n",
       "    </tr>\n",
       "  </thead>\n",
       "  <tbody>\n",
       "    <tr>\n",
       "      <th>0</th>\n",
       "      <td>9</td>\n",
       "    </tr>\n",
       "    <tr>\n",
       "      <th>1</th>\n",
       "      <td>14</td>\n",
       "    </tr>\n",
       "    <tr>\n",
       "      <th>2</th>\n",
       "      <td>6</td>\n",
       "    </tr>\n",
       "    <tr>\n",
       "      <th>3</th>\n",
       "      <td>6</td>\n",
       "    </tr>\n",
       "    <tr>\n",
       "      <th>4</th>\n",
       "      <td>9</td>\n",
       "    </tr>\n",
       "    <tr>\n",
       "      <th>5</th>\n",
       "      <td>14</td>\n",
       "    </tr>\n",
       "    <tr>\n",
       "      <th>6</th>\n",
       "      <td>2</td>\n",
       "    </tr>\n",
       "    <tr>\n",
       "      <th>7</th>\n",
       "      <td>4</td>\n",
       "    </tr>\n",
       "    <tr>\n",
       "      <th>8</th>\n",
       "      <td>8</td>\n",
       "    </tr>\n",
       "    <tr>\n",
       "      <th>9</th>\n",
       "      <td>13</td>\n",
       "    </tr>\n",
       "  </tbody>\n",
       "</table>\n",
       "</div>"
      ],
      "text/plain": [
       "    x\n",
       "0   9\n",
       "1  14\n",
       "2   6\n",
       "3   6\n",
       "4   9\n",
       "5  14\n",
       "6   2\n",
       "7   4\n",
       "8   8\n",
       "9  13"
      ]
     },
     "execution_count": 19,
     "metadata": {},
     "output_type": "execute_result"
    }
   ],
   "source": [
    "df = pd.read_csv(\"data.txt\", header=None, names=['x'])\n",
    "sample = list(df['x'])\n",
    "print(df.shape)\n",
    "df.head(10)"
   ]
  },
  {
   "cell_type": "markdown",
   "metadata": {},
   "source": [
    "# Розрахунки\n",
    "Розрахувати:\n",
    "- варіаційний ряд для простої вибірки;\n",
    "- інтервальний варіаційний ряд для згрупованої вибірки;\n",
    "- числові характеристики вибірки.\n",
    "\n",
    "Будуємо варіаційний ряд для простої вибірки, а також порахуємо кілкьість входжень кожного значення у вибірку: перша колонка - значення із вибірки, друга - кількість входжень"
   ]
  },
  {
   "cell_type": "code",
   "execution_count": 21,
   "metadata": {},
   "outputs": [
    {
     "name": "stdout",
     "output_type": "stream",
     "text": [
      "[-2, -2, -1, -1, 0, 0, 0, 0, 0, 1, 1, 1, 1, 1, 1, 1, 1, 1, 1, 2, 2, 2, 2, 2, 2, 2, 2, 2, 2, 2, 2, 3, 3, 3, 3, 3, 3, 3, 3, 3, 3, 3, 3, 3, 3, 3, 3, 3, 3, 4, 4, 4, 4, 4, 4, 4, 4, 4, 4, 4, 4, 4, 4, 4, 4, 4, 4, 4, 4, 4, 4, 5, 5, 5, 5, 5, 5, 5, 5, 5, 5, 5, 5, 5, 5, 5, 5, 5, 5, 5, 5, 6, 6, 6, 6, 6, 6, 6, 6, 6, 6, 6, 6, 6, 6, 6, 6, 6, 6, 6, 6, 6, 6, 7, 7, 7, 7, 7, 7, 7, 7, 7, 7, 7, 7, 7, 7, 7, 7, 7, 7, 8, 8, 8, 8, 8, 8, 8, 8, 8, 8, 8, 8, 8, 8, 8, 8, 8, 8, 8, 8, 8, 8, 8, 9, 9, 9, 9, 9, 9, 9, 9, 9, 9, 9, 9, 9, 9, 9, 9, 9, 9, 9, 9, 9, 9, 9, 9, 9, 9, 9, 10, 10, 10, 10, 10, 10, 10, 10, 10, 10, 10, 11, 11, 11, 11, 11, 11, 11, 11, 11, 11, 11, 11, 11, 11, 11, 11, 11, 11, 12, 12, 12, 12, 12, 12, 12, 12, 12, 12, 12, 12, 12, 12, 12, 12, 12, 12, 12, 12, 12, 12, 12, 12, 13, 13, 13, 13, 13, 13, 13, 13, 13, 13, 13, 13, 13, 14, 14, 14, 14, 14, 14, 14, 14, 14, 14, 14, 15, 15, 15, 15, 15, 15, 15, 15, 15, 15, 16, 16, 16, 16, 16, 16, 16, 17, 17, 17, 17, 17, 17, 17, 17, 17, 17, 18, 18, 18, 18, 18, 18, 18, 19, 19, 19, 19, 20, 20, 21, 21, 22, 22]\n"
     ]
    }
   ],
   "source": [
    "sample.sort()\n",
    "print(sample)"
   ]
  },
  {
   "cell_type": "code",
   "execution_count": 22,
   "metadata": {},
   "outputs": [
    {
     "data": {
      "text/plain": [
       "-2      2\n",
       "-1      2\n",
       " 0      5\n",
       " 1     10\n",
       " 2     12\n",
       " 3     18\n",
       " 4     22\n",
       " 5     20\n",
       " 6     22\n",
       " 7     18\n",
       " 8     23\n",
       " 9     27\n",
       " 10    11\n",
       " 11    18\n",
       " 12    24\n",
       " 13    13\n",
       " 14    11\n",
       " 15    10\n",
       " 16     7\n",
       " 17    10\n",
       " 18     7\n",
       " 19     4\n",
       " 20     2\n",
       " 21     2\n",
       " 22     2\n",
       "Name: x, dtype: int64"
      ]
     },
     "execution_count": 22,
     "metadata": {},
     "output_type": "execute_result"
    }
   ],
   "source": [
    "df['x'].value_counts().sort_index()"
   ]
  },
  {
   "cell_type": "markdown",
   "metadata": {},
   "source": [
    "- інтервальний варіаційний ряд для згрупованої вибірки;\n",
    "\n",
    "Будуємо інтервальний варіаційний ряд для вибірки. Для цього всю вибірку ділимо на 10 рівних інтервалів між мінімальним та максимальним значенням вибірку і знаходимо кількість елементів вибірки, які потряплять в інтервал. Виводимо межі інтервалів і кількість входжень елементів."
   ]
  },
  {
   "cell_type": "code",
   "execution_count": 26,
   "metadata": {},
   "outputs": [
    {
     "name": "stdout",
     "output_type": "stream",
     "text": [
      "[-2.   0.4  2.8  5.2  7.6 10.  12.4 14.8 17.2 19.6 22. ]\n",
      "[ 9 22 60 40 50 53 24 27 11  6]\n"
     ]
    }
   ],
   "source": [
    "hist, bin_edges = np.histogram(sample, bins = 10, density=False)\n",
    "print(bin_edges)\n",
    "print(hist)"
   ]
  },
  {
   "cell_type": "code",
   "execution_count": 33,
   "metadata": {},
   "outputs": [
    {
     "data": {
      "text/html": [
       "<div>\n",
       "<style scoped>\n",
       "    .dataframe tbody tr th:only-of-type {\n",
       "        vertical-align: middle;\n",
       "    }\n",
       "\n",
       "    .dataframe tbody tr th {\n",
       "        vertical-align: top;\n",
       "    }\n",
       "\n",
       "    .dataframe thead th {\n",
       "        text-align: right;\n",
       "    }\n",
       "</style>\n",
       "<table border=\"1\" class=\"dataframe\">\n",
       "  <thead>\n",
       "    <tr style=\"text-align: right;\">\n",
       "      <th></th>\n",
       "      <th>Interval</th>\n",
       "      <th>Count</th>\n",
       "    </tr>\n",
       "  </thead>\n",
       "  <tbody>\n",
       "    <tr>\n",
       "      <th>0</th>\n",
       "      <td>[-2.0;0.0]</td>\n",
       "      <td>9</td>\n",
       "    </tr>\n",
       "    <tr>\n",
       "      <th>1</th>\n",
       "      <td>[0.0;3.0]</td>\n",
       "      <td>22</td>\n",
       "    </tr>\n",
       "    <tr>\n",
       "      <th>2</th>\n",
       "      <td>[3.0;5.0]</td>\n",
       "      <td>60</td>\n",
       "    </tr>\n",
       "    <tr>\n",
       "      <th>3</th>\n",
       "      <td>[5.0;8.0]</td>\n",
       "      <td>40</td>\n",
       "    </tr>\n",
       "    <tr>\n",
       "      <th>4</th>\n",
       "      <td>[8.0;10.0]</td>\n",
       "      <td>50</td>\n",
       "    </tr>\n",
       "    <tr>\n",
       "      <th>5</th>\n",
       "      <td>[10.0;12.0]</td>\n",
       "      <td>53</td>\n",
       "    </tr>\n",
       "    <tr>\n",
       "      <th>6</th>\n",
       "      <td>[12.0;15.0]</td>\n",
       "      <td>24</td>\n",
       "    </tr>\n",
       "    <tr>\n",
       "      <th>7</th>\n",
       "      <td>[15.0;17.0]</td>\n",
       "      <td>27</td>\n",
       "    </tr>\n",
       "    <tr>\n",
       "      <th>8</th>\n",
       "      <td>[17.0;20.0]</td>\n",
       "      <td>11</td>\n",
       "    </tr>\n",
       "    <tr>\n",
       "      <th>9</th>\n",
       "      <td>[20.0;22.0]</td>\n",
       "      <td>6</td>\n",
       "    </tr>\n",
       "  </tbody>\n",
       "</table>\n",
       "</div>"
      ],
      "text/plain": [
       "      Interval Count\n",
       "0   [-2.0;0.0]     9\n",
       "1    [0.0;3.0]    22\n",
       "2    [3.0;5.0]    60\n",
       "3    [5.0;8.0]    40\n",
       "4   [8.0;10.0]    50\n",
       "5  [10.0;12.0]    53\n",
       "6  [12.0;15.0]    24\n",
       "7  [15.0;17.0]    27\n",
       "8  [17.0;20.0]    11\n",
       "9  [20.0;22.0]     6"
      ]
     },
     "execution_count": 33,
     "metadata": {},
     "output_type": "execute_result"
    }
   ],
   "source": [
    "df_hist = pd.DataFrame(columns=['Interval', 'Count'])\n",
    "for i in range(len(hist)):\n",
    "    df_hist = df_hist.append({'Interval': \"[\" + str(np.around(bin_edges[i])) + \";\" + str(np.around(bin_edges[i + 1])) + \"]\", 'Count': hist[i]}, ignore_index = True)\n",
    "df_hist"
   ]
  },
  {
   "cell_type": "markdown",
   "metadata": {},
   "source": [
    "- числові характеристики вибірки.\n",
    "\n",
    "Обчислимо числові характеристики вибірки, включаючи:\n",
    "\n",
    "- моду\n",
    "- медіану (квантіль 50%)\n",
    "- математичне сподівання (mean)\n",
    "- дисперсію\n",
    "- середньоквадратичне відхилення (std)\n",
    "- мінімальне, максимальне значення вибірки (min, max)\n",
    "- розмах вибірки\n",
    "- квантілі вибірки (25%, 50%, 75%)\n",
    "\n",
    "Частину характеристик можна отримати за допомогою функції descibe()."
   ]
  },
  {
   "cell_type": "code",
   "execution_count": 34,
   "metadata": {},
   "outputs": [
    {
     "data": {
      "text/html": [
       "<div>\n",
       "<style scoped>\n",
       "    .dataframe tbody tr th:only-of-type {\n",
       "        vertical-align: middle;\n",
       "    }\n",
       "\n",
       "    .dataframe tbody tr th {\n",
       "        vertical-align: top;\n",
       "    }\n",
       "\n",
       "    .dataframe thead th {\n",
       "        text-align: right;\n",
       "    }\n",
       "</style>\n",
       "<table border=\"1\" class=\"dataframe\">\n",
       "  <thead>\n",
       "    <tr style=\"text-align: right;\">\n",
       "      <th></th>\n",
       "      <th>x</th>\n",
       "    </tr>\n",
       "  </thead>\n",
       "  <tbody>\n",
       "    <tr>\n",
       "      <th>count</th>\n",
       "      <td>302.000000</td>\n",
       "    </tr>\n",
       "    <tr>\n",
       "      <th>mean</th>\n",
       "      <td>8.721854</td>\n",
       "    </tr>\n",
       "    <tr>\n",
       "      <th>std</th>\n",
       "      <td>5.097923</td>\n",
       "    </tr>\n",
       "    <tr>\n",
       "      <th>min</th>\n",
       "      <td>-2.000000</td>\n",
       "    </tr>\n",
       "    <tr>\n",
       "      <th>25%</th>\n",
       "      <td>5.000000</td>\n",
       "    </tr>\n",
       "    <tr>\n",
       "      <th>50%</th>\n",
       "      <td>8.000000</td>\n",
       "    </tr>\n",
       "    <tr>\n",
       "      <th>75%</th>\n",
       "      <td>12.000000</td>\n",
       "    </tr>\n",
       "    <tr>\n",
       "      <th>max</th>\n",
       "      <td>22.000000</td>\n",
       "    </tr>\n",
       "  </tbody>\n",
       "</table>\n",
       "</div>"
      ],
      "text/plain": [
       "                x\n",
       "count  302.000000\n",
       "mean     8.721854\n",
       "std      5.097923\n",
       "min     -2.000000\n",
       "25%      5.000000\n",
       "50%      8.000000\n",
       "75%     12.000000\n",
       "max     22.000000"
      ]
     },
     "execution_count": 34,
     "metadata": {},
     "output_type": "execute_result"
    }
   ],
   "source": [
    "df.describe()"
   ]
  },
  {
   "cell_type": "code",
   "execution_count": 42,
   "metadata": {},
   "outputs": [
    {
     "name": "stdout",
     "output_type": "stream",
     "text": [
      "Mode: 9; Variance: 25.988823128204; Range: 24\n"
     ]
    }
   ],
   "source": [
    "print(\"Mode: \" + str(df['x'].mode()[0]) + \"; Variance: \" + str(df['x'].std() ** 2) + \"; Range: \" + str(df['x'].max() - df['x'].min()))"
   ]
  },
  {
   "cell_type": "markdown",
   "metadata": {
    "tags": []
   },
   "source": [
    "# Побудова гістограми\n",
    "Побудувати для згрупованої вибірки:\n",
    "- гістограму частот;\n",
    "- емпіричну функцію розподілу.\n",
    "\n",
    "Зробити висновок про інформативність гістограми частот при різній кількості інтервалів групування (дослідити 3-4 варіанти).\n",
    "Висновок: можемо помітити, що інформативність гістограми падає по мірі зменшення кількісті інтервалів, адже при цьому дані свого роду дещо усереднюються."
   ]
  },
  {
   "cell_type": "code",
   "execution_count": 68,
   "metadata": {},
   "outputs": [
    {
     "data": {
      "image/png": "[encoded data removed]",
      "text/plain": [
       "<Figure size 1440x576 with 8 Axes>"
      ]
     },
     "metadata": {},
     "output_type": "display_data"
    }
   ],
   "source": [
    "bins_count = [4, 8, 10, 20]\n",
    "fig, axs = plt.subplots(2, 4, figsize=(20, 8))\n",
    "for i, bins in enumerate(bins_count):\n",
    "    ax = axs[0, i]\n",
    "    df['x'].hist(bins = bins, density = True, ax = ax)\n",
    "    ax.set_title('Histogram with ' + str(bins) + ' bins')\n",
    "    ax.set_xlabel(\"Sample values\")\n",
    "    ax.set_ylabel(\"Frequency\")\n",
    "    \n",
    "    ax = axs[1, i]\n",
    "    df['x'].hist(bins = bins, density = True, cumulative = True, ax = ax)\n",
    "    ax.set_title('Emperical function with ' + str(bins) + ' bins')\n",
    "    ax.set_xlabel(\"Sample values\")\n",
    "    ax.set_ylabel(\"Frequency\")\n",
    "plt.tight_layout()"
   ]
  },
  {
   "cell_type": "markdown",
   "metadata": {},
   "source": [
    "# Додаткове завдання\n",
    "- Скачати дані із файлу Data1.csv \n",
    "- дослідити їх структуру\n",
    "- вивести перші 5 рядків\n",
    "- вивести останні 6 рядків\n",
    "- видалити стовпчик з абревіатурами\n",
    "- додати стовпчик з повним GDP, пропуски замінити нулями\n",
    "- вивести все summary\n",
    "- побудувати діаграму розмаху для GDP per capita\n",
    "- побудувати графік залежності High-technology exports від GDP"
   ]
  },
  {
   "cell_type": "code",
   "execution_count": 142,
   "metadata": {},
   "outputs": [
    {
     "name": "stdout",
     "output_type": "stream",
     "text": [
      "<class 'pandas.core.frame.DataFrame'>\n",
      "RangeIndex: 136 entries, 0 to 135\n",
      "Data columns (total 7 columns):\n",
      " #   Column                   Non-Null Count  Dtype \n",
      "---  ------                   --------------  ----- \n",
      " 0   Country                  136 non-null    object\n",
      " 1   ISO                      136 non-null    object\n",
      " 2   Conflicts intencity      136 non-null    int64 \n",
      " 3   Hospital beds            97 non-null     object\n",
      " 4   High-technology exports  132 non-null    object\n",
      " 5   GDP per capita           136 non-null    int64 \n",
      " 6   Population               136 non-null    object\n",
      "dtypes: int64(2), object(5)\n",
      "memory usage: 7.6+ KB\n"
     ]
    }
   ],
   "source": [
    "df = pd.read_csv(\"Data1.csv\", delimiter=';')\n",
    "df = df.replace(r'^\\s*$', np.nan, regex=True)\n",
    "df.info()"
   ]
  },
  {
   "cell_type": "code",
   "execution_count": 143,
   "metadata": {},
   "outputs": [
    {
     "data": {
      "text/html": [
       "<div>\n",
       "<style scoped>\n",
       "    .dataframe tbody tr th:only-of-type {\n",
       "        vertical-align: middle;\n",
       "    }\n",
       "\n",
       "    .dataframe tbody tr th {\n",
       "        vertical-align: top;\n",
       "    }\n",
       "\n",
       "    .dataframe thead th {\n",
       "        text-align: right;\n",
       "    }\n",
       "</style>\n",
       "<table border=\"1\" class=\"dataframe\">\n",
       "  <thead>\n",
       "    <tr style=\"text-align: right;\">\n",
       "      <th></th>\n",
       "      <th>Country</th>\n",
       "      <th>ISO</th>\n",
       "      <th>Conflicts intencity</th>\n",
       "      <th>Hospital beds</th>\n",
       "      <th>High-technology exports</th>\n",
       "      <th>GDP per capita</th>\n",
       "      <th>Population</th>\n",
       "    </tr>\n",
       "  </thead>\n",
       "  <tbody>\n",
       "    <tr>\n",
       "      <th>0</th>\n",
       "      <td>Albania</td>\n",
       "      <td>ALB</td>\n",
       "      <td>0</td>\n",
       "      <td>2,6</td>\n",
       "      <td>15123662</td>\n",
       "      <td>3266790</td>\n",
       "      <td>11926892453</td>\n",
       "    </tr>\n",
       "    <tr>\n",
       "      <th>1</th>\n",
       "      <td>Algeria</td>\n",
       "      <td>DZA</td>\n",
       "      <td>3</td>\n",
       "      <td>NaN</td>\n",
       "      <td>2449466</td>\n",
       "      <td>26554329</td>\n",
       "      <td>1,5608E+11</td>\n",
       "    </tr>\n",
       "    <tr>\n",
       "      <th>2</th>\n",
       "      <td>Angola</td>\n",
       "      <td>AGO</td>\n",
       "      <td>3</td>\n",
       "      <td>NaN</td>\n",
       "      <td>NaN</td>\n",
       "      <td>12553446</td>\n",
       "      <td>89633156470</td>\n",
       "    </tr>\n",
       "    <tr>\n",
       "      <th>3</th>\n",
       "      <td>Argentina</td>\n",
       "      <td>ARG</td>\n",
       "      <td>1</td>\n",
       "      <td>4,7</td>\n",
       "      <td>1442450760</td>\n",
       "      <td>33193918</td>\n",
       "      <td>5,45866E+11</td>\n",
       "    </tr>\n",
       "    <tr>\n",
       "      <th>4</th>\n",
       "      <td>Armenia</td>\n",
       "      <td>ARM</td>\n",
       "      <td>3</td>\n",
       "      <td>3,9</td>\n",
       "      <td>16565073</td>\n",
       "      <td>3505251</td>\n",
       "      <td>10547331235</td>\n",
       "    </tr>\n",
       "  </tbody>\n",
       "</table>\n",
       "</div>"
      ],
      "text/plain": [
       "     Country  ISO  Conflicts intencity Hospital beds High-technology exports  \\\n",
       "0    Albania  ALB                    0           2,6                15123662   \n",
       "1    Algeria  DZA                    3           NaN                 2449466   \n",
       "2     Angola  AGO                    3           NaN                     NaN   \n",
       "3  Argentina  ARG                    1           4,7              1442450760   \n",
       "4    Armenia  ARM                    3           3,9                16565073   \n",
       "\n",
       "   GDP per capita   Population  \n",
       "0         3266790  11926892453  \n",
       "1        26554329   1,5608E+11  \n",
       "2        12553446  89633156470  \n",
       "3        33193918  5,45866E+11  \n",
       "4         3505251  10547331235  "
      ]
     },
     "execution_count": 143,
     "metadata": {},
     "output_type": "execute_result"
    }
   ],
   "source": [
    "df.head(5)"
   ]
  },
  {
   "cell_type": "code",
   "execution_count": 144,
   "metadata": {},
   "outputs": [
    {
     "data": {
      "text/html": [
       "<div>\n",
       "<style scoped>\n",
       "    .dataframe tbody tr th:only-of-type {\n",
       "        vertical-align: middle;\n",
       "    }\n",
       "\n",
       "    .dataframe tbody tr th {\n",
       "        vertical-align: top;\n",
       "    }\n",
       "\n",
       "    .dataframe thead th {\n",
       "        text-align: right;\n",
       "    }\n",
       "</style>\n",
       "<table border=\"1\" class=\"dataframe\">\n",
       "  <thead>\n",
       "    <tr style=\"text-align: right;\">\n",
       "      <th></th>\n",
       "      <th>Country</th>\n",
       "      <th>ISO</th>\n",
       "      <th>Conflicts intencity</th>\n",
       "      <th>Hospital beds</th>\n",
       "      <th>High-technology exports</th>\n",
       "      <th>GDP per capita</th>\n",
       "      <th>Population</th>\n",
       "    </tr>\n",
       "  </thead>\n",
       "  <tbody>\n",
       "    <tr>\n",
       "      <th>130</th>\n",
       "      <td>United States</td>\n",
       "      <td>USA</td>\n",
       "      <td>3</td>\n",
       "      <td>2,9</td>\n",
       "      <td>1,53526E+11</td>\n",
       "      <td>252981000</td>\n",
       "      <td>1,85691E+13</td>\n",
       "    </tr>\n",
       "    <tr>\n",
       "      <th>131</th>\n",
       "      <td>Uruguay</td>\n",
       "      <td>URY</td>\n",
       "      <td>0</td>\n",
       "      <td>2,5</td>\n",
       "      <td>266119238</td>\n",
       "      <td>3132050</td>\n",
       "      <td>52419720714</td>\n",
       "    </tr>\n",
       "    <tr>\n",
       "      <th>132</th>\n",
       "      <td>Venezuela, Bolivarian Republic of</td>\n",
       "      <td>VEN</td>\n",
       "      <td>3</td>\n",
       "      <td>0,9</td>\n",
       "      <td>18092984</td>\n",
       "      <td>20332079</td>\n",
       "      <td>3,71006E+11</td>\n",
       "    </tr>\n",
       "    <tr>\n",
       "      <th>133</th>\n",
       "      <td>Viet Nam</td>\n",
       "      <td>VNM</td>\n",
       "      <td>3</td>\n",
       "      <td>NaN</td>\n",
       "      <td>38735943417</td>\n",
       "      <td>67242400</td>\n",
       "      <td>2,02616E+11</td>\n",
       "    </tr>\n",
       "    <tr>\n",
       "      <th>134</th>\n",
       "      <td>Yemen</td>\n",
       "      <td>YEM</td>\n",
       "      <td>5</td>\n",
       "      <td>0,7</td>\n",
       "      <td>2946931</td>\n",
       "      <td>12661614</td>\n",
       "      <td>27317605346</td>\n",
       "    </tr>\n",
       "    <tr>\n",
       "      <th>135</th>\n",
       "      <td>Zambia</td>\n",
       "      <td>ZMB</td>\n",
       "      <td>0</td>\n",
       "      <td>NaN</td>\n",
       "      <td>36503179</td>\n",
       "      <td>8239732</td>\n",
       "      <td>19551093303</td>\n",
       "    </tr>\n",
       "  </tbody>\n",
       "</table>\n",
       "</div>"
      ],
      "text/plain": [
       "                               Country  ISO  Conflicts intencity  \\\n",
       "130                      United States  USA                    3   \n",
       "131                            Uruguay  URY                    0   \n",
       "132  Venezuela, Bolivarian Republic of  VEN                    3   \n",
       "133                           Viet Nam  VNM                    3   \n",
       "134                              Yemen  YEM                    5   \n",
       "135                             Zambia  ZMB                    0   \n",
       "\n",
       "    Hospital beds High-technology exports  GDP per capita   Population  \n",
       "130           2,9             1,53526E+11       252981000  1,85691E+13  \n",
       "131           2,5               266119238         3132050  52419720714  \n",
       "132           0,9                18092984        20332079  3,71006E+11  \n",
       "133           NaN             38735943417        67242400  2,02616E+11  \n",
       "134           0,7                 2946931        12661614  27317605346  \n",
       "135           NaN                36503179         8239732  19551093303  "
      ]
     },
     "execution_count": 144,
     "metadata": {},
     "output_type": "execute_result"
    }
   ],
   "source": [
    "df.tail(6)"
   ]
  },
  {
   "cell_type": "code",
   "execution_count": 145,
   "metadata": {},
   "outputs": [
    {
     "data": {
      "text/html": [
       "<div>\n",
       "<style scoped>\n",
       "    .dataframe tbody tr th:only-of-type {\n",
       "        vertical-align: middle;\n",
       "    }\n",
       "\n",
       "    .dataframe tbody tr th {\n",
       "        vertical-align: top;\n",
       "    }\n",
       "\n",
       "    .dataframe thead th {\n",
       "        text-align: right;\n",
       "    }\n",
       "</style>\n",
       "<table border=\"1\" class=\"dataframe\">\n",
       "  <thead>\n",
       "    <tr style=\"text-align: right;\">\n",
       "      <th></th>\n",
       "      <th>Country</th>\n",
       "      <th>Conflicts intencity</th>\n",
       "      <th>Hospital beds</th>\n",
       "      <th>High-technology exports</th>\n",
       "      <th>GDP per capita</th>\n",
       "      <th>Population</th>\n",
       "    </tr>\n",
       "  </thead>\n",
       "  <tbody>\n",
       "    <tr>\n",
       "      <th>0</th>\n",
       "      <td>Albania</td>\n",
       "      <td>0</td>\n",
       "      <td>2,6</td>\n",
       "      <td>15123662</td>\n",
       "      <td>3266790</td>\n",
       "      <td>11926892453</td>\n",
       "    </tr>\n",
       "    <tr>\n",
       "      <th>1</th>\n",
       "      <td>Algeria</td>\n",
       "      <td>3</td>\n",
       "      <td>NaN</td>\n",
       "      <td>2449466</td>\n",
       "      <td>26554329</td>\n",
       "      <td>1,5608E+11</td>\n",
       "    </tr>\n",
       "    <tr>\n",
       "      <th>2</th>\n",
       "      <td>Angola</td>\n",
       "      <td>3</td>\n",
       "      <td>NaN</td>\n",
       "      <td>NaN</td>\n",
       "      <td>12553446</td>\n",
       "      <td>89633156470</td>\n",
       "    </tr>\n",
       "    <tr>\n",
       "      <th>3</th>\n",
       "      <td>Argentina</td>\n",
       "      <td>1</td>\n",
       "      <td>4,7</td>\n",
       "      <td>1442450760</td>\n",
       "      <td>33193918</td>\n",
       "      <td>5,45866E+11</td>\n",
       "    </tr>\n",
       "    <tr>\n",
       "      <th>4</th>\n",
       "      <td>Armenia</td>\n",
       "      <td>3</td>\n",
       "      <td>3,9</td>\n",
       "      <td>16565073</td>\n",
       "      <td>3505251</td>\n",
       "      <td>10547331235</td>\n",
       "    </tr>\n",
       "  </tbody>\n",
       "</table>\n",
       "</div>"
      ],
      "text/plain": [
       "     Country  Conflicts intencity Hospital beds High-technology exports  \\\n",
       "0    Albania                    0           2,6                15123662   \n",
       "1    Algeria                    3           NaN                 2449466   \n",
       "2     Angola                    3           NaN                     NaN   \n",
       "3  Argentina                    1           4,7              1442450760   \n",
       "4    Armenia                    3           3,9                16565073   \n",
       "\n",
       "   GDP per capita   Population  \n",
       "0         3266790  11926892453  \n",
       "1        26554329   1,5608E+11  \n",
       "2        12553446  89633156470  \n",
       "3        33193918  5,45866E+11  \n",
       "4         3505251  10547331235  "
      ]
     },
     "execution_count": 145,
     "metadata": {},
     "output_type": "execute_result"
    }
   ],
   "source": [
    "df = df.drop(['ISO'], axis=1)\n",
    "df.head()"
   ]
  },
  {
   "cell_type": "code",
   "execution_count": 146,
   "metadata": {},
   "outputs": [],
   "source": [
    "col = 'Population'\n",
    "df[col] = df[col].apply(lambda x: x.replace(',','.'))\n",
    "df[col] = pd.to_numeric(df[col])\n",
    "col = 'Hospital beds'\n",
    "df[col] = df[col].apply(lambda x: x.replace(',','.') if not pd.isnull(x) else x)\n",
    "df[col] = pd.to_numeric(df[col])\n",
    "col = 'High-technology exports'\n",
    "df[col] = df[col].apply(lambda x: x.replace(',','.') if not pd.isnull(x) else x)\n",
    "df[col] = pd.to_numeric(df[col])"
   ]
  },
  {
   "cell_type": "code",
   "execution_count": 147,
   "metadata": {},
   "outputs": [
    {
     "data": {
      "text/html": [
       "<div>\n",
       "<style scoped>\n",
       "    .dataframe tbody tr th:only-of-type {\n",
       "        vertical-align: middle;\n",
       "    }\n",
       "\n",
       "    .dataframe tbody tr th {\n",
       "        vertical-align: top;\n",
       "    }\n",
       "\n",
       "    .dataframe thead th {\n",
       "        text-align: right;\n",
       "    }\n",
       "</style>\n",
       "<table border=\"1\" class=\"dataframe\">\n",
       "  <thead>\n",
       "    <tr style=\"text-align: right;\">\n",
       "      <th></th>\n",
       "      <th>Country</th>\n",
       "      <th>Conflicts intencity</th>\n",
       "      <th>Hospital beds</th>\n",
       "      <th>High-technology exports</th>\n",
       "      <th>GDP per capita</th>\n",
       "      <th>Population</th>\n",
       "      <th>GDP</th>\n",
       "    </tr>\n",
       "  </thead>\n",
       "  <tbody>\n",
       "    <tr>\n",
       "      <th>0</th>\n",
       "      <td>Albania</td>\n",
       "      <td>0</td>\n",
       "      <td>2.6</td>\n",
       "      <td>1.512366e+07</td>\n",
       "      <td>3266790</td>\n",
       "      <td>1.192689e+10</td>\n",
       "      <td>3.896265e+16</td>\n",
       "    </tr>\n",
       "    <tr>\n",
       "      <th>1</th>\n",
       "      <td>Algeria</td>\n",
       "      <td>3</td>\n",
       "      <td>NaN</td>\n",
       "      <td>2.449466e+06</td>\n",
       "      <td>26554329</td>\n",
       "      <td>1.560800e+11</td>\n",
       "      <td>4.144600e+18</td>\n",
       "    </tr>\n",
       "    <tr>\n",
       "      <th>2</th>\n",
       "      <td>Angola</td>\n",
       "      <td>3</td>\n",
       "      <td>NaN</td>\n",
       "      <td>NaN</td>\n",
       "      <td>12553446</td>\n",
       "      <td>8.963316e+10</td>\n",
       "      <td>1.125205e+18</td>\n",
       "    </tr>\n",
       "    <tr>\n",
       "      <th>3</th>\n",
       "      <td>Argentina</td>\n",
       "      <td>1</td>\n",
       "      <td>4.7</td>\n",
       "      <td>1.442451e+09</td>\n",
       "      <td>33193918</td>\n",
       "      <td>5.458660e+11</td>\n",
       "      <td>1.811943e+19</td>\n",
       "    </tr>\n",
       "    <tr>\n",
       "      <th>4</th>\n",
       "      <td>Armenia</td>\n",
       "      <td>3</td>\n",
       "      <td>3.9</td>\n",
       "      <td>1.656507e+07</td>\n",
       "      <td>3505251</td>\n",
       "      <td>1.054733e+10</td>\n",
       "      <td>3.697104e+16</td>\n",
       "    </tr>\n",
       "  </tbody>\n",
       "</table>\n",
       "</div>"
      ],
      "text/plain": [
       "     Country  Conflicts intencity  Hospital beds  High-technology exports  \\\n",
       "0    Albania                    0            2.6             1.512366e+07   \n",
       "1    Algeria                    3            NaN             2.449466e+06   \n",
       "2     Angola                    3            NaN                      NaN   \n",
       "3  Argentina                    1            4.7             1.442451e+09   \n",
       "4    Armenia                    3            3.9             1.656507e+07   \n",
       "\n",
       "   GDP per capita    Population           GDP  \n",
       "0         3266790  1.192689e+10  3.896265e+16  \n",
       "1        26554329  1.560800e+11  4.144600e+18  \n",
       "2        12553446  8.963316e+10  1.125205e+18  \n",
       "3        33193918  5.458660e+11  1.811943e+19  \n",
       "4         3505251  1.054733e+10  3.697104e+16  "
      ]
     },
     "execution_count": 147,
     "metadata": {},
     "output_type": "execute_result"
    }
   ],
   "source": [
    "df['GDP'] = df['GDP per capita'] * df['Population']\n",
    "df.head()"
   ]
  },
  {
   "cell_type": "code",
   "execution_count": 150,
   "metadata": {},
   "outputs": [
    {
     "data": {
      "text/plain": [
       "False"
      ]
     },
     "execution_count": 150,
     "metadata": {},
     "output_type": "execute_result"
    }
   ],
   "source": [
    "df['GDP'].isnull().any()"
   ]
  },
  {
   "cell_type": "code",
   "execution_count": 151,
   "metadata": {},
   "outputs": [
    {
     "data": {
      "text/html": [
       "<div>\n",
       "<style scoped>\n",
       "    .dataframe tbody tr th:only-of-type {\n",
       "        vertical-align: middle;\n",
       "    }\n",
       "\n",
       "    .dataframe tbody tr th {\n",
       "        vertical-align: top;\n",
       "    }\n",
       "\n",
       "    .dataframe thead th {\n",
       "        text-align: right;\n",
       "    }\n",
       "</style>\n",
       "<table border=\"1\" class=\"dataframe\">\n",
       "  <thead>\n",
       "    <tr style=\"text-align: right;\">\n",
       "      <th></th>\n",
       "      <th>Conflicts intencity</th>\n",
       "      <th>Hospital beds</th>\n",
       "      <th>High-technology exports</th>\n",
       "      <th>GDP per capita</th>\n",
       "      <th>Population</th>\n",
       "      <th>GDP</th>\n",
       "    </tr>\n",
       "  </thead>\n",
       "  <tbody>\n",
       "    <tr>\n",
       "      <th>count</th>\n",
       "      <td>136.000000</td>\n",
       "      <td>97.000000</td>\n",
       "      <td>1.320000e+02</td>\n",
       "      <td>1.360000e+02</td>\n",
       "      <td>1.360000e+02</td>\n",
       "      <td>1.360000e+02</td>\n",
       "    </tr>\n",
       "    <tr>\n",
       "      <th>mean</th>\n",
       "      <td>1.977941</td>\n",
       "      <td>3.262784</td>\n",
       "      <td>1.560629e+10</td>\n",
       "      <td>3.725446e+07</td>\n",
       "      <td>5.362308e+11</td>\n",
       "      <td>1.632076e+20</td>\n",
       "    </tr>\n",
       "    <tr>\n",
       "      <th>std</th>\n",
       "      <td>1.532207</td>\n",
       "      <td>2.361924</td>\n",
       "      <td>5.609349e+10</td>\n",
       "      <td>1.272781e+08</td>\n",
       "      <td>1.941314e+12</td>\n",
       "      <td>1.184000e+21</td>\n",
       "    </tr>\n",
       "    <tr>\n",
       "      <th>min</th>\n",
       "      <td>0.000000</td>\n",
       "      <td>0.100000</td>\n",
       "      <td>0.000000e+00</td>\n",
       "      <td>7.043900e+04</td>\n",
       "      <td>9.645992e+08</td>\n",
       "      <td>1.005393e+14</td>\n",
       "    </tr>\n",
       "    <tr>\n",
       "      <th>25%</th>\n",
       "      <td>0.000000</td>\n",
       "      <td>1.300000</td>\n",
       "      <td>1.468869e+07</td>\n",
       "      <td>3.502713e+06</td>\n",
       "      <td>1.382807e+10</td>\n",
       "      <td>5.515877e+16</td>\n",
       "    </tr>\n",
       "    <tr>\n",
       "      <th>50%</th>\n",
       "      <td>3.000000</td>\n",
       "      <td>2.600000</td>\n",
       "      <td>1.932256e+08</td>\n",
       "      <td>8.345330e+06</td>\n",
       "      <td>5.240744e+10</td>\n",
       "      <td>4.559736e+17</td>\n",
       "    </tr>\n",
       "    <tr>\n",
       "      <th>75%</th>\n",
       "      <td>3.000000</td>\n",
       "      <td>4.800000</td>\n",
       "      <td>3.990518e+09</td>\n",
       "      <td>2.329577e+07</td>\n",
       "      <td>2.989508e+11</td>\n",
       "      <td>4.711841e+18</td>\n",
       "    </tr>\n",
       "    <tr>\n",
       "      <th>max</th>\n",
       "      <td>5.000000</td>\n",
       "      <td>11.300000</td>\n",
       "      <td>5.542730e+11</td>\n",
       "      <td>1.150780e+09</td>\n",
       "      <td>1.856910e+13</td>\n",
       "      <td>1.288770e+22</td>\n",
       "    </tr>\n",
       "  </tbody>\n",
       "</table>\n",
       "</div>"
      ],
      "text/plain": [
       "       Conflicts intencity  Hospital beds  High-technology exports  \\\n",
       "count           136.000000      97.000000             1.320000e+02   \n",
       "mean              1.977941       3.262784             1.560629e+10   \n",
       "std               1.532207       2.361924             5.609349e+10   \n",
       "min               0.000000       0.100000             0.000000e+00   \n",
       "25%               0.000000       1.300000             1.468869e+07   \n",
       "50%               3.000000       2.600000             1.932256e+08   \n",
       "75%               3.000000       4.800000             3.990518e+09   \n",
       "max               5.000000      11.300000             5.542730e+11   \n",
       "\n",
       "       GDP per capita    Population           GDP  \n",
       "count    1.360000e+02  1.360000e+02  1.360000e+02  \n",
       "mean     3.725446e+07  5.362308e+11  1.632076e+20  \n",
       "std      1.272781e+08  1.941314e+12  1.184000e+21  \n",
       "min      7.043900e+04  9.645992e+08  1.005393e+14  \n",
       "25%      3.502713e+06  1.382807e+10  5.515877e+16  \n",
       "50%      8.345330e+06  5.240744e+10  4.559736e+17  \n",
       "75%      2.329577e+07  2.989508e+11  4.711841e+18  \n",
       "max      1.150780e+09  1.856910e+13  1.288770e+22  "
      ]
     },
     "execution_count": 151,
     "metadata": {},
     "output_type": "execute_result"
    }
   ],
   "source": [
    "df.describe()"
   ]
  },
  {
   "cell_type": "code",
   "execution_count": 158,
   "metadata": {},
   "outputs": [
    {
     "data": {
      "text/plain": [
       "<AxesSubplot:>"
      ]
     },
     "execution_count": 158,
     "metadata": {},
     "output_type": "execute_result"
    },
    {
     "data": {
      "image/png": "[encoded data removed]",
      "text/plain": [
       "<Figure size 432x288 with 1 Axes>"
      ]
     },
     "metadata": {},
     "output_type": "display_data"
    }
   ],
   "source": [
    "df.boxplot(column=['GDP per capita'])  "
   ]
  },
  {
   "cell_type": "markdown",
   "metadata": {},
   "source": [
    "Бачимо, що дані містять доволі багато викидів, тому обмежимо дану колонку в межах від 5% до 95% квантилів і побудуємо розмах даної колонки. Отриманий результат дещо кращий."
   ]
  },
  {
   "cell_type": "code",
   "execution_count": 162,
   "metadata": {},
   "outputs": [
    {
     "data": {
      "text/plain": [
       "<AxesSubplot:>"
      ]
     },
     "execution_count": 162,
     "metadata": {},
     "output_type": "execute_result"
    },
    {
     "data": {
      "image/png": "[encoded data removed]",
      "text/plain": [
       "<Figure size 432x288 with 1 Axes>"
      ]
     },
     "metadata": {},
     "output_type": "display_data"
    }
   ],
   "source": [
    "col = 'GDP per capita'\n",
    "ps = np.percentile(df[col], [5, 95])\n",
    "df2 = df[(df[col] > ps[0]) & (df[col] < ps[1])]\n",
    "df2.boxplot(column=[col])  "
   ]
  },
  {
   "cell_type": "code",
   "execution_count": 155,
   "metadata": {},
   "outputs": [
    {
     "data": {
      "text/plain": [
       "Text(0, 0.5, 'High-technology exports')"
      ]
     },
     "execution_count": 155,
     "metadata": {},
     "output_type": "execute_result"
    },
    {
     "data": {
      "image/png": "[encoded data removed]",
      "text/plain": [
       "<Figure size 432x288 with 1 Axes>"
      ]
     },
     "metadata": {},
     "output_type": "display_data"
    }
   ],
   "source": [
    "plt.scatter(df['GDP'], df['High-technology exports'])\n",
    "plt.xlabel('GDP')\n",
    "plt.ylabel('High-technology exports')"
   ]
  },
  {
   "cell_type": "markdown",
   "metadata": {},
   "source": [
    "Бачимо, що дані містять викиди, тому основні дані важко аналізувати, адже вони скупчені в групку, тому обмежимо колонку 'GDP' в межах від 5% до 95% квантилів і побудуємо розмах даної колонки. Отриманий результат дещо кращий."
   ]
  },
  {
   "cell_type": "code",
   "execution_count": 165,
   "metadata": {},
   "outputs": [
    {
     "data": {
      "text/plain": [
       "Text(0, 0.5, 'High-technology exports')"
      ]
     },
     "execution_count": 165,
     "metadata": {},
     "output_type": "execute_result"
    },
    {
     "data": {
      "image/png": "[encoded data removed]",
      "text/plain": [
       "<Figure size 432x288 with 1 Axes>"
      ]
     },
     "metadata": {},
     "output_type": "display_data"
    }
   ],
   "source": [
    "col = 'GDP'\n",
    "ps = np.percentile(df[col], [5, 95])\n",
    "df2 = df[(df[col] > ps[0]) & (df[col] < ps[1])]\n",
    "plt.scatter(df2['GDP'], df2['High-technology exports'])\n",
    "plt.xlabel('GDP')\n",
    "plt.ylabel('High-technology exports')"
   ]
  },
  {
   "cell_type": "markdown",
   "metadata": {},
   "source": [
    "# Висновки:\n",
    "В основному завданні ми побудували варіаційний ряд та порахували основні описові характеристики, що дало загальне уявлення про вибірку. \n",
    "Побудувавши гістограму з різною кількістю інтервалів ми помітили, що дані згладжуються при меншій кількості інтервалів, адже вони вирівнюються.\n",
    "\n",
    "У додатковому завданні ми переглянули дані і помітили, що частина з них пропущена. \n",
    "Також ми перевели рядкові колонки у числові і порахували нову колонку на основі попередніх.\n",
    "Також ми побудували розмір вибірки і залежність між 2 колонками, проте оскільки дані містять викиди, то отримані графіки були не дуже інформативними, тому після того, як кількість викидів було зменшено, аналогічні графіки вийшли кращими."
   ]
  },
  {
   "cell_type": "code",
   "execution_count": null,
   "metadata": {},
   "outputs": [],
   "source": []
  }
 ],
 "metadata": {
  "kernelspec": {
   "display_name": "Python 3 (ipykernel)",
   "language": "python",
   "name": "python3"
  },
  "language_info": {
   "codemirror_mode": {
    "name": "ipython",
    "version": 3
   },
   "file_extension": ".py",
   "mimetype": "text/x-python",
   "name": "python",
   "nbconvert_exporter": "python",
   "pygments_lexer": "ipython3",
   "version": "3.9.7"
  }
 },
 "nbformat": 4,
 "nbformat_minor": 4
}
