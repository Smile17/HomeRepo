{
 "cells": [
  {
   "cell_type": "code",
   "execution_count": 1,
   "id": "e7925570",
   "metadata": {
    "ExecuteTime": {
     "end_time": "2021-07-31T18:05:55.937365Z",
     "start_time": "2021-07-31T18:05:55.919412Z"
    }
   },
   "outputs": [
    {
     "name": "stdout",
     "output_type": "stream",
     "text": [
      "{1: 45, '2': 36}\n"
     ]
    }
   ],
   "source": [
    "d = {1: 45, '2': 36}\n",
    "print(d)"
   ]
  },
  {
   "cell_type": "code",
   "execution_count": 17,
   "id": "fe483cee",
   "metadata": {
    "ExecuteTime": {
     "end_time": "2021-07-31T18:30:38.963995Z",
     "start_time": "2021-07-31T18:30:38.950049Z"
    }
   },
   "outputs": [
    {
     "name": "stdout",
     "output_type": "stream",
     "text": [
      "3foo3bar1foo1bar\n"
     ]
    }
   ],
   "source": [
    "s = \"\"\n",
    "n = 5\n",
    "while n > 0:\n",
    "    n -=1\n",
    "    if(n%2) == 0:\n",
    "        continue\n",
    "    a = ['foo', 'bar', 'baz']\n",
    "    while a:\n",
    "        s+= str(n) + a.pop(0)\n",
    "        if len(a) < 2:\n",
    "            break\n",
    "print(s)"
   ]
  },
  {
   "cell_type": "code",
   "execution_count": 5,
   "id": "91f6adb2",
   "metadata": {
    "ExecuteTime": {
     "end_time": "2021-07-31T18:18:07.647137Z",
     "start_time": "2021-07-31T18:18:07.634214Z"
    }
   },
   "outputs": [
    {
     "name": "stdout",
     "output_type": "stream",
     "text": [
      "3\n"
     ]
    }
   ],
   "source": [
    "def c(f):\n",
    "    def inner(*args, **kwargs):\n",
    "        inner.co += 1\n",
    "        return f(*args, **kwargs)\n",
    "    inner.co = 0\n",
    "    return inner\n",
    "\n",
    "@c\n",
    "def fnc():\n",
    "    pass\n",
    "fnc()\n",
    "fnc()\n",
    "fnc()\n",
    "print(fnc.co)"
   ]
  },
  {
   "cell_type": "code",
   "execution_count": 14,
   "id": "02f85eb8",
   "metadata": {
    "ExecuteTime": {
     "end_time": "2021-07-31T18:25:57.342043Z",
     "start_time": "2021-07-31T18:25:57.330076Z"
    }
   },
   "outputs": [
    {
     "name": "stdout",
     "output_type": "stream",
     "text": [
      "1 1 1\n"
     ]
    }
   ],
   "source": [
    "class A:\n",
    "    def __str__(self):\n",
    "        return '1'\n",
    "\n",
    "class B(A):\n",
    "    def __init__(self, a):\n",
    "        self.a = a\n",
    "        super().__init__()\n",
    "        \n",
    "class C(B):\n",
    "    def __init__(self):\n",
    "        pass\n",
    "        #super().__init__(3)\n",
    "        \n",
    "obj1 = A()\n",
    "obj2 = B(4)\n",
    "obj3 = C()\n",
    "print(obj1, obj2, obj3)"
   ]
  },
  {
   "cell_type": "code",
   "execution_count": 20,
   "id": "84c40fcf",
   "metadata": {
    "ExecuteTime": {
     "end_time": "2021-07-31T18:38:34.662156Z",
     "start_time": "2021-07-31T18:38:34.642216Z"
    }
   },
   "outputs": [
    {
     "data": {
      "text/plain": [
       "array([[5.2, 3. , 4. ],\n",
       "       [7. , 9. , 8. ],\n",
       "       [6. , 7. , 8. ]])"
      ]
     },
     "execution_count": 20,
     "metadata": {},
     "output_type": "execute_result"
    }
   ],
   "source": [
    "import numpy as np\n",
    "m = np.array([[5.2, 3, 4], [7, 9, 8], [6, 7, 8]])\n",
    "m.round(1)"
   ]
  },
  {
   "cell_type": "code",
   "execution_count": 23,
   "id": "e2bd3e64",
   "metadata": {
    "ExecuteTime": {
     "end_time": "2021-07-31T18:43:48.828768Z",
     "start_time": "2021-07-31T18:43:48.818760Z"
    }
   },
   "outputs": [
    {
     "data": {
      "text/plain": [
       "array([[1, 2, 3],\n",
       "       [0, 1, 2],\n",
       "       [1, 2, 3]])"
      ]
     },
     "execution_count": 23,
     "metadata": {},
     "output_type": "execute_result"
    }
   ],
   "source": [
    "t = np.array([1, 2, 3])\n",
    "s = np.array([[0, 1, 2], [1, 2, 3]])\n",
    "\n",
    "np.vstack([t, s])"
   ]
  },
  {
   "cell_type": "code",
   "execution_count": 28,
   "id": "053b2416",
   "metadata": {
    "ExecuteTime": {
     "end_time": "2021-07-31T18:49:18.216874Z",
     "start_time": "2021-07-31T18:49:18.197655Z"
    }
   },
   "outputs": [
    {
     "data": {
      "text/plain": [
       "3.0"
      ]
     },
     "execution_count": 28,
     "metadata": {},
     "output_type": "execute_result"
    }
   ],
   "source": [
    "import scipy\n",
    "scipy.special.cbrt(27)"
   ]
  },
  {
   "cell_type": "code",
   "execution_count": 34,
   "id": "56166d20",
   "metadata": {
    "ExecuteTime": {
     "end_time": "2021-07-31T19:04:03.973104Z",
     "start_time": "2021-07-31T19:04:03.942003Z"
    }
   },
   "outputs": [
    {
     "ename": "TypeError",
     "evalue": "derivative() missing 1 required positional argument: 'x0'",
     "output_type": "error",
     "traceback": [
      "\u001b[1;31m---------------------------------------------------------------------------\u001b[0m",
      "\u001b[1;31mTypeError\u001b[0m                                 Traceback (most recent call last)",
      "\u001b[1;32m<ipython-input-34-43180b1ea1ce>\u001b[0m in \u001b[0;36m<module>\u001b[1;34m\u001b[0m\n\u001b[0;32m      3\u001b[0m \u001b[1;33m\u001b[0m\u001b[0m\n\u001b[0;32m      4\u001b[0m \u001b[1;32mimport\u001b[0m \u001b[0mscipy\u001b[0m\u001b[1;33m.\u001b[0m\u001b[0mmisc\u001b[0m\u001b[1;33m\u001b[0m\u001b[1;33m\u001b[0m\u001b[0m\n\u001b[1;32m----> 5\u001b[1;33m \u001b[0md\u001b[0m \u001b[1;33m=\u001b[0m \u001b[0mscipy\u001b[0m\u001b[1;33m.\u001b[0m\u001b[0mmisc\u001b[0m\u001b[1;33m.\u001b[0m\u001b[0mderivative\u001b[0m\u001b[1;33m(\u001b[0m\u001b[0msigmoid\u001b[0m\u001b[1;33m)\u001b[0m\u001b[1;33m\u001b[0m\u001b[1;33m\u001b[0m\u001b[0m\n\u001b[0m",
      "\u001b[1;31mTypeError\u001b[0m: derivative() missing 1 required positional argument: 'x0'"
     ]
    }
   ],
   "source": [
    "def sigmoid(x):\n",
    "    return (1 / (1+math.exp(-x)))\n",
    "\n",
    "import scipy.misc\n",
    "d = scipy.misc.derivative(sigmoid)"
   ]
  },
  {
   "cell_type": "code",
   "execution_count": null,
   "id": "2c37e123",
   "metadata": {},
   "outputs": [],
   "source": []
  }
 ],
 "metadata": {
  "kernelspec": {
   "display_name": "Python 3",
   "language": "python",
   "name": "python3"
  },
  "language_info": {
   "codemirror_mode": {
    "name": "ipython",
    "version": 3
   },
   "file_extension": ".py",
   "mimetype": "text/x-python",
   "name": "python",
   "nbconvert_exporter": "python",
   "pygments_lexer": "ipython3",
   "version": "3.9.5"
  },
  "toc": {
   "base_numbering": 1,
   "nav_menu": {},
   "number_sections": true,
   "sideBar": true,
   "skip_h1_title": false,
   "title_cell": "Table of Contents",
   "title_sidebar": "Contents",
   "toc_cell": false,
   "toc_position": {},
   "toc_section_display": true,
   "toc_window_display": false
  }
 },
 "nbformat": 4,
 "nbformat_minor": 5
}
