{
 "cells": [
  {
   "cell_type": "code",
   "execution_count": 15,
   "id": "8f15d8e8",
   "metadata": {
    "ExecuteTime": {
     "end_time": "2021-09-10T13:23:01.452137Z",
     "start_time": "2021-09-10T13:22:56.553680Z"
    }
   },
   "outputs": [
    {
     "data": {
      "text/html": [
       "<div>\n",
       "<style scoped>\n",
       "    .dataframe tbody tr th:only-of-type {\n",
       "        vertical-align: middle;\n",
       "    }\n",
       "\n",
       "    .dataframe tbody tr th {\n",
       "        vertical-align: top;\n",
       "    }\n",
       "\n",
       "    .dataframe thead th {\n",
       "        text-align: right;\n",
       "    }\n",
       "</style>\n",
       "<table border=\"1\" class=\"dataframe\">\n",
       "  <thead>\n",
       "    <tr style=\"text-align: right;\">\n",
       "      <th></th>\n",
       "      <th>label</th>\n",
       "      <th>1x1</th>\n",
       "      <th>1x2</th>\n",
       "      <th>1x3</th>\n",
       "      <th>1x4</th>\n",
       "      <th>1x5</th>\n",
       "      <th>1x6</th>\n",
       "      <th>1x7</th>\n",
       "      <th>1x8</th>\n",
       "      <th>1x9</th>\n",
       "      <th>...</th>\n",
       "      <th>28x19</th>\n",
       "      <th>28x20</th>\n",
       "      <th>28x21</th>\n",
       "      <th>28x22</th>\n",
       "      <th>28x23</th>\n",
       "      <th>28x24</th>\n",
       "      <th>28x25</th>\n",
       "      <th>28x26</th>\n",
       "      <th>28x27</th>\n",
       "      <th>28x28</th>\n",
       "    </tr>\n",
       "    <tr>\n",
       "      <th>Id</th>\n",
       "      <th></th>\n",
       "      <th></th>\n",
       "      <th></th>\n",
       "      <th></th>\n",
       "      <th></th>\n",
       "      <th></th>\n",
       "      <th></th>\n",
       "      <th></th>\n",
       "      <th></th>\n",
       "      <th></th>\n",
       "      <th></th>\n",
       "      <th></th>\n",
       "      <th></th>\n",
       "      <th></th>\n",
       "      <th></th>\n",
       "      <th></th>\n",
       "      <th></th>\n",
       "      <th></th>\n",
       "      <th></th>\n",
       "      <th></th>\n",
       "      <th></th>\n",
       "    </tr>\n",
       "  </thead>\n",
       "  <tbody>\n",
       "    <tr>\n",
       "      <th>0</th>\n",
       "      <td>3</td>\n",
       "      <td>0</td>\n",
       "      <td>0</td>\n",
       "      <td>0</td>\n",
       "      <td>0</td>\n",
       "      <td>0</td>\n",
       "      <td>0</td>\n",
       "      <td>0</td>\n",
       "      <td>0</td>\n",
       "      <td>0</td>\n",
       "      <td>...</td>\n",
       "      <td>0</td>\n",
       "      <td>0</td>\n",
       "      <td>0</td>\n",
       "      <td>0</td>\n",
       "      <td>0</td>\n",
       "      <td>0</td>\n",
       "      <td>0</td>\n",
       "      <td>0</td>\n",
       "      <td>0</td>\n",
       "      <td>0</td>\n",
       "    </tr>\n",
       "    <tr>\n",
       "      <th>1</th>\n",
       "      <td>8</td>\n",
       "      <td>0</td>\n",
       "      <td>0</td>\n",
       "      <td>0</td>\n",
       "      <td>0</td>\n",
       "      <td>0</td>\n",
       "      <td>0</td>\n",
       "      <td>0</td>\n",
       "      <td>0</td>\n",
       "      <td>0</td>\n",
       "      <td>...</td>\n",
       "      <td>0</td>\n",
       "      <td>0</td>\n",
       "      <td>0</td>\n",
       "      <td>0</td>\n",
       "      <td>0</td>\n",
       "      <td>0</td>\n",
       "      <td>0</td>\n",
       "      <td>0</td>\n",
       "      <td>0</td>\n",
       "      <td>0</td>\n",
       "    </tr>\n",
       "    <tr>\n",
       "      <th>2</th>\n",
       "      <td>1</td>\n",
       "      <td>0</td>\n",
       "      <td>0</td>\n",
       "      <td>0</td>\n",
       "      <td>0</td>\n",
       "      <td>0</td>\n",
       "      <td>0</td>\n",
       "      <td>0</td>\n",
       "      <td>0</td>\n",
       "      <td>0</td>\n",
       "      <td>...</td>\n",
       "      <td>0</td>\n",
       "      <td>0</td>\n",
       "      <td>0</td>\n",
       "      <td>0</td>\n",
       "      <td>0</td>\n",
       "      <td>0</td>\n",
       "      <td>0</td>\n",
       "      <td>0</td>\n",
       "      <td>0</td>\n",
       "      <td>0</td>\n",
       "    </tr>\n",
       "    <tr>\n",
       "      <th>3</th>\n",
       "      <td>3</td>\n",
       "      <td>0</td>\n",
       "      <td>0</td>\n",
       "      <td>0</td>\n",
       "      <td>0</td>\n",
       "      <td>0</td>\n",
       "      <td>0</td>\n",
       "      <td>0</td>\n",
       "      <td>0</td>\n",
       "      <td>0</td>\n",
       "      <td>...</td>\n",
       "      <td>0</td>\n",
       "      <td>0</td>\n",
       "      <td>0</td>\n",
       "      <td>0</td>\n",
       "      <td>0</td>\n",
       "      <td>0</td>\n",
       "      <td>0</td>\n",
       "      <td>0</td>\n",
       "      <td>0</td>\n",
       "      <td>0</td>\n",
       "    </tr>\n",
       "    <tr>\n",
       "      <th>4</th>\n",
       "      <td>6</td>\n",
       "      <td>0</td>\n",
       "      <td>0</td>\n",
       "      <td>0</td>\n",
       "      <td>0</td>\n",
       "      <td>0</td>\n",
       "      <td>0</td>\n",
       "      <td>0</td>\n",
       "      <td>0</td>\n",
       "      <td>0</td>\n",
       "      <td>...</td>\n",
       "      <td>0</td>\n",
       "      <td>0</td>\n",
       "      <td>0</td>\n",
       "      <td>0</td>\n",
       "      <td>0</td>\n",
       "      <td>0</td>\n",
       "      <td>0</td>\n",
       "      <td>0</td>\n",
       "      <td>0</td>\n",
       "      <td>0</td>\n",
       "    </tr>\n",
       "  </tbody>\n",
       "</table>\n",
       "<p>5 rows × 785 columns</p>\n",
       "</div>"
      ],
      "text/plain": [
       "    label  1x1  1x2  1x3  1x4  1x5  1x6  1x7  1x8  1x9  ...  28x19  28x20  \\\n",
       "Id                                                      ...                 \n",
       "0       3    0    0    0    0    0    0    0    0    0  ...      0      0   \n",
       "1       8    0    0    0    0    0    0    0    0    0  ...      0      0   \n",
       "2       1    0    0    0    0    0    0    0    0    0  ...      0      0   \n",
       "3       3    0    0    0    0    0    0    0    0    0  ...      0      0   \n",
       "4       6    0    0    0    0    0    0    0    0    0  ...      0      0   \n",
       "\n",
       "    28x21  28x22  28x23  28x24  28x25  28x26  28x27  28x28  \n",
       "Id                                                          \n",
       "0       0      0      0      0      0      0      0      0  \n",
       "1       0      0      0      0      0      0      0      0  \n",
       "2       0      0      0      0      0      0      0      0  \n",
       "3       0      0      0      0      0      0      0      0  \n",
       "4       0      0      0      0      0      0      0      0  \n",
       "\n",
       "[5 rows x 785 columns]"
      ]
     },
     "execution_count": 15,
     "metadata": {},
     "output_type": "execute_result"
    }
   ],
   "source": [
    "# https://www.kaggle.com/c/mnist-en\n",
    "import numpy as np\n",
    "import matplotlib.pyplot as plt\n",
    "import pandas as pd\n",
    "\n",
    "image_size = 28 # width and length\n",
    "no_of_different_labels = 10 #  i.e. 0, 1, 2, 3, ..., 9\n",
    "image_pixels = image_size * image_size\n",
    "data_path = \"data/\"\n",
    "train_data = pd.read_csv(data_path + 'train.csv', index_col=0)\n",
    "test_data = pd.read_csv(data_path + 'test.csv', index_col=0)\n",
    "train_data.head()"
   ]
  },
  {
   "cell_type": "code",
   "execution_count": 16,
   "id": "03110ff5",
   "metadata": {
    "ExecuteTime": {
     "end_time": "2021-09-10T13:23:01.545884Z",
     "start_time": "2021-09-10T13:23:01.455128Z"
    }
   },
   "outputs": [],
   "source": [
    "X, y = train_data.drop('label', axis=1).to_numpy(), train_data['label'].to_numpy()"
   ]
  },
  {
   "cell_type": "code",
   "execution_count": 17,
   "id": "d72c6ac7",
   "metadata": {
    "ExecuteTime": {
     "end_time": "2021-09-10T13:23:01.561842Z",
     "start_time": "2021-09-10T13:23:01.548877Z"
    }
   },
   "outputs": [],
   "source": [
    "def plot_digit(x_set, y_set, idx):\n",
    "    img = x_set[idx].reshape(28,28)\n",
    "    plt.imshow(img, cmap='Greys',  interpolation='nearest')\n",
    "    plt.title('true label: %d' % y_set.T[idx])\n",
    "    plt.show()"
   ]
  },
  {
   "cell_type": "code",
   "execution_count": 18,
   "id": "b311c867",
   "metadata": {
    "ExecuteTime": {
     "end_time": "2021-09-10T13:23:01.749342Z",
     "start_time": "2021-09-10T13:23:01.563838Z"
    }
   },
   "outputs": [
    {
     "data": {
      "image/png": "[encoded data removed]",
      "text/plain": [
       "<Figure size 432x288 with 1 Axes>"
      ]
     },
     "metadata": {
      "needs_background": "light"
     },
     "output_type": "display_data"
    }
   ],
   "source": [
    "plot_digit(X, y, idx = 41575)"
   ]
  },
  {
   "cell_type": "code",
   "execution_count": 19,
   "id": "28e94bd1",
   "metadata": {
    "ExecuteTime": {
     "end_time": "2021-09-10T13:23:01.970748Z",
     "start_time": "2021-09-10T13:23:01.752334Z"
    }
   },
   "outputs": [
    {
     "data": {
      "text/plain": [
       "(array([5874., 6660., 5953., 6059., 5817., 5361., 5841., 6195., 5814.,\n",
       "        5929.]),\n",
       " array([0. , 0.9, 1.8, 2.7, 3.6, 4.5, 5.4, 6.3, 7.2, 8.1, 9. ]),\n",
       " <BarContainer object of 10 artists>)"
      ]
     },
     "execution_count": 19,
     "metadata": {},
     "output_type": "execute_result"
    },
    {
     "data": {
      "image/png": "[encoded data removed]",
      "text/plain": [
       "<Figure size 432x288 with 1 Axes>"
      ]
     },
     "metadata": {
      "needs_background": "light"
     },
     "output_type": "display_data"
    }
   ],
   "source": [
    "unique, counts = np.unique(y, return_counts=True)\n",
    "#print(np.asarray((unique, counts)).T)\n",
    "plt.hist(y)"
   ]
  },
  {
   "cell_type": "code",
   "execution_count": 20,
   "id": "3e0c254e",
   "metadata": {
    "ExecuteTime": {
     "end_time": "2021-09-10T13:23:05.325341Z",
     "start_time": "2021-09-10T13:23:05.315329Z"
    }
   },
   "outputs": [],
   "source": [
    "from sklearn.preprocessing import OneHotEncoder\n",
    "enc = OneHotEncoder(handle_unknown='ignore')\n",
    "y = enc.fit_transform(y.reshape(-1, 1)).toarray()"
   ]
  },
  {
   "cell_type": "code",
   "execution_count": 21,
   "id": "093d7bcc",
   "metadata": {
    "ExecuteTime": {
     "end_time": "2021-09-10T13:23:05.901346Z",
     "start_time": "2021-09-10T13:23:05.748756Z"
    }
   },
   "outputs": [],
   "source": [
    "def prep_pixels(train, test):\n",
    "    # convert from integers to floats\n",
    "    train_norm = train.astype('float32')\n",
    "    test_norm = test.astype('float32')\n",
    "    # normalize to range 0-1\n",
    "    train_norm = train_norm / 255.0\n",
    "    test_norm = test_norm / 255.0\n",
    "    # return normalized images\n",
    "    return train_norm, test_norm\n",
    "X = X.astype('float32') / 255.0"
   ]
  },
  {
   "cell_type": "code",
   "execution_count": 22,
   "id": "425ba5ca",
   "metadata": {
    "ExecuteTime": {
     "end_time": "2021-09-10T13:23:09.056326Z",
     "start_time": "2021-09-10T13:23:08.588578Z"
    }
   },
   "outputs": [],
   "source": [
    "from sklearn.model_selection import train_test_split\n",
    "X_train, X_test, y_train, y_test = train_test_split(X, y, test_size = 0.1, random_state = 0)"
   ]
  },
  {
   "cell_type": "code",
   "execution_count": 23,
   "id": "62c97ce6",
   "metadata": {
    "ExecuteTime": {
     "end_time": "2021-09-10T13:19:24.658012Z",
     "start_time": "2021-09-10T13:19:24.579224Z"
    }
   },
   "outputs": [],
   "source": [
    "X_train, X_val, y_train, y_val = train_test_split(X_train, y_train, test_size = 0.1, random_state = 0)"
   ]
  },
  {
   "cell_type": "code",
   "execution_count": 24,
   "id": "a5e04d08",
   "metadata": {
    "ExecuteTime": {
     "end_time": "2021-09-10T13:19:30.778662Z",
     "start_time": "2021-09-10T13:19:30.760710Z"
    }
   },
   "outputs": [],
   "source": [
    "from keras.models import Sequential\n",
    "from keras.layers import Dense, Activation, Dropout\n",
    "#from keras.utils import to_categorical, plot_model"
   ]
  },
  {
   "cell_type": "markdown",
   "id": "d8047fda",
   "metadata": {},
   "source": [
    "# ANN"
   ]
  },
  {
   "cell_type": "code",
   "execution_count": 25,
   "id": "d89f5d85",
   "metadata": {
    "ExecuteTime": {
     "end_time": "2021-09-09T22:10:52.795333Z",
     "start_time": "2021-09-09T22:10:52.745707Z"
    }
   },
   "outputs": [],
   "source": [
    "# network parameters\n",
    "batch_size = 128\n",
    "hidden_units = 256\n",
    "input_size = X_train.shape[1]\n",
    "num_labels = 10\n",
    "def define_model():\n",
    "    model = Sequential()\n",
    "    model.add(Dense(hidden_units, input_dim=input_size))\n",
    "    model.add(Activation('relu'))\n",
    "    model.add(Dense(hidden_units))\n",
    "    model.add(Activation('relu'))\n",
    "    model.add(Dense(num_labels))\n",
    "    model.add(Activation('softmax'))\n",
    "    model.compile(loss='categorical_crossentropy', \n",
    "                  optimizer='adam',\n",
    "                  metrics=['accuracy'])\n",
    "    return model\n",
    "model = define_model()"
   ]
  },
  {
   "cell_type": "code",
   "execution_count": 26,
   "id": "192835d0",
   "metadata": {
    "ExecuteTime": {
     "end_time": "2021-09-09T22:10:53.278244Z",
     "start_time": "2021-09-09T22:10:53.199838Z"
    }
   },
   "outputs": [
    {
     "name": "stdout",
     "output_type": "stream",
     "text": [
      "Epoch 1/20\n",
      "377/377 [==============================] - 3s 6ms/step - loss: 0.2948 - accuracy: 0.9128\n",
      "Epoch 2/20\n",
      "377/377 [==============================] - 2s 6ms/step - loss: 0.1060 - accuracy: 0.9683\n",
      "Epoch 3/20\n",
      "377/377 [==============================] - 2s 6ms/step - loss: 0.0698 - accuracy: 0.9787\n",
      "Epoch 4/20\n",
      "377/377 [==============================] - 2s 6ms/step - loss: 0.0476 - accuracy: 0.9846\n",
      "Epoch 5/20\n",
      "377/377 [==============================] - 2s 6ms/step - loss: 0.0348 - accuracy: 0.9891\n",
      "Epoch 6/20\n",
      "377/377 [==============================] - 2s 6ms/step - loss: 0.0255 - accuracy: 0.9919\n",
      "Epoch 7/20\n",
      "377/377 [==============================] - 2s 6ms/step - loss: 0.0208 - accuracy: 0.9935\n",
      "Epoch 8/20\n",
      "377/377 [==============================] - 2s 6ms/step - loss: 0.0179 - accuracy: 0.9942\n",
      "Epoch 9/20\n",
      "377/377 [==============================] - 2s 6ms/step - loss: 0.0180 - accuracy: 0.9939\n",
      "Epoch 10/20\n",
      "377/377 [==============================] - 2s 5ms/step - loss: 0.0138 - accuracy: 0.9952\n",
      "Epoch 11/20\n",
      "377/377 [==============================] - 2s 5ms/step - loss: 0.0103 - accuracy: 0.9967\n",
      "Epoch 12/20\n",
      "377/377 [==============================] - 2s 6ms/step - loss: 0.0126 - accuracy: 0.9957\n",
      "Epoch 13/20\n",
      "377/377 [==============================] - 2s 6ms/step - loss: 0.0087 - accuracy: 0.9973\n",
      "Epoch 14/20\n",
      "377/377 [==============================] - 2s 6ms/step - loss: 0.0130 - accuracy: 0.9954\n",
      "Epoch 15/20\n",
      "377/377 [==============================] - 2s 6ms/step - loss: 0.0055 - accuracy: 0.9983: 1s - loss: 0.0062 - ac -\n",
      "Epoch 16/20\n",
      "377/377 [==============================] - 2s 6ms/step - loss: 0.0073 - accuracy: 0.9974\n",
      "Epoch 17/20\n",
      "377/377 [==============================] - 2s 6ms/step - loss: 0.0095 - accuracy: 0.9968\n",
      "Epoch 18/20\n",
      "377/377 [==============================] - 2s 6ms/step - loss: 0.0112 - accuracy: 0.9964\n",
      "Epoch 19/20\n",
      "377/377 [==============================] - 2s 6ms/step - loss: 0.0063 - accuracy: 0.9979\n",
      "Epoch 20/20\n",
      "377/377 [==============================] - 2s 6ms/step - loss: 0.0056 - accuracy: 0.9980\n"
     ]
    },
    {
     "data": {
      "text/plain": [
       "<keras.callbacks.History at 0x1cf657b0b80>"
      ]
     },
     "execution_count": 26,
     "metadata": {},
     "output_type": "execute_result"
    }
   ],
   "source": [
    "model.fit(X_train, y_train, epochs=20, batch_size=batch_size)"
   ]
  },
  {
   "cell_type": "code",
   "execution_count": 27,
   "id": "643848c6",
   "metadata": {
    "ExecuteTime": {
     "end_time": "2021-09-08T17:56:12.340850Z",
     "start_time": "2021-09-08T17:56:12.023697Z"
    }
   },
   "outputs": [
    {
     "name": "stdout",
     "output_type": "stream",
     "text": [
      "47/47 [==============================] - 0s 4ms/step - loss: 0.1280 - accuracy: 0.9780\n",
      "\n",
      "Test accuracy: 97.8%\n"
     ]
    }
   ],
   "source": [
    "loss, acc = model.evaluate(X_test, y_test, batch_size=batch_size)\n",
    "print(\"\\nTest accuracy: %.1f%%\" % (100.0 * acc))"
   ]
  },
  {
   "cell_type": "markdown",
   "id": "eefaa548",
   "metadata": {},
   "source": [
    "# CNN"
   ]
  },
  {
   "cell_type": "code",
   "execution_count": 28,
   "id": "1110a1fc",
   "metadata": {
    "ExecuteTime": {
     "end_time": "2021-09-06T20:36:02.993203Z",
     "start_time": "2021-09-06T20:36:02.983230Z"
    }
   },
   "outputs": [],
   "source": [
    "from keras.datasets import mnist\n",
    "#from keras.utils import to_categorical\n",
    "from keras.models import Sequential\n",
    "from keras.layers import Conv2D\n",
    "from keras.layers import MaxPooling2D\n",
    "from keras.layers import Dense\n",
    "from keras.layers import Flatten\n",
    "from tensorflow.keras.optimizers import SGD\n",
    "from keras.layers import BatchNormalization"
   ]
  },
  {
   "cell_type": "code",
   "execution_count": 29,
   "id": "afe6fc61",
   "metadata": {
    "ExecuteTime": {
     "end_time": "2021-09-06T20:36:03.576948Z",
     "start_time": "2021-09-06T20:36:03.563982Z"
    }
   },
   "outputs": [],
   "source": [
    "X_train2 = X_train.reshape((X_train.shape[0], 28, 28, 1))\n",
    "X_test2 = X_test.reshape((X_test.shape[0], 28, 28, 1))"
   ]
  },
  {
   "cell_type": "code",
   "execution_count": 30,
   "id": "ba9a04c2",
   "metadata": {
    "ExecuteTime": {
     "end_time": "2021-09-06T20:29:30.957038Z",
     "start_time": "2021-09-06T20:26:47.328857Z"
    }
   },
   "outputs": [
    {
     "name": "stderr",
     "output_type": "stream",
     "text": [
      "C:\\Users\\kam\\AppData\\Local\\Programs\\Python\\Python39\\lib\\site-packages\\keras\\optimizer_v2\\gradient_descent.py:102: UserWarning: The `lr` argument is deprecated, use `learning_rate` instead.\n",
      "  super(SGD, self).__init__(name, **kwargs)\n"
     ]
    },
    {
     "name": "stdout",
     "output_type": "stream",
     "text": [
      "Epoch 1/20\n",
      "377/377 [==============================] - 19s 49ms/step - loss: 0.2933 - accuracy: 0.9112\n",
      "Epoch 2/20\n",
      "377/377 [==============================] - 18s 49ms/step - loss: 0.1235 - accuracy: 0.9627\n",
      "Epoch 3/20\n",
      "377/377 [==============================] - 20s 52ms/step - loss: 0.0870 - accuracy: 0.9741\n",
      "Epoch 4/20\n",
      "377/377 [==============================] - 20s 52ms/step - loss: 0.0669 - accuracy: 0.9804\n",
      "Epoch 5/20\n",
      "377/377 [==============================] - 19s 49ms/step - loss: 0.0551 - accuracy: 0.9836\n",
      "Epoch 6/20\n",
      "377/377 [==============================] - 19s 51ms/step - loss: 0.0444 - accuracy: 0.9865\n",
      "Epoch 7/20\n",
      "377/377 [==============================] - 20s 52ms/step - loss: 0.0376 - accuracy: 0.9892\n",
      "Epoch 8/20\n",
      "377/377 [==============================] - 19s 51ms/step - loss: 0.0318 - accuracy: 0.9908\n",
      "Epoch 9/20\n",
      "377/377 [==============================] - 20s 54ms/step - loss: 0.0279 - accuracy: 0.9920\n",
      "Epoch 10/20\n",
      "377/377 [==============================] - 18s 48ms/step - loss: 0.0246 - accuracy: 0.99330s - loss: 0\n",
      "Epoch 11/20\n",
      "377/377 [==============================] - 20s 53ms/step - loss: 0.0210 - accuracy: 0.9944\n",
      "Epoch 12/20\n",
      "377/377 [==============================] - 21s 55ms/step - loss: 0.0173 - accuracy: 0.99592s - loss: 0.0169 - accura - ETA: 2s - l - ETA: 0s - loss: 0.0173 \n",
      "Epoch 13/20\n",
      "377/377 [==============================] - 19s 49ms/step - loss: 0.0163 - accuracy: 0.9957\n",
      "Epoch 14/20\n",
      "377/377 [==============================] - 19s 51ms/step - loss: 0.0131 - accuracy: 0.9971\n",
      "Epoch 15/20\n",
      "377/377 [==============================] - 21s 55ms/step - loss: 0.0119 - accuracy: 0.9975\n",
      "Epoch 16/20\n",
      "377/377 [==============================] - 21s 55ms/step - loss: 0.0095 - accuracy: 0.9983\n",
      "Epoch 17/20\n",
      "377/377 [==============================] - 19s 51ms/step - loss: 0.0086 - accuracy: 0.9985\n",
      "Epoch 18/20\n",
      "377/377 [==============================] - 20s 53ms/step - loss: 0.0076 - accuracy: 0.9988\n",
      "Epoch 19/20\n",
      "377/377 [==============================] - 21s 56ms/step - loss: 0.0065 - accuracy: 0.9991\n",
      "Epoch 20/20\n",
      "377/377 [==============================] - 19s 51ms/step - loss: 0.0059 - accuracy: 0.9992\n"
     ]
    },
    {
     "data": {
      "text/plain": [
       "<keras.callbacks.History at 0x1cf738f9820>"
      ]
     },
     "execution_count": 30,
     "metadata": {},
     "output_type": "execute_result"
    }
   ],
   "source": [
    "def define_model():\n",
    "    model = Sequential()\n",
    "    model.add(Conv2D(32, (3, 3), activation='relu', kernel_initializer='he_uniform', input_shape=(28, 28, 1)))\n",
    "    model.add(MaxPooling2D((2, 2)))\n",
    "    model.add(Flatten())\n",
    "    model.add(Dense(100, activation='relu', kernel_initializer='he_uniform'))\n",
    "    model.add(Dense(10, activation='softmax'))\n",
    "    # compile model\n",
    "    opt = SGD(lr=0.01, momentum=0.9)\n",
    "    model.compile(optimizer=opt, loss='categorical_crossentropy', metrics=['accuracy'])\n",
    "    return model\n",
    "model = define_model()\n",
    "model.fit(X_train2, y_train, epochs=20, batch_size=batch_size)"
   ]
  },
  {
   "cell_type": "code",
   "execution_count": 31,
   "id": "08fb0f53",
   "metadata": {
    "ExecuteTime": {
     "end_time": "2021-09-06T20:29:31.817616Z",
     "start_time": "2021-09-06T20:29:30.957038Z"
    }
   },
   "outputs": [
    {
     "name": "stdout",
     "output_type": "stream",
     "text": [
      "47/47 [==============================] - 1s 17ms/step - loss: 0.0543 - accuracy: 0.9845\n",
      "\n",
      "Test accuracy: 98.5%\n"
     ]
    }
   ],
   "source": [
    "loss, acc = model.evaluate(X_test2, y_test, batch_size=batch_size)\n",
    "print(\"\\nTest accuracy: %.1f%%\" % (100.0 * acc))"
   ]
  },
  {
   "cell_type": "code",
   "execution_count": 35,
   "id": "1dcfa6a8-f4e4-4f88-88ed-a5f07c9f6b85",
   "metadata": {},
   "outputs": [
    {
     "data": {
      "text/plain": [
       "array([[0., 0., 0., ..., 0., 0., 0.],\n",
       "       [0., 0., 0., ..., 0., 0., 1.],\n",
       "       [0., 1., 0., ..., 0., 0., 0.],\n",
       "       ...,\n",
       "       [0., 0., 1., ..., 0., 0., 0.],\n",
       "       [0., 0., 0., ..., 0., 1., 0.],\n",
       "       [0., 0., 0., ..., 0., 0., 0.]])"
      ]
     },
     "execution_count": 35,
     "metadata": {},
     "output_type": "execute_result"
    }
   ],
   "source": [
    "y_test"
   ]
  },
  {
   "cell_type": "code",
   "execution_count": 36,
   "id": "697df051-44f2-45cb-8a2d-20434faa110e",
   "metadata": {},
   "outputs": [
    {
     "data": {
      "text/plain": [
       "<AxesSubplot:>"
      ]
     },
     "execution_count": 36,
     "metadata": {},
     "output_type": "execute_result"
    },
    {
     "data": {
      "image/png": "[encoded data removed]",
      "text/plain": [
       "<Figure size 432x288 with 2 Axes>"
      ]
     },
     "metadata": {
      "needs_background": "light"
     },
     "output_type": "display_data"
    }
   ],
   "source": [
    "import seaborn as sns\n",
    "from sklearn.metrics import confusion_matrix\n",
    "y_pred = model.predict(X_test2)\n",
    "y_pred = np.argmax(y_pred, axis=1).T\n",
    "y_test = np.argmax(y_test, axis=1).T\n",
    "cf_matrix = confusion_matrix(y_test, y_pred)\n",
    "sns.heatmap(cf_matrix, annot=True,cmap='Blues', fmt='g')"
   ]
  },
  {
   "cell_type": "markdown",
   "id": "c88725a5-8d06-4898-a54a-c412b3334776",
   "metadata": {},
   "source": [
    "CNN model is a bit better, so we will use it for creating a submission file"
   ]
  },
  {
   "cell_type": "markdown",
   "id": "cbe3b986",
   "metadata": {},
   "source": [
    "# Save results"
   ]
  },
  {
   "cell_type": "code",
   "execution_count": 38,
   "id": "c813a453-b1c4-4ac4-8cc9-2942cc28153f",
   "metadata": {},
   "outputs": [
    {
     "name": "stdout",
     "output_type": "stream",
     "text": [
      "INFO:tensorflow:Assets written to: model/CNN.pickle\\assets\n"
     ]
    }
   ],
   "source": [
    "import tensorflow as tf\n",
    "path = \"model/CNN.pickle\"\n",
    "model.save(path)\n",
    "model = tf.keras.models.load_model(path)"
   ]
  },
  {
   "cell_type": "code",
   "execution_count": 46,
   "id": "1be7e3a3",
   "metadata": {
    "ExecuteTime": {
     "end_time": "2021-09-10T13:43:51.321046Z",
     "start_time": "2021-09-10T13:43:51.304091Z"
    }
   },
   "outputs": [],
   "source": [
    "X_res = test_data.to_numpy()\n",
    "X_res2 = X_res.reshape((X_res.shape[0], 28, 28, 1))"
   ]
  },
  {
   "cell_type": "code",
   "execution_count": 47,
   "id": "3a6be8d1",
   "metadata": {
    "ExecuteTime": {
     "end_time": "2021-09-10T13:31:15.483888Z",
     "start_time": "2021-09-10T13:31:13.045409Z"
    }
   },
   "outputs": [],
   "source": [
    "pred = model.predict(X_res2)"
   ]
  },
  {
   "cell_type": "code",
   "execution_count": 59,
   "id": "ea45225f",
   "metadata": {
    "ExecuteTime": {
     "end_time": "2021-09-10T13:31:16.574064Z",
     "start_time": "2021-09-10T13:31:16.562058Z"
    }
   },
   "outputs": [],
   "source": [
    "y_pred = np.argmax(pred, axis=1).T\n",
    "test_data[\"label\"] = y_pred"
   ]
  },
  {
   "cell_type": "code",
   "execution_count": 60,
   "id": "1010c0a9-a087-43dd-a59d-ba31b54de6ba",
   "metadata": {},
   "outputs": [],
   "source": [
    "test_data[\"label\"].to_csv(\"result/mnist.csv\", index=True)"
   ]
  },
  {
   "cell_type": "code",
   "execution_count": null,
   "id": "a0281497-7f1c-46a3-b1ca-ed3a2df1a5f4",
   "metadata": {},
   "outputs": [],
   "source": []
  }
 ],
 "metadata": {
  "kernelspec": {
   "display_name": "Python 3 (ipykernel)",
   "language": "python",
   "name": "python3"
  },
  "language_info": {
   "codemirror_mode": {
    "name": "ipython",
    "version": 3
   },
   "file_extension": ".py",
   "mimetype": "text/x-python",
   "name": "python",
   "nbconvert_exporter": "python",
   "pygments_lexer": "ipython3",
   "version": "3.9.7"
  },
  "toc": {
   "base_numbering": 1,
   "nav_menu": {},
   "number_sections": true,
   "sideBar": true,
   "skip_h1_title": false,
   "title_cell": "Table of Contents",
   "title_sidebar": "Contents",
   "toc_cell": false,
   "toc_position": {},
   "toc_section_display": true,
   "toc_window_display": false
  }
 },
 "nbformat": 4,
 "nbformat_minor": 5
}
