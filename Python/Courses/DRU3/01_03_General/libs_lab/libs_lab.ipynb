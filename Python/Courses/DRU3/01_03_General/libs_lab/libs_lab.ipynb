{
 "cells": [
  {
   "cell_type": "markdown",
   "metadata": {
    "colab_type": "text",
    "id": "g0b3IEgTsdcD"
   },
   "source": [
    "# Libraries: numpy, scipy, pandas"
   ]
  },
  {
   "cell_type": "code",
   "execution_count": 3,
   "metadata": {
    "ExecuteTime": {
     "end_time": "2021-07-31T14:24:45.549349Z",
     "start_time": "2021-07-31T14:24:44.783028Z"
    },
    "colab": {
     "autoexec": {
      "startup": false,
      "wait_interval": 0
     }
    },
    "colab_type": "code",
    "id": "Be4_dnVpsdcF"
   },
   "outputs": [],
   "source": [
    "import numpy as np\n",
    "import matplotlib.pyplot as plt\n",
    "import pandas as pd"
   ]
  },
  {
   "cell_type": "markdown",
   "metadata": {},
   "source": [
    "#### 1. Implement function which creates a $nxm$ matrix and fills it with a checkerboard pattern:\n",
    "<div style=\"text-align: right\">1 point</div>"
   ]
  },
  {
   "cell_type": "code",
   "execution_count": 8,
   "metadata": {
    "ExecuteTime": {
     "end_time": "2021-07-31T14:26:29.386853Z",
     "start_time": "2021-07-31T14:26:29.378823Z"
    }
   },
   "outputs": [],
   "source": [
    "def checkerboard(n, m):\n",
    "    \"\"\"\n",
    "    :n: int\n",
    "    :m: int\n",
    "    :return: numpy.ndarray\n",
    "    \"\"\"\n",
    "    x = np.zeros((n, m),dtype=int)\n",
    "    # (odd_rows, even_columns)\n",
    "    x[1::2,::2] = 1\n",
    "    # (even_rows, odd_columns)\n",
    "    x[::2,1::2] = 1\n",
    "    return x"
   ]
  },
  {
   "cell_type": "code",
   "execution_count": 10,
   "metadata": {
    "ExecuteTime": {
     "end_time": "2021-07-31T14:26:36.342026Z",
     "start_time": "2021-07-31T14:26:36.326074Z"
    }
   },
   "outputs": [
    {
     "name": "stdout",
     "output_type": "stream",
     "text": [
      "Checkerboard pattern: \n",
      " [[0 1 0]\n",
      " [1 0 1]\n",
      " [0 1 0]]\n"
     ]
    }
   ],
   "source": [
    "print('Checkerboard pattern: \\n', checkerboard(3, 3))"
   ]
  },
  {
   "cell_type": "markdown",
   "metadata": {},
   "source": [
    "Expected Output: \n",
    "<table>\n",
    "  <tr>\n",
    "    <td></td>\n",
    "    <td> [[0 1 0]\n",
    "  <tr>\n",
    "    <td>Checkerboard pattern: </td>\n",
    "    <td> [1 0 1]\n",
    "  <tr>\n",
    "    <td></td>\n",
    "    <td> [0 1 0]]"
   ]
  },
  {
   "cell_type": "markdown",
   "metadata": {},
   "source": [
    "#### 2. Implement function which solves system of linear equations:\n",
    "<div style=\"text-align: right\">1 point</div>"
   ]
  },
  {
   "cell_type": "code",
   "execution_count": 11,
   "metadata": {
    "ExecuteTime": {
     "end_time": "2021-07-31T14:28:14.113233Z",
     "start_time": "2021-07-31T14:28:14.097277Z"
    }
   },
   "outputs": [],
   "source": [
    "def solve_system(a, b):\n",
    "    \"\"\"\n",
    "    :a: list[list]\n",
    "    :b: list\n",
    "    :return: numpy.ndarray\n",
    "    \"\"\"\n",
    "    return np.linalg.solve(a, b)"
   ]
  },
  {
   "cell_type": "code",
   "execution_count": 12,
   "metadata": {
    "ExecuteTime": {
     "end_time": "2021-07-31T14:28:14.598938Z",
     "start_time": "2021-07-31T14:28:14.587966Z"
    }
   },
   "outputs": [
    {
     "name": "stdout",
     "output_type": "stream",
     "text": [
      "Result:  [2. 3.]\n"
     ]
    }
   ],
   "source": [
    "print('Result: ', solve_system([[3,1], [1,2]], [9,8]))"
   ]
  },
  {
   "cell_type": "markdown",
   "metadata": {},
   "source": [
    "Expected Output: \n",
    "<table>\n",
    "  <tr>\n",
    "    <td>Result:</td>\n",
    "    <td> [2. 3.] </td> \n",
    "  </tr>"
   ]
  },
  {
   "cell_type": "markdown",
   "metadata": {},
   "source": [
    "#### 3. Implement function which multiplies 2 matrixes and returns the max value of each column of the resulting matrix:\n",
    "<div style=\"text-align: right\">1 point</div>"
   ]
  },
  {
   "cell_type": "code",
   "execution_count": 15,
   "metadata": {
    "ExecuteTime": {
     "end_time": "2021-07-31T14:37:33.747064Z",
     "start_time": "2021-07-31T14:37:33.735096Z"
    }
   },
   "outputs": [],
   "source": [
    "def mult(m1, m2):\n",
    "    \"\"\"\n",
    "    :m1: numpy.ndarray\n",
    "    :m2: numpy.ndarray\n",
    "    :return: numpy.ndarray\n",
    "    \"\"\"\n",
    "    res = np.matmul(m1, m2)\n",
    "    return np.max(res, axis=0)"
   ]
  },
  {
   "cell_type": "code",
   "execution_count": 16,
   "metadata": {
    "ExecuteTime": {
     "end_time": "2021-07-31T14:37:34.185479Z",
     "start_time": "2021-07-31T14:37:34.168485Z"
    }
   },
   "outputs": [
    {
     "name": "stdout",
     "output_type": "stream",
     "text": [
      "Result:  [28 83]\n"
     ]
    }
   ],
   "source": [
    "p = np.array([[1, 9], [0, 1]])\n",
    "q = np.array([[1, 2], [3, 9]])\n",
    "print('Result: ', mult(p, q))"
   ]
  },
  {
   "cell_type": "markdown",
   "metadata": {},
   "source": [
    "Expected Output: \n",
    "<table>\n",
    "  <tr>\n",
    "    <td>Result:</td>\n",
    "    <td> [28 83] </td> \n",
    "  </tr>"
   ]
  },
  {
   "cell_type": "markdown",
   "metadata": {
    "colab_type": "text",
    "id": "cXP-v9zRjPM5"
   },
   "source": [
    "#### 4. Implement function add_mean_and_calc_det(matrix), which adds to each element in the matrix row the mean of this row and returns the determinant of the resulting matrix.\n",
    "<div style=\"text-align: right\">1 point</div>"
   ]
  },
  {
   "cell_type": "code",
   "execution_count": 33,
   "metadata": {
    "ExecuteTime": {
     "end_time": "2021-07-31T14:45:00.568978Z",
     "start_time": "2021-07-31T14:45:00.557011Z"
    },
    "colab": {
     "autoexec": {
      "startup": false,
      "wait_interval": 0
     }
    },
    "colab_type": "code",
    "id": "4_Hz6gEPjPM5"
   },
   "outputs": [],
   "source": [
    "def add_mean_and_calc_det(matrix):\n",
    "    \"\"\"\n",
    "    :matrix: numpy.ndarray[list[list[int]]]\n",
    "    :return: numpy.float64\n",
    "    \"\"\"\n",
    "    m = np.mean(matrix, axis=1)\n",
    "    m = [[e] * matrix.shape[1] for e in m]\n",
    "    return np.linalg.det(matrix + m)"
   ]
  },
  {
   "cell_type": "code",
   "execution_count": 34,
   "metadata": {
    "ExecuteTime": {
     "end_time": "2021-07-31T14:45:00.911770Z",
     "start_time": "2021-07-31T14:45:00.899802Z"
    },
    "colab": {
     "autoexec": {
      "startup": false,
      "wait_interval": 0
     }
    },
    "colab_type": "code",
    "id": "zZO__kp_sdcN"
   },
   "outputs": [
    {
     "name": "stdout",
     "output_type": "stream",
     "text": [
      "Result: 72.0\n"
     ]
    }
   ],
   "source": [
    "print('Result:', add_mean_and_calc_det(np.array([[5, 3, 4], [7, 9, 8], [6, 7, 8]])))"
   ]
  },
  {
   "cell_type": "markdown",
   "metadata": {
    "colab_type": "text",
    "id": "xmzo4PEssdcP"
   },
   "source": [
    "Expected Output: \n",
    "<table>\n",
    "  <tr>\n",
    "    <td>Result:</td>\n",
    "    <td> 72.0 </td> \n",
    "  </tr>"
   ]
  },
  {
   "cell_type": "markdown",
   "metadata": {
    "colab_type": "text",
    "id": "FUAr1WPCjPM8"
   },
   "source": [
    "#### 5. Implement function nearest_to_scalar(matrix, n), which returns the closest to n number in the matrix.\n",
    "<div style=\"text-align: right\">1 point</div>"
   ]
  },
  {
   "cell_type": "code",
   "execution_count": 62,
   "metadata": {
    "ExecuteTime": {
     "end_time": "2021-07-31T14:52:24.289156Z",
     "start_time": "2021-07-31T14:52:24.270208Z"
    },
    "colab": {
     "autoexec": {
      "startup": false,
      "wait_interval": 0
     }
    },
    "colab_type": "code",
    "id": "VLS3S8g-jPM9"
   },
   "outputs": [],
   "source": [
    "import numpy as np\n",
    "def nearest_to_scalar(matrix, n):\n",
    "    \"\"\"\n",
    "    :param matrix: numpy.ndarray[list[list[int]]]\n",
    "    :param n: int\n",
    "    :return: int  \n",
    "    \"\"\"\n",
    "    res = np.abs(matrix - n)\n",
    "    idx = np.argmin(res)\n",
    "    c = matrix.shape[1]\n",
    "    return matrix[idx // c, idx % c]"
   ]
  },
  {
   "cell_type": "code",
   "execution_count": 63,
   "metadata": {
    "ExecuteTime": {
     "end_time": "2021-07-31T14:52:24.490722Z",
     "start_time": "2021-07-31T14:52:24.469748Z"
    },
    "colab": {
     "autoexec": {
      "startup": false,
      "wait_interval": 0
     }
    },
    "colab_type": "code",
    "id": "OKSqsu9FsdcS"
   },
   "outputs": [
    {
     "name": "stdout",
     "output_type": "stream",
     "text": [
      "Nearest: 9\n"
     ]
    }
   ],
   "source": [
    "print('Nearest:', nearest_to_scalar(np.array([[5, 3, 4], [7, 9, 8], [6, 7, 8]]), 11))"
   ]
  },
  {
   "cell_type": "markdown",
   "metadata": {
    "colab_type": "text",
    "id": "cSW-eweGsdcV"
   },
   "source": [
    "Expected Output:\n",
    "<table>\n",
    "  <tr>\n",
    "    <td>Nearest:</td>\n",
    "    <td> 9 </td> \n",
    "  </tr>"
   ]
  },
  {
   "cell_type": "markdown",
   "metadata": {
    "colab_type": "text",
    "id": "0z5-m5v_jPM_"
   },
   "source": [
    "#### 6. Implement function svd_ranks(Z) which performs SVD of given matrix and returns a list of ranks of matrices U, S and V.\n",
    "<div style=\"text-align: right\">1 point</div>"
   ]
  },
  {
   "cell_type": "code",
   "execution_count": 86,
   "metadata": {
    "ExecuteTime": {
     "end_time": "2021-07-31T14:59:51.942552Z",
     "start_time": "2021-07-31T14:59:51.930603Z"
    },
    "colab": {
     "autoexec": {
      "startup": false,
      "wait_interval": 0
     }
    },
    "colab_type": "code",
    "id": "8m-SG2hJjPNA"
   },
   "outputs": [],
   "source": [
    "def svd_ranks(Z): \n",
    "    \"\"\"\n",
    "    :param Z: numpy.ndarray[list[list[int]]]\n",
    "    :return: list  \n",
    "    \"\"\"\n",
    "    U, s, V = np.linalg.svd(Z, full_matrices=True)\n",
    "    S = np.diag(s)\n",
    "    #print(np.allclose(Z, np.dot(U, np.dot(S, V))))\n",
    "    return [np.linalg.matrix_rank(U), np.linalg.matrix_rank(S), np.linalg.matrix_rank(V)]"
   ]
  },
  {
   "cell_type": "code",
   "execution_count": 87,
   "metadata": {
    "ExecuteTime": {
     "end_time": "2021-07-31T14:59:52.161151Z",
     "start_time": "2021-07-31T14:59:52.146478Z"
    },
    "colab": {
     "autoexec": {
      "startup": false,
      "wait_interval": 0
     }
    },
    "colab_type": "code",
    "id": "UGrS-YK7sdcY"
   },
   "outputs": [
    {
     "name": "stdout",
     "output_type": "stream",
     "text": [
      "Svd ranks: [3, 2, 3]\n"
     ]
    }
   ],
   "source": [
    "print('Svd ranks:', svd_ranks(np.arange(9).reshape((3, 3))))"
   ]
  },
  {
   "cell_type": "markdown",
   "metadata": {
    "colab_type": "text",
    "id": "9RGRmS-Tsdcb"
   },
   "source": [
    "Expected Output: \n",
    "<table>\n",
    "  <tr>\n",
    "    <td>Svd ranks:</td>\n",
    "    <td> [3, 2, 3] </td> \n",
    "  </tr>"
   ]
  },
  {
   "cell_type": "markdown",
   "metadata": {},
   "source": [
    "#### 7. Implement function to sort a given complex array using the real part first, then the imaginary part:\n",
    "<div style=\"text-align: right\">1 point</div>"
   ]
  },
  {
   "cell_type": "code",
   "execution_count": 92,
   "metadata": {
    "ExecuteTime": {
     "end_time": "2021-07-31T15:03:43.936546Z",
     "start_time": "2021-07-31T15:03:43.924577Z"
    }
   },
   "outputs": [],
   "source": [
    "def complex_sort(complex_nums):\n",
    "    \"\"\"\n",
    "    :complex_nums: list\n",
    "    :return: np.array  \n",
    "    \"\"\"\n",
    "    return np.sort_complex(complex_nums)"
   ]
  },
  {
   "cell_type": "code",
   "execution_count": 93,
   "metadata": {
    "ExecuteTime": {
     "end_time": "2021-07-31T15:03:44.218419Z",
     "start_time": "2021-07-31T15:03:44.196476Z"
    }
   },
   "outputs": [
    {
     "name": "stdout",
     "output_type": "stream",
     "text": [
      "Result:  [1.+2.j 3.-2.j 3.-1.j 3.+5.j 4.-3.j]\n"
     ]
    }
   ],
   "source": [
    "print('Result: ', complex_sort([1 + 2j, 3 - 1j, 3 - 2j, 4 - 3j, 3 + 5j]))"
   ]
  },
  {
   "cell_type": "markdown",
   "metadata": {},
   "source": [
    "Expected Output: \n",
    "<table>\n",
    "  <tr>\n",
    "    <td>Result:</td>\n",
    "    <td> [1.+2.j 3.-2.j 3.-1.j 3.+5.j 4.-3.j]"
   ]
  },
  {
   "cell_type": "markdown",
   "metadata": {},
   "source": [
    "#### 8. Implement a function that computes the Mandelbrot fractal:\n",
    "<div style=\"text-align: right\">4 points</div>"
   ]
  },
  {
   "cell_type": "code",
   "execution_count": 101,
   "metadata": {
    "ExecuteTime": {
     "end_time": "2021-07-31T15:10:03.632344Z",
     "start_time": "2021-07-31T15:10:03.613395Z"
    }
   },
   "outputs": [],
   "source": [
    "def compute_mandelbrot(n_max, threshold, nx, ny):\n",
    "    \"\"\"\n",
    "    :n_max: int\n",
    "    :threshold: float\n",
    "    :nx: int\n",
    "    :ny: int\n",
    "    :return: np.array  \n",
    "    \"\"\"\n",
    "    # A grid of c-values\n",
    "    x = np.linspace(-2, 1, nx)\n",
    "    y = np.linspace(-1.5, 1.5, ny)\n",
    "\n",
    "    c = x[:,np.newaxis] + 1j * y[np.newaxis,:]\n",
    "    \n",
    "\n",
    "    # Mandelbrot iteration\n",
    "    z = c\n",
    "    with np.warnings.catch_warnings():\n",
    "        np.warnings.simplefilter(\"ignore\")\n",
    "        for j in range(n_max):\n",
    "            z = z**2 + c\n",
    "        mandelbrot_set = (abs(z) < threshold)\n",
    "\n",
    "    return mandelbrot_set"
   ]
  },
  {
   "cell_type": "code",
   "execution_count": 102,
   "metadata": {
    "ExecuteTime": {
     "end_time": "2021-07-31T15:10:04.167141Z",
     "start_time": "2021-07-31T15:10:03.920452Z"
    }
   },
   "outputs": [
    {
     "name": "stdout",
     "output_type": "stream",
     "text": [
      "Shape:  (601, 401)\n"
     ]
    },
    {
     "data": {
      "image/png": "[encoded data removed]",
      "text/plain": [
       "<Figure size 432x288 with 1 Axes>"
      ]
     },
     "metadata": {
      "needs_background": "light"
     },
     "output_type": "display_data"
    }
   ],
   "source": [
    "mandelbrot_set = compute_mandelbrot(50, 50., 601, 401)\n",
    "plt.imshow(mandelbrot_set.T, extent=[-2, 1, -1.5, 1.5])\n",
    "print('Shape: ', mandelbrot_set.shape)"
   ]
  },
  {
   "cell_type": "markdown",
   "metadata": {},
   "source": [
    "Expected Output: \n",
    "<table>\n",
    "  <tr>\n",
    "    <td>Shape:</td>\n",
    "    <td> (601, 401)</td>\n",
    "<td><img src=\"http://157.230.116.154:1338/uploads/1a2ae116fb684ec5a1d75b199017a24b.png\"></td>"
   ]
  },
  {
   "cell_type": "markdown",
   "metadata": {
    "colab_type": "text",
    "id": "cV0BQjaGjPND"
   },
   "source": [
    "#### 9. Consider the following dictionary \"data\" and list \"labels\":"
   ]
  },
  {
   "cell_type": "code",
   "execution_count": 105,
   "metadata": {
    "ExecuteTime": {
     "end_time": "2021-07-31T15:12:50.058465Z",
     "start_time": "2021-07-31T15:12:50.049853Z"
    },
    "colab": {
     "autoexec": {
      "startup": false,
      "wait_interval": 0
     }
    },
    "colab_type": "code",
    "id": "_C0MzBX8jPND"
   },
   "outputs": [],
   "source": [
    "data = {'animal': ['cat', 'cat', 'dog', 'dog', 'cat', 'cat', 'dog', 'cat', 'dog', 'dog'],\n",
    "        'age': [2.5, 1, 0.5, np.nan, 5, 2, 3.5, np.nan, 7, 3],\n",
    "        'weight': [1, 3, 6, 8, 4, 3, 10, 2, 7, 3],\n",
    "        'priority': ['yes', 'yes', 'no', 'yes', 'no', 'no', 'no', 'yes', 'no', 'no']}\n",
    "\n",
    "labels = ['a', 'b', 'c', 'd', 'e', 'f', 'g', 'h', 'i', 'j']"
   ]
  },
  {
   "cell_type": "markdown",
   "metadata": {
    "colab_type": "text",
    "id": "9erbHYY0jPNJ"
   },
   "source": [
    "**9.1 Implement function repl_nan(data, labels) which creates a dataframe from dictionary  \"data\" with indexes from the list \"labels\", replaces the values \"nan\" in the age field by the mean age depending on the animal's type and returns a new dataframe.**\n",
    "<div style=\"text-align: right\">1 point</div>"
   ]
  },
  {
   "cell_type": "code",
   "execution_count": 112,
   "metadata": {
    "ExecuteTime": {
     "end_time": "2021-07-31T15:14:39.822326Z",
     "start_time": "2021-07-31T15:14:39.806335Z"
    },
    "colab": {
     "autoexec": {
      "startup": false,
      "wait_interval": 0
     }
    },
    "colab_type": "code",
    "id": "TTd04W3zjPNL"
   },
   "outputs": [],
   "source": [
    "def repl_nan(data, labels):    \n",
    "    \"\"\"\n",
    "    :param data: dict\n",
    "    :param labels: list[str]\n",
    "    :return: pandas.core.frame.DataFrame \n",
    "    \"\"\"\n",
    "    df = pd.DataFrame(data, index=labels)\n",
    "    df[\"age\"] = df.groupby(\"animal\").transform(lambda x: x.fillna(x.mean()))\n",
    "    return df"
   ]
  },
  {
   "cell_type": "code",
   "execution_count": 113,
   "metadata": {
    "ExecuteTime": {
     "end_time": "2021-07-31T15:14:40.056333Z",
     "start_time": "2021-07-31T15:14:40.029405Z"
    },
    "colab": {
     "autoexec": {
      "startup": false,
      "wait_interval": 0
     }
    },
    "colab_type": "code",
    "id": "05k_bNK5sdck"
   },
   "outputs": [
    {
     "data": {
      "text/html": [
       "<div>\n",
       "<style scoped>\n",
       "    .dataframe tbody tr th:only-of-type {\n",
       "        vertical-align: middle;\n",
       "    }\n",
       "\n",
       "    .dataframe tbody tr th {\n",
       "        vertical-align: top;\n",
       "    }\n",
       "\n",
       "    .dataframe thead th {\n",
       "        text-align: right;\n",
       "    }\n",
       "</style>\n",
       "<table border=\"1\" class=\"dataframe\">\n",
       "  <thead>\n",
       "    <tr style=\"text-align: right;\">\n",
       "      <th></th>\n",
       "      <th>animal</th>\n",
       "      <th>age</th>\n",
       "      <th>weight</th>\n",
       "      <th>priority</th>\n",
       "    </tr>\n",
       "  </thead>\n",
       "  <tbody>\n",
       "    <tr>\n",
       "      <th>a</th>\n",
       "      <td>cat</td>\n",
       "      <td>2.500</td>\n",
       "      <td>1</td>\n",
       "      <td>yes</td>\n",
       "    </tr>\n",
       "    <tr>\n",
       "      <th>b</th>\n",
       "      <td>cat</td>\n",
       "      <td>1.000</td>\n",
       "      <td>3</td>\n",
       "      <td>yes</td>\n",
       "    </tr>\n",
       "    <tr>\n",
       "      <th>c</th>\n",
       "      <td>dog</td>\n",
       "      <td>0.500</td>\n",
       "      <td>6</td>\n",
       "      <td>no</td>\n",
       "    </tr>\n",
       "    <tr>\n",
       "      <th>d</th>\n",
       "      <td>dog</td>\n",
       "      <td>3.500</td>\n",
       "      <td>8</td>\n",
       "      <td>yes</td>\n",
       "    </tr>\n",
       "    <tr>\n",
       "      <th>e</th>\n",
       "      <td>cat</td>\n",
       "      <td>5.000</td>\n",
       "      <td>4</td>\n",
       "      <td>no</td>\n",
       "    </tr>\n",
       "    <tr>\n",
       "      <th>f</th>\n",
       "      <td>cat</td>\n",
       "      <td>2.000</td>\n",
       "      <td>3</td>\n",
       "      <td>no</td>\n",
       "    </tr>\n",
       "    <tr>\n",
       "      <th>g</th>\n",
       "      <td>dog</td>\n",
       "      <td>3.500</td>\n",
       "      <td>10</td>\n",
       "      <td>no</td>\n",
       "    </tr>\n",
       "    <tr>\n",
       "      <th>h</th>\n",
       "      <td>cat</td>\n",
       "      <td>2.625</td>\n",
       "      <td>2</td>\n",
       "      <td>yes</td>\n",
       "    </tr>\n",
       "    <tr>\n",
       "      <th>i</th>\n",
       "      <td>dog</td>\n",
       "      <td>7.000</td>\n",
       "      <td>7</td>\n",
       "      <td>no</td>\n",
       "    </tr>\n",
       "    <tr>\n",
       "      <th>j</th>\n",
       "      <td>dog</td>\n",
       "      <td>3.000</td>\n",
       "      <td>3</td>\n",
       "      <td>no</td>\n",
       "    </tr>\n",
       "  </tbody>\n",
       "</table>\n",
       "</div>"
      ],
      "text/plain": [
       "  animal    age  weight priority\n",
       "a    cat  2.500       1      yes\n",
       "b    cat  1.000       3      yes\n",
       "c    dog  0.500       6       no\n",
       "d    dog  3.500       8      yes\n",
       "e    cat  5.000       4       no\n",
       "f    cat  2.000       3       no\n",
       "g    dog  3.500      10       no\n",
       "h    cat  2.625       2      yes\n",
       "i    dog  7.000       7       no\n",
       "j    dog  3.000       3       no"
      ]
     },
     "execution_count": 113,
     "metadata": {},
     "output_type": "execute_result"
    }
   ],
   "source": [
    "repl_nan(data, labels)"
   ]
  },
  {
   "cell_type": "markdown",
   "metadata": {
    "colab_type": "text",
    "id": "5FUJ0jkssdcm"
   },
   "source": [
    "Expected Output: \n",
    "\n",
    "|index| animal   |   age |   weight | priority   |\n",
    "|----|----------|-------|----------|------------|\n",
    "| **a**  | cat      | 2.5   |        1 | yes        |\n",
    "| **b**  | cat      | 1     |        3 | yes        |\n",
    "| **c**  | dog      | 0.5   |        6 | no         |\n",
    "| **d**  | dog      | 3.5   |        8 | yes        |\n",
    "| **e**  | cat      | 5     |        4 | no         |\n",
    "| **f**  | cat      | 2     |        3 | no         |\n",
    "| **g**  | dog      | 3.5   |       10 | no         |\n",
    "| **h**  | cat      | 2.625 |        2 | yes        |\n",
    "| **i**  | dog      | 7     |        7 | no         |\n",
    "| **j**  | dog      | 3     |        3 | no         |"
   ]
  },
  {
   "cell_type": "markdown",
   "metadata": {
    "colab_type": "text",
    "id": "nnrks-vGjPNO"
   },
   "source": [
    "#### 9.2 Implement function weight_to_type(data, labels) which creates a dataframe from dictionary \"data\" with indexes from the list \"labels\", calculates average weight of each animal type and returns dictionary with these values, where keys are animal types and values are animal weights.\n",
    "<div style=\"text-align: right\">1 point</div>"
   ]
  },
  {
   "cell_type": "code",
   "execution_count": 122,
   "metadata": {
    "ExecuteTime": {
     "end_time": "2021-07-31T15:18:03.689710Z",
     "start_time": "2021-07-31T15:18:03.682278Z"
    },
    "colab": {
     "autoexec": {
      "startup": false,
      "wait_interval": 0
     }
    },
    "colab_type": "code",
    "id": "v5fN_pdbjPNP"
   },
   "outputs": [],
   "source": [
    "def weight_to_type(data, labels):    \n",
    "    \"\"\"\n",
    "    :param data: dict\n",
    "    :param labels: list[str]\n",
    "    :return: dict\n",
    "    \"\"\"\n",
    "    df = pd.DataFrame(data, index=labels)\n",
    "    m = df.groupby(\"animal\")['weight'].mean()\n",
    "    return dict(m)"
   ]
  },
  {
   "cell_type": "code",
   "execution_count": 123,
   "metadata": {
    "ExecuteTime": {
     "end_time": "2021-07-31T15:18:03.909575Z",
     "start_time": "2021-07-31T15:18:03.892109Z"
    },
    "colab": {
     "autoexec": {
      "startup": false,
      "wait_interval": 0
     }
    },
    "colab_type": "code",
    "id": "SaHRr_bAsdct"
   },
   "outputs": [
    {
     "name": "stdout",
     "output_type": "stream",
     "text": [
      "weight_to_type {'cat': 2.6, 'dog': 6.8}\n"
     ]
    }
   ],
   "source": [
    "print('weight_to_type', weight_to_type(data, labels))"
   ]
  },
  {
   "cell_type": "markdown",
   "metadata": {
    "colab_type": "text",
    "id": "NBfp6yiEsdcv"
   },
   "source": [
    "Expected Output: \n",
    "<table>\n",
    "  <tr>\n",
    "    <td>weight_to_type:</td>\n",
    "    <td> {'cat': 2.6, 'dog': 6.8} </td> \n",
    "  </tr>"
   ]
  },
  {
   "cell_type": "markdown",
   "metadata": {
    "colab_type": "text",
    "id": "aMRFy0acjPNS"
   },
   "source": [
    "#### 9.3  Implement function kittens(data, labels) which creates a dataframe from dictionary \"data\" with indexes from the list \"labels\" and returns dataframe with data about cats with age < 3.\n",
    "<div style=\"text-align: right\">1 point</div>"
   ]
  },
  {
   "cell_type": "code",
   "execution_count": 126,
   "metadata": {
    "ExecuteTime": {
     "end_time": "2021-07-31T15:20:10.673524Z",
     "start_time": "2021-07-31T15:20:10.666171Z"
    },
    "colab": {
     "autoexec": {
      "startup": false,
      "wait_interval": 0
     }
    },
    "colab_type": "code",
    "id": "iUdq_fcdjPNU"
   },
   "outputs": [],
   "source": [
    "def kittens(data, labels):    \n",
    "    \"\"\"\n",
    "    :param data: dict\n",
    "    :param labels: list[str]\n",
    "    :return: pandas.core.frame.DataFrame\n",
    "    \"\"\"\n",
    "    df = pd.DataFrame(data, index=labels)\n",
    "    df = df[(df['animal'] == 'cat') & (df['age'] < 3)]\n",
    "    return df"
   ]
  },
  {
   "cell_type": "code",
   "execution_count": 127,
   "metadata": {
    "ExecuteTime": {
     "end_time": "2021-07-31T15:20:10.937211Z",
     "start_time": "2021-07-31T15:20:10.910267Z"
    },
    "colab": {
     "autoexec": {
      "startup": false,
      "wait_interval": 0
     }
    },
    "colab_type": "code",
    "id": "yM0tVIKJsdcx"
   },
   "outputs": [
    {
     "data": {
      "text/html": [
       "<div>\n",
       "<style scoped>\n",
       "    .dataframe tbody tr th:only-of-type {\n",
       "        vertical-align: middle;\n",
       "    }\n",
       "\n",
       "    .dataframe tbody tr th {\n",
       "        vertical-align: top;\n",
       "    }\n",
       "\n",
       "    .dataframe thead th {\n",
       "        text-align: right;\n",
       "    }\n",
       "</style>\n",
       "<table border=\"1\" class=\"dataframe\">\n",
       "  <thead>\n",
       "    <tr style=\"text-align: right;\">\n",
       "      <th></th>\n",
       "      <th>animal</th>\n",
       "      <th>age</th>\n",
       "      <th>weight</th>\n",
       "      <th>priority</th>\n",
       "    </tr>\n",
       "  </thead>\n",
       "  <tbody>\n",
       "    <tr>\n",
       "      <th>a</th>\n",
       "      <td>cat</td>\n",
       "      <td>2.5</td>\n",
       "      <td>1</td>\n",
       "      <td>yes</td>\n",
       "    </tr>\n",
       "    <tr>\n",
       "      <th>b</th>\n",
       "      <td>cat</td>\n",
       "      <td>1.0</td>\n",
       "      <td>3</td>\n",
       "      <td>yes</td>\n",
       "    </tr>\n",
       "    <tr>\n",
       "      <th>f</th>\n",
       "      <td>cat</td>\n",
       "      <td>2.0</td>\n",
       "      <td>3</td>\n",
       "      <td>no</td>\n",
       "    </tr>\n",
       "  </tbody>\n",
       "</table>\n",
       "</div>"
      ],
      "text/plain": [
       "  animal  age  weight priority\n",
       "a    cat  2.5       1      yes\n",
       "b    cat  1.0       3      yes\n",
       "f    cat  2.0       3       no"
      ]
     },
     "execution_count": 127,
     "metadata": {},
     "output_type": "execute_result"
    }
   ],
   "source": [
    "kittens(data, labels)"
   ]
  },
  {
   "cell_type": "markdown",
   "metadata": {
    "colab_type": "text",
    "id": "K-8_bYeRsdcz"
   },
   "source": [
    "Expected Output: \n",
    "\n",
    "|  index  | animal   |   age |   weight | priority   |\n",
    "|:---|:---------|------:|---------:|:-----------|\n",
    "| a  | cat      |   2.5 |        1 | yes        |\n",
    "| b  | cat      |   1   |        3 | yes        |\n",
    "| f  | cat      |   2   |        3 | no         |"
   ]
  },
  {
   "cell_type": "markdown",
   "metadata": {
    "colab_type": "text",
    "id": "Mtc079yNjPNZ"
   },
   "source": [
    "#### 9.4  Implement function sorted_df(data, labels) which creates a dataframe from dictionary \"data\" with indexes from the list \"labels\" which returns dataframe sorted  firstly by age in a decreasing order, secondly, for the number of weight in ascending order.\n",
    "<div style=\"text-align: right\">1 point</div>"
   ]
  },
  {
   "cell_type": "code",
   "execution_count": 130,
   "metadata": {
    "ExecuteTime": {
     "end_time": "2021-07-31T15:22:36.366081Z",
     "start_time": "2021-07-31T15:22:36.360220Z"
    },
    "colab": {
     "autoexec": {
      "startup": false,
      "wait_interval": 0
     }
    },
    "colab_type": "code",
    "id": "zaQ4-bqLjPNa"
   },
   "outputs": [],
   "source": [
    "def sorted_df(data, labels):\n",
    "    \"\"\"\n",
    "    :param data: dict\n",
    "    :param labels: list[str]\n",
    "    :return: pandas.core.frame.DataFrame \n",
    "    \"\"\"\n",
    "    df = pd.DataFrame(data, index=labels)\n",
    "    df.sort_values(['age', 'weight'], ascending=[False, True], inplace=True)\n",
    "    return df"
   ]
  },
  {
   "cell_type": "code",
   "execution_count": 131,
   "metadata": {
    "ExecuteTime": {
     "end_time": "2021-07-31T15:22:36.571100Z",
     "start_time": "2021-07-31T15:22:36.552150Z"
    },
    "colab": {
     "autoexec": {
      "startup": false,
      "wait_interval": 0
     }
    },
    "colab_type": "code",
    "id": "frofbFYTsdc2"
   },
   "outputs": [
    {
     "data": {
      "text/html": [
       "<div>\n",
       "<style scoped>\n",
       "    .dataframe tbody tr th:only-of-type {\n",
       "        vertical-align: middle;\n",
       "    }\n",
       "\n",
       "    .dataframe tbody tr th {\n",
       "        vertical-align: top;\n",
       "    }\n",
       "\n",
       "    .dataframe thead th {\n",
       "        text-align: right;\n",
       "    }\n",
       "</style>\n",
       "<table border=\"1\" class=\"dataframe\">\n",
       "  <thead>\n",
       "    <tr style=\"text-align: right;\">\n",
       "      <th></th>\n",
       "      <th>animal</th>\n",
       "      <th>age</th>\n",
       "      <th>weight</th>\n",
       "      <th>priority</th>\n",
       "    </tr>\n",
       "  </thead>\n",
       "  <tbody>\n",
       "    <tr>\n",
       "      <th>i</th>\n",
       "      <td>dog</td>\n",
       "      <td>7.0</td>\n",
       "      <td>7</td>\n",
       "      <td>no</td>\n",
       "    </tr>\n",
       "    <tr>\n",
       "      <th>e</th>\n",
       "      <td>cat</td>\n",
       "      <td>5.0</td>\n",
       "      <td>4</td>\n",
       "      <td>no</td>\n",
       "    </tr>\n",
       "    <tr>\n",
       "      <th>g</th>\n",
       "      <td>dog</td>\n",
       "      <td>3.5</td>\n",
       "      <td>10</td>\n",
       "      <td>no</td>\n",
       "    </tr>\n",
       "    <tr>\n",
       "      <th>j</th>\n",
       "      <td>dog</td>\n",
       "      <td>3.0</td>\n",
       "      <td>3</td>\n",
       "      <td>no</td>\n",
       "    </tr>\n",
       "    <tr>\n",
       "      <th>a</th>\n",
       "      <td>cat</td>\n",
       "      <td>2.5</td>\n",
       "      <td>1</td>\n",
       "      <td>yes</td>\n",
       "    </tr>\n",
       "    <tr>\n",
       "      <th>f</th>\n",
       "      <td>cat</td>\n",
       "      <td>2.0</td>\n",
       "      <td>3</td>\n",
       "      <td>no</td>\n",
       "    </tr>\n",
       "    <tr>\n",
       "      <th>b</th>\n",
       "      <td>cat</td>\n",
       "      <td>1.0</td>\n",
       "      <td>3</td>\n",
       "      <td>yes</td>\n",
       "    </tr>\n",
       "    <tr>\n",
       "      <th>c</th>\n",
       "      <td>dog</td>\n",
       "      <td>0.5</td>\n",
       "      <td>6</td>\n",
       "      <td>no</td>\n",
       "    </tr>\n",
       "    <tr>\n",
       "      <th>h</th>\n",
       "      <td>cat</td>\n",
       "      <td>NaN</td>\n",
       "      <td>2</td>\n",
       "      <td>yes</td>\n",
       "    </tr>\n",
       "    <tr>\n",
       "      <th>d</th>\n",
       "      <td>dog</td>\n",
       "      <td>NaN</td>\n",
       "      <td>8</td>\n",
       "      <td>yes</td>\n",
       "    </tr>\n",
       "  </tbody>\n",
       "</table>\n",
       "</div>"
      ],
      "text/plain": [
       "  animal  age  weight priority\n",
       "i    dog  7.0       7       no\n",
       "e    cat  5.0       4       no\n",
       "g    dog  3.5      10       no\n",
       "j    dog  3.0       3       no\n",
       "a    cat  2.5       1      yes\n",
       "f    cat  2.0       3       no\n",
       "b    cat  1.0       3      yes\n",
       "c    dog  0.5       6       no\n",
       "h    cat  NaN       2      yes\n",
       "d    dog  NaN       8      yes"
      ]
     },
     "execution_count": 131,
     "metadata": {},
     "output_type": "execute_result"
    }
   ],
   "source": [
    "sorted_df(data, labels)"
   ]
  },
  {
   "cell_type": "markdown",
   "metadata": {
    "colab_type": "text",
    "id": "KZwK1kj4sdc3"
   },
   "source": [
    "Expected Output: \n",
    "\n",
    "|  index| animal   |   age |   weight | priority   |\n",
    "|:---|:---------|------:|---------:|:-----------|\n",
    "| i  | dog      |   7   |        7 | no         |\n",
    "| e  | cat      |   5   |        4 | no         |\n",
    "| g  | dog      |   3.5 |       10 | no         |\n",
    "| j  | dog      |   3   |        3 | no         |\n",
    "| a  | cat      |   2.5 |        1 | yes        |\n",
    "| f  | cat      |   2   |        3 | no         |\n",
    "| b  | cat      |   1   |        3 | yes        |\n",
    "| c  | dog      |   0.5 |        6 | no         |\n",
    "| h  | cat      | nan   |        2 | yes        |\n",
    "| d  | dog      | nan   |        8 | yes        |"
   ]
  },
  {
   "cell_type": "markdown",
   "metadata": {},
   "source": [
    "#### 10. Markov Chain\n",
    "<div style=\"text-align: right\">5 points</div>\n",
    "<img src=\"http://157.230.116.154:1338/uploads/e35cccf9167841479bf0c4174b9cb85c.png\">\n",
    "\n",
    "Markov chain transition matrix P, and probability distribution on the states p:\n",
    "\n",
    "1. $0 <= P[i,j] <= 1:$ probability to go from state i to state j\n",
    "2. Transition rule: $p_{new} = P^T p_{old}$\n",
    "3. all(sum(P, axis=1) == 1), p.sum() == 1: normalization\n",
    "\n",
    "#### Implement function that works with 5 states, and:\n",
    "\n",
    "1. Constructs a random matrix, and normalizes each row so that it is a transition matrix.\n",
    "2. Starts from a random (normalized) probability distribution p and takes n_states => p_(n_states)\n",
    "3. Computes the stationary distribution: the eigenvector of P.T with eigenvalue 1 (numerically: closest to 1) => p_stationary\n",
    "\n",
    "(Don't forget to normalize the eigenvector)\n",
    "\n",
    "Checks if p_(n_states) and p_stationary are equal to tolerance"
   ]
  },
  {
   "cell_type": "code",
   "execution_count": 183,
   "metadata": {
    "ExecuteTime": {
     "end_time": "2021-07-31T15:50:27.130709Z",
     "start_time": "2021-07-31T15:50:27.118692Z"
    }
   },
   "outputs": [],
   "source": [
    "def markov_chain(n_states, n_steps, tolerance):\n",
    "    \"\"\"\n",
    "    :n_states: int\n",
    "    :n_steps: int\n",
    "    :tolerance: float\n",
    "    :return: np.array, np.array \n",
    "    \"\"\"\n",
    "    \n",
    "    np.random.seed(1234)\n",
    "    \n",
    "    # Random transition matrix and state vector\n",
    "    P = np.random.rand(n_states, n_states)\n",
    "    p = np.random.rand(n_states)\n",
    "    \n",
    "    # Constructs a random matrix, and normalizes each row so that it is a transition matrix.\n",
    "    d = np.sum(P, axis = 1)[:, None]\n",
    "    P = P / d\n",
    "    p = p / np.sum(p)\n",
    "    # Starts from a random (normalized) probability distribution p and takes n_states => p_(n_states)\n",
    "    p_n = p.copy()\n",
    "    Pt = np.transpose(P)\n",
    "    for i in range(n_states):\n",
    "        p_n = np.matmul(Pt, p_n)\n",
    "    # Computes the stationary distribution: the eigenvector of P.T with eigenvalue 1 (numerically: closest to 1) => p_stationary\n",
    "    w, v = np.linalg.eig(Pt)\n",
    "    idx = np.abs(w - 1).argmin()\n",
    "    p_stat = v[:, idx]\n",
    "    p_stat = p_stat / np.sum(p_stat)\n",
    "    return p_stat, p_n"
   ]
  },
  {
   "cell_type": "code",
   "execution_count": 184,
   "metadata": {
    "ExecuteTime": {
     "end_time": "2021-07-31T15:50:27.582323Z",
     "start_time": "2021-07-31T15:50:27.558421Z"
    }
   },
   "outputs": [
    {
     "name": "stdout",
     "output_type": "stream",
     "text": [
      "Tolerance satisfied in infty-norm\n",
      "Tolerance satisfied in 2-norm\n",
      "p_stationary:  [0.17642782+0.j 0.21675892+0.j 0.16375743+0.j 0.20031888+0.j\n",
      " 0.13175137+0.j 0.11098559+0.j]\n",
      "p_last:  [0.17642415 0.21676017 0.16375919 0.20031969 0.13175252 0.11098428]\n"
     ]
    }
   ],
   "source": [
    "n_states = 6\n",
    "n_steps = 60\n",
    "tolerance = 1e-5\n",
    "p_stationary, p_last = markov_chain(n_states, n_steps, tolerance)\n",
    "\n",
    "if all(abs(p_last - p_stationary) < tolerance):\n",
    "    print(\"Tolerance satisfied in infty-norm\")\n",
    "\n",
    "if np.linalg.norm(p_last - p_stationary) < tolerance:\n",
    "    print(\"Tolerance satisfied in 2-norm\")\n",
    "    \n",
    "print('p_stationary: ', p_stationary)\n",
    "print('p_last: ', p_last)"
   ]
  },
  {
   "cell_type": "markdown",
   "metadata": {},
   "source": [
    "Expected Output: \n",
    "<table>\n",
    "  <tr>\n",
    "    <td>Tolerance satisfied in infty-norm</td>\n",
    "  <tr>\n",
    "    <td>Tolerance satisfied in infty-norm</td>\n",
    "  <tr>\n",
    "    <td>p_stationary:   [0.17642782 0.21675892 0.16375743 0.20031888 0.13175137 0.11098559]</td>\n",
    "  <tr>\n",
    "    <td>p_last:  [0.17642782 0.21675892 0.16375743 0.20031888 0.13175137 0.11098559]</td>\n",
    "    "
   ]
  }
 ],
 "metadata": {
  "colab": {
   "collapsed_sections": [],
   "default_view": {},
   "name": "DataRoot University  _ Data Science Module 1 _ Test 1.ipynb",
   "provenance": [],
   "version": "0.3.2",
   "views": {}
  },
  "kernelspec": {
   "display_name": "Python 3",
   "language": "python",
   "name": "python3"
  },
  "language_info": {
   "codemirror_mode": {
    "name": "ipython",
    "version": 3
   },
   "file_extension": ".py",
   "mimetype": "text/x-python",
   "name": "python",
   "nbconvert_exporter": "python",
   "pygments_lexer": "ipython3",
   "version": "3.9.5"
  },
  "toc": {
   "base_numbering": 1,
   "nav_menu": {},
   "number_sections": true,
   "sideBar": true,
   "skip_h1_title": false,
   "title_cell": "Table of Contents",
   "title_sidebar": "Contents",
   "toc_cell": false,
   "toc_position": {},
   "toc_section_display": true,
   "toc_window_display": false
  }
 },
 "nbformat": 4,
 "nbformat_minor": 1
}
