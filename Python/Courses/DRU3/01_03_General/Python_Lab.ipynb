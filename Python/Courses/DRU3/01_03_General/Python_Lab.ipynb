{
 "cells": [
  {
   "cell_type": "markdown",
   "metadata": {
    "id": "KOP7kgV5PSl2"
   },
   "source": [
    "# Python and algorithms"
   ]
  },
  {
   "cell_type": "markdown",
   "metadata": {
    "id": "0R6uyhNyjPMc"
   },
   "source": [
    "##### Сomplete this part of test without using any libs (your code must not contain keyword 'import') \n",
    "> **Important note:** Before submission make sure that you **didn't add or delete any notebook cells**. Otherwise your work may not be accepted by the validator!"
   ]
  },
  {
   "cell_type": "markdown",
   "metadata": {
    "id": "GC_iufBgjPMd"
   },
   "source": [
    "#### 1. Implement function str_to_dict(some_str) which returnes dictionary, where keys are string characters, and values are their quantity in the string\n",
    "\n",
    "<div style=\"text-align: right\">1 point</div>"
   ]
  },
  {
   "cell_type": "code",
   "execution_count": 6,
   "metadata": {
    "ExecuteTime": {
     "end_time": "2021-07-30T21:43:39.289067Z",
     "start_time": "2021-07-30T21:43:39.277092Z"
    },
    "id": "DDou3xupjPMe"
   },
   "outputs": [],
   "source": [
    "def str_to_dict(some_str):  \n",
    "    \"\"\"\n",
    "    :param some_str: str\n",
    "    :return: dict\n",
    "    \"\"\"\n",
    "    d = {}\n",
    "    for e in some_str:\n",
    "        if e in d.keys():\n",
    "            d[e] += 1\n",
    "        else:\n",
    "            d[e] = 1\n",
    "    return d"
   ]
  },
  {
   "cell_type": "code",
   "execution_count": 7,
   "metadata": {
    "ExecuteTime": {
     "end_time": "2021-07-30T21:43:39.882614Z",
     "start_time": "2021-07-30T21:43:39.861631Z"
    },
    "id": "FPjc0Ckxsdbl"
   },
   "outputs": [
    {
     "name": "stdout",
     "output_type": "stream",
     "text": [
      "Str to dict: {'d': 1, 'a': 2, 't': 3, 'r': 2, 'o': 2, '_': 1, 'u': 1, 'n': 1, 'i': 2, 'v': 1, 'e': 1, 's': 1, 'y': 1}\n"
     ]
    }
   ],
   "source": [
    "print('Str to dict:', str_to_dict('dataroot_university'))"
   ]
  },
  {
   "cell_type": "markdown",
   "metadata": {
    "id": "nurux2Btsdbn"
   },
   "source": [
    "Expected Output: \n",
    "<table>\n",
    "  <tr>\n",
    "    <td>Str to dict:</td>\n",
    "    <td> {'d': 1, 'a': 2, 't': 3, 'r': 2, 'o': 2, '_': 1, 'u': 1, 'n': 1, 'i': 2, 'v': 1, 'e': 1, 's': 1, 'y': 1} </td> \n",
    "  </tr>"
   ]
  },
  {
   "cell_type": "markdown",
   "metadata": {
    "id": "ELtxJQQLjPMi"
   },
   "source": [
    "#### 2. Implement function sec_smallest(numbers) which returns second smallest item in the list, without using the built-in sorting methods (your code mustn't contain such words as 'sort', 'sorted')\n",
    "\n",
    "<div style=\"text-align: right\">1 point\n",
    "  "
   ]
  },
  {
   "cell_type": "code",
   "execution_count": 10,
   "metadata": {
    "ExecuteTime": {
     "end_time": "2021-07-30T21:49:10.891263Z",
     "start_time": "2021-07-30T21:49:10.883303Z"
    },
    "id": "yJVJiK9jjPMj"
   },
   "outputs": [],
   "source": [
    "def sec_smallest(numbers):\n",
    "    \"\"\"\n",
    "    :param numbers: list[int]\n",
    "    :return: int    \n",
    "    \"\"\"\n",
    "    a, b = numbers[0], numbers[1] # a is min, b is second min\n",
    "    i = 2\n",
    "    while (a == b) and i < len(numbers):\n",
    "        b = numbers[i]\n",
    "        i += 1\n",
    "    if(a > b):\n",
    "        a, b = b, a\n",
    "    for e in numbers:\n",
    "        if e == a:\n",
    "            continue\n",
    "        if e < a:\n",
    "            a, b = e, a\n",
    "        else:\n",
    "            if e < b:\n",
    "                b = e\n",
    "    return b"
   ]
  },
  {
   "cell_type": "code",
   "execution_count": 11,
   "metadata": {
    "ExecuteTime": {
     "end_time": "2021-07-30T21:49:11.279609Z",
     "start_time": "2021-07-30T21:49:11.264689Z"
    },
    "id": "pg4ry_8Csdbq"
   },
   "outputs": [
    {
     "name": "stdout",
     "output_type": "stream",
     "text": [
      "Sec_smallest:  -2\n"
     ]
    }
   ],
   "source": [
    "print('Sec_smallest: ', sec_smallest([1, 2, -8, -8, -2, 0]))"
   ]
  },
  {
   "cell_type": "markdown",
   "metadata": {
    "id": "qVlYH9axsdbs"
   },
   "source": [
    "Expected Output: \n",
    "<table>\n",
    "  <tr>\n",
    "    <td>Sec_smallest:</td>\n",
    "    <td> -2 </td> \n",
    "  </tr>"
   ]
  },
  {
   "cell_type": "markdown",
   "metadata": {
    "id": "tzgLZ6VijPMo"
   },
   "source": [
    "#### 3. Implement function prime_nums(n) that returns list of numbers which  are simple and < n\n",
    "\n",
    "<div style=\"text-align: right\">1 point</div>"
   ]
  },
  {
   "cell_type": "code",
   "execution_count": 3,
   "metadata": {
    "ExecuteTime": {
     "end_time": "2021-07-31T18:33:45.968865Z",
     "start_time": "2021-07-31T18:33:45.951955Z"
    },
    "id": "jvVD9N32jPMp"
   },
   "outputs": [],
   "source": [
    "def is_prime(x):\n",
    "    if x == 1:\n",
    "        return False\n",
    "    for e in range(2, x//2 + 1):\n",
    "        if x % e == 0:\n",
    "            return False\n",
    "    return True\n",
    "def prime_nums(n):\n",
    "    \"\"\"\n",
    "    :param n: int\n",
    "    :return: list[int]\n",
    "    \"\"\"\n",
    "    primes = []\n",
    "    for e in range(2, n+1):\n",
    "        if(is_prime(e)):\n",
    "            primes.append(e)\n",
    "    return primes"
   ]
  },
  {
   "cell_type": "code",
   "execution_count": 4,
   "metadata": {
    "ExecuteTime": {
     "end_time": "2021-07-31T18:33:46.297786Z",
     "start_time": "2021-07-31T18:33:46.289809Z"
    },
    "id": "Zf9DMkN9sdbw"
   },
   "outputs": [
    {
     "name": "stdout",
     "output_type": "stream",
     "text": [
      "Prime numbers:  [2, 3, 5, 7, 11, 13, 17, 19, 23, 29]\n"
     ]
    }
   ],
   "source": [
    "print('Prime numbers: ', prime_nums(30))"
   ]
  },
  {
   "cell_type": "markdown",
   "metadata": {
    "id": "pYutFqaAsdbz"
   },
   "source": [
    "Expected Output:\n",
    "<table>\n",
    "  <tr>\n",
    "    <td>Prime numbers:</td>\n",
    "    <td>[2, 3, 5, 7, 11, 13, 17, 19, 23, 29]</td>\n",
    "  </tr>"
   ]
  },
  {
   "cell_type": "markdown",
   "metadata": {
    "id": "BZYlq4RtzTCJ"
   },
   "source": [
    "#### 4. Implement function max_sum_index(tuples), which returnes index of tuple in the list with maximum sum of elements\n",
    "\n",
    "<div style=\"text-align: right\">1 point</div>"
   ]
  },
  {
   "cell_type": "code",
   "execution_count": 31,
   "metadata": {
    "ExecuteTime": {
     "end_time": "2021-07-30T21:56:40.784519Z",
     "start_time": "2021-07-30T21:56:40.775545Z"
    },
    "id": "nSoHCzrZzTCK"
   },
   "outputs": [],
   "source": [
    "def max_sum_index(tuples):  \n",
    "    '''\n",
    "    :param tuples: list[tuple]\n",
    "    :return: int\n",
    "    '''\n",
    "    max_idx = 0\n",
    "    max_s = sum(tuples[0])\n",
    "    for idx, t in enumerate(tuples):\n",
    "        s = sum(t)\n",
    "        if(s > max_s):\n",
    "            max_s = s\n",
    "            max_idx = idx\n",
    "    return max_idx"
   ]
  },
  {
   "cell_type": "code",
   "execution_count": 32,
   "metadata": {
    "ExecuteTime": {
     "end_time": "2021-07-30T21:56:40.971185Z",
     "start_time": "2021-07-30T21:56:40.949253Z"
    },
    "id": "kDgUQzSjzTCM"
   },
   "outputs": [
    {
     "name": "stdout",
     "output_type": "stream",
     "text": [
      "Index:  1\n",
      "Index:  0\n"
     ]
    }
   ],
   "source": [
    "print('Index: ', max_sum_index([(10, 20, 1, 2), (51, 32), (30, 25, 5)]))\n",
    "print('Index: ', max_sum_index([(47, 22, 11), (23, 17)]))"
   ]
  },
  {
   "cell_type": "markdown",
   "metadata": {
    "id": "RFxkqxeAzTCO"
   },
   "source": [
    "Expected Output: \n",
    "<table>\n",
    "  <tr>\n",
    "    <td>Index:</td>\n",
    "    <td> 1 </td> \n",
    "  </tr>\n",
    "  <tr>\n",
    "    <td>Index:</td>\n",
    "    <td> 0 </td> \n",
    "  </tr>\n",
    "</table>"
   ]
  },
  {
   "cell_type": "markdown",
   "metadata": {
    "id": "dgWLVbybzTCO"
   },
   "source": [
    "#### 5. Implement function gcd(x, y), which returns the greatest common divisor of n and m\n",
    "<div style=\"text-align: right\">1 point</div>"
   ]
  },
  {
   "cell_type": "code",
   "execution_count": 33,
   "metadata": {
    "ExecuteTime": {
     "end_time": "2021-07-30T21:58:24.277224Z",
     "start_time": "2021-07-30T21:58:24.260304Z"
    },
    "id": "NivXXE8ZzTCO"
   },
   "outputs": [],
   "source": [
    "def gcd(x, y):   \n",
    "    '''\n",
    "    :params m,n: int\n",
    "    :return: int\n",
    "    '''\n",
    "    if x < y:\n",
    "        x, y = y, x # x is bigger\n",
    "    if x % y == 0:\n",
    "        return y\n",
    "    return gcd(y, x % y)"
   ]
  },
  {
   "cell_type": "code",
   "execution_count": 34,
   "metadata": {
    "ExecuteTime": {
     "end_time": "2021-07-30T21:58:24.764773Z",
     "start_time": "2021-07-30T21:58:24.753761Z"
    },
    "id": "4foTg3J2zTCQ"
   },
   "outputs": [
    {
     "name": "stdout",
     "output_type": "stream",
     "text": [
      "GCD:  20\n"
     ]
    }
   ],
   "source": [
    "print('GCD: ', gcd(160, 180))"
   ]
  },
  {
   "cell_type": "markdown",
   "metadata": {
    "id": "Sqnrn37NzTCU"
   },
   "source": [
    "Expected Output: \n",
    "<table>\n",
    "  <tr>\n",
    "    <td>GCD:</td>\n",
    "    <td> 20 </td> \n",
    "  </tr>"
   ]
  },
  {
   "cell_type": "markdown",
   "metadata": {
    "id": "7taKAqDEzTCU"
   },
   "source": [
    "#### 6. Implement recursive sum of the list\n",
    "<div style=\"text-align: right\">1 point</div>"
   ]
  },
  {
   "cell_type": "code",
   "execution_count": 59,
   "metadata": {
    "ExecuteTime": {
     "end_time": "2021-07-30T22:24:48.937836Z",
     "start_time": "2021-07-30T22:24:48.921827Z"
    },
    "id": "OZ88SyEPzTCV"
   },
   "outputs": [],
   "source": [
    "def recursive_list_sum(data_list):\n",
    "    \"\"\"\n",
    "    :param data_list: list[list]\n",
    "    \"\"\"\n",
    "    if not data_list:\n",
    "        return 0  # End of recursion\n",
    "    e = data_list[0]\n",
    "    if type(e) == int or type(e) == float:\n",
    "        return e + recursive_list_sum(data_list[1:])\n",
    "    else:\n",
    "        return recursive_list_sum(e) + recursive_list_sum(data_list[1:])"
   ]
  },
  {
   "cell_type": "code",
   "execution_count": 60,
   "metadata": {
    "ExecuteTime": {
     "end_time": "2021-07-30T22:24:49.294850Z",
     "start_time": "2021-07-30T22:24:49.283870Z"
    },
    "id": "xBqGJR2MzTCW"
   },
   "outputs": [
    {
     "name": "stdout",
     "output_type": "stream",
     "text": [
      "The sum of a list is  55\n"
     ]
    }
   ],
   "source": [
    "print('The sum of a list is ', recursive_list_sum([1, 2, [3, 4], [5, 6], [7, 8, 9, [10]]]))"
   ]
  },
  {
   "cell_type": "markdown",
   "metadata": {
    "id": "-B7d97oszTCY"
   },
   "source": [
    "Expected Output:\n",
    "<table>\n",
    "  <tr>\n",
    "    <td>The sum of a list is 55</td> \n",
    "  </tr>"
   ]
  },
  {
   "cell_type": "markdown",
   "metadata": {
    "id": "IwBGvz-UzTCZ"
   },
   "source": [
    "#### 7. Implement decorator which returns function signature and it's return value\n",
    "<div style=\"text-align: right\">1 point</div>"
   ]
  },
  {
   "cell_type": "code",
   "execution_count": 13,
   "metadata": {
    "ExecuteTime": {
     "end_time": "2021-08-01T09:41:12.600750Z",
     "start_time": "2021-08-01T09:41:12.584917Z"
    },
    "id": "VqlkRz0szTCZ"
   },
   "outputs": [],
   "source": [
    "def debug(func):\n",
    "    \"\"\"\n",
    "    :param func: function\n",
    "    \"\"\"\n",
    "    def d(*args):\n",
    "        res = f\"{func.__name__}{args} was called and returned {func(*args)}\"\n",
    "        return res\n",
    "    return d\n",
    "\n",
    "import functools\n",
    "\n",
    "def debug(func):\n",
    "    \"\"\"Print the function signature and return value\"\"\"\n",
    "    @functools.wraps(func)\n",
    "    def wrapper_debug(*args, **kwargs):\n",
    "        args_repr = [repr(a) for a in args]                      # 1\n",
    "        kwargs_repr = [f\"{k}={v!r}\" for k, v in kwargs.items()]  # 2\n",
    "        signature = \", \".join(args_repr + kwargs_repr)           # 3\n",
    "        value = func(*args, **kwargs)\n",
    "        print(f\"{func.__name__}({signature}) was called and returned {value!r}\")           # 4\n",
    "        return value\n",
    "    return wrapper_debug"
   ]
  },
  {
   "cell_type": "code",
   "execution_count": 14,
   "metadata": {
    "ExecuteTime": {
     "end_time": "2021-08-01T09:41:13.300522Z",
     "start_time": "2021-08-01T09:41:13.273472Z"
    },
    "id": "rCRTAmeizTCb"
   },
   "outputs": [
    {
     "name": "stdout",
     "output_type": "stream",
     "text": [
      "add(3, 4) was called and returned 7\n",
      "7\n",
      "sub(3) was called and returned -97\n",
      "-97\n",
      "sub(3, 4) was called and returned -1\n",
      "-1\n"
     ]
    }
   ],
   "source": [
    "@debug\n",
    "def add(a, b):\n",
    "    return a + b\n",
    "    \n",
    "@debug\n",
    "def sub(a, b=100):\n",
    "    return a - b\n",
    "\n",
    "print(add(3, 4))\n",
    "print(sub(3))\n",
    "print(sub(3,4))"
   ]
  },
  {
   "cell_type": "markdown",
   "metadata": {
    "id": "dagwtSWmzTCd"
   },
   "source": [
    "Expected Output:\n",
    "<table>\n",
    "  <tr>\n",
    "    <td>add(3, 4) was called and returned 7</td>\n",
    "  </tr>\n",
    "  <tr>\n",
    "    <td>sub(3) was called and returned -97</td>\n",
    "  </tr>\n",
    "  <tr>\n",
    "    <td>sub(3, 4) was called and returned -1</td>\n",
    "  <tr>"
   ]
  },
  {
   "cell_type": "markdown",
   "metadata": {
    "id": "p96mEq8vjPMr"
   },
   "source": [
    "#### 8. Implement class Conv, that contains method to_roman(self, n), which converts decimal numbers to Roman numerals\n",
    "\n",
    "<div style=\"text-align: right\">2 points</div>"
   ]
  },
  {
   "cell_type": "code",
   "execution_count": 43,
   "metadata": {
    "ExecuteTime": {
     "end_time": "2021-07-30T22:12:16.380235Z",
     "start_time": "2021-07-30T22:12:16.364234Z"
    },
    "id": "weYiaNWojPMs"
   },
   "outputs": [],
   "source": [
    "class Conv:\n",
    "    def __init__(self):\n",
    "        self.val = [\n",
    "            1000, 900, 500, 400,\n",
    "            100, 90, 50, 40,\n",
    "            10, 9, 5, 4, 1\n",
    "        ]\n",
    "\n",
    "        self.syb = [\n",
    "            'M', 'CM', 'D', 'CD',\n",
    "            'C', 'XC', 'L', 'XL',\n",
    "            'X', 'IX', 'V', 'IV',\n",
    "            'I'\n",
    "        ]\n",
    "        \n",
    "    def to_roman(self, num):    \n",
    "        \"\"\"\n",
    "        :param self:\n",
    "        :param n: int\n",
    "        :return: str    \n",
    "        \"\"\"\n",
    "        res = \"\"\n",
    "        if num > 1000:\n",
    "            res += \"M\" * (num // 1000)\n",
    "            num = num % 1000\n",
    "        if num >=900:\n",
    "            res += \"CM\"\n",
    "            num = num - 900\n",
    "        if num >= 500:\n",
    "            res += \"D\" * (num // 500)\n",
    "            num = num - 500\n",
    "        if num >= 400:\n",
    "            res += \"CD\"\n",
    "            num = num - 400\n",
    "        if num >= 100:\n",
    "            res += \"C\" * (num // 100)\n",
    "            num = num % 100\n",
    "        \n",
    "        if num >=90:\n",
    "            res += \"XC\"\n",
    "            num = num - 90\n",
    "        if num >= 50:\n",
    "            res += \"L\" * (num // 50)\n",
    "            num = num - 50\n",
    "        if num >= 40:\n",
    "            res += \"XL\"\n",
    "            num = num - 40\n",
    "        if num >= 10:\n",
    "            res += \"X\" * (num // 10)\n",
    "            num = num % 10\n",
    "            \n",
    "        if num >=9:\n",
    "            res += \"IX\"\n",
    "            num = num - 9\n",
    "        if num >= 5:\n",
    "            res += \"V\" * (num // 5)\n",
    "            num = num - 5\n",
    "        if num >= 4:\n",
    "            res += \"IV\"\n",
    "            num = num - 4\n",
    "        if num >= 1:\n",
    "            res += \"I\" * (num // 1)\n",
    "            num = num % 1\n",
    "            \n",
    "        return res\n",
    "        "
   ]
  },
  {
   "cell_type": "code",
   "execution_count": 44,
   "metadata": {
    "ExecuteTime": {
     "end_time": "2021-07-30T22:12:16.802225Z",
     "start_time": "2021-07-30T22:12:16.783265Z"
    },
    "id": "NdffBhZesdb6"
   },
   "outputs": [
    {
     "name": "stdout",
     "output_type": "stream",
     "text": [
      "Converted:  XLIV\n"
     ]
    }
   ],
   "source": [
    "print('Converted: ', Conv().to_roman(44))"
   ]
  },
  {
   "cell_type": "markdown",
   "metadata": {
    "id": "lF6Acd9gsdb8"
   },
   "source": [
    "Expected Output:\n",
    "<table>\n",
    "  <tr>\n",
    "    <td>Converted:</td>\n",
    "    <td>XLIV</td> \n",
    "  </tr>"
   ]
  },
  {
   "cell_type": "markdown",
   "metadata": {
    "id": "kphmMZ7JjPMv"
   },
   "source": [
    "#### 9. Implement class CombinationsList, that contains method get_combinations(self, my_list), which returns all combinations of elements of given list, including empty element. Order of elements doesn't matter\n",
    "<div style=\"text-align: right\">3 points</div>"
   ]
  },
  {
   "cell_type": "code",
   "execution_count": 55,
   "metadata": {
    "ExecuteTime": {
     "end_time": "2021-07-30T22:21:05.450060Z",
     "start_time": "2021-07-30T22:21:05.438094Z"
    },
    "id": "YRLNrVppjPMw"
   },
   "outputs": [],
   "source": [
    "class CombinationsList:\n",
    "    @staticmethod\n",
    "    def get_combinations(my_list):\n",
    "        \"\"\"\n",
    "        :param self:\n",
    "        :param my_list: list\n",
    "        :return: list[list]\n",
    "        \"\"\"\n",
    "        N = len(my_list)\n",
    "        combos = []\n",
    "        for i in range(2**N):\n",
    "            combo = []\n",
    "            for j in range(N):\n",
    "                # test bit jth of integer i\n",
    "                if (i >> j) % 2 == 1:\n",
    "                    combo.append(my_list[j])\n",
    "            combos.append(combo)\n",
    "        return combos"
   ]
  },
  {
   "cell_type": "code",
   "execution_count": 56,
   "metadata": {
    "ExecuteTime": {
     "end_time": "2021-07-30T22:21:06.013040Z",
     "start_time": "2021-07-30T22:21:05.992074Z"
    },
    "id": "8IVUwFllsdb_"
   },
   "outputs": [
    {
     "name": "stdout",
     "output_type": "stream",
     "text": [
      "Combinations:  [[], [1], [2], [1, 2], ['a'], [1, 'a'], [2, 'a'], [1, 2, 'a'], [5], [1, 5], [2, 5], [1, 2, 5], ['a', 5], [1, 'a', 5], [2, 'a', 5], [1, 2, 'a', 5]]\n"
     ]
    }
   ],
   "source": [
    "print('Combinations: ', CombinationsList().get_combinations([1, 2, 'a', 5]))"
   ]
  },
  {
   "cell_type": "markdown",
   "metadata": {
    "id": "Etp9QRL-sdcC"
   },
   "source": [
    "Expected Output:\n",
    "<table>\n",
    "  <tr>\n",
    "    <td>Combinations:</td>\n",
    "    <td>[[], [1], [2], ['a'], [5], [1, 2], [1, 'a'], [1, 5], [2, 'a'], [2, 5], ['a', 5], [1, 2, 'a'], [1, 2, 5], [1, 'a', 5], [2, 'a', 5], [1, 2, 'a', 5]]</td> \n",
    "  </tr>"
   ]
  },
  {
   "cell_type": "markdown",
   "metadata": {
    "id": "DMAxsP5ezTCn"
   },
   "source": [
    "#### 10. Create base class <code>Rocket</code> and it's subclass <code>Shuttle</code>. The parent class contains methods <code>getMission()</code>, <code>addMission()</code> and <code>getName()</code>. The subclass <code>Shuttle</code> contains method <code>getDescription()</code>. Notice that we have not defined <code>getName()</code>, <code>getMission()</code>, <code>addMission()</code> in the <code>Shuttle</code> class but we are still able to access them, because the class <code>Shuttle</code> inherits them from the <code>Rocket</code> class. Use <code>super()</code> method to have ability to call those methods of the base class.\n",
    "<div style=\"text-align: right\">3 points</div>"
   ]
  },
  {
   "cell_type": "code",
   "execution_count": 69,
   "metadata": {
    "ExecuteTime": {
     "end_time": "2021-07-30T22:27:16.881457Z",
     "start_time": "2021-07-30T22:27:16.861507Z"
    },
    "id": "0n3UwConzTCn"
   },
   "outputs": [],
   "source": [
    "class Rocket:\n",
    "\n",
    "    def __init__(self, name, mission):\n",
    "        \"\"\"\n",
    "        :param name: str\n",
    "        :param mission: str or list\n",
    "        \"\"\"\n",
    "        # attributes are private to class Rocket\n",
    "        self.__name = name      \n",
    "        self.__mission = mission\n",
    "\n",
    "    def getMission(self): \n",
    "        \"\"\"\n",
    "        : return str or list\n",
    "        \"\"\"\n",
    "        return self.__mission\n",
    "\n",
    "    def addMission(self, mission): \n",
    "        # procedure method which adds a new mission. There can be one (str) or multiple (list) existing missions\n",
    "        \"\"\"\n",
    "        : param mission: str\n",
    "        \"\"\"\n",
    "        if type(self.__mission) == list():\n",
    "            self.__mission.append(mission)\n",
    "        else:\n",
    "            self.__mission = [self.__mission, mission]\n",
    "\n",
    "    def getName(self):\n",
    "        \"\"\"\n",
    "        : return str\n",
    "        \"\"\"\n",
    "        return self.__name\n",
    "\n",
    "    \n",
    "class Shuttle(Rocket):\n",
    "\n",
    "    def __init__(self, name, mission, model):\n",
    "        # call parent constructor to set name and mission  \n",
    "        \"\"\"\n",
    "        :param name: str\n",
    "        :param mission: str or list\n",
    "        : param model: str\n",
    "        \"\"\"\n",
    "        super().__init__(name, mission)\n",
    "        self.__model = model\n",
    "\n",
    "    def getDescription(self):\n",
    "        return f'Name: {self.getName()}\\nModel: {self.__model}\\nMissions: {str(self.getMission())}'"
   ]
  },
  {
   "cell_type": "code",
   "execution_count": 70,
   "metadata": {
    "ExecuteTime": {
     "end_time": "2021-07-30T22:27:17.361707Z",
     "start_time": "2021-07-30T22:27:17.337772Z"
    },
    "id": "H7qmbnhgzTCo"
   },
   "outputs": [
    {
     "name": "stdout",
     "output_type": "stream",
     "text": [
      "Name: Crew Dragon\n",
      "Model: V2\n",
      "Missions: Dragon 2 pad abort test \n",
      "\n",
      "Name: Crew Dragon\n",
      "Model: V2\n",
      "Missions: ['Dragon 2 pad abort test', 'Dragon 2 in-flight abort test']\n"
     ]
    }
   ],
   "source": [
    "dragon = Shuttle(\"Crew Dragon\", \"Dragon 2 pad abort test\", \"V2\")\n",
    "print(dragon.getDescription(), '\\n')\n",
    "dragon.addMission('Dragon 2 in-flight abort test')\n",
    "print(dragon.getDescription())"
   ]
  },
  {
   "cell_type": "markdown",
   "metadata": {
    "id": "CbRcyQwXzTCq"
   },
   "source": [
    "Expected Output: \n",
    "\n",
    "                Name: Crew Dragon\n",
    "                Model: V2\n",
    "                Missions: Dragon 2 pad abort test\n",
    "                \n",
    "                Name: Crew Dragon\n",
    "                Model: V2\n",
    "                Missions: ['Dragon 2 pad abort test', 'Dragon 2 in-flight abort test']\n",
    "\n"
   ]
  },
  {
   "cell_type": "markdown",
   "metadata": {},
   "source": [
    "##### Python lab Done!"
   ]
  },
  {
   "cell_type": "markdown",
   "metadata": {},
   "source": [
    "##### Make sure that you didn't add or delete any notebook cells. Otherwise your work may not be accepted by the validator!"
   ]
  }
 ],
 "metadata": {
  "colab": {
   "collapsed_sections": [],
   "name": "Python_Lab.ipynb",
   "provenance": []
  },
  "kernelspec": {
   "display_name": "Python 3",
   "language": "python",
   "name": "python3"
  },
  "language_info": {
   "codemirror_mode": {
    "name": "ipython",
    "version": 3
   },
   "file_extension": ".py",
   "mimetype": "text/x-python",
   "name": "python",
   "nbconvert_exporter": "python",
   "pygments_lexer": "ipython3",
   "version": "3.9.5"
  },
  "toc": {
   "base_numbering": 1,
   "nav_menu": {},
   "number_sections": true,
   "sideBar": true,
   "skip_h1_title": false,
   "title_cell": "Table of Contents",
   "title_sidebar": "Contents",
   "toc_cell": false,
   "toc_position": {},
   "toc_section_display": true,
   "toc_window_display": false
  }
 },
 "nbformat": 4,
 "nbformat_minor": 1
}
