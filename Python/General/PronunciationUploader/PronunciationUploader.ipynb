{
 "cells": [
  {
   "cell_type": "code",
   "execution_count": 1,
   "metadata": {
    "ExecuteTime": {
     "end_time": "2019-10-30T11:05:11.656601Z",
     "start_time": "2019-10-30T11:05:11.648601Z"
    }
   },
   "outputs": [],
   "source": [
    "# Default parameters\n",
    "KEY = 'inp'\n",
    "\n",
    "LANG = 'en-us'\n",
    "FILE = KEY + '.txt'\n",
    "FOLDER = KEY\n",
    "OUT = KEY + '.mp3'\n",
    "OUT_LINK = KEY + '_link.txt'\n",
    "CLEAR_FOLDER = False\n",
    "REPETITION = 3"
   ]
  },
  {
   "cell_type": "code",
   "execution_count": 2,
   "metadata": {
    "ExecuteTime": {
     "end_time": "2019-10-30T11:09:16.231149Z",
     "start_time": "2019-10-30T11:09:16.221148Z"
    }
   },
   "outputs": [],
   "source": [
    "import  requests\n",
    "import json\n",
    "import urllib\n",
    "from bs4 import BeautifulSoup\n",
    "import sys\n",
    "import os\n",
    "import csv"
   ]
  },
  {
   "cell_type": "code",
   "execution_count": 3,
   "metadata": {
    "ExecuteTime": {
     "end_time": "2019-09-04T14:04:57.757578Z",
     "start_time": "2019-09-04T14:04:57.742578Z"
    }
   },
   "outputs": [],
   "source": [
    "# for more information on how to install requests\n",
    "# http://docs.python-requests.org/en/master/user/install/#install\n",
    "\n",
    "def pronunciation_link(word_id, language = LANG):\n",
    "    app_id = '4174367d'\n",
    "    app_key = 'd1bc1cae2ee9be39b8879d216a5dd57e'\n",
    "    url = 'https://od-api.oxforddictionaries.com:443/api/v2/entries/'  + language + '/'  + word_id.lower()\n",
    "    url += '?fields=pronunciations&strictMatch=false'\n",
    "    r = requests.get(url, headers = {'app_id' : app_id, 'app_key' : app_key})\n",
    "    try:\n",
    "        audiolink = r.json()['results'][0]['lexicalEntries'][0]['pronunciations'][1]['audioFile']\n",
    "        return audiolink\n",
    "    except:\n",
    "        print(word_id)\n",
    "    return \"\""
   ]
  },
  {
   "cell_type": "code",
   "execution_count": 32,
   "metadata": {
    "ExecuteTime": {
     "end_time": "2019-09-04T13:56:26.736818Z",
     "start_time": "2019-09-04T13:56:26.722818Z"
    }
   },
   "outputs": [],
   "source": [
    "# Upload from Merriam Dictionary\n",
    "# https://dictionaryapi.com/api/v3/references/collegiate/json/test?key=0696dcdd-f909-4959-96ac-dd434d86c832\n",
    "\n",
    "def pronunciation_link(word_id):\n",
    "    app_key = '0696dcdd-f909-4959-96ac-dd434d86c832'\n",
    "    url = 'https://dictionaryapi.com/api/v3/references/collegiate/json/' + word_id.lower()\n",
    "    url += '?key=' + app_key\n",
    "    r = requests.get(url)\n",
    "    try:\n",
    "        name = r.json()[0]['hwi']['prs'][0]['sound']['audio']\n",
    "        audiolink = 'https://media.merriam-webster.com/soundc11/' + name[0] + '/' + name + '.wav'\n",
    "        return audiolink, r.json()\n",
    "    except:\n",
    "        print(word_id)\n",
    "    return \"\""
   ]
  },
  {
   "cell_type": "code",
   "execution_count": 91,
   "metadata": {
    "ExecuteTime": {
     "end_time": "2019-09-04T13:57:09.062285Z",
     "start_time": "2019-09-04T13:57:09.055275Z"
    }
   },
   "outputs": [],
   "source": [
    "def upload_file(url):\n",
    "    r = requests.get(url, allow_redirects=True)\n",
    "    return r"
   ]
  },
  {
   "cell_type": "code",
   "execution_count": 125,
   "metadata": {
    "ExecuteTime": {
     "end_time": "2019-09-04T14:16:58.906657Z",
     "start_time": "2019-09-04T14:16:57.451462Z"
    }
   },
   "outputs": [],
   "source": [
    "r = pronunciation_link('awesome')"
   ]
  },
  {
   "cell_type": "code",
   "execution_count": 82,
   "metadata": {
    "ExecuteTime": {
     "end_time": "2019-09-04T13:57:20.424041Z",
     "start_time": "2019-09-04T13:57:19.919034Z"
    }
   },
   "outputs": [],
   "source": [
    "res = upload_file(r)\n",
    "with open('heart.mp3', 'wb') as f:\n",
    "    f.write(res.content)"
   ]
  },
  {
   "cell_type": "markdown",
   "metadata": {},
   "source": [
    "# Upload mp3 files to a folder and merge them"
   ]
  },
  {
   "cell_type": "code",
   "execution_count": 24,
   "metadata": {
    "ExecuteTime": {
     "end_time": "2019-09-04T12:58:17.252907Z",
     "start_time": "2019-09-04T12:58:16.695544Z"
    }
   },
   "outputs": [],
   "source": [
    "# Load once\n",
    "url = 'https://raw.githubusercontent.com/anars/blank-audio/master/2-seconds-and-500-milliseconds-of-silence.mp3'\n",
    "f = upload_file(url)\n",
    "with open('silence.mp3', 'wb') as g:\n",
    "    g.write(f.content)"
   ]
  },
  {
   "cell_type": "code",
   "execution_count": 19,
   "metadata": {
    "ExecuteTime": {
     "end_time": "2019-09-04T12:55:23.540699Z",
     "start_time": "2019-09-04T12:55:23.529706Z"
    }
   },
   "outputs": [],
   "source": [
    "# Create a folder\n",
    "import os\n",
    "import shutil\n",
    "current_directory = os.getcwd()\n",
    "final_directory = os.path.join(current_directory, FOLDER)\n",
    "\n",
    "if os.path.exists(final_directory):\n",
    "    if (CLEAR_FOLDER):\n",
    "        shutil.rmtree(final_directory)\n",
    "if not os.path.exists(final_directory):\n",
    "    os.makedirs(final_directory)       "
   ]
  },
  {
   "cell_type": "code",
   "execution_count": 39,
   "metadata": {
    "ExecuteTime": {
     "end_time": "2019-09-04T13:11:58.736614Z",
     "start_time": "2019-09-04T13:08:56.462163Z"
    }
   },
   "outputs": [
    {
     "name": "stdout",
     "output_type": "stream",
     "text": [
      "Adjacent\n",
      "Analysis\n",
      "Augmentation\n",
      "AX\n",
      "Criteria\n",
      "Process\n",
      "Resources\n"
     ]
    }
   ],
   "source": [
    "# Read words and upload mp3 files to the folder\n",
    "\n",
    "with open(FILE) as csv_file:\n",
    "    csv_reader = csv.reader(csv_file, delimiter=';')\n",
    "    for i, row in enumerate(csv_reader):\n",
    "        word = row[0]\n",
    "        try:\n",
    "            url = pronunciation_link(word)\n",
    "            if (url != \"\"):\n",
    "                file = upload_file(url)\n",
    "                prefix = str(i) if i >= 10 else '0' + str(i)\n",
    "                file_name = os.path.join(final_directory, prefix + '_' + word + '.mp3')\n",
    "                with open(file_name, 'wb') as f:\n",
    "                    f.write(file.content)\n",
    "        except:\n",
    "            print(word)"
   ]
  },
  {
   "cell_type": "code",
   "execution_count": 25,
   "metadata": {
    "ExecuteTime": {
     "end_time": "2019-09-04T12:58:21.559705Z",
     "start_time": "2019-09-04T12:58:21.551706Z"
    }
   },
   "outputs": [],
   "source": [
    "silence = open('silence.mp3', 'rb').read()"
   ]
  },
  {
   "cell_type": "code",
   "execution_count": 48,
   "metadata": {
    "ExecuteTime": {
     "end_time": "2019-09-04T13:21:29.242132Z",
     "start_time": "2019-09-04T13:21:26.583127Z"
    }
   },
   "outputs": [],
   "source": [
    "import os\n",
    "current_directory = os.getcwd()\n",
    "final_directory = os.path.join(current_directory, FOLDER)\n",
    "\n",
    "files = []\n",
    "res = bytearray()\n",
    "# r=root, d=directories, f = files\n",
    "for r, d, f in os.walk(final_directory):\n",
    "    for file in f:\n",
    "        if '.mp3' in file:\n",
    "            file_name = os.path.join(r, file)\n",
    "            files.append(file_name)\n",
    "\n",
    "\n",
    "                \n",
    "#files.sort()\n",
    "#print(files)\n",
    "for file_name in files:\n",
    "    data = open(file_name, 'rb').read()\n",
    "    res = res + REPETITION * data + silence\n",
    "    \n",
    "with open(os.path.join(current_directory, OUT), 'wb') as out:\n",
    "    out.write(res)"
   ]
  },
  {
   "cell_type": "markdown",
   "metadata": {},
   "source": [
    "# Upload links to file"
   ]
  },
  {
   "cell_type": "code",
   "execution_count": 22,
   "metadata": {
    "ExecuteTime": {
     "end_time": "2019-08-28T13:07:54.668470Z",
     "start_time": "2019-08-28T13:07:17.981384Z"
    }
   },
   "outputs": [
    {
     "name": "stdout",
     "output_type": "stream",
     "text": [
      "﻿atavistic\n",
      "break_into_a_shop\n",
      "be_accused_of\n",
      "witnesses_were_called_to_give_evidence\n",
      "give_evidence\n",
      "give_a_verdict\n",
      "sentence_to_5_years\n",
      "cut_the_music\n",
      "get_away_with\n",
      "stay_put\n",
      "interfer_with_a_police_investigation\n",
      "break_a_law\n",
      "get_a_bad_rap_for_sth\n",
      "meddle_with_sth\n",
      "cross_the_threshold\n",
      "pan_out\n",
      "stick_my_neck_out\n"
     ]
    }
   ],
   "source": [
    "# Read words and upload mp3 files to the folder\n",
    "import csv\n",
    "\n",
    "f= open(OUT_LINK,\"w\")\n",
    "\n",
    "with open(FILE) as csv_file:\n",
    "    csv_reader = csv.reader(csv_file, delimiter=';')\n",
    "    for i, row in enumerate(csv_reader):\n",
    "        word = row[0].replace(' ', '_')\n",
    "        link = pronunciation_link(word)\n",
    "        f.write(\";\".join(row) + \";\" + link + \"\\n\")\n",
    "f.close()"
   ]
  },
  {
   "cell_type": "markdown",
   "metadata": {},
   "source": [
    "# German"
   ]
  },
  {
   "cell_type": "code",
   "execution_count": 53,
   "metadata": {},
   "outputs": [],
   "source": [
    "# Upload transcription, audio links\n",
    "def word_links(word_id):\n",
    "    word = word_id.lower()\n",
    "    audio = \"\"\n",
    "    url = 'https://www.howtopronounce.com/german/'\n",
    "    url = url + word\n",
    "    try:\n",
    "        r = urllib.request.urlopen(url).read()\n",
    "        soup = BeautifulSoup(r)\n",
    "        audio = soup.find('span', {'id': 'pronouncedContents'}).find('span').get('onclick').split('\\'')\n",
    "        audio = audio[1]\n",
    "    except:\n",
    "        print(word_id)\n",
    "        print(url)\n",
    "        print(\"Oops!\",sys.exc_info()[0],\"occured.\")\n",
    "    gender = \"\"\n",
    "    translation = \"\"\n",
    "    eger = \"\"\n",
    "    eeng = \"\"\n",
    "    url = 'https://www.linguee.com/german-english/translation/'\n",
    "    url = url + word + '.html'\n",
    "    try:\n",
    "        r = urllib.request.urlopen(url).read()\n",
    "        soup = BeautifulSoup(r)\n",
    "        g = soup.find('span', {'class': 'tag_wordtype'}).get_text().split(',\\xa0')\n",
    "        if (len(g) >=2):\n",
    "            if(g[0] == \"noun\"):\n",
    "                g = g[1]\n",
    "                if(g == \"feminine\"):\n",
    "                    gender = \"die\"\n",
    "                if(g == \"neuter\"):\n",
    "                    gender = \"das\"\n",
    "                if(g == \"masculine\"):\n",
    "                    gender = \"der\"\n",
    "        translation = soup.find('span', {'class': 'tag_trans'}).find('a').get_text()\n",
    "        e = soup.find('span', {'class': 'tag_e'})\n",
    "        eger = e.find('span', {'class': 'tag_s'}).get_text()\n",
    "        eeng = e.find('span', {'class': 'tag_t'}).get_text()\n",
    "    except:\n",
    "        print(word_id)\n",
    "        print(url)\n",
    "        print(\"Oops!\",sys.exc_info()[0],\"occured.\")\n",
    "    return audio, gender, translation, eger, eeng"
   ]
  },
  {
   "cell_type": "code",
   "execution_count": 54,
   "metadata": {},
   "outputs": [],
   "source": [
    "audio, gender, translation, eger, eeng = word_links('vater')"
   ]
  },
  {
   "cell_type": "markdown",
   "metadata": {},
   "source": [
    "# Enchant word cards with transcription, image, sounds"
   ]
  },
  {
   "cell_type": "code",
   "execution_count": 8,
   "metadata": {},
   "outputs": [],
   "source": [
    "urls = ['https://dictionary.cambridge.org/us/dictionary/english-russian/', \n",
    "        'https://dictionary.cambridge.org/us/dictionary/english/',\n",
    "        'https://www.dictionary.com/browse/']\n",
    "transcription_classes = {urls[0]: 'ipa dipa', urls[1]: 'ipa', urls[2]: 'pron-ipa-content'}"
   ]
  },
  {
   "cell_type": "code",
   "execution_count": 9,
   "metadata": {},
   "outputs": [],
   "source": [
    "def get_audio_0(soup):\n",
    "    audios = soup.find_all('amp-audio')\n",
    "    if (len(audios) >= 2):\n",
    "        audio = audios[1]\n",
    "    else:\n",
    "        audio = audios[0]\n",
    "    audio_link = 'https://dictionary.cambridge.org/' + audio.find('source').get('src')\n",
    "    return audio_link\n",
    "def get_audio_1(soup):\n",
    "    audios = soup.find_all('span', {'class': 'circle circle-btn sound audio_play_button'})\n",
    "    if (len(audios) >= 2):\n",
    "        audio = audios[1]\n",
    "    else:\n",
    "        audio = audios[0]\n",
    "    audio_link = 'https://dictionary.cambridge.org/' + audio.get('data-src-mp3')\n",
    "    return audio_link\n",
    "def get_audio_2(soup):\n",
    "    return soup.find('span', {'class': 'audio-wrapper'}).find('source', {'type': 'audio/mpeg'}).get('src')"
   ]
  },
  {
   "cell_type": "code",
   "execution_count": 10,
   "metadata": {},
   "outputs": [],
   "source": [
    "get_audio_methods = {urls[0]: get_audio_0, urls[1]: get_audio_1, urls[2]: get_audio_2}"
   ]
  },
  {
   "cell_type": "code",
   "execution_count": 11,
   "metadata": {},
   "outputs": [],
   "source": [
    "# Upload transcription, audio links\n",
    "def word_links(word_id, transcription_classes = {}, get_audio_methods = {}):\n",
    "    transcription = \"\"\n",
    "    audio = \"\"\n",
    "    for i in range(len(urls)):\n",
    "        url = urls[i] + word_id.lower()\n",
    "        try:\n",
    "            r = urllib.request.urlopen(url).read()\n",
    "            soup = BeautifulSoup(r)\n",
    "            if (len(transcription) == 0 and len(transcription_classes) > 0):\n",
    "                transcription = soup.find('span', {'class': transcription_classes[urls[i]]}).get_text()\n",
    "            if (len(audio) == 0 and len(get_audio_methods) > 0):\n",
    "                audio = get_audio_methods[urls[i]](soup)\n",
    "            if (not (len(transcription) == 0 and len(transcription_classes) > 0) and \n",
    "                not(len(audio) == 0 and len(get_audio_methods) > 0)):\n",
    "                break\n",
    "        except:\n",
    "            print(word_id)\n",
    "            print(url)\n",
    "            print(\"Oops!\",sys.exc_info()[0],\"occured.\")\n",
    "    return transcription, audio"
   ]
  },
  {
   "cell_type": "code",
   "execution_count": 12,
   "metadata": {
    "ExecuteTime": {
     "end_time": "2019-10-29T15:20:00.699237Z",
     "start_time": "2019-10-29T15:19:59.571236Z"
    }
   },
   "outputs": [
    {
     "data": {
      "text/plain": [
       "('',\n",
       " 'https://dictionary.cambridge.org//us/media/english-russian/us_pron/m/mot/mothe/mother.mp3')"
      ]
     },
     "execution_count": 12,
     "metadata": {},
     "output_type": "execute_result"
    }
   ],
   "source": [
    "word_links('mother', get_audio_methods = get_audio_methods)"
   ]
  },
  {
   "cell_type": "code",
   "execution_count": 15,
   "metadata": {
    "ExecuteTime": {
     "end_time": "2019-09-09T12:10:43.428259Z",
     "start_time": "2019-09-09T12:10:22.632600Z"
    }
   },
   "outputs": [
    {
     "name": "stdout",
     "output_type": "stream",
     "text": [
      "uteruse\n",
      "https://dictionary.cambridge.org/us/dictionary/english-russian/uteruse\n",
      "Oops! <class 'IndexError'> occured.\n",
      "uteruse\n",
      "https://dictionary.cambridge.org/us/dictionary/english/uteruse\n",
      "Oops! <class 'IndexError'> occured.\n",
      "uteruse\n",
      "https://www.dictionary.com/browse/uteruse\n",
      "Oops! <class 'urllib.error.HTTPError'> occured.\n",
      "fetuse\n",
      "https://dictionary.cambridge.org/us/dictionary/english-russian/fetuse\n",
      "Oops! <class 'IndexError'> occured.\n",
      "fetuse\n",
      "https://dictionary.cambridge.org/us/dictionary/english/fetuse\n",
      "Oops! <class 'IndexError'> occured.\n",
      "fetuse\n",
      "https://www.dictionary.com/browse/fetuse\n",
      "Oops! <class 'urllib.error.HTTPError'> occured.\n",
      "rivarly\n",
      "https://dictionary.cambridge.org/us/dictionary/english-russian/rivarly\n",
      "Oops! <class 'IndexError'> occured.\n",
      "rivarly\n",
      "https://dictionary.cambridge.org/us/dictionary/english/rivarly\n",
      "Oops! <class 'IndexError'> occured.\n",
      "rivarly\n",
      "https://www.dictionary.com/browse/rivarly\n",
      "Oops! <class 'urllib.error.HTTPError'> occured.\n"
     ]
    }
   ],
   "source": [
    "# Read words and upload mp3 links\n",
    "import csv\n",
    "\n",
    "f= open(OUT_LINK,\"w\")\n",
    "\n",
    "with open(FILE) as csv_file:\n",
    "    csv_reader = csv.reader(csv_file, delimiter=';')\n",
    "    for i, row in enumerate(csv_reader):\n",
    "        if not(\" \" in row[0]):\n",
    "            word = row[0]\n",
    "            #print(word)\n",
    "            #links = word_links(word, transcription_classes = transcription_classes, get_audio_methods = get_audio_methods)\n",
    "            #links = word_links(word, transcription_classes = transcription_classes)\n",
    "            links = word_links(word, get_audio_methods = get_audio_methods)\n",
    "            f.write(\";\".join(row) + \";\" + \";\".join(links) + \"\\n\")\n",
    "f.close()"
   ]
  },
  {
   "cell_type": "code",
   "execution_count": 44,
   "metadata": {
    "ExecuteTime": {
     "end_time": "2019-10-29T15:20:20.890386Z",
     "start_time": "2019-10-29T15:20:20.868386Z"
    }
   },
   "outputs": [],
   "source": [
    "# Upload link to image for word\n",
    "# https://unsplash.com/developers\n",
    "def image_link(word_id):    \n",
    "    access_key = 'bd390348ffe9b3098bd4352d244370cde79d962026d8e6bb33e7b0aaae7d7a74'\n",
    "    secret_key = 'db9fb822747a679d347cb815f08c299c614eaad386784b39540cd763b761ab3c'\n",
    "    url = 'https://api.unsplash.com/search/photos?client_id=' + access_key + '&client_secret=' + secret_key +'&query=' + word_id.lower()\n",
    "    r = requests.get(url)\n",
    "    try:\n",
    "        name = r.json()\n",
    "        image_link = name['results'][0]['urls']['regular']\n",
    "        return image_link\n",
    "    except:\n",
    "        print(word_id, \"Image\")\n",
    "        print(\"Oops!\",sys.exc_info()[0],\"occured.\")\n",
    "    return \"\""
   ]
  },
  {
   "cell_type": "code",
   "execution_count": null,
   "metadata": {},
   "outputs": [],
   "source": [
    "# Small test\n",
    "url = image_link('persistent issue')\n",
    "from IPython.display import Image\n",
    "from IPython.core.display import HTML \n",
    "Image(url= url)"
   ]
  },
  {
   "cell_type": "code",
   "execution_count": 6,
   "metadata": {
    "ExecuteTime": {
     "end_time": "2019-10-29T15:21:13.372012Z",
     "start_time": "2019-10-29T15:20:24.092384Z"
    }
   },
   "outputs": [
    {
     "name": "stdout",
     "output_type": "stream",
     "text": [
      "['balm', 'bum']\n",
      "['bastard', 'bustard']\n",
      "['branch', 'brunch']\n",
      "['calf', 'cuff']\n",
      "['calm', 'come']\n",
      "[\"can't\", 'cunt']\n",
      "cunt Image\n",
      "Oops! <class 'IndexError'> occured.\n",
      "['dance', 'dunce']\n",
      "dunce Image\n",
      "Oops! <class 'IndexError'> occured.\n",
      "['dramas', 'drummers']\n",
      "['fast', 'fussed']\n",
      "fussed Image\n",
      "Oops! <class 'IndexError'> occured.\n",
      "['grant', 'grunt']\n",
      "grunt Image\n",
      "Oops! <class 'IndexError'> occured.\n",
      "['graph', 'gruff']\n",
      "['haft', 'huffed']\n",
      "haft Image\n",
      "Oops! <class 'IndexError'> occured.\n",
      "huffed Image\n",
      "Oops! <class 'IndexError'> occured.\n",
      "['half', 'huff']\n",
      "['last', 'lust']\n",
      "['staff', 'stuff']\n",
      "['task', 'tusk']\n",
      "['cart', 'cut']\n",
      "['carb', 'vub']\n",
      "vub Dictionary\n",
      "Oops! <class 'urllib.error.HTTPError'> occured.\n",
      "vub Image\n",
      "Oops! <class 'IndexError'> occured.\n",
      "['barn', 'bun']\n",
      "['charm', 'chum']\n",
      "['garner', 'gunner']\n",
      "['heart', 'hut']\n",
      "['March', 'much']\n",
      "['dark', 'duck']\n"
     ]
    }
   ],
   "source": [
    "# Read words and upload mp3 files to the folder\n",
    "import csv\n",
    "\n",
    "f= open(OUT_LINK,\"w\")\n",
    "\n",
    "with open(FILE) as csv_file:\n",
    "    csv_reader = csv.reader(csv_file)\n",
    "    for i, row in enumerate(csv_reader):\n",
    "        words = row[0].split(' ')\n",
    "        print(words)\n",
    "        for word in words:\n",
    "            links = word_links(word)\n",
    "            image = image_link(word)\n",
    "            f.write(word + \"@\" + \"@\".join(links) + \"@\" + image + \"@\")\n",
    "            \n",
    "        f.write('\\n')\n",
    "        \n",
    "f.close()"
   ]
  },
  {
   "cell_type": "code",
   "execution_count": 3,
   "metadata": {},
   "outputs": [],
   "source": [
    "# Upload link to image for word\n",
    "# https://unsplash.com/developers\n",
    "def image_links(word_id):\n",
    "   \n",
    "    access_key = 'bd390348ffe9b3098bd4352d244370cde79d962026d8e6bb33e7b0aaae7d7a74'\n",
    "    secret_key = 'db9fb822747a679d347cb815f08c299c614eaad386784b39540cd763b761ab3c'\n",
    "    url = 'https://api.unsplash.com/search/photos?client_id=' + access_key + '&client_secret=' + secret_key +'&query=' + word_id.lower()\n",
    "    r = requests.get(url)\n",
    "    try:\n",
    "        name = r.json()\n",
    "        return name['results']\n",
    "        #image_link = name['results'][0]['urls']['regular']\n",
    "    except:\n",
    "        print(word_id, \"Image\")\n",
    "        print(\"Oops!\",sys.exc_info()[0],\"occured.\")\n",
    "    return \"\""
   ]
  },
  {
   "cell_type": "code",
   "execution_count": 5,
   "metadata": {
    "scrolled": true
   },
   "outputs": [
    {
     "name": "stdout",
     "output_type": "stream",
     "text": [
      "attentiveness\n",
      "https://images.unsplash.com/photo-1531986907323-659a9efa41b9?ixlib=rb-1.2.1&q=80&fm=jpg&crop=entropy&cs=tinysrgb&w=1080&fit=max&ixid=eyJhcHBfaWQiOjk4NTU4fQ\n"
     ]
    },
    {
     "data": {
      "text/html": [
       "<img src=\"https://images.unsplash.com/photo-1531986907323-659a9efa41b9?ixlib=rb-1.2.1&q=80&fm=jpg&crop=entropy&cs=tinysrgb&w=1080&fit=max&ixid=eyJhcHBfaWQiOjk4NTU4fQ\" width=\"200\"/>"
      ],
      "text/plain": [
       "<IPython.core.display.Image object>"
      ]
     },
     "metadata": {},
     "output_type": "display_data"
    },
    {
     "name": "stdout",
     "output_type": "stream",
     "text": [
      "administer something to somebody\n",
      "https://images.unsplash.com/photo-1484663548870-2aa675ba38fb?ixlib=rb-1.2.1&q=80&fm=jpg&crop=entropy&cs=tinysrgb&w=1080&fit=max&ixid=eyJhcHBfaWQiOjk4NTU4fQ\n"
     ]
    },
    {
     "data": {
      "text/html": [
       "<img src=\"https://images.unsplash.com/photo-1484663548870-2aa675ba38fb?ixlib=rb-1.2.1&q=80&fm=jpg&crop=entropy&cs=tinysrgb&w=1080&fit=max&ixid=eyJhcHBfaWQiOjk4NTU4fQ\" width=\"200\"/>"
      ],
      "text/plain": [
       "<IPython.core.display.Image object>"
      ]
     },
     "metadata": {},
     "output_type": "display_data"
    },
    {
     "name": "stdout",
     "output_type": "stream",
     "text": [
      "https://images.unsplash.com/photo-1561799113-3eb2e87c626f?ixlib=rb-1.2.1&q=80&fm=jpg&crop=entropy&cs=tinysrgb&w=1080&fit=max&ixid=eyJhcHBfaWQiOjk4NTU4fQ\n"
     ]
    },
    {
     "data": {
      "text/html": [
       "<img src=\"https://images.unsplash.com/photo-1561799113-3eb2e87c626f?ixlib=rb-1.2.1&q=80&fm=jpg&crop=entropy&cs=tinysrgb&w=1080&fit=max&ixid=eyJhcHBfaWQiOjk4NTU4fQ\" width=\"200\"/>"
      ],
      "text/plain": [
       "<IPython.core.display.Image object>"
      ]
     },
     "metadata": {},
     "output_type": "display_data"
    },
    {
     "name": "stdout",
     "output_type": "stream",
     "text": [
      "https://images.unsplash.com/photo-1537549603790-54c64b32b848?ixlib=rb-1.2.1&q=80&fm=jpg&crop=entropy&cs=tinysrgb&w=1080&fit=max&ixid=eyJhcHBfaWQiOjk4NTU4fQ\n"
     ]
    },
    {
     "data": {
      "text/html": [
       "<img src=\"https://images.unsplash.com/photo-1537549603790-54c64b32b848?ixlib=rb-1.2.1&q=80&fm=jpg&crop=entropy&cs=tinysrgb&w=1080&fit=max&ixid=eyJhcHBfaWQiOjk4NTU4fQ\" width=\"200\"/>"
      ],
      "text/plain": [
       "<IPython.core.display.Image object>"
      ]
     },
     "metadata": {},
     "output_type": "display_data"
    },
    {
     "name": "stdout",
     "output_type": "stream",
     "text": [
      "https://images.unsplash.com/photo-1484071096222-7936a931e094?ixlib=rb-1.2.1&q=80&fm=jpg&crop=entropy&cs=tinysrgb&w=1080&fit=max&ixid=eyJhcHBfaWQiOjk4NTU4fQ\n"
     ]
    },
    {
     "data": {
      "text/html": [
       "<img src=\"https://images.unsplash.com/photo-1484071096222-7936a931e094?ixlib=rb-1.2.1&q=80&fm=jpg&crop=entropy&cs=tinysrgb&w=1080&fit=max&ixid=eyJhcHBfaWQiOjk4NTU4fQ\" width=\"200\"/>"
      ],
      "text/plain": [
       "<IPython.core.display.Image object>"
      ]
     },
     "metadata": {},
     "output_type": "display_data"
    },
    {
     "name": "stdout",
     "output_type": "stream",
     "text": [
      "https://images.unsplash.com/photo-1497393007523-302c86e07c5d?ixlib=rb-1.2.1&q=80&fm=jpg&crop=entropy&cs=tinysrgb&w=1080&fit=max&ixid=eyJhcHBfaWQiOjk4NTU4fQ\n"
     ]
    },
    {
     "data": {
      "text/html": [
       "<img src=\"https://images.unsplash.com/photo-1497393007523-302c86e07c5d?ixlib=rb-1.2.1&q=80&fm=jpg&crop=entropy&cs=tinysrgb&w=1080&fit=max&ixid=eyJhcHBfaWQiOjk4NTU4fQ\" width=\"200\"/>"
      ],
      "text/plain": [
       "<IPython.core.display.Image object>"
      ]
     },
     "metadata": {},
     "output_type": "display_data"
    },
    {
     "name": "stdout",
     "output_type": "stream",
     "text": [
      "escalate\n",
      "https://images.unsplash.com/photo-1552048500-074b9de8333a?ixlib=rb-1.2.1&q=80&fm=jpg&crop=entropy&cs=tinysrgb&w=1080&fit=max&ixid=eyJhcHBfaWQiOjk4NTU4fQ\n"
     ]
    },
    {
     "data": {
      "text/html": [
       "<img src=\"https://images.unsplash.com/photo-1552048500-074b9de8333a?ixlib=rb-1.2.1&q=80&fm=jpg&crop=entropy&cs=tinysrgb&w=1080&fit=max&ixid=eyJhcHBfaWQiOjk4NTU4fQ\" width=\"200\"/>"
      ],
      "text/plain": [
       "<IPython.core.display.Image object>"
      ]
     },
     "metadata": {},
     "output_type": "display_data"
    },
    {
     "name": "stdout",
     "output_type": "stream",
     "text": [
      "https://images.unsplash.com/photo-1520895181739-4ac079a31ac7?ixlib=rb-1.2.1&q=80&fm=jpg&crop=entropy&cs=tinysrgb&w=1080&fit=max&ixid=eyJhcHBfaWQiOjk4NTU4fQ\n"
     ]
    },
    {
     "data": {
      "text/html": [
       "<img src=\"https://images.unsplash.com/photo-1520895181739-4ac079a31ac7?ixlib=rb-1.2.1&q=80&fm=jpg&crop=entropy&cs=tinysrgb&w=1080&fit=max&ixid=eyJhcHBfaWQiOjk4NTU4fQ\" width=\"200\"/>"
      ],
      "text/plain": [
       "<IPython.core.display.Image object>"
      ]
     },
     "metadata": {},
     "output_type": "display_data"
    },
    {
     "name": "stdout",
     "output_type": "stream",
     "text": [
      "https://images.unsplash.com/photo-1509948408774-3bbe12bc2102?ixlib=rb-1.2.1&q=80&fm=jpg&crop=entropy&cs=tinysrgb&w=1080&fit=max&ixid=eyJhcHBfaWQiOjk4NTU4fQ\n"
     ]
    },
    {
     "data": {
      "text/html": [
       "<img src=\"https://images.unsplash.com/photo-1509948408774-3bbe12bc2102?ixlib=rb-1.2.1&q=80&fm=jpg&crop=entropy&cs=tinysrgb&w=1080&fit=max&ixid=eyJhcHBfaWQiOjk4NTU4fQ\" width=\"200\"/>"
      ],
      "text/plain": [
       "<IPython.core.display.Image object>"
      ]
     },
     "metadata": {},
     "output_type": "display_data"
    },
    {
     "name": "stdout",
     "output_type": "stream",
     "text": [
      "for this project, we used\n",
      "https://images.unsplash.com/photo-1468421870903-4df1664ac249?ixlib=rb-1.2.1&q=80&fm=jpg&crop=entropy&cs=tinysrgb&w=1080&fit=max&ixid=eyJhcHBfaWQiOjk4NTU4fQ\n"
     ]
    },
    {
     "data": {
      "text/html": [
       "<img src=\"https://images.unsplash.com/photo-1468421870903-4df1664ac249?ixlib=rb-1.2.1&q=80&fm=jpg&crop=entropy&cs=tinysrgb&w=1080&fit=max&ixid=eyJhcHBfaWQiOjk4NTU4fQ\" width=\"200\"/>"
      ],
      "text/plain": [
       "<IPython.core.display.Image object>"
      ]
     },
     "metadata": {},
     "output_type": "display_data"
    },
    {
     "name": "stdout",
     "output_type": "stream",
     "text": [
      "https://images.unsplash.com/photo-1523395409694-e6279211b027?ixlib=rb-1.2.1&q=80&fm=jpg&crop=entropy&cs=tinysrgb&w=1080&fit=max&ixid=eyJhcHBfaWQiOjk4NTU4fQ\n"
     ]
    },
    {
     "data": {
      "text/html": [
       "<img src=\"https://images.unsplash.com/photo-1523395409694-e6279211b027?ixlib=rb-1.2.1&q=80&fm=jpg&crop=entropy&cs=tinysrgb&w=1080&fit=max&ixid=eyJhcHBfaWQiOjk4NTU4fQ\" width=\"200\"/>"
      ],
      "text/plain": [
       "<IPython.core.display.Image object>"
      ]
     },
     "metadata": {},
     "output_type": "display_data"
    },
    {
     "name": "stdout",
     "output_type": "stream",
     "text": [
      "https://images.unsplash.com/photo-1465433045946-ba6506ce5a59?ixlib=rb-1.2.1&q=80&fm=jpg&crop=entropy&cs=tinysrgb&w=1080&fit=max&ixid=eyJhcHBfaWQiOjk4NTU4fQ\n"
     ]
    },
    {
     "data": {
      "text/html": [
       "<img src=\"https://images.unsplash.com/photo-1465433045946-ba6506ce5a59?ixlib=rb-1.2.1&q=80&fm=jpg&crop=entropy&cs=tinysrgb&w=1080&fit=max&ixid=eyJhcHBfaWQiOjk4NTU4fQ\" width=\"200\"/>"
      ],
      "text/plain": [
       "<IPython.core.display.Image object>"
      ]
     },
     "metadata": {},
     "output_type": "display_data"
    },
    {
     "name": "stdout",
     "output_type": "stream",
     "text": [
      "https://images.unsplash.com/photo-1484781663516-4c4ca4b04a13?ixlib=rb-1.2.1&q=80&fm=jpg&crop=entropy&cs=tinysrgb&w=1080&fit=max&ixid=eyJhcHBfaWQiOjk4NTU4fQ\n"
     ]
    },
    {
     "data": {
      "text/html": [
       "<img src=\"https://images.unsplash.com/photo-1484781663516-4c4ca4b04a13?ixlib=rb-1.2.1&q=80&fm=jpg&crop=entropy&cs=tinysrgb&w=1080&fit=max&ixid=eyJhcHBfaWQiOjk4NTU4fQ\" width=\"200\"/>"
      ],
      "text/plain": [
       "<IPython.core.display.Image object>"
      ]
     },
     "metadata": {},
     "output_type": "display_data"
    },
    {
     "name": "stdout",
     "output_type": "stream",
     "text": [
      "https://images.unsplash.com/photo-1479769664363-d2dd7054a1c4?ixlib=rb-1.2.1&q=80&fm=jpg&crop=entropy&cs=tinysrgb&w=1080&fit=max&ixid=eyJhcHBfaWQiOjk4NTU4fQ\n"
     ]
    },
    {
     "data": {
      "text/html": [
       "<img src=\"https://images.unsplash.com/photo-1479769664363-d2dd7054a1c4?ixlib=rb-1.2.1&q=80&fm=jpg&crop=entropy&cs=tinysrgb&w=1080&fit=max&ixid=eyJhcHBfaWQiOjk4NTU4fQ\" width=\"200\"/>"
      ],
      "text/plain": [
       "<IPython.core.display.Image object>"
      ]
     },
     "metadata": {},
     "output_type": "display_data"
    },
    {
     "name": "stdout",
     "output_type": "stream",
     "text": [
      "the goal of this study was to do\n",
      "https://images.unsplash.com/photo-1456324504439-367cee3b3c32?ixlib=rb-1.2.1&q=80&fm=jpg&crop=entropy&cs=tinysrgb&w=1080&fit=max&ixid=eyJhcHBfaWQiOjk4NTU4fQ\n"
     ]
    },
    {
     "data": {
      "text/html": [
       "<img src=\"https://images.unsplash.com/photo-1456324504439-367cee3b3c32?ixlib=rb-1.2.1&q=80&fm=jpg&crop=entropy&cs=tinysrgb&w=1080&fit=max&ixid=eyJhcHBfaWQiOjk4NTU4fQ\" width=\"200\"/>"
      ],
      "text/plain": [
       "<IPython.core.display.Image object>"
      ]
     },
     "metadata": {},
     "output_type": "display_data"
    },
    {
     "name": "stdout",
     "output_type": "stream",
     "text": [
      "https://images.unsplash.com/photo-1471107191679-f26174d2d41e?ixlib=rb-1.2.1&q=80&fm=jpg&crop=entropy&cs=tinysrgb&w=1080&fit=max&ixid=eyJhcHBfaWQiOjk4NTU4fQ\n"
     ]
    },
    {
     "data": {
      "text/html": [
       "<img src=\"https://images.unsplash.com/photo-1471107191679-f26174d2d41e?ixlib=rb-1.2.1&q=80&fm=jpg&crop=entropy&cs=tinysrgb&w=1080&fit=max&ixid=eyJhcHBfaWQiOjk4NTU4fQ\" width=\"200\"/>"
      ],
      "text/plain": [
       "<IPython.core.display.Image object>"
      ]
     },
     "metadata": {},
     "output_type": "display_data"
    },
    {
     "name": "stdout",
     "output_type": "stream",
     "text": [
      "https://images.unsplash.com/photo-1462847722219-d493a9fd4b7c?ixlib=rb-1.2.1&q=80&fm=jpg&crop=entropy&cs=tinysrgb&w=1080&fit=max&ixid=eyJhcHBfaWQiOjk4NTU4fQ\n"
     ]
    },
    {
     "data": {
      "text/html": [
       "<img src=\"https://images.unsplash.com/photo-1462847722219-d493a9fd4b7c?ixlib=rb-1.2.1&q=80&fm=jpg&crop=entropy&cs=tinysrgb&w=1080&fit=max&ixid=eyJhcHBfaWQiOjk4NTU4fQ\" width=\"200\"/>"
      ],
      "text/plain": [
       "<IPython.core.display.Image object>"
      ]
     },
     "metadata": {},
     "output_type": "display_data"
    },
    {
     "name": "stdout",
     "output_type": "stream",
     "text": [
      "https://images.unsplash.com/photo-1477901492169-d59e6428fc90?ixlib=rb-1.2.1&q=80&fm=jpg&crop=entropy&cs=tinysrgb&w=1080&fit=max&ixid=eyJhcHBfaWQiOjk4NTU4fQ\n"
     ]
    },
    {
     "data": {
      "text/html": [
       "<img src=\"https://images.unsplash.com/photo-1477901492169-d59e6428fc90?ixlib=rb-1.2.1&q=80&fm=jpg&crop=entropy&cs=tinysrgb&w=1080&fit=max&ixid=eyJhcHBfaWQiOjk4NTU4fQ\" width=\"200\"/>"
      ],
      "text/plain": [
       "<IPython.core.display.Image object>"
      ]
     },
     "metadata": {},
     "output_type": "display_data"
    },
    {
     "name": "stdout",
     "output_type": "stream",
     "text": [
      "https://images.unsplash.com/photo-1566953484787-8a18f713e508?ixlib=rb-1.2.1&q=80&fm=jpg&crop=entropy&cs=tinysrgb&w=1080&fit=max&ixid=eyJhcHBfaWQiOjk4NTU4fQ\n"
     ]
    },
    {
     "data": {
      "text/html": [
       "<img src=\"https://images.unsplash.com/photo-1566953484787-8a18f713e508?ixlib=rb-1.2.1&q=80&fm=jpg&crop=entropy&cs=tinysrgb&w=1080&fit=max&ixid=eyJhcHBfaWQiOjk4NTU4fQ\" width=\"200\"/>"
      ],
      "text/plain": [
       "<IPython.core.display.Image object>"
      ]
     },
     "metadata": {},
     "output_type": "display_data"
    },
    {
     "name": "stdout",
     "output_type": "stream",
     "text": [
      "by researching the relationship of something to something\n",
      "https://images.unsplash.com/photo-1480623940435-62a1340b08c6?ixlib=rb-1.2.1&q=80&fm=jpg&crop=entropy&cs=tinysrgb&w=1080&fit=max&ixid=eyJhcHBfaWQiOjk4NTU4fQ\n"
     ]
    },
    {
     "data": {
      "text/html": [
       "<img src=\"https://images.unsplash.com/photo-1480623940435-62a1340b08c6?ixlib=rb-1.2.1&q=80&fm=jpg&crop=entropy&cs=tinysrgb&w=1080&fit=max&ixid=eyJhcHBfaWQiOjk4NTU4fQ\" width=\"200\"/>"
      ],
      "text/plain": [
       "<IPython.core.display.Image object>"
      ]
     },
     "metadata": {},
     "output_type": "display_data"
    },
    {
     "name": "stdout",
     "output_type": "stream",
     "text": [
      "https://images.unsplash.com/photo-1484876632310-ddb3b48133cc?ixlib=rb-1.2.1&q=80&fm=jpg&crop=entropy&cs=tinysrgb&w=1080&fit=max&ixid=eyJhcHBfaWQiOjk4NTU4fQ\n"
     ]
    },
    {
     "data": {
      "text/html": [
       "<img src=\"https://images.unsplash.com/photo-1484876632310-ddb3b48133cc?ixlib=rb-1.2.1&q=80&fm=jpg&crop=entropy&cs=tinysrgb&w=1080&fit=max&ixid=eyJhcHBfaWQiOjk4NTU4fQ\" width=\"200\"/>"
      ],
      "text/plain": [
       "<IPython.core.display.Image object>"
      ]
     },
     "metadata": {},
     "output_type": "display_data"
    },
    {
     "name": "stdout",
     "output_type": "stream",
     "text": [
      "https://images.unsplash.com/photo-1494774157365-9e04c6720e47?ixlib=rb-1.2.1&q=80&fm=jpg&crop=entropy&cs=tinysrgb&w=1080&fit=max&ixid=eyJhcHBfaWQiOjk4NTU4fQ\n"
     ]
    },
    {
     "data": {
      "text/html": [
       "<img src=\"https://images.unsplash.com/photo-1494774157365-9e04c6720e47?ixlib=rb-1.2.1&q=80&fm=jpg&crop=entropy&cs=tinysrgb&w=1080&fit=max&ixid=eyJhcHBfaWQiOjk4NTU4fQ\" width=\"200\"/>"
      ],
      "text/plain": [
       "<IPython.core.display.Image object>"
      ]
     },
     "metadata": {},
     "output_type": "display_data"
    },
    {
     "name": "stdout",
     "output_type": "stream",
     "text": [
      "https://images.unsplash.com/photo-1493732753663-827f6ef7832b?ixlib=rb-1.2.1&q=80&fm=jpg&crop=entropy&cs=tinysrgb&w=1080&fit=max&ixid=eyJhcHBfaWQiOjk4NTU4fQ\n"
     ]
    },
    {
     "data": {
      "text/html": [
       "<img src=\"https://images.unsplash.com/photo-1493732753663-827f6ef7832b?ixlib=rb-1.2.1&q=80&fm=jpg&crop=entropy&cs=tinysrgb&w=1080&fit=max&ixid=eyJhcHBfaWQiOjk4NTU4fQ\" width=\"200\"/>"
      ],
      "text/plain": [
       "<IPython.core.display.Image object>"
      ]
     },
     "metadata": {},
     "output_type": "display_data"
    },
    {
     "name": "stdout",
     "output_type": "stream",
     "text": [
      "https://images.unsplash.com/photo-1469507473730-27c7f11e4527?ixlib=rb-1.2.1&q=80&fm=jpg&crop=entropy&cs=tinysrgb&w=1080&fit=max&ixid=eyJhcHBfaWQiOjk4NTU4fQ\n"
     ]
    },
    {
     "data": {
      "text/html": [
       "<img src=\"https://images.unsplash.com/photo-1469507473730-27c7f11e4527?ixlib=rb-1.2.1&q=80&fm=jpg&crop=entropy&cs=tinysrgb&w=1080&fit=max&ixid=eyJhcHBfaWQiOjk4NTU4fQ\" width=\"200\"/>"
      ],
      "text/plain": [
       "<IPython.core.display.Image object>"
      ]
     },
     "metadata": {},
     "output_type": "display_data"
    },
    {
     "name": "stdout",
     "output_type": "stream",
     "text": [
      "further, the research reflects\n",
      "https://images.unsplash.com/photo-1486825586573-7131f7991bdd?ixlib=rb-1.2.1&q=80&fm=jpg&crop=entropy&cs=tinysrgb&w=1080&fit=max&ixid=eyJhcHBfaWQiOjk4NTU4fQ\n"
     ]
    },
    {
     "data": {
      "text/html": [
       "<img src=\"https://images.unsplash.com/photo-1486825586573-7131f7991bdd?ixlib=rb-1.2.1&q=80&fm=jpg&crop=entropy&cs=tinysrgb&w=1080&fit=max&ixid=eyJhcHBfaWQiOjk4NTU4fQ\" width=\"200\"/>"
      ],
      "text/plain": [
       "<IPython.core.display.Image object>"
      ]
     },
     "metadata": {},
     "output_type": "display_data"
    },
    {
     "name": "stdout",
     "output_type": "stream",
     "text": [
      "https://images.unsplash.com/photo-1458040937381-49c067dfd49a?ixlib=rb-1.2.1&q=80&fm=jpg&crop=entropy&cs=tinysrgb&w=1080&fit=max&ixid=eyJhcHBfaWQiOjk4NTU4fQ\n"
     ]
    },
    {
     "data": {
      "text/html": [
       "<img src=\"https://images.unsplash.com/photo-1458040937381-49c067dfd49a?ixlib=rb-1.2.1&q=80&fm=jpg&crop=entropy&cs=tinysrgb&w=1080&fit=max&ixid=eyJhcHBfaWQiOjk4NTU4fQ\" width=\"200\"/>"
      ],
      "text/plain": [
       "<IPython.core.display.Image object>"
      ]
     },
     "metadata": {},
     "output_type": "display_data"
    },
    {
     "name": "stdout",
     "output_type": "stream",
     "text": [
      "https://images.unsplash.com/photo-1475906089153-644d9452ce87?ixlib=rb-1.2.1&q=80&fm=jpg&crop=entropy&cs=tinysrgb&w=1080&fit=max&ixid=eyJhcHBfaWQiOjk4NTU4fQ\n"
     ]
    },
    {
     "data": {
      "text/html": [
       "<img src=\"https://images.unsplash.com/photo-1475906089153-644d9452ce87?ixlib=rb-1.2.1&q=80&fm=jpg&crop=entropy&cs=tinysrgb&w=1080&fit=max&ixid=eyJhcHBfaWQiOjk4NTU4fQ\" width=\"200\"/>"
      ],
      "text/plain": [
       "<IPython.core.display.Image object>"
      ]
     },
     "metadata": {},
     "output_type": "display_data"
    },
    {
     "name": "stdout",
     "output_type": "stream",
     "text": [
      "https://images.unsplash.com/photo-1470995604269-a974c362dafe?ixlib=rb-1.2.1&q=80&fm=jpg&crop=entropy&cs=tinysrgb&w=1080&fit=max&ixid=eyJhcHBfaWQiOjk4NTU4fQ\n"
     ]
    },
    {
     "data": {
      "text/html": [
       "<img src=\"https://images.unsplash.com/photo-1470995604269-a974c362dafe?ixlib=rb-1.2.1&q=80&fm=jpg&crop=entropy&cs=tinysrgb&w=1080&fit=max&ixid=eyJhcHBfaWQiOjk4NTU4fQ\" width=\"200\"/>"
      ],
      "text/plain": [
       "<IPython.core.display.Image object>"
      ]
     },
     "metadata": {},
     "output_type": "display_data"
    },
    {
     "name": "stdout",
     "output_type": "stream",
     "text": [
      "https://images.unsplash.com/photo-1483425571841-9662f86c7154?ixlib=rb-1.2.1&q=80&fm=jpg&crop=entropy&cs=tinysrgb&w=1080&fit=max&ixid=eyJhcHBfaWQiOjk4NTU4fQ\n"
     ]
    },
    {
     "data": {
      "text/html": [
       "<img src=\"https://images.unsplash.com/photo-1483425571841-9662f86c7154?ixlib=rb-1.2.1&q=80&fm=jpg&crop=entropy&cs=tinysrgb&w=1080&fit=max&ixid=eyJhcHBfaWQiOjk4NTU4fQ\" width=\"200\"/>"
      ],
      "text/plain": [
       "<IPython.core.display.Image object>"
      ]
     },
     "metadata": {},
     "output_type": "display_data"
    },
    {
     "name": "stdout",
     "output_type": "stream",
     "text": [
      "the research findings indicate\n",
      "https://images.unsplash.com/photo-1486825586573-7131f7991bdd?ixlib=rb-1.2.1&q=80&fm=jpg&crop=entropy&cs=tinysrgb&w=1080&fit=max&ixid=eyJhcHBfaWQiOjk4NTU4fQ\n"
     ]
    },
    {
     "data": {
      "text/html": [
       "<img src=\"https://images.unsplash.com/photo-1486825586573-7131f7991bdd?ixlib=rb-1.2.1&q=80&fm=jpg&crop=entropy&cs=tinysrgb&w=1080&fit=max&ixid=eyJhcHBfaWQiOjk4NTU4fQ\" width=\"200\"/>"
      ],
      "text/plain": [
       "<IPython.core.display.Image object>"
      ]
     },
     "metadata": {},
     "output_type": "display_data"
    },
    {
     "name": "stdout",
     "output_type": "stream",
     "text": [
      "https://images.unsplash.com/photo-1458040937381-49c067dfd49a?ixlib=rb-1.2.1&q=80&fm=jpg&crop=entropy&cs=tinysrgb&w=1080&fit=max&ixid=eyJhcHBfaWQiOjk4NTU4fQ\n"
     ]
    },
    {
     "data": {
      "text/html": [
       "<img src=\"https://images.unsplash.com/photo-1458040937381-49c067dfd49a?ixlib=rb-1.2.1&q=80&fm=jpg&crop=entropy&cs=tinysrgb&w=1080&fit=max&ixid=eyJhcHBfaWQiOjk4NTU4fQ\" width=\"200\"/>"
      ],
      "text/plain": [
       "<IPython.core.display.Image object>"
      ]
     },
     "metadata": {},
     "output_type": "display_data"
    },
    {
     "name": "stdout",
     "output_type": "stream",
     "text": [
      "https://images.unsplash.com/photo-1475906089153-644d9452ce87?ixlib=rb-1.2.1&q=80&fm=jpg&crop=entropy&cs=tinysrgb&w=1080&fit=max&ixid=eyJhcHBfaWQiOjk4NTU4fQ\n"
     ]
    },
    {
     "data": {
      "text/html": [
       "<img src=\"https://images.unsplash.com/photo-1475906089153-644d9452ce87?ixlib=rb-1.2.1&q=80&fm=jpg&crop=entropy&cs=tinysrgb&w=1080&fit=max&ixid=eyJhcHBfaWQiOjk4NTU4fQ\" width=\"200\"/>"
      ],
      "text/plain": [
       "<IPython.core.display.Image object>"
      ]
     },
     "metadata": {},
     "output_type": "display_data"
    },
    {
     "name": "stdout",
     "output_type": "stream",
     "text": [
      "https://images.unsplash.com/photo-1486148727607-f97aa04df01e?ixlib=rb-1.2.1&q=80&fm=jpg&crop=entropy&cs=tinysrgb&w=1080&fit=max&ixid=eyJhcHBfaWQiOjk4NTU4fQ\n"
     ]
    },
    {
     "data": {
      "text/html": [
       "<img src=\"https://images.unsplash.com/photo-1486148727607-f97aa04df01e?ixlib=rb-1.2.1&q=80&fm=jpg&crop=entropy&cs=tinysrgb&w=1080&fit=max&ixid=eyJhcHBfaWQiOjk4NTU4fQ\" width=\"200\"/>"
      ],
      "text/plain": [
       "<IPython.core.display.Image object>"
      ]
     },
     "metadata": {},
     "output_type": "display_data"
    },
    {
     "name": "stdout",
     "output_type": "stream",
     "text": [
      "https://images.unsplash.com/photo-1432888498266-38ffec3eaf0a?ixlib=rb-1.2.1&q=80&fm=jpg&crop=entropy&cs=tinysrgb&w=1080&fit=max&ixid=eyJhcHBfaWQiOjk4NTU4fQ\n"
     ]
    },
    {
     "data": {
      "text/html": [
       "<img src=\"https://images.unsplash.com/photo-1432888498266-38ffec3eaf0a?ixlib=rb-1.2.1&q=80&fm=jpg&crop=entropy&cs=tinysrgb&w=1080&fit=max&ixid=eyJhcHBfaWQiOjk4NTU4fQ\" width=\"200\"/>"
      ],
      "text/plain": [
       "<IPython.core.display.Image object>"
      ]
     },
     "metadata": {},
     "output_type": "display_data"
    },
    {
     "name": "stdout",
     "output_type": "stream",
     "text": [
      "the findings reveal that\n",
      "https://images.unsplash.com/photo-1486148727607-f97aa04df01e?ixlib=rb-1.2.1&q=80&fm=jpg&crop=entropy&cs=tinysrgb&w=1080&fit=max&ixid=eyJhcHBfaWQiOjk4NTU4fQ\n"
     ]
    },
    {
     "data": {
      "text/html": [
       "<img src=\"https://images.unsplash.com/photo-1486148727607-f97aa04df01e?ixlib=rb-1.2.1&q=80&fm=jpg&crop=entropy&cs=tinysrgb&w=1080&fit=max&ixid=eyJhcHBfaWQiOjk4NTU4fQ\" width=\"200\"/>"
      ],
      "text/plain": [
       "<IPython.core.display.Image object>"
      ]
     },
     "metadata": {},
     "output_type": "display_data"
    },
    {
     "name": "stdout",
     "output_type": "stream",
     "text": [
      "https://images.unsplash.com/photo-1505403858922-407e2bfdf959?ixlib=rb-1.2.1&q=80&fm=jpg&crop=entropy&cs=tinysrgb&w=1080&fit=max&ixid=eyJhcHBfaWQiOjk4NTU4fQ\n"
     ]
    },
    {
     "data": {
      "text/html": [
       "<img src=\"https://images.unsplash.com/photo-1505403858922-407e2bfdf959?ixlib=rb-1.2.1&q=80&fm=jpg&crop=entropy&cs=tinysrgb&w=1080&fit=max&ixid=eyJhcHBfaWQiOjk4NTU4fQ\" width=\"200\"/>"
      ],
      "text/plain": [
       "<IPython.core.display.Image object>"
      ]
     },
     "metadata": {},
     "output_type": "display_data"
    },
    {
     "name": "stdout",
     "output_type": "stream",
     "text": [
      "https://images.unsplash.com/photo-1484820986637-7ec3e85b394f?ixlib=rb-1.2.1&q=80&fm=jpg&crop=entropy&cs=tinysrgb&w=1080&fit=max&ixid=eyJhcHBfaWQiOjk4NTU4fQ\n"
     ]
    },
    {
     "data": {
      "text/html": [
       "<img src=\"https://images.unsplash.com/photo-1484820986637-7ec3e85b394f?ixlib=rb-1.2.1&q=80&fm=jpg&crop=entropy&cs=tinysrgb&w=1080&fit=max&ixid=eyJhcHBfaWQiOjk4NTU4fQ\" width=\"200\"/>"
      ],
      "text/plain": [
       "<IPython.core.display.Image object>"
      ]
     },
     "metadata": {},
     "output_type": "display_data"
    },
    {
     "name": "stdout",
     "output_type": "stream",
     "text": [
      "https://images.unsplash.com/photo-1522024343969-805a5eadd461?ixlib=rb-1.2.1&q=80&fm=jpg&crop=entropy&cs=tinysrgb&w=1080&fit=max&ixid=eyJhcHBfaWQiOjk4NTU4fQ\n"
     ]
    },
    {
     "data": {
      "text/html": [
       "<img src=\"https://images.unsplash.com/photo-1522024343969-805a5eadd461?ixlib=rb-1.2.1&q=80&fm=jpg&crop=entropy&cs=tinysrgb&w=1080&fit=max&ixid=eyJhcHBfaWQiOjk4NTU4fQ\" width=\"200\"/>"
      ],
      "text/plain": [
       "<IPython.core.display.Image object>"
      ]
     },
     "metadata": {},
     "output_type": "display_data"
    },
    {
     "name": "stdout",
     "output_type": "stream",
     "text": [
      "https://images.unsplash.com/photo-1552842027-7a06d816bb2a?ixlib=rb-1.2.1&q=80&fm=jpg&crop=entropy&cs=tinysrgb&w=1080&fit=max&ixid=eyJhcHBfaWQiOjk4NTU4fQ\n"
     ]
    },
    {
     "data": {
      "text/html": [
       "<img src=\"https://images.unsplash.com/photo-1552842027-7a06d816bb2a?ixlib=rb-1.2.1&q=80&fm=jpg&crop=entropy&cs=tinysrgb&w=1080&fit=max&ixid=eyJhcHBfaWQiOjk4NTU4fQ\" width=\"200\"/>"
      ],
      "text/plain": [
       "<IPython.core.display.Image object>"
      ]
     },
     "metadata": {},
     "output_type": "display_data"
    },
    {
     "name": "stdout",
     "output_type": "stream",
     "text": [
      "\n",
      "\n"
     ]
    }
   ],
   "source": [
    "from IPython.display import Image, display\n",
    "from IPython.core.display import HTML \n",
    "IMGCOUNT = 5\n",
    "\n",
    "with open(FILE) as f:\n",
    "    lines = f.read().split('\\n')\n",
    "    for word in lines:\n",
    "        print(word)\n",
    "        links = image_links(word)\n",
    "        count = min(len(links), IMGCOUNT)\n",
    "        for i in range(count):\n",
    "            link = links[i]['urls']['regular']\n",
    "            print(link)\n",
    "            display(Image(url = link, width = 200))"
   ]
  },
  {
   "cell_type": "markdown",
   "metadata": {},
   "source": [
    "# Download images from Quizlet"
   ]
  },
  {
   "cell_type": "code",
   "execution_count": 3,
   "metadata": {},
   "outputs": [],
   "source": [
    "import pprint as pp\n",
    "def image_links(file_name):\n",
    "    file = open(file_name, \"r\")\n",
    "    f= open(file_name.split('.')[0] + '_out.txt',\"w\")\n",
    "    r = file.read()\n",
    "    soup = BeautifulSoup(r)\n",
    "    try:\n",
    "        words = soup.find_all('a', {'class': 'SetPageTerm-image'})\n",
    "        print(words)\n",
    "        links = [e['style'].split('\"')[1] for e in words]\n",
    "        for link in links:\n",
    "            f.write(link + '\\n')\n",
    "        pp.pprint(links)\n",
    "    except:\n",
    "        pass\n",
    "    f.close()\n",
    "    return \"\""
   ]
  },
  {
   "cell_type": "code",
   "execution_count": 4,
   "metadata": {},
   "outputs": [
    {
     "name": "stdout",
     "output_type": "stream",
     "text": [
      "[<a class=\"SetPageTerm-image\" style='background-image: url(\"https://farm5.staticflickr.com/4013/4495767579_c8ba84b1f7.jpg\");'></a>, <a class=\"SetPageTerm-image\" style='background-image: url(\"https://o.quizlet.com/i/uciWMuqwyE5ZOOeEovsbGg.jpg\");'></a>, <a class=\"SetPageTerm-image\" style='background-image: url(\"https://o.quizlet.com/OBGqYbuNWZXoJwZ71cfF5w.jpg\");'></a>, <a class=\"SetPageTerm-image\" style='background-image: url(\"https://o.quizlet.com/i/T7i2NA_MrZ-NnUEQ9nNOtQ.jpg\");'></a>, <a class=\"SetPageTerm-image\" style='background-image: url(\"https://o.quizlet.com/ttJiTZoMBHee-VsrQIlD1A.jpg\");'></a>, <a class=\"SetPageTerm-image\" style='background-image: url(\"https://o.quizlet.com/cV8xBgsVO0XAT9JbcEwtvg.jpg\");'></a>, <a class=\"SetPageTerm-image\" style='background-image: url(\"https://o.quizlet.com/f1RzC62d-kj4aqhu1SOFSg.jpg\");'></a>, <a class=\"SetPageTerm-image\" style='background-image: url(\"https://farm1.staticflickr.com/96/281886153_0b29297256.jpg\");'></a>, <a class=\"SetPageTerm-image\" style='background-image: url(\"https://o.quizlet.com/lXTaXB8G6yYfVkUHEk3P5w.png\");'></a>, <a class=\"SetPageTerm-image\" style='background-image: url(\"https://farm5.staticflickr.com/4049/4693749706_7271c5a688.jpg\");'></a>, <a class=\"SetPageTerm-image\" style='background-image: url(\"https://o.quizlet.com/EtZ4gyZMGAcstEYqhYFbmQ.jpg\");'></a>]\n",
      "['https://farm5.staticflickr.com/4013/4495767579_c8ba84b1f7.jpg',\n",
      " 'https://o.quizlet.com/i/uciWMuqwyE5ZOOeEovsbGg.jpg',\n",
      " 'https://o.quizlet.com/OBGqYbuNWZXoJwZ71cfF5w.jpg',\n",
      " 'https://o.quizlet.com/i/T7i2NA_MrZ-NnUEQ9nNOtQ.jpg',\n",
      " 'https://o.quizlet.com/ttJiTZoMBHee-VsrQIlD1A.jpg',\n",
      " 'https://o.quizlet.com/cV8xBgsVO0XAT9JbcEwtvg.jpg',\n",
      " 'https://o.quizlet.com/f1RzC62d-kj4aqhu1SOFSg.jpg',\n",
      " 'https://farm1.staticflickr.com/96/281886153_0b29297256.jpg',\n",
      " 'https://o.quizlet.com/lXTaXB8G6yYfVkUHEk3P5w.png',\n",
      " 'https://farm5.staticflickr.com/4049/4693749706_7271c5a688.jpg',\n",
      " 'https://o.quizlet.com/EtZ4gyZMGAcstEYqhYFbmQ.jpg']\n"
     ]
    },
    {
     "data": {
      "text/plain": [
       "''"
      ]
     },
     "execution_count": 4,
     "metadata": {},
     "output_type": "execute_result"
    }
   ],
   "source": [
    "image_links('tmp.html')"
   ]
  },
  {
   "cell_type": "markdown",
   "metadata": {},
   "source": [
    "# Download sounds from LinguaLeo"
   ]
  },
  {
   "cell_type": "code",
   "execution_count": 34,
   "metadata": {},
   "outputs": [],
   "source": [
    "import pprint as pp\n",
    "def sound_links(file_name):\n",
    "    file = open(file_name, \"r\")\n",
    "    f= open(file_name.split('.')[0] + '_out.txt',\"w\")\n",
    "    r = file.read()\n",
    "    soup = BeautifulSoup(r)\n",
    "    try:\n",
    "        sounds = soup.find_all('div', {'class': 'sets-words__row false'})\n",
    "        for sound in sounds:\n",
    "            audio = sound.find('audio')['src']\n",
    "            word = sound.find('strong', {'class': 'sets-words__my-word'}).get_text()\n",
    "            f.write(word + \";\" + audio + \";\\n\")\n",
    "    except:\n",
    "        pass\n",
    "    return \"\""
   ]
  },
  {
   "cell_type": "code",
   "execution_count": 35,
   "metadata": {},
   "outputs": [
    {
     "data": {
      "text/plain": [
       "''"
      ]
     },
     "execution_count": 35,
     "metadata": {},
     "output_type": "execute_result"
    }
   ],
   "source": [
    "sound_links('tmp.html')"
   ]
  },
  {
   "cell_type": "markdown",
   "metadata": {},
   "source": [
    "# Check Anki images"
   ]
  },
  {
   "cell_type": "code",
   "execution_count": 12,
   "metadata": {
    "ExecuteTime": {
     "end_time": "2019-10-16T11:17:39.408954Z",
     "start_time": "2019-10-16T11:17:39.019951Z"
    },
    "collapsed": true
   },
   "outputs": [
    {
     "name": "stdout",
     "output_type": "stream",
     "text": [
      "peppermint\n"
     ]
    },
    {
     "data": {
      "text/html": [
       "<img src=\"https://farm1.staticflickr.com/168/432085454_ae49971b4c_m.jpg\"/>"
      ],
      "text/plain": [
       "<IPython.core.display.Image object>"
      ]
     },
     "metadata": {},
     "output_type": "display_data"
    },
    {
     "name": "stdout",
     "output_type": "stream",
     "text": [
      "tripe\n"
     ]
    },
    {
     "data": {
      "text/html": [
       "<img src=\"https://o.quizlet.com/i/fmgSrIIpnzcesvu-XcNycQ_m.jpg\"/>"
      ],
      "text/plain": [
       "<IPython.core.display.Image object>"
      ]
     },
     "metadata": {},
     "output_type": "display_data"
    },
    {
     "name": "stdout",
     "output_type": "stream",
     "text": [
      "bogey\n"
     ]
    },
    {
     "data": {
      "text/html": [
       "<img src=\"https://o.quizlet.com/0xfOQlGmOLKnFWS.d0SnYw_m.jpg\"/>"
      ],
      "text/plain": [
       "<IPython.core.display.Image object>"
      ]
     },
     "metadata": {},
     "output_type": "display_data"
    },
    {
     "name": "stdout",
     "output_type": "stream",
     "text": [
      "incantation\n"
     ]
    },
    {
     "data": {
      "text/html": [
       "<img src=\"https://o.quizlet.com/xS9sjtsTfNP6Ew1Uz6jyTg_m.jpg\"/>"
      ],
      "text/plain": [
       "<IPython.core.display.Image object>"
      ]
     },
     "metadata": {},
     "output_type": "display_data"
    },
    {
     "name": "stdout",
     "output_type": "stream",
     "text": [
      "rest on your laurels\n"
     ]
    },
    {
     "data": {
      "text/html": [
       "<img src=\"https://o.quizlet.com/34mj3fbuzVDt9CCc1r2Mrg_m.jpg\"/>"
      ],
      "text/plain": [
       "<IPython.core.display.Image object>"
      ]
     },
     "metadata": {},
     "output_type": "display_data"
    },
    {
     "name": "stdout",
     "output_type": "stream",
     "text": [
      "beholden\n"
     ]
    },
    {
     "data": {
      "text/html": [
       "<img src=\"https://o.quizlet.com/gxK..lQI8GNa1-jYrqnNyg_m.jpg\"/>"
      ],
      "text/plain": [
       "<IPython.core.display.Image object>"
      ]
     },
     "metadata": {},
     "output_type": "display_data"
    },
    {
     "name": "stdout",
     "output_type": "stream",
     "text": [
      "honor the pledge\n"
     ]
    },
    {
     "data": {
      "text/html": [
       "<img src=\"https://o.quizlet.com/Hat3gq9dKWlHsKNj4nHgpw_m.jpg\"/>"
      ],
      "text/plain": [
       "<IPython.core.display.Image object>"
      ]
     },
     "metadata": {},
     "output_type": "display_data"
    },
    {
     "name": "stdout",
     "output_type": "stream",
     "text": [
      "break faith\n"
     ]
    },
    {
     "data": {
      "text/html": [
       "<img src=\"https://o.quizlet.com/nC415DFxs6VuDyuTdfyHCg_m.jpg\"/>"
      ],
      "text/plain": [
       "<IPython.core.display.Image object>"
      ]
     },
     "metadata": {},
     "output_type": "display_data"
    },
    {
     "name": "stdout",
     "output_type": "stream",
     "text": [
      "in perpetuity\n"
     ]
    },
    {
     "data": {
      "text/html": [
       "<img src=\"https://farm4.staticflickr.com/3384/3577754433_5ab2c9bd14_m.jpg\"/>"
      ],
      "text/plain": [
       "<IPython.core.display.Image object>"
      ]
     },
     "metadata": {},
     "output_type": "display_data"
    },
    {
     "name": "stdout",
     "output_type": "stream",
     "text": [
      "swear fealty\n"
     ]
    },
    {
     "data": {
      "text/html": [
       "<img src=\"https://o.quizlet.com/3uFontHpUi8phe4clfaFXw_m.jpg\"/>"
      ],
      "text/plain": [
       "<IPython.core.display.Image object>"
      ]
     },
     "metadata": {},
     "output_type": "display_data"
    },
    {
     "name": "stdout",
     "output_type": "stream",
     "text": [
      "change into your robes\n"
     ]
    },
    {
     "data": {
      "text/html": [
       "<img src=\"https://farm5.staticflickr.com/4147/5160989346_403a9c0c83_m.jpg\"/>"
      ],
      "text/plain": [
       "<IPython.core.display.Image object>"
      ]
     },
     "metadata": {},
     "output_type": "display_data"
    },
    {
     "name": "stdout",
     "output_type": "stream",
     "text": [
      "do magic\n"
     ]
    },
    {
     "data": {
      "text/html": [
       "<img src=\"https://o.quizlet.com/FQuOHWy1QfXq-YgZmkeLTQ_m.jpg\"/>"
      ],
      "text/plain": [
       "<IPython.core.display.Image object>"
      ]
     },
     "metadata": {},
     "output_type": "display_data"
    },
    {
     "name": "stdout",
     "output_type": "stream",
     "text": [
      "rotten luck\n"
     ]
    },
    {
     "data": {
      "text/html": [
       "<img src=\"https://farm4.staticflickr.com/3047/2715544998_27355f64a5_m.jpg\"/>"
      ],
      "text/plain": [
       "<IPython.core.display.Image object>"
      ]
     },
     "metadata": {},
     "output_type": "display_data"
    },
    {
     "name": "stdout",
     "output_type": "stream",
     "text": [
      "take the lot\n"
     ]
    },
    {
     "data": {
      "text/html": [
       "<img src=\"https://o.quizlet.com/hQAwMRb6bw47sJWaa2XYDw_m.jpg\"/>"
      ],
      "text/plain": [
       "<IPython.core.display.Image object>"
      ]
     },
     "metadata": {},
     "output_type": "display_data"
    },
    {
     "name": "stdout",
     "output_type": "stream",
     "text": [
      "I'm all set\n"
     ]
    },
    {
     "data": {
      "text/html": [
       "<img src=\"https://farm7.staticflickr.com/6170/6206631301_3aa57db32e_m.jpg\"/>"
      ],
      "text/plain": [
       "<IPython.core.display.Image object>"
      ]
     },
     "metadata": {},
     "output_type": "display_data"
    },
    {
     "name": "stdout",
     "output_type": "stream",
     "text": [
      "apply for a passport\n"
     ]
    },
    {
     "data": {
      "text/html": [
       "<img src=\"https://farm4.staticflickr.com/3630/3461522090_e21a7d57bd.jpg\"/>"
      ],
      "text/plain": [
       "<IPython.core.display.Image object>"
      ]
     },
     "metadata": {},
     "output_type": "display_data"
    },
    {
     "name": "stdout",
     "output_type": "stream",
     "text": [
      "at the very end\n"
     ]
    },
    {
     "data": {
      "text/html": [
       "<img src=\"https://o.quizlet.com/Gmb7Zw5umZXoP9qZHhftJA.jpg\"/>"
      ],
      "text/plain": [
       "<IPython.core.display.Image object>"
      ]
     },
     "metadata": {},
     "output_type": "display_data"
    },
    {
     "name": "stdout",
     "output_type": "stream",
     "text": [
      "capsize\n"
     ]
    },
    {
     "data": {
      "text/html": [
       "<img src=\"https://o.quizlet.com/ub4c3iBlmjP10z661pUvSA.jpg\"/>"
      ],
      "text/plain": [
       "<IPython.core.display.Image object>"
      ]
     },
     "metadata": {},
     "output_type": "display_data"
    },
    {
     "name": "stdout",
     "output_type": "stream",
     "text": [
      "chatty\n"
     ]
    },
    {
     "data": {
      "text/html": [
       "<img src=\"https://o.quizlet.com/S-OArsvKog37HDowYlmEhg.jpg\"/>"
      ],
      "text/plain": [
       "<IPython.core.display.Image object>"
      ]
     },
     "metadata": {},
     "output_type": "display_data"
    },
    {
     "name": "stdout",
     "output_type": "stream",
     "text": [
      "cop out\n"
     ]
    },
    {
     "data": {
      "text/html": [
       "<img src=\"https://o.quizlet.com/i/TofrrWDw-EIy7JwaDamX5g.jpg\"/>"
      ],
      "text/plain": [
       "<IPython.core.display.Image object>"
      ]
     },
     "metadata": {},
     "output_type": "display_data"
    },
    {
     "name": "stdout",
     "output_type": "stream",
     "text": [
      "counterproductive\n"
     ]
    },
    {
     "data": {
      "text/html": [
       "<img src=\"https://o.quizlet.com/zSm97StzsuTmiaBKy.gpyA.png\"/>"
      ],
      "text/plain": [
       "<IPython.core.display.Image object>"
      ]
     },
     "metadata": {},
     "output_type": "display_data"
    },
    {
     "name": "stdout",
     "output_type": "stream",
     "text": [
      "dignified\n"
     ]
    },
    {
     "data": {
      "text/html": [
       "<img src=\"https://o.quizlet.com/i/h8WRNeA5DeQD_WJp4INU0Q.jpg\"/>"
      ],
      "text/plain": [
       "<IPython.core.display.Image object>"
      ]
     },
     "metadata": {},
     "output_type": "display_data"
    },
    {
     "name": "stdout",
     "output_type": "stream",
     "text": [
      "egg him on\n"
     ]
    },
    {
     "data": {
      "text/html": [
       "<img src=\"https://o.quizlet.com/Id2TS.HON6cta56jcAroug.jpg\"/>"
      ],
      "text/plain": [
       "<IPython.core.display.Image object>"
      ]
     },
     "metadata": {},
     "output_type": "display_data"
    },
    {
     "name": "stdout",
     "output_type": "stream",
     "text": [
      "file the document\n"
     ]
    },
    {
     "data": {
      "text/html": [
       "<img src=\"https://farm9.staticflickr.com/8238/8468581387_2ea956596e.jpg\"/>"
      ],
      "text/plain": [
       "<IPython.core.display.Image object>"
      ]
     },
     "metadata": {},
     "output_type": "display_data"
    },
    {
     "name": "stdout",
     "output_type": "stream",
     "text": [
      "graceful\n"
     ]
    },
    {
     "data": {
      "text/html": [
       "<img src=\"https://o.quizlet.com/vMcKlx6naaSpH2MR.Q38GA.jpg\"/>"
      ],
      "text/plain": [
       "<IPython.core.display.Image object>"
      ]
     },
     "metadata": {},
     "output_type": "display_data"
    },
    {
     "name": "stdout",
     "output_type": "stream",
     "text": [
      "I bet\n"
     ]
    },
    {
     "data": {
      "text/html": [
       "<img src=\"https://o.quizlet.com/n.uj-1gWp.El-2MfV0Om.g.jpg\"/>"
      ],
      "text/plain": [
       "<IPython.core.display.Image object>"
      ]
     },
     "metadata": {},
     "output_type": "display_data"
    },
    {
     "name": "stdout",
     "output_type": "stream",
     "text": [
      "indulgence\n"
     ]
    },
    {
     "data": {
      "text/html": [
       "<img src=\"https://o.quizlet.com/5lKidSoBdYS3MaCAhWcR0g.jpg\"/>"
      ],
      "text/plain": [
       "<IPython.core.display.Image object>"
      ]
     },
     "metadata": {},
     "output_type": "display_data"
    },
    {
     "name": "stdout",
     "output_type": "stream",
     "text": [
      "rein\n"
     ]
    },
    {
     "data": {
      "text/html": [
       "<img src=\"https://farm5.staticflickr.com/4039/4339265087_c08fc35921.jpg\"/>"
      ],
      "text/plain": [
       "<IPython.core.display.Image object>"
      ]
     },
     "metadata": {},
     "output_type": "display_data"
    },
    {
     "name": "stdout",
     "output_type": "stream",
     "text": [
      "snap election\n"
     ]
    },
    {
     "data": {
      "text/html": [
       "<img src=\"https://o.quizlet.com/IN0LmchRH8RZAaj0EOw3cg.jpg\"/>"
      ],
      "text/plain": [
       "<IPython.core.display.Image object>"
      ]
     },
     "metadata": {},
     "output_type": "display_data"
    },
    {
     "name": "stdout",
     "output_type": "stream",
     "text": [
      "the carrot on the stick\n"
     ]
    },
    {
     "data": {
      "text/html": [
       "<img src=\"https://o.quizlet.com/MtKUiybNd2LvpsfSoYmJ2g.jpg\"/>"
      ],
      "text/plain": [
       "<IPython.core.display.Image object>"
      ]
     },
     "metadata": {},
     "output_type": "display_data"
    },
    {
     "name": "stdout",
     "output_type": "stream",
     "text": [
      "the pot of gold at the end of rainbow\n"
     ]
    },
    {
     "data": {
      "text/html": [
       "<img src=\"https://o.quizlet.com/mQrd32TXAUAB5qiEdwdCgQ.jpg\"/>"
      ],
      "text/plain": [
       "<IPython.core.display.Image object>"
      ]
     },
     "metadata": {},
     "output_type": "display_data"
    },
    {
     "name": "stdout",
     "output_type": "stream",
     "text": [
      "witty\n"
     ]
    },
    {
     "data": {
      "text/html": [
       "<img src=\"https://o.quizlet.com/UuU3e0w7v3vwP7Au6aaHTw.jpg\"/>"
      ],
      "text/plain": [
       "<IPython.core.display.Image object>"
      ]
     },
     "metadata": {},
     "output_type": "display_data"
    },
    {
     "name": "stdout",
     "output_type": "stream",
     "text": [
      "curfew\n"
     ]
    },
    {
     "data": {
      "text/html": [
       "<img src=\"https://o.quizlet.com/Naz1hsD5HJ7A4jYereyJFA_m.jpg\"/>"
      ],
      "text/plain": [
       "<IPython.core.display.Image object>"
      ]
     },
     "metadata": {},
     "output_type": "display_data"
    },
    {
     "name": "stdout",
     "output_type": "stream",
     "text": [
      "oppressed\n"
     ]
    },
    {
     "data": {
      "text/html": [
       "<img src=\"https://o.quizlet.com/dQBjnBrUDVHCmgbcKtBa.g_m.jpg\"/>"
      ],
      "text/plain": [
       "<IPython.core.display.Image object>"
      ]
     },
     "metadata": {},
     "output_type": "display_data"
    },
    {
     "name": "stdout",
     "output_type": "stream",
     "text": [
      "smuggle\n"
     ]
    },
    {
     "data": {
      "text/html": [
       "<img src=\"https://o.quizlet.com/Grvs3sXgAmGJmygLiUtAXg_m.jpg\"/>"
      ],
      "text/plain": [
       "<IPython.core.display.Image object>"
      ]
     },
     "metadata": {},
     "output_type": "display_data"
    },
    {
     "name": "stdout",
     "output_type": "stream",
     "text": [
      "subversive\n"
     ]
    },
    {
     "data": {
      "text/html": [
       "<img src=\"https://o.quizlet.com/i/UFi9v-n_xKLeph88wtudfw_m.jpg\"/>"
      ],
      "text/plain": [
       "<IPython.core.display.Image object>"
      ]
     },
     "metadata": {},
     "output_type": "display_data"
    },
    {
     "name": "stdout",
     "output_type": "stream",
     "text": [
      "storm out\n"
     ]
    },
    {
     "data": {
      "text/html": [
       "<img src=\"https://o.quizlet.com/.taRGZtvAWAbt9gE0jmIyQ_m.png\"/>"
      ],
      "text/plain": [
       "<IPython.core.display.Image object>"
      ]
     },
     "metadata": {},
     "output_type": "display_data"
    },
    {
     "name": "stdout",
     "output_type": "stream",
     "text": [
      "lay down the law\n"
     ]
    },
    {
     "data": {
      "text/html": [
       "<img src=\"https://o.quizlet.com/i/nR1gz2IZ9_fbvFW34mI-rg_m.jpg\"/>"
      ],
      "text/plain": [
       "<IPython.core.display.Image object>"
      ]
     },
     "metadata": {},
     "output_type": "display_data"
    },
    {
     "name": "stdout",
     "output_type": "stream",
     "text": [
      "come up to\n"
     ]
    },
    {
     "data": {
      "text/html": [
       "<img src=\"https://o.quizlet.com/TysB8J6MmsQu31Y1UDQhXw_m.jpg\"/>"
      ],
      "text/plain": [
       "<IPython.core.display.Image object>"
      ]
     },
     "metadata": {},
     "output_type": "display_data"
    },
    {
     "name": "stdout",
     "output_type": "stream",
     "text": [
      "grabbed\n"
     ]
    },
    {
     "data": {
      "text/html": [
       "<img src=\"https://farm9.staticflickr.com/8241/8564516029_abed3dbe80_m.jpg\"/>"
      ],
      "text/plain": [
       "<IPython.core.display.Image object>"
      ]
     },
     "metadata": {},
     "output_type": "display_data"
    },
    {
     "name": "stdout",
     "output_type": "stream",
     "text": [
      "got hold of\n"
     ]
    },
    {
     "data": {
      "text/html": [
       "<img src=\"https://o.quizlet.com/9aPY1z84nVtHbyn4OLAwkQ_m.jpg\"/>"
      ],
      "text/plain": [
       "<IPython.core.display.Image object>"
      ]
     },
     "metadata": {},
     "output_type": "display_data"
    },
    {
     "name": "stdout",
     "output_type": "stream",
     "text": [
      "came back\n"
     ]
    },
    {
     "data": {
      "text/html": [
       "<img src=\"https://o.quizlet.com/r1PeNjoPLi2GKEqbEhOnLg_m.jpg\"/>"
      ],
      "text/plain": [
       "<IPython.core.display.Image object>"
      ]
     },
     "metadata": {},
     "output_type": "display_data"
    },
    {
     "name": "stdout",
     "output_type": "stream",
     "text": [
      "held captive\n"
     ]
    },
    {
     "data": {
      "text/html": [
       "<img src=\"https://farm3.staticflickr.com/2217/2276221540_ca6590e682_m.jpg\"/>"
      ],
      "text/plain": [
       "<IPython.core.display.Image object>"
      ]
     },
     "metadata": {},
     "output_type": "display_data"
    },
    {
     "name": "stdout",
     "output_type": "stream",
     "text": [
      "stabbed\n"
     ]
    },
    {
     "data": {
      "text/html": [
       "<img src=\"https://o.quizlet.com/PNhHtbc8sTtZv7YyDU-8Cg_m.jpg\"/>"
      ],
      "text/plain": [
       "<IPython.core.display.Image object>"
      ]
     },
     "metadata": {},
     "output_type": "display_data"
    },
    {
     "name": "stdout",
     "output_type": "stream",
     "text": [
      "serve sentence\n"
     ]
    },
    {
     "data": {
      "text/html": [
       "<img src=\"https://o.quizlet.com/b2WtnWHg0sEOEL3q-oFrKQ_m.jpg\"/>"
      ],
      "text/plain": [
       "<IPython.core.display.Image object>"
      ]
     },
     "metadata": {},
     "output_type": "display_data"
    },
    {
     "name": "stdout",
     "output_type": "stream",
     "text": [
      "pickpocket\n"
     ]
    },
    {
     "data": {
      "text/html": [
       "<img src=\"https://o.quizlet.com/ueFw9LuWbdVtb8BIrQheWg_m.jpg\"/>"
      ],
      "text/plain": [
       "<IPython.core.display.Image object>"
      ]
     },
     "metadata": {},
     "output_type": "display_data"
    },
    {
     "name": "stdout",
     "output_type": "stream",
     "text": [
      "negligence\n"
     ]
    },
    {
     "data": {
      "text/html": [
       "<img src=\"https://farm9.staticflickr.com/8156/7509743298_7a2c908200_m.jpg\"/>"
      ],
      "text/plain": [
       "<IPython.core.display.Image object>"
      ]
     },
     "metadata": {},
     "output_type": "display_data"
    },
    {
     "name": "stdout",
     "output_type": "stream",
     "text": [
      "identity theft\n"
     ]
    },
    {
     "data": {
      "text/html": [
       "<img src=\"https://o.quizlet.com/i/oHeyIMqK7GVDGVEetXk7Uw_m.jpg\"/>"
      ],
      "text/plain": [
       "<IPython.core.display.Image object>"
      ]
     },
     "metadata": {},
     "output_type": "display_data"
    },
    {
     "name": "stdout",
     "output_type": "stream",
     "text": [
      "fraudster\n"
     ]
    },
    {
     "data": {
      "text/html": [
       "<img src=\"https://o.quizlet.com/zByhXeTQjG9-SEMUXSx.0g_m.jpg\"/>"
      ],
      "text/plain": [
       "<IPython.core.display.Image object>"
      ]
     },
     "metadata": {},
     "output_type": "display_data"
    },
    {
     "name": "stdout",
     "output_type": "stream",
     "text": [
      "extortion\n"
     ]
    },
    {
     "data": {
      "text/html": [
       "<img src=\"https://o.quizlet.com/VZubxCMfqKPFGtNnOKeO9Q_m.jpg\"/>"
      ],
      "text/plain": [
       "<IPython.core.display.Image object>"
      ]
     },
     "metadata": {},
     "output_type": "display_data"
    },
    {
     "name": "stdout",
     "output_type": "stream",
     "text": [
      "exile\n"
     ]
    },
    {
     "data": {
      "text/html": [
       "<img src=\"https://o.quizlet.com/i/X3or_UbrkQyIHEKzkicpUQ_m.jpg\"/>"
      ],
      "text/plain": [
       "<IPython.core.display.Image object>"
      ]
     },
     "metadata": {},
     "output_type": "display_data"
    },
    {
     "name": "stdout",
     "output_type": "stream",
     "text": [
      "disappearance\n"
     ]
    },
    {
     "data": {
      "text/html": [
       "<img src=\"https://o.quizlet.com/iQpkre2XxXe4LDS1Bgh1sw_m.jpg\"/>"
      ],
      "text/plain": [
       "<IPython.core.display.Image object>"
      ]
     },
     "metadata": {},
     "output_type": "display_data"
    },
    {
     "name": "stdout",
     "output_type": "stream",
     "text": [
      "bombing\n"
     ]
    },
    {
     "data": {
      "text/html": [
       "<img src=\"https://o.quizlet.com/i/UFi9v-n_xKLeph88wtudfw_m.jpg\"/>"
      ],
      "text/plain": [
       "<IPython.core.display.Image object>"
      ]
     },
     "metadata": {},
     "output_type": "display_data"
    },
    {
     "name": "stdout",
     "output_type": "stream",
     "text": [
      "assassination\n"
     ]
    },
    {
     "data": {
      "text/html": [
       "<img src=\"https://farm8.staticflickr.com/7158/6428533121_4dc6419952_m.jpg\"/>"
      ],
      "text/plain": [
       "<IPython.core.display.Image object>"
      ]
     },
     "metadata": {},
     "output_type": "display_data"
    },
    {
     "name": "stdout",
     "output_type": "stream",
     "text": [
      "turn a blind eye\n"
     ]
    },
    {
     "data": {
      "text/html": [
       "<img src=\"https://farm1.staticflickr.com/91/211303621_85de0641af_m.jpg\"/>"
      ],
      "text/plain": [
       "<IPython.core.display.Image object>"
      ]
     },
     "metadata": {},
     "output_type": "display_data"
    },
    {
     "name": "stdout",
     "output_type": "stream",
     "text": [
      "be tortured on suspicion of subversive activity\n"
     ]
    },
    {
     "data": {
      "text/html": [
       "<img src=\"https://o.quizlet.com/i/iVQ6bsGFgmxoXIdS0af_HA_m.jpg\"/>"
      ],
      "text/plain": [
       "<IPython.core.display.Image object>"
      ]
     },
     "metadata": {},
     "output_type": "display_data"
    },
    {
     "name": "stdout",
     "output_type": "stream",
     "text": [
      "be under constant surveillance\n"
     ]
    },
    {
     "data": {
      "text/html": [
       "<img src=\"https://farm9.staticflickr.com/8156/7670892420_a9fcf496c6_m.jpg\"/>"
      ],
      "text/plain": [
       "<IPython.core.display.Image object>"
      ]
     },
     "metadata": {},
     "output_type": "display_data"
    },
    {
     "name": "stdout",
     "output_type": "stream",
     "text": [
      "spark the explosion of anger\n"
     ]
    },
    {
     "data": {
      "text/html": [
       "<img src=\"https://o.quizlet.com/JL-uJiXNrta5yAebE6NztA_m.jpg\"/>"
      ],
      "text/plain": [
       "<IPython.core.display.Image object>"
      ]
     },
     "metadata": {},
     "output_type": "display_data"
    },
    {
     "name": "stdout",
     "output_type": "stream",
     "text": [
      "inalienable right\n"
     ]
    },
    {
     "data": {
      "text/html": [
       "<img src=\"https://farm4.staticflickr.com/3196/3026234829_1203f53401_m.jpg\"/>"
      ],
      "text/plain": [
       "<IPython.core.display.Image object>"
      ]
     },
     "metadata": {},
     "output_type": "display_data"
    },
    {
     "name": "stdout",
     "output_type": "stream",
     "text": [
      "impose penalties\n"
     ]
    },
    {
     "data": {
      "text/html": [
       "<img src=\"https://o.quizlet.com/i/fY-udtG_NVe2Wqv2tvpTNg_m.jpg\"/>"
      ],
      "text/plain": [
       "<IPython.core.display.Image object>"
      ]
     },
     "metadata": {},
     "output_type": "display_data"
    },
    {
     "name": "stdout",
     "output_type": "stream",
     "text": [
      "impose curfew\n"
     ]
    },
    {
     "data": {
      "text/html": [
       "<img src=\"https://o.quizlet.com/Naz1hsD5HJ7A4jYereyJFA_m.jpg\"/>"
      ],
      "text/plain": [
       "<IPython.core.display.Image object>"
      ]
     },
     "metadata": {},
     "output_type": "display_data"
    },
    {
     "name": "stdout",
     "output_type": "stream",
     "text": [
      "scam\n"
     ]
    },
    {
     "data": {
      "text/html": [
       "<img src=\"https://o.quizlet.com/w-5cBFH9lOnDF.DQLEy3yQ_m.gif\"/>"
      ],
      "text/plain": [
       "<IPython.core.display.Image object>"
      ]
     },
     "metadata": {},
     "output_type": "display_data"
    },
    {
     "name": "stdout",
     "output_type": "stream",
     "text": [
      "begging\n"
     ]
    },
    {
     "data": {
      "text/html": [
       "<img src=\"https://o.quizlet.com/i/R1trkbBZh2yn46YArNcAWw_m.jpg\"/>"
      ],
      "text/plain": [
       "<IPython.core.display.Image object>"
      ]
     },
     "metadata": {},
     "output_type": "display_data"
    },
    {
     "name": "stdout",
     "output_type": "stream",
     "text": [
      "fortune telling\n"
     ]
    },
    {
     "data": {
      "text/html": [
       "<img src=\"https://o.quizlet.com/TQm3bF9JV-djenrcM1VKkg_m.jpg\"/>"
      ],
      "text/plain": [
       "<IPython.core.display.Image object>"
      ]
     },
     "metadata": {},
     "output_type": "display_data"
    },
    {
     "name": "stdout",
     "output_type": "stream",
     "text": [
      "gypsy\n"
     ]
    },
    {
     "data": {
      "text/html": [
       "<img src=\"https://farm5.staticflickr.com/4005/4440860047_c15fb32619_m.jpg\"/>"
      ],
      "text/plain": [
       "<IPython.core.display.Image object>"
      ]
     },
     "metadata": {},
     "output_type": "display_data"
    },
    {
     "name": "stdout",
     "output_type": "stream",
     "text": [
      "reckless driving\n"
     ]
    },
    {
     "data": {
      "text/html": [
       "<img src=\"https://farm1.staticflickr.com/198/448449613_9934b8e5ac_m.jpg\"/>"
      ],
      "text/plain": [
       "<IPython.core.display.Image object>"
      ]
     },
     "metadata": {},
     "output_type": "display_data"
    },
    {
     "name": "stdout",
     "output_type": "stream",
     "text": [
      "pimp\n"
     ]
    },
    {
     "data": {
      "text/html": [
       "<img src=\"https://farm3.staticflickr.com/2223/2245277662_0bba911051_m.jpg\"/>"
      ],
      "text/plain": [
       "<IPython.core.display.Image object>"
      ]
     },
     "metadata": {},
     "output_type": "display_data"
    },
    {
     "name": "stdout",
     "output_type": "stream",
     "text": [
      "set fire to\n"
     ]
    },
    {
     "data": {
      "text/html": [
       "<img src=\"https://farm6.staticflickr.com/5224/5856819281_3669509fb2_m.jpg\"/>"
      ],
      "text/plain": [
       "<IPython.core.display.Image object>"
      ]
     },
     "metadata": {},
     "output_type": "display_data"
    },
    {
     "name": "stdout",
     "output_type": "stream",
     "text": [
      "seized\n"
     ]
    },
    {
     "data": {
      "text/html": [
       "<img src=\"https://o.quizlet.com/A4h3Q0hMmvX70hZKdHgREQ_m.jpg\"/>"
      ],
      "text/plain": [
       "<IPython.core.display.Image object>"
      ]
     },
     "metadata": {},
     "output_type": "display_data"
    },
    {
     "name": "stdout",
     "output_type": "stream",
     "text": [
      "put up with\n"
     ]
    },
    {
     "data": {
      "text/html": [
       "<img src=\"https://o.quizlet.com/oRL.4GKQJb1NUZPdYx9iIw_m.png\"/>"
      ],
      "text/plain": [
       "<IPython.core.display.Image object>"
      ]
     },
     "metadata": {},
     "output_type": "display_data"
    },
    {
     "name": "stdout",
     "output_type": "stream",
     "text": [
      "counterfeit\n"
     ]
    },
    {
     "data": {
      "text/html": [
       "<img src=\"https://o.quizlet.com/0vdfYbPLm58rHUt.iWBn1w_m.jpg\"/>"
      ],
      "text/plain": [
       "<IPython.core.display.Image object>"
      ]
     },
     "metadata": {},
     "output_type": "display_data"
    },
    {
     "name": "stdout",
     "output_type": "stream",
     "text": [
      "ransom\n"
     ]
    },
    {
     "data": {
      "text/html": [
       "<img src=\"https://o.quizlet.com/i/sq_HOv9CykTvQM4byEsNtg_m.jpg\"/>"
      ],
      "text/plain": [
       "<IPython.core.display.Image object>"
      ]
     },
     "metadata": {},
     "output_type": "display_data"
    },
    {
     "name": "stdout",
     "output_type": "stream",
     "text": [
      "detention\n"
     ]
    },
    {
     "data": {
      "text/html": [
       "<img src=\"https://o.quizlet.com/.sT7DaTjBoOKZ1o1m45dFQ_m.jpg\"/>"
      ],
      "text/plain": [
       "<IPython.core.display.Image object>"
      ]
     },
     "metadata": {},
     "output_type": "display_data"
    },
    {
     "name": "stdout",
     "output_type": "stream",
     "text": [
      "fraud\n"
     ]
    },
    {
     "data": {
      "text/html": [
       "<img src=\"https://farm3.staticflickr.com/2207/2524306151_0e9334aaa9_m.jpg\"/>"
      ],
      "text/plain": [
       "<IPython.core.display.Image object>"
      ]
     },
     "metadata": {},
     "output_type": "display_data"
    },
    {
     "name": "stdout",
     "output_type": "stream",
     "text": [
      "from now on\n"
     ]
    },
    {
     "data": {
      "text/html": [
       "<img src=\"https://o.quizlet.com/mRFjUdQ7rCey3LOe3QzSEw_m.jpg\"/>"
      ],
      "text/plain": [
       "<IPython.core.display.Image object>"
      ]
     },
     "metadata": {},
     "output_type": "display_data"
    },
    {
     "name": "stdout",
     "output_type": "stream",
     "text": [
      "spark\n"
     ]
    },
    {
     "data": {
      "text/html": [
       "<img src=\"https://o.quizlet.com/i/htoPpMOq7oukQV9MXy2Vrw_m.jpg\"/>"
      ],
      "text/plain": [
       "<IPython.core.display.Image object>"
      ]
     },
     "metadata": {},
     "output_type": "display_data"
    },
    {
     "name": "stdout",
     "output_type": "stream",
     "text": [
      "arson\n"
     ]
    },
    {
     "data": {
      "text/html": [
       "<img src=\"https://o.quizlet.com/6ZtXjaEWqz.uIcFJpSKsWA_m.jpg\"/>"
      ],
      "text/plain": [
       "<IPython.core.display.Image object>"
      ]
     },
     "metadata": {},
     "output_type": "display_data"
    },
    {
     "name": "stdout",
     "output_type": "stream",
     "text": [
      "assault\n"
     ]
    },
    {
     "data": {
      "text/html": [
       "<img src=\"https://o.quizlet.com/eG2jd3Jh7hROk2oFIzwl0Q_m.jpg\"/>"
      ],
      "text/plain": [
       "<IPython.core.display.Image object>"
      ]
     },
     "metadata": {},
     "output_type": "display_data"
    },
    {
     "name": "stdout",
     "output_type": "stream",
     "text": [
      "blackmail\n"
     ]
    },
    {
     "data": {
      "text/html": [
       "<img src=\"https://o.quizlet.com/QHmm3dh2ujaZddHE7LMRQw_m.jpg\"/>"
      ],
      "text/plain": [
       "<IPython.core.display.Image object>"
      ]
     },
     "metadata": {},
     "output_type": "display_data"
    },
    {
     "name": "stdout",
     "output_type": "stream",
     "text": [
      "bribetaker\n"
     ]
    },
    {
     "data": {
      "text/html": [
       "<img src=\"https://o.quizlet.com/Vwpr4rKZsx4940SblfH7wg_m.jpg\"/>"
      ],
      "text/plain": [
       "<IPython.core.display.Image object>"
      ]
     },
     "metadata": {},
     "output_type": "display_data"
    },
    {
     "name": "stdout",
     "output_type": "stream",
     "text": [
      "embezzlement\n"
     ]
    },
    {
     "data": {
      "text/html": [
       "<img src=\"https://o.quizlet.com/oIl-TgIHnfJx5Al5kBZ4Fw_m.jpg\"/>"
      ],
      "text/plain": [
       "<IPython.core.display.Image object>"
      ]
     },
     "metadata": {},
     "output_type": "display_data"
    },
    {
     "name": "stdout",
     "output_type": "stream",
     "text": [
      "forgery\n"
     ]
    },
    {
     "data": {
      "text/html": [
       "<img src=\"https://o.quizlet.com/BCTwAOOBkgop79JkYOXhlg_m.png\"/>"
      ],
      "text/plain": [
       "<IPython.core.display.Image object>"
      ]
     },
     "metadata": {},
     "output_type": "display_data"
    },
    {
     "name": "stdout",
     "output_type": "stream",
     "text": [
      "interrogate\n"
     ]
    },
    {
     "data": {
      "text/html": [
       "<img src=\"https://farm6.staticflickr.com/5307/5612863711_485123a5d2_m.jpg\"/>"
      ],
      "text/plain": [
       "<IPython.core.display.Image object>"
      ]
     },
     "metadata": {},
     "output_type": "display_data"
    },
    {
     "name": "stdout",
     "output_type": "stream",
     "text": [
      "rape\n"
     ]
    },
    {
     "data": {
      "text/html": [
       "<img src=\"https://o.quizlet.com/xDavp6ss2QIjiqb70YWb6A_m.jpg\"/>"
      ],
      "text/plain": [
       "<IPython.core.display.Image object>"
      ]
     },
     "metadata": {},
     "output_type": "display_data"
    },
    {
     "name": "stdout",
     "output_type": "stream",
     "text": [
      "insolence\n"
     ]
    },
    {
     "data": {
      "text/html": [
       "<img src=\"https://o.quizlet.com/qtcC25MOeY3Z9LX9rSw02w_m.jpg\"/>"
      ],
      "text/plain": [
       "<IPython.core.display.Image object>"
      ]
     },
     "metadata": {},
     "output_type": "display_data"
    }
   ],
   "source": [
    "from IPython.display import Image, display\n",
    "from IPython.core.display import HTML \n",
    "\n",
    "\n",
    "with open(FILE) as f:\n",
    "    lines = f.read().split('\\n')\n",
    "    for line in lines:\n",
    "        strs = line.split('\\t')\n",
    "        #print(strs)\n",
    "        name = strs[0]\n",
    "        image = strs[2]\n",
    "        print(name)\n",
    "        display(Image(url = image))"
   ]
  },
  {
   "cell_type": "markdown",
   "metadata": {},
   "source": [
    "# Rename mp3 files"
   ]
  },
  {
   "cell_type": "code",
   "execution_count": 12,
   "metadata": {
    "ExecuteTime": {
     "end_time": "2019-10-30T11:36:47.967810Z",
     "start_time": "2019-10-30T11:36:47.944811Z"
    }
   },
   "outputs": [],
   "source": [
    "names_file = \"D:\\\\pron\\\\names.txt\"\n",
    "names = []\n",
    "with open(names_file) as csv_file:\n",
    "    csv_reader = csv.reader(csv_file, delimiter=' ')\n",
    "    for i, row in enumerate(csv_reader):\n",
    "        names.append(row[0])\n",
    "        names.append(row[1])\n",
    "folder = \"D:\\pron\"\n",
    "import os\n",
    "i = 0\n",
    "#j = 0\n",
    "for file in os.listdir(folder):\n",
    "    if file.endswith(\".mp3\"):\n",
    "        #if j % 2 == 0:\n",
    "        old = os.path.join(folder, file)\n",
    "        new = old[:-5] + names[i] + '.mp3'\n",
    "        i = i + 1\n",
    "        #print(old)\n",
    "        #print(new)\n",
    "        os.rename(old, new)\n",
    "        #j += 1"
   ]
  },
  {
   "cell_type": "code",
   "execution_count": null,
   "metadata": {},
   "outputs": [],
   "source": []
  }
 ],
 "metadata": {
  "kernelspec": {
   "display_name": "Python 3",
   "language": "python",
   "name": "python3"
  },
  "language_info": {
   "codemirror_mode": {
    "name": "ipython",
    "version": 3
   },
   "file_extension": ".py",
   "mimetype": "text/x-python",
   "name": "python",
   "nbconvert_exporter": "python",
   "pygments_lexer": "ipython3",
   "version": "3.7.3"
  },
  "toc": {
   "base_numbering": 1,
   "nav_menu": {},
   "number_sections": true,
   "sideBar": true,
   "skip_h1_title": false,
   "title_cell": "Table of Contents",
   "title_sidebar": "Contents",
   "toc_cell": false,
   "toc_position": {},
   "toc_section_display": true,
   "toc_window_display": false
  }
 },
 "nbformat": 4,
 "nbformat_minor": 2
}
