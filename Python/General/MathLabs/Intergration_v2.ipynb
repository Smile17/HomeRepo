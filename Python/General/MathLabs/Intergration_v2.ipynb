{
 "cells": [
  {
   "cell_type": "markdown",
   "metadata": {
    "executionInfo": {
     "elapsed": 677,
     "status": "ok",
     "timestamp": 1638438722943,
     "user": {
      "displayName": "Natalia Rusinchuk",
      "photoUrl": "https://lh3.googleusercontent.com/a-/AOh14GiQ1P5OpeI1F3FWnUoUnNRuhpny0_7OF85YaO2Aww=s64",
      "userId": "16015141873503688601"
     },
     "user_tz": -120
    },
    "id": "5JBr8K0AzTiP"
   },
   "source": [
    "# Чисельне інтегрування"
   ]
  },
  {
   "cell_type": "code",
   "execution_count": 1,
   "metadata": {},
   "outputs": [],
   "source": [
    "import matplotlib.pyplot as plt\n",
    "import numpy as np\n",
    "import math\n",
    "import scipy\n",
    "from random import uniform as RN\n",
    "\n",
    "# Метод лівих прямокутників\n",
    "def IntLeft(function,lim1,lim2,n):\n",
    "    # function - підінтегральна функція\n",
    "    # lim1 lim2 - межі інтегрування\n",
    "    # n - кількість кроків\n",
    "    # обчислимо крок інтегрування\n",
    "    h=(lim2-lim1)/n\n",
    "    # Підсумовуємо всі значення функції множені на відповідні коефіцієнти\n",
    "    # та множимо суму на крок\n",
    "    Int=h*np.sum(np.asarray([function(lim1+h*i) for i in range(n)]))\n",
    "    return ('Left Riemann sum', Int)\n",
    "\n",
    "# Метод правих прямокутників\n",
    "def IntRight(function,lim1,lim2,n):\n",
    "    # function - підінтегральна функція\n",
    "    # lim1 lim2 - межі інтегрування\n",
    "    # n - кількість кроків\n",
    "    # обчислимо крок інтегрування\n",
    "    h=(lim2-lim1)/n\n",
    "    # Підсумовуємо всі значення функції множені на відповідні коефіцієнти\n",
    "    # та множимо суму на крок\n",
    "    Int=h*np.sum(np.asarray([function(lim1+h*i) for i in range(1,n+1)]))\n",
    "    return ('Right Riemann sum', Int)\n",
    "\n",
    "# Метод середніх прямокутників\n",
    "def IntAvr(function,lim1,lim2,n):\n",
    "    # function - підінтегральна функція\n",
    "    # lim1 lim2 - межі інтегрування\n",
    "    # n - кількість кроків\n",
    "    # обчислимо крок інтегрування\n",
    "    h=(lim2-lim1)/n\n",
    "    # Підсумовуємо всі значення функції множені на відповідні коефіцієнти\n",
    "    # та множимо суму на крок\n",
    "    Int=h*np.sum(np.asarray([function(lim1+h*(2*i+1)/2) for i in range(n)]))\n",
    "    return ('Average Riemann sum', Int)\n",
    "\n",
    "def Trap(function,lim1,lim2,n):\n",
    "    # function - підінтегральна функція\n",
    "    # lim1 lim2 - межі інтегрування\n",
    "    # n - кількість кроків\n",
    "    # обчислимо крок інтегрування\n",
    "    h=(lim2-lim1)/n\n",
    "    # Підсумовуємо всі значення функції множені на відповідні коефіцієнти\n",
    "    # та множимо суму на крок\n",
    "    Int=h*(np.sum(np.asarray([function(lim1+h*i) for i in range(1,n)]))+\n",
    "           (function(lim1)+function(lim2))/2)\n",
    "    return ('Trapezoidal rule', Int)\n",
    "\n",
    "def Simpson(function,lim1,lim2,n):\n",
    "    # function - підінтегральна функція\n",
    "    # lim1 lim2 - межі інтегрування\n",
    "    # n - кількість кроків\n",
    "    # обчислимо крок інтегрування\n",
    "    h=(lim2-lim1)/n\n",
    "    # Підсумовуємо всі значення функції множені на відповідні коефіцієнти\n",
    "    # та множимо суму на крок\n",
    "    Int=h/3*(function(lim1)+function(lim2)+\n",
    "             np.sum(np.asarray([function(lim1+h*i) for i in range(1,n,2)]))*4+\n",
    "             np.sum(np.asarray([function(lim1+h*i) for i in range(2,n,2)]))*2\n",
    "           )\n",
    "    return ('Simpson\\'s rule', Int)\n",
    "\n",
    "\n",
    "def Errorh2(method,function,lim1,lim2,difsteps):\n",
    "    Err=[]\n",
    "    for i in range(len(difsteps)):\n",
    "        Tochne=method(function,lim1,lim2,difsteps[i]*2)[1]\n",
    "        Err+=[abs((method(function,lim1,lim2,difsteps[i])[1]-Tochne)/Tochne*100)]\n",
    "    name=str(method(function,lim1,lim2,1)[0])\n",
    "    return(Err,name)\n"
   ]
  },
  {
   "cell_type": "code",
   "execution_count": 2,
   "metadata": {},
   "outputs": [],
   "source": [
    "def FindIntegral(function,lim1,lim2):\n",
    "    n=10\n",
    "    print(\"Interation of left and right rectangles with n=10\")\n",
    "    res = IntLeft(function,lim1,lim2,n)\n",
    "    print(res)\n",
    "    res = IntRight(function,lim1,lim2,n)\n",
    "    print(res)\n",
    "    n1=8\n",
    "    n2=10\n",
    "    print(\"Integration with average rectangles with n=8\")\n",
    "    res = IntAvr(function,lim1,lim2,n1)\n",
    "    print(res)\n",
    "    print(\"Integration with average rectangles with n=10\")\n",
    "    res = IntAvr(function,lim1,lim2,n2)\n",
    "    print(res)\n",
    "    print(\"Integration trapezias\")\n",
    "    n=int((lim2-lim1)*1000)\n",
    "    res = Trap(function,lim1,lim2,n)\n",
    "    print(res)\n",
    "    print(\"Integration Simpson n=10\")\n",
    "    res = Simpson(function,lim1,lim2,10)\n",
    "    err = Errorh2(Simpson,function,lim1,lim2,[10])[0][0]\n",
    "    print(res)\n",
    "    print(\"Error estimation:\", err)\n"
   ]
  },
  {
   "cell_type": "code",
   "execution_count": 3,
   "metadata": {},
   "outputs": [
    {
     "name": "stdout",
     "output_type": "stream",
     "text": [
      "Interation f1\n",
      "Interation of left and right rectangles with n=10\n",
      "('Left Riemann sum', 0.4585870378107135)\n",
      "('Right Riemann sum', 0.4331516253292619)\n",
      "Integration with average rectangles with n=8\n",
      "('Average Riemann sum', 0.4453874740128669)\n",
      "Integration with average rectangles with n=10\n",
      "('Average Riemann sum', 0.44546341079436963)\n",
      "Integration trapezias\n",
      "('Trapezoidal rule', 0.4455986837734307)\n",
      "Integration Simpson n=10\n",
      "(\"Simpson's rule\", 0.44559942885349824)\n",
      "Error estimation: 0.0001595906573243017\n",
      "-----------------------------------------------\n",
      "Interation f2\n",
      "Interation of left and right rectangles with n=10\n",
      "('Left Riemann sum', 0.8311067991353509)\n",
      "('Right Riemann sum', 0.8702600493823763)\n",
      "Integration with average rectangles with n=8\n",
      "('Average Riemann sum', 0.8503207255541781)\n",
      "Integration with average rectangles with n=10\n",
      "('Average Riemann sum', 0.8503779785062904)\n",
      "Integration trapezias\n",
      "('Trapezoidal rule', 0.850479802924315)\n",
      "Integration Simpson n=10\n",
      "(\"Simpson's rule\", 0.8504798686592)\n",
      "Error estimation: 8.807034844682589e-06\n"
     ]
    }
   ],
   "source": [
    "# Межі інтегрування\n",
    "lim1=1.2\n",
    "lim2=2.6\n",
    "def f1(x):\n",
    "    return np.sqrt(0.4*x+1.7)/(1.5*x+np.sqrt(x*x+1.3))\n",
    "print(\"Interation f1\")\n",
    "FindIntegral(f1, lim1, lim2)\n",
    "# Межі інтегрування\n",
    "lim1=0.3\n",
    "lim2=1.5\n",
    "def f2(x):\n",
    "    return np.sin(0.3*x+1.2)/(1.3+np.cos(0.5*x+1))\n",
    "print(\"-----------------------------------------------\")\n",
    "print(\"Interation f2\")\n",
    "FindIntegral(f2, lim1, lim2)"
   ]
  }
 ],
 "metadata": {
  "colab": {
   "collapsed_sections": [],
   "name": "Практичне 9.ipynb",
   "provenance": [
    {
     "file_id": "1wFwPrJ8hWjjfitECaPsHVgVBFMAQcXfA",
     "timestamp": 1638339594653
    },
    {
     "file_id": "1oFZ3_i9hYQErnS3LmX-eWqmITjj8bMqT",
     "timestamp": 1637570466423
    }
   ]
  },
  "kernelspec": {
   "display_name": "Python 3 (ipykernel)",
   "language": "python",
   "name": "python3"
  },
  "language_info": {
   "codemirror_mode": {
    "name": "ipython",
    "version": 3
   },
   "file_extension": ".py",
   "mimetype": "text/x-python",
   "name": "python",
   "nbconvert_exporter": "python",
   "pygments_lexer": "ipython3",
   "version": "3.10.7"
  }
 },
 "nbformat": 4,
 "nbformat_minor": 4
}
