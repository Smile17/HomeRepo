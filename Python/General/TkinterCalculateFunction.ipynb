{
 "cells": [
  {
   "cell_type": "code",
   "execution_count": 11,
   "id": "d7dc4d31",
   "metadata": {
    "ExecuteTime": {
     "end_time": "2021-09-12T19:53:08.439458Z",
     "start_time": "2021-09-12T19:53:02.740008Z"
    }
   },
   "outputs": [
    {
     "name": "stdout",
     "output_type": "stream",
     "text": [
      "0.5231770833333333\n",
      "0.5235987755982989\n"
     ]
    }
   ],
   "source": [
    "# Math part\n",
    "import math\n",
    "func_title = \"arcsin(x) = x + x^3/3! + x^5*(1*3)/(2*4)*5! - ...\"\n",
    "def calc_func(x, eps):\n",
    "    s = 0\n",
    "    count = 0\n",
    "    a = x\n",
    "    while(abs(a) > eps):\n",
    "        s += a\n",
    "        count += 1\n",
    "        k = count\n",
    "        a *= x * x * (2*k-1)*(2*k -1)/(2 * k * (2*k+1))\n",
    "    # For checking results\n",
    "    print(s)\n",
    "    print(math.asin(x))\n",
    "    return s, count\n",
    "\n",
    "\n",
    "# UI part\n",
    "import tkinter as tk\n",
    "from tkinter import messagebox\n",
    "from tkinter import * \n",
    "from tkinter import ttk\n",
    "\n",
    "# root window\n",
    "root = tk.Tk()\n",
    "root.geometry(\"200x150\")\n",
    "root.title('Calculation')\n",
    "#root.resizable(0, 0)\n",
    "\n",
    "# configure the grid\n",
    "root.columnconfigure(0, weight=1)\n",
    "root.columnconfigure(1, weight=3)\n",
    "\n",
    "\n",
    "# entry_X\n",
    "lbl = ttk.Label(root, text=\"X:\")\n",
    "lbl.grid(column=0, row=0, sticky=tk.W, padx=5, pady=5)\n",
    "\n",
    "entry_X = ttk.Entry(root)\n",
    "entry_X.insert(0, 0.5)\n",
    "entry_X.grid(column=1, row=0, sticky=tk.E, padx=5, pady=5)\n",
    "\n",
    "# entry_eps\n",
    "lbl = ttk.Label(root, text=\"eps:\")\n",
    "lbl.grid(column=0, row=1, sticky=tk.W, padx=5, pady=5)\n",
    "\n",
    "entry_eps = ttk.Entry(root)\n",
    "entry_eps.insert(0, 0.001)\n",
    "entry_eps.grid(column=1, row=1, sticky=tk.E, padx=5, pady=5)\n",
    "\n",
    "# entry_eps\n",
    "lbl = ttk.Label(root, text=\"File:\")\n",
    "lbl.grid(column=0, row=2, sticky=tk.W, padx=5, pady=5)\n",
    "\n",
    "entry_file = ttk.Entry(root)\n",
    "entry_file.insert(0, \"output.txt\")\n",
    "entry_file.grid(column=1, row=2, sticky=tk.E, padx=5, pady=5)\n",
    "\n",
    "# function to open a new window\n",
    "# on a button click\n",
    "def calc():\n",
    "    try:\n",
    "        X = float(entry_X.get())\n",
    "        eps = float(entry_eps.get())\n",
    "        \n",
    "        if (abs(X) >= 1) or (eps < 0) or (eps >= 1):\n",
    "            tk.messagebox.showerror(title=\"Wrong values\", message=\"Input correct values: |X| < 1; |Z| < 1; 0 < eps < 1\")\n",
    "        else:\n",
    "            # Toplevel object which will\n",
    "            # be treated as a new window\n",
    "            newWindow = Toplevel(root)\n",
    "\n",
    "            # sets the title of the\n",
    "            # Toplevel widget\n",
    "            newWindow.title(\"Calculation results\")\n",
    "            \n",
    "            # sets the geometry of toplevel\n",
    "            newWindow.geometry(\"300x200\")\n",
    "\n",
    "            # A Label widget to show in toplevel\n",
    "            Label(newWindow,\n",
    "                  text =\"Results\").pack()\n",
    "            # Create text widget\n",
    "            output = Text(newWindow, height=200)\n",
    "            output.pack()\n",
    "            res = \"\"\n",
    "            res += \"X = \" + str(X) + \"\\n\"\n",
    "            res += \"eps = \" + str(eps) + \"\\n\"\n",
    "            \n",
    "            \n",
    "            res += func_title + \"\\n\"\n",
    "            s, count = calc_func(X, eps)\n",
    "            res += \"sum = \" + str(s) + \"\\n\"\n",
    "            res += \"count = \" + str(count) + \"\\n\"\n",
    "            output.insert(END, res)\n",
    "            \n",
    "            # Write to file\n",
    "            file_name = entry_file.get()\n",
    "            if file_name == \"\":\n",
    "                file_name = \"output.txt\"\n",
    "            f = open(file_name, \"w\")\n",
    "            f.write(res)\n",
    "            f.close()\n",
    "    except:\n",
    "        tk.messagebox.showerror(title=\"Error raised\", message=\"Something went wrong: input correct values\")\n",
    "\n",
    "# Calculate button\n",
    "btn_calc = ttk.Button(root, text=\"Calculate\", command = calc)\n",
    "btn_calc.grid(column=1, row=3, sticky=tk.E, padx=5, pady=5)\n",
    "\n",
    "root.mainloop()"
   ]
  },
  {
   "cell_type": "code",
   "execution_count": 73,
   "id": "af5671cb",
   "metadata": {
    "ExecuteTime": {
     "end_time": "2021-09-12T19:27:08.405190Z",
     "start_time": "2021-09-12T19:27:08.393231Z"
    }
   },
   "outputs": [],
   "source": [
    "import math\n",
    "func_title = \"ln(1 + z) = z - z^2/2 + z^3/3-...(-1)^n * z^n/n\"\n",
    "def calc_func(x, eps):\n",
    "    s = 0\n",
    "    count = 0\n",
    "    a = x\n",
    "    while(abs(a) > eps):\n",
    "        s += a\n",
    "        count += 1\n",
    "        a *= (-1) * x * count / (count + 1)\n",
    "    # For checking results\n",
    "    print(s)\n",
    "    print(math.log(1 + x))\n",
    "    return s, count"
   ]
  },
  {
   "cell_type": "code",
   "execution_count": 29,
   "id": "16d8b7ff",
   "metadata": {
    "ExecuteTime": {
     "end_time": "2021-09-12T18:59:26.745052Z",
     "start_time": "2021-09-12T18:59:26.732080Z"
    }
   },
   "outputs": [],
   "source": [
    "import math\n",
    "func_title = \"arctg(z) = z - z^3/3 + z^5/5-...(-1)^n * z^(2n + 1)/(2n + 1)\"\n",
    "def calc_func(x, eps):\n",
    "    s = 0\n",
    "    count = 0\n",
    "    a = x\n",
    "    while(abs(a) > eps):\n",
    "        s += a\n",
    "        count += 1\n",
    "        a *= (-1) * x * x * (2 * count - 1) / (2 * count + 1)\n",
    "    # For checking results\n",
    "    print(s)\n",
    "    print(math.atan(x))\n",
    "    return s, count"
   ]
  },
  {
   "cell_type": "code",
   "execution_count": 44,
   "id": "46bc3436",
   "metadata": {
    "ExecuteTime": {
     "end_time": "2021-09-12T19:09:08.366948Z",
     "start_time": "2021-09-12T19:09:08.347564Z"
    }
   },
   "outputs": [],
   "source": [
    "import math\n",
    "func_title = \"1/(1+x)^3 = 1*2/2 - 2*3/2 * x + 3*4/2 * x^2 - 4*5/2 * x^3 + ...\"\n",
    "def calc_func(x, eps):\n",
    "    s = 0\n",
    "    count = 0\n",
    "    a = 1\n",
    "    while(abs(a) > eps):\n",
    "        s += a\n",
    "        count += 1\n",
    "        a *= (-1) * x * (count + 2) / count\n",
    "    # For checking results\n",
    "    print(s)\n",
    "    print(1/((1 + x)* (1 + x) * (1 + x)))\n",
    "    return s, count"
   ]
  },
  {
   "cell_type": "code",
   "execution_count": 47,
   "id": "378cd0d6",
   "metadata": {
    "ExecuteTime": {
     "end_time": "2021-09-12T19:11:17.253182Z",
     "start_time": "2021-09-12T19:11:17.246936Z"
    }
   },
   "outputs": [],
   "source": [
    "import math\n",
    "func_title = \"1/(1+x^2) = 1 - x^2 + x^4 - x^6 + ...\"\n",
    "def calc_func(x, eps):\n",
    "    s = 0\n",
    "    count = 0\n",
    "    a = 1\n",
    "    while(abs(a) > eps):\n",
    "        s += a\n",
    "        count += 1\n",
    "        a *= (-1) * x * x\n",
    "    # For checking results\n",
    "    print(s)\n",
    "    print(1/(1 + x * x))\n",
    "    return s, count"
   ]
  },
  {
   "cell_type": "code",
   "execution_count": 50,
   "id": "f0faa8ad",
   "metadata": {
    "ExecuteTime": {
     "end_time": "2021-09-12T19:13:55.938197Z",
     "start_time": "2021-09-12T19:13:55.907387Z"
    }
   },
   "outputs": [],
   "source": [
    "import math\n",
    "func_title = \"ln((1 + x) / (1 - x)) = 2*(x/1 + x^3/3 + x^5/5 + ...)\"\n",
    "def calc_func(x, eps):\n",
    "    s = 0\n",
    "    count = 0\n",
    "    a = x\n",
    "    while(abs(a) > eps):\n",
    "        s += a\n",
    "        count += 1\n",
    "        a *= x * x * (2 * count  - 1) / (2 * count + 1)\n",
    "    # For checking results\n",
    "    s *= 2\n",
    "    print(s)\n",
    "    print(math.log((1 + x) / (1 - x)))\n",
    "    return s, count"
   ]
  },
  {
   "cell_type": "code",
   "execution_count": 57,
   "id": "88e8d18f",
   "metadata": {
    "ExecuteTime": {
     "end_time": "2021-09-12T19:17:04.040790Z",
     "start_time": "2021-09-12T19:17:04.027831Z"
    }
   },
   "outputs": [],
   "source": [
    "import math\n",
    "func_title = \"1/(1+x)^2 = 1 - 2*x + 3*x^2 - ...\"\n",
    "def calc_func(x, eps):\n",
    "    s = 0\n",
    "    count = 0\n",
    "    a = 1\n",
    "    while(abs(a) > eps):\n",
    "        s += a\n",
    "        count += 1\n",
    "        a *= (-1) * x * (count + 1) / (count)\n",
    "    # For checking results\n",
    "    print(s)\n",
    "    print(1/((1 + x)* (1 + x)))\n",
    "    return s, count"
   ]
  },
  {
   "cell_type": "code",
   "execution_count": 66,
   "id": "c6a9b6f9",
   "metadata": {
    "ExecuteTime": {
     "end_time": "2021-09-12T19:25:06.270188Z",
     "start_time": "2021-09-12T19:25:06.253278Z"
    }
   },
   "outputs": [],
   "source": [
    "import math\n",
    "func_title = \"sqrt(1+x) = 1 + x/2 - x^2/(2*4) + x^3*(1*3)/(2*4*6) - ...\"\n",
    "def calc_func(x, eps):\n",
    "    s = 0\n",
    "    count = 0\n",
    "    a = 1\n",
    "    while(abs(a) > eps):\n",
    "        s += a\n",
    "        count += 1\n",
    "        a *= (-1) * x * (2 * count - 3) / (2 * count)\n",
    "    # For checking results\n",
    "    print(s)\n",
    "    print(math.sqrt(1+x))\n",
    "    return s, count"
   ]
  },
  {
   "cell_type": "code",
   "execution_count": 69,
   "id": "883f598a",
   "metadata": {
    "ExecuteTime": {
     "end_time": "2021-09-12T19:26:56.357163Z",
     "start_time": "2021-09-12T19:26:56.346209Z"
    }
   },
   "outputs": [],
   "source": [
    "import math\n",
    "func_title = \"1/sqrt(1+x) = 1 - x/2 + x^2*(1*3)/(2*4) - x^3*(1*3*5)/(2*4*6) - ...\"\n",
    "def calc_func(x, eps):\n",
    "    s = 0\n",
    "    count = 0\n",
    "    a = 1\n",
    "    while(abs(a) > eps):\n",
    "        s += a\n",
    "        count += 1\n",
    "        a *= (-1) * x * (2 * count - 1) / (2 * count)\n",
    "    # For checking results\n",
    "    print(s)\n",
    "    print(1/math.sqrt(1+x))\n",
    "    return s, count"
   ]
  },
  {
   "cell_type": "code",
   "execution_count": 9,
   "id": "2e9525d8",
   "metadata": {
    "ExecuteTime": {
     "end_time": "2021-09-12T19:52:49.846891Z",
     "start_time": "2021-09-12T19:52:49.839942Z"
    }
   },
   "outputs": [],
   "source": [
    "import math\n",
    "func_title = \"arcsin(x) = x + x^3/3! + x^5*(1*3)/(2*4)*5! - ...\"\n",
    "def calc_func(x, eps):\n",
    "    s = 0\n",
    "    count = 0\n",
    "    a = x\n",
    "    while(abs(a) > eps):\n",
    "        s += a\n",
    "        count += 1\n",
    "        k = count\n",
    "        a *= x * x * (2*k-1)*(2*k -1)/(2 * k * (2*k+1))\n",
    "    # For checking results\n",
    "    print(s)\n",
    "    print(math.asin(x))\n",
    "    return s, count"
   ]
  },
  {
   "cell_type": "code",
   "execution_count": 75,
   "id": "62ca5f61",
   "metadata": {
    "ExecuteTime": {
     "end_time": "2021-09-12T19:31:17.572027Z",
     "start_time": "2021-09-12T19:31:17.560031Z"
    }
   },
   "outputs": [],
   "source": [
    "import math\n",
    "func_title = \"1/(1+x) = 1 - x + x^2 - x^3 + ...\"\n",
    "def calc_func(x, eps):\n",
    "    s = 0\n",
    "    count = 0\n",
    "    a = 1\n",
    "    while(abs(a) > eps):\n",
    "        s += a\n",
    "        count += 1\n",
    "        a *= (-1) * x\n",
    "    # For checking results\n",
    "    print(s)\n",
    "    print(1/(1 + x))\n",
    "    return s, count"
   ]
  },
  {
   "cell_type": "code",
   "execution_count": 10,
   "id": "82aa0af3",
   "metadata": {
    "ExecuteTime": {
     "end_time": "2021-09-12T19:52:51.641518Z",
     "start_time": "2021-09-12T19:52:51.618583Z"
    }
   },
   "outputs": [
    {
     "name": "stdout",
     "output_type": "stream",
     "text": [
      "0.020833333333333332\n",
      "0.00234375\n",
      "0.00034877232142857144\n",
      "0.5231770833333333\n",
      "0.5235987755982989\n"
     ]
    },
    {
     "data": {
      "text/plain": [
       "(0.5231770833333333, 3)"
      ]
     },
     "execution_count": 10,
     "metadata": {},
     "output_type": "execute_result"
    }
   ],
   "source": [
    "calc_func(0.5, 0.001)"
   ]
  },
  {
   "cell_type": "code",
   "execution_count": null,
   "id": "3f8bd93f",
   "metadata": {},
   "outputs": [],
   "source": []
  }
 ],
 "metadata": {
  "kernelspec": {
   "display_name": "Python 3",
   "language": "python",
   "name": "python3"
  },
  "language_info": {
   "codemirror_mode": {
    "name": "ipython",
    "version": 3
   },
   "file_extension": ".py",
   "mimetype": "text/x-python",
   "name": "python",
   "nbconvert_exporter": "python",
   "pygments_lexer": "ipython3",
   "version": "3.9.5"
  },
  "toc": {
   "base_numbering": 1,
   "nav_menu": {},
   "number_sections": true,
   "sideBar": true,
   "skip_h1_title": false,
   "title_cell": "Table of Contents",
   "title_sidebar": "Contents",
   "toc_cell": false,
   "toc_position": {},
   "toc_section_display": true,
   "toc_window_display": false
  }
 },
 "nbformat": 4,
 "nbformat_minor": 5
}
