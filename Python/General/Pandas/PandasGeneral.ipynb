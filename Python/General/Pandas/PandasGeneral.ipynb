{
 "cells": [
  {
   "cell_type": "markdown",
   "metadata": {},
   "source": [
    "## Корисні посилання"
   ]
  },
  {
   "cell_type": "markdown",
   "metadata": {},
   "source": [
    "**Початок роботи**\n",
    "***Корисні посилання\n",
    "- Anaconda (дистрибутив Python, що містить Jupyter Notebook, Python,тощо): https://www.anaconda.com/download/ - рекомендується версія Python 3.6 та вище для Вашої  операційної системи!\n",
    "- документація  Jupyter: https://jupyter.readthedocs.io/en/latest/\n",
    "- документація pip (для встановлення пакетів в Python за допомогою pip install): https://pip.readthedocs.io/en/latest/\n",
    "- PyCharm: https://www.jetbrains.com/pycharm/\n",
    "\n",
    "**Загальне**\n",
    "\n",
    "- для будь-яких запитань щодо Python: https://www.google.com/\n",
    "- для (майже) будь-яких відповідей: https://stackoverflow.com/\n",
    "- [a professional information and analytical resource dedicated to machine learning, pattern recognition, and data mining](http://www.machinelearning.ru/wiki/index.php?title=%D0%97%D0%B0%D0%B3%D0%BB%D0%B0%D0%B2%D0%BD%D0%B0%D1%8F_%D1%81%D1%82%D1%80%D0%B0%D0%BD%D0%B8%D1%86%D0%B0)\n",
    "- A visual introduction to machine learning: http://www.r2d3.us/visual-intro-to-machine-learning-part-1/\n",
    "\n",
    "**Python & Jupyter**\n",
    "\n",
    "- A Crash Course in Python for Scientists: http://nbviewer.jupyter.org/gist/rpmuller/5920182\n",
    "- A Gallery of interesting Jupyter Notebooks: https://github.com/jupyter/jupyter/wiki/A-gallery-of-interesting-Jupyter-Notebooks\n",
    "- Markdown Cheatsheet: https://github.com/adam-p/markdown-here/wiki/Markdown-Cheatsheet\n",
    "\n",
    "**Pandas (Панда)**\n",
    "\n",
    "- документація: http://pandas.pydata.org/pandas-docs/stable/\n",
    "- 10 minutes to pandas: https://pandas.pydata.org/pandas-docs/stable/10min.html\n",
    "- Pandas Tutorial: DataFrames in Python: https://www.datacamp.com/community/tutorials/pandas-tutorial-dataframe-python\n",
    "- Cheet Sheet: https://www.analyticsvidhya.com/blog/2015/07/11-steps-perform-data-analysis-pandas-python/\n",
    "- Visualization: http://pandas.pydata.org/pandas-docs/stable/visualization.html\n",
    "\n",
    "**sklearn**\n",
    "\n",
    "- документація та багато іншого: http://scikit-learn.org/stable/\n",
    "\n",
    "**Інші бібліотеки**\n",
    "\n",
    "- matplotlib: https://matplotlib.org/users/pyplot_tutorial.html\n",
    "- seaborn: http://seaborn.pydata.org/"
   ]
  },
  {
   "cell_type": "markdown",
   "metadata": {},
   "source": [
    "## Лабораторна робота 1: робота с Pandas.\n",
    "\n",
    "Pandas - це бібліотека Python, що надає широкий спектр можливостей щодо анализу даных. З її допомогою зручно завантажувати, обрабляти та аналізувати табличні дані за допомогою SQL-подібних запитів."
   ]
  },
  {
   "cell_type": "code",
   "execution_count": 1,
   "metadata": {},
   "outputs": [],
   "source": [
    "import pandas as pd"
   ]
  },
  {
   "cell_type": "markdown",
   "metadata": {},
   "source": [
    "Основними структурами даних в Pandas є класы Series та DataFrame. Перший з них одновимірний индексированный масив даных деякого фіксованого типу. Другий - двовимірна структура даних: таблиця, кожний стовпчик якої містить дані одного типу. Її можна трактувати як словник об'єктів типу Series."
   ]
  },
  {
   "cell_type": "markdown",
   "metadata": {},
   "source": [
    "За допомогою бібліотеки Pandas спробуємо проаналізувати дані щодо клиентів банку, який цікавиться, чи відбудеться просрочка платежів на 90 і більше днів за кредитом. "
   ]
  },
  {
   "cell_type": "markdown",
   "metadata": {},
   "source": [
    "### 1\n",
    "Читаємо дані з файлу data.csv\n",
    "\n",
    "*Функції, що можуть знадобиться при виконанні: `pd.read_csv(..., delimiter=',')`*"
   ]
  },
  {
   "cell_type": "code",
   "execution_count": 6,
   "metadata": {},
   "outputs": [],
   "source": [
    "df = pd.read_csv('data.csv', delimiter=',')"
   ]
  },
  {
   "cell_type": "markdown",
   "metadata": {},
   "source": [
    "### 2\n",
    "Виведете опис прочитаних даних. \n",
    "\n",
    "*Функції, що можуть знадобиться при виконанні: `.describe()`*"
   ]
  },
  {
   "cell_type": "code",
   "execution_count": 7,
   "metadata": {},
   "outputs": [
    {
     "data": {
      "text/html": [
       "<div>\n",
       "<style scoped>\n",
       "    .dataframe tbody tr th:only-of-type {\n",
       "        vertical-align: middle;\n",
       "    }\n",
       "\n",
       "    .dataframe tbody tr th {\n",
       "        vertical-align: top;\n",
       "    }\n",
       "\n",
       "    .dataframe thead th {\n",
       "        text-align: right;\n",
       "    }\n",
       "</style>\n",
       "<table border=\"1\" class=\"dataframe\">\n",
       "  <thead>\n",
       "    <tr style=\"text-align: right;\">\n",
       "      <th></th>\n",
       "      <th>Id</th>\n",
       "      <th>SeriousDlqin2yrs</th>\n",
       "      <th>RevolvingUtilizationOfUnsecuredLines</th>\n",
       "      <th>age</th>\n",
       "      <th>NumberOfTime30-59DaysPastDueNotWorse</th>\n",
       "      <th>DebtRatio</th>\n",
       "      <th>MonthlyIncome</th>\n",
       "      <th>NumberOfOpenCreditLinesAndLoans</th>\n",
       "      <th>NumberOfTimes90DaysLate</th>\n",
       "      <th>NumberRealEstateLoansOrLines</th>\n",
       "      <th>NumberOfTime60-89DaysPastDueNotWorse</th>\n",
       "      <th>NumberOfDependents</th>\n",
       "    </tr>\n",
       "  </thead>\n",
       "  <tbody>\n",
       "    <tr>\n",
       "      <th>count</th>\n",
       "      <td>1350.000000</td>\n",
       "      <td>1350.000000</td>\n",
       "      <td>1350.000000</td>\n",
       "      <td>1350.000000</td>\n",
       "      <td>1350.000000</td>\n",
       "      <td>1350.000000</td>\n",
       "      <td>1094.000000</td>\n",
       "      <td>1350.000000</td>\n",
       "      <td>1350.000000</td>\n",
       "      <td>1350.000000</td>\n",
       "      <td>1350.000000</td>\n",
       "      <td>1307.000000</td>\n",
       "    </tr>\n",
       "    <tr>\n",
       "      <th>mean</th>\n",
       "      <td>675.500000</td>\n",
       "      <td>0.060000</td>\n",
       "      <td>3.577895</td>\n",
       "      <td>52.048889</td>\n",
       "      <td>0.257778</td>\n",
       "      <td>356.123363</td>\n",
       "      <td>6438.473492</td>\n",
       "      <td>8.434074</td>\n",
       "      <td>0.080000</td>\n",
       "      <td>0.986667</td>\n",
       "      <td>0.062222</td>\n",
       "      <td>0.737567</td>\n",
       "    </tr>\n",
       "    <tr>\n",
       "      <th>std</th>\n",
       "      <td>389.855743</td>\n",
       "      <td>0.237575</td>\n",
       "      <td>84.914699</td>\n",
       "      <td>15.009875</td>\n",
       "      <td>0.751718</td>\n",
       "      <td>1156.603074</td>\n",
       "      <td>7849.754675</td>\n",
       "      <td>5.129287</td>\n",
       "      <td>0.376634</td>\n",
       "      <td>1.008401</td>\n",
       "      <td>0.306555</td>\n",
       "      <td>1.086949</td>\n",
       "    </tr>\n",
       "    <tr>\n",
       "      <th>min</th>\n",
       "      <td>1.000000</td>\n",
       "      <td>0.000000</td>\n",
       "      <td>0.000000</td>\n",
       "      <td>22.000000</td>\n",
       "      <td>0.000000</td>\n",
       "      <td>0.000000</td>\n",
       "      <td>0.000000</td>\n",
       "      <td>0.000000</td>\n",
       "      <td>0.000000</td>\n",
       "      <td>0.000000</td>\n",
       "      <td>0.000000</td>\n",
       "      <td>0.000000</td>\n",
       "    </tr>\n",
       "    <tr>\n",
       "      <th>25%</th>\n",
       "      <td>338.250000</td>\n",
       "      <td>0.000000</td>\n",
       "      <td>0.031140</td>\n",
       "      <td>40.000000</td>\n",
       "      <td>0.000000</td>\n",
       "      <td>0.175125</td>\n",
       "      <td>3300.000000</td>\n",
       "      <td>5.000000</td>\n",
       "      <td>0.000000</td>\n",
       "      <td>0.000000</td>\n",
       "      <td>0.000000</td>\n",
       "      <td>0.000000</td>\n",
       "    </tr>\n",
       "    <tr>\n",
       "      <th>50%</th>\n",
       "      <td>675.500000</td>\n",
       "      <td>0.000000</td>\n",
       "      <td>0.156891</td>\n",
       "      <td>52.000000</td>\n",
       "      <td>0.000000</td>\n",
       "      <td>0.367049</td>\n",
       "      <td>5222.500000</td>\n",
       "      <td>8.000000</td>\n",
       "      <td>0.000000</td>\n",
       "      <td>1.000000</td>\n",
       "      <td>0.000000</td>\n",
       "      <td>0.000000</td>\n",
       "    </tr>\n",
       "    <tr>\n",
       "      <th>75%</th>\n",
       "      <td>1012.750000</td>\n",
       "      <td>0.000000</td>\n",
       "      <td>0.543145</td>\n",
       "      <td>63.000000</td>\n",
       "      <td>0.000000</td>\n",
       "      <td>0.807001</td>\n",
       "      <td>8055.250000</td>\n",
       "      <td>11.000000</td>\n",
       "      <td>0.000000</td>\n",
       "      <td>2.000000</td>\n",
       "      <td>0.000000</td>\n",
       "      <td>1.000000</td>\n",
       "    </tr>\n",
       "    <tr>\n",
       "      <th>max</th>\n",
       "      <td>1350.000000</td>\n",
       "      <td>1.000000</td>\n",
       "      <td>2340.000000</td>\n",
       "      <td>97.000000</td>\n",
       "      <td>10.000000</td>\n",
       "      <td>15466.000000</td>\n",
       "      <td>208333.000000</td>\n",
       "      <td>31.000000</td>\n",
       "      <td>5.000000</td>\n",
       "      <td>8.000000</td>\n",
       "      <td>5.000000</td>\n",
       "      <td>8.000000</td>\n",
       "    </tr>\n",
       "  </tbody>\n",
       "</table>\n",
       "</div>"
      ],
      "text/plain": [
       "                Id  SeriousDlqin2yrs  RevolvingUtilizationOfUnsecuredLines  \\\n",
       "count  1350.000000       1350.000000                           1350.000000   \n",
       "mean    675.500000          0.060000                              3.577895   \n",
       "std     389.855743          0.237575                             84.914699   \n",
       "min       1.000000          0.000000                              0.000000   \n",
       "25%     338.250000          0.000000                              0.031140   \n",
       "50%     675.500000          0.000000                              0.156891   \n",
       "75%    1012.750000          0.000000                              0.543145   \n",
       "max    1350.000000          1.000000                           2340.000000   \n",
       "\n",
       "               age  NumberOfTime30-59DaysPastDueNotWorse     DebtRatio  \\\n",
       "count  1350.000000                           1350.000000   1350.000000   \n",
       "mean     52.048889                              0.257778    356.123363   \n",
       "std      15.009875                              0.751718   1156.603074   \n",
       "min      22.000000                              0.000000      0.000000   \n",
       "25%      40.000000                              0.000000      0.175125   \n",
       "50%      52.000000                              0.000000      0.367049   \n",
       "75%      63.000000                              0.000000      0.807001   \n",
       "max      97.000000                             10.000000  15466.000000   \n",
       "\n",
       "       MonthlyIncome  NumberOfOpenCreditLinesAndLoans  \\\n",
       "count    1094.000000                      1350.000000   \n",
       "mean     6438.473492                         8.434074   \n",
       "std      7849.754675                         5.129287   \n",
       "min         0.000000                         0.000000   \n",
       "25%      3300.000000                         5.000000   \n",
       "50%      5222.500000                         8.000000   \n",
       "75%      8055.250000                        11.000000   \n",
       "max    208333.000000                        31.000000   \n",
       "\n",
       "       NumberOfTimes90DaysLate  NumberRealEstateLoansOrLines  \\\n",
       "count              1350.000000                   1350.000000   \n",
       "mean                  0.080000                      0.986667   \n",
       "std                   0.376634                      1.008401   \n",
       "min                   0.000000                      0.000000   \n",
       "25%                   0.000000                      0.000000   \n",
       "50%                   0.000000                      1.000000   \n",
       "75%                   0.000000                      2.000000   \n",
       "max                   5.000000                      8.000000   \n",
       "\n",
       "       NumberOfTime60-89DaysPastDueNotWorse  NumberOfDependents  \n",
       "count                           1350.000000         1307.000000  \n",
       "mean                               0.062222            0.737567  \n",
       "std                                0.306555            1.086949  \n",
       "min                                0.000000            0.000000  \n",
       "25%                                0.000000            0.000000  \n",
       "50%                                0.000000            0.000000  \n",
       "75%                                0.000000            1.000000  \n",
       "max                                5.000000            8.000000  "
      ]
     },
     "execution_count": 7,
     "metadata": {},
     "output_type": "execute_result"
    }
   ],
   "source": [
    "df.describe()"
   ]
  },
  {
   "cell_type": "markdown",
   "metadata": {},
   "source": [
    "### 3\n",
    "Відобразіть декілька перших и декілька останніх записів.\n",
    "\n",
    "*Функції, що можуть знадобиться при виконанні: `.head(), .tail()`*\n",
    "\n",
    "*Які параметри можно передаати цим функціям?*"
   ]
  },
  {
   "cell_type": "code",
   "execution_count": 11,
   "metadata": {},
   "outputs": [
    {
     "data": {
      "text/html": [
       "<div>\n",
       "<style scoped>\n",
       "    .dataframe tbody tr th:only-of-type {\n",
       "        vertical-align: middle;\n",
       "    }\n",
       "\n",
       "    .dataframe tbody tr th {\n",
       "        vertical-align: top;\n",
       "    }\n",
       "\n",
       "    .dataframe thead th {\n",
       "        text-align: right;\n",
       "    }\n",
       "</style>\n",
       "<table border=\"1\" class=\"dataframe\">\n",
       "  <thead>\n",
       "    <tr style=\"text-align: right;\">\n",
       "      <th></th>\n",
       "      <th>Id</th>\n",
       "      <th>SeriousDlqin2yrs</th>\n",
       "      <th>RevolvingUtilizationOfUnsecuredLines</th>\n",
       "      <th>age</th>\n",
       "      <th>NumberOfTime30-59DaysPastDueNotWorse</th>\n",
       "      <th>DebtRatio</th>\n",
       "      <th>MonthlyIncome</th>\n",
       "      <th>NumberOfOpenCreditLinesAndLoans</th>\n",
       "      <th>NumberOfTimes90DaysLate</th>\n",
       "      <th>NumberRealEstateLoansOrLines</th>\n",
       "      <th>NumberOfTime60-89DaysPastDueNotWorse</th>\n",
       "      <th>NumberOfDependents</th>\n",
       "    </tr>\n",
       "  </thead>\n",
       "  <tbody>\n",
       "    <tr>\n",
       "      <th>0</th>\n",
       "      <td>1</td>\n",
       "      <td>1</td>\n",
       "      <td>0.766127</td>\n",
       "      <td>45</td>\n",
       "      <td>2</td>\n",
       "      <td>0.802982</td>\n",
       "      <td>9120.0</td>\n",
       "      <td>13</td>\n",
       "      <td>0</td>\n",
       "      <td>6</td>\n",
       "      <td>0</td>\n",
       "      <td>2.0</td>\n",
       "    </tr>\n",
       "    <tr>\n",
       "      <th>1</th>\n",
       "      <td>2</td>\n",
       "      <td>0</td>\n",
       "      <td>0.957151</td>\n",
       "      <td>40</td>\n",
       "      <td>0</td>\n",
       "      <td>0.121876</td>\n",
       "      <td>2600.0</td>\n",
       "      <td>4</td>\n",
       "      <td>0</td>\n",
       "      <td>0</td>\n",
       "      <td>0</td>\n",
       "      <td>1.0</td>\n",
       "    </tr>\n",
       "    <tr>\n",
       "      <th>2</th>\n",
       "      <td>3</td>\n",
       "      <td>0</td>\n",
       "      <td>0.658180</td>\n",
       "      <td>38</td>\n",
       "      <td>1</td>\n",
       "      <td>0.085113</td>\n",
       "      <td>3042.0</td>\n",
       "      <td>2</td>\n",
       "      <td>1</td>\n",
       "      <td>0</td>\n",
       "      <td>0</td>\n",
       "      <td>0.0</td>\n",
       "    </tr>\n",
       "    <tr>\n",
       "      <th>3</th>\n",
       "      <td>4</td>\n",
       "      <td>0</td>\n",
       "      <td>0.233810</td>\n",
       "      <td>30</td>\n",
       "      <td>0</td>\n",
       "      <td>0.036050</td>\n",
       "      <td>3300.0</td>\n",
       "      <td>5</td>\n",
       "      <td>0</td>\n",
       "      <td>0</td>\n",
       "      <td>0</td>\n",
       "      <td>0.0</td>\n",
       "    </tr>\n",
       "    <tr>\n",
       "      <th>4</th>\n",
       "      <td>5</td>\n",
       "      <td>0</td>\n",
       "      <td>0.907239</td>\n",
       "      <td>49</td>\n",
       "      <td>1</td>\n",
       "      <td>0.024926</td>\n",
       "      <td>63588.0</td>\n",
       "      <td>7</td>\n",
       "      <td>0</td>\n",
       "      <td>1</td>\n",
       "      <td>0</td>\n",
       "      <td>0.0</td>\n",
       "    </tr>\n",
       "  </tbody>\n",
       "</table>\n",
       "</div>"
      ],
      "text/plain": [
       "   Id  SeriousDlqin2yrs  RevolvingUtilizationOfUnsecuredLines  age  \\\n",
       "0   1                 1                              0.766127   45   \n",
       "1   2                 0                              0.957151   40   \n",
       "2   3                 0                              0.658180   38   \n",
       "3   4                 0                              0.233810   30   \n",
       "4   5                 0                              0.907239   49   \n",
       "\n",
       "   NumberOfTime30-59DaysPastDueNotWorse  DebtRatio  MonthlyIncome  \\\n",
       "0                                     2   0.802982         9120.0   \n",
       "1                                     0   0.121876         2600.0   \n",
       "2                                     1   0.085113         3042.0   \n",
       "3                                     0   0.036050         3300.0   \n",
       "4                                     1   0.024926        63588.0   \n",
       "\n",
       "   NumberOfOpenCreditLinesAndLoans  NumberOfTimes90DaysLate  \\\n",
       "0                               13                        0   \n",
       "1                                4                        0   \n",
       "2                                2                        1   \n",
       "3                                5                        0   \n",
       "4                                7                        0   \n",
       "\n",
       "   NumberRealEstateLoansOrLines  NumberOfTime60-89DaysPastDueNotWorse  \\\n",
       "0                             6                                     0   \n",
       "1                             0                                     0   \n",
       "2                             0                                     0   \n",
       "3                             0                                     0   \n",
       "4                             1                                     0   \n",
       "\n",
       "   NumberOfDependents  \n",
       "0                 2.0  \n",
       "1                 1.0  \n",
       "2                 0.0  \n",
       "3                 0.0  \n",
       "4                 0.0  "
      ]
     },
     "execution_count": 11,
     "metadata": {},
     "output_type": "execute_result"
    }
   ],
   "source": [
    "df.head()"
   ]
  },
  {
   "cell_type": "code",
   "execution_count": 12,
   "metadata": {},
   "outputs": [
    {
     "data": {
      "text/html": [
       "<div>\n",
       "<style scoped>\n",
       "    .dataframe tbody tr th:only-of-type {\n",
       "        vertical-align: middle;\n",
       "    }\n",
       "\n",
       "    .dataframe tbody tr th {\n",
       "        vertical-align: top;\n",
       "    }\n",
       "\n",
       "    .dataframe thead th {\n",
       "        text-align: right;\n",
       "    }\n",
       "</style>\n",
       "<table border=\"1\" class=\"dataframe\">\n",
       "  <thead>\n",
       "    <tr style=\"text-align: right;\">\n",
       "      <th></th>\n",
       "      <th>Id</th>\n",
       "      <th>SeriousDlqin2yrs</th>\n",
       "      <th>RevolvingUtilizationOfUnsecuredLines</th>\n",
       "      <th>age</th>\n",
       "      <th>NumberOfTime30-59DaysPastDueNotWorse</th>\n",
       "      <th>DebtRatio</th>\n",
       "      <th>MonthlyIncome</th>\n",
       "      <th>NumberOfOpenCreditLinesAndLoans</th>\n",
       "      <th>NumberOfTimes90DaysLate</th>\n",
       "      <th>NumberRealEstateLoansOrLines</th>\n",
       "      <th>NumberOfTime60-89DaysPastDueNotWorse</th>\n",
       "      <th>NumberOfDependents</th>\n",
       "    </tr>\n",
       "  </thead>\n",
       "  <tbody>\n",
       "    <tr>\n",
       "      <th>1347</th>\n",
       "      <td>1348</td>\n",
       "      <td>0</td>\n",
       "      <td>0.022780</td>\n",
       "      <td>53</td>\n",
       "      <td>0</td>\n",
       "      <td>0.323068</td>\n",
       "      <td>10000.0</td>\n",
       "      <td>14</td>\n",
       "      <td>0</td>\n",
       "      <td>2</td>\n",
       "      <td>0</td>\n",
       "      <td>1.0</td>\n",
       "    </tr>\n",
       "    <tr>\n",
       "      <th>1348</th>\n",
       "      <td>1349</td>\n",
       "      <td>0</td>\n",
       "      <td>0.036934</td>\n",
       "      <td>56</td>\n",
       "      <td>0</td>\n",
       "      <td>0.287935</td>\n",
       "      <td>8362.0</td>\n",
       "      <td>8</td>\n",
       "      <td>0</td>\n",
       "      <td>1</td>\n",
       "      <td>0</td>\n",
       "      <td>2.0</td>\n",
       "    </tr>\n",
       "    <tr>\n",
       "      <th>1349</th>\n",
       "      <td>1350</td>\n",
       "      <td>0</td>\n",
       "      <td>0.000000</td>\n",
       "      <td>62</td>\n",
       "      <td>0</td>\n",
       "      <td>1463.000000</td>\n",
       "      <td>NaN</td>\n",
       "      <td>5</td>\n",
       "      <td>0</td>\n",
       "      <td>1</td>\n",
       "      <td>0</td>\n",
       "      <td>0.0</td>\n",
       "    </tr>\n",
       "  </tbody>\n",
       "</table>\n",
       "</div>"
      ],
      "text/plain": [
       "        Id  SeriousDlqin2yrs  RevolvingUtilizationOfUnsecuredLines  age  \\\n",
       "1347  1348                 0                              0.022780   53   \n",
       "1348  1349                 0                              0.036934   56   \n",
       "1349  1350                 0                              0.000000   62   \n",
       "\n",
       "      NumberOfTime30-59DaysPastDueNotWorse    DebtRatio  MonthlyIncome  \\\n",
       "1347                                     0     0.323068        10000.0   \n",
       "1348                                     0     0.287935         8362.0   \n",
       "1349                                     0  1463.000000            NaN   \n",
       "\n",
       "      NumberOfOpenCreditLinesAndLoans  NumberOfTimes90DaysLate  \\\n",
       "1347                               14                        0   \n",
       "1348                                8                        0   \n",
       "1349                                5                        0   \n",
       "\n",
       "      NumberRealEstateLoansOrLines  NumberOfTime60-89DaysPastDueNotWorse  \\\n",
       "1347                             2                                     0   \n",
       "1348                             1                                     0   \n",
       "1349                             1                                     0   \n",
       "\n",
       "      NumberOfDependents  \n",
       "1347                 1.0  \n",
       "1348                 2.0  \n",
       "1349                 0.0  "
      ]
     },
     "execution_count": 12,
     "metadata": {},
     "output_type": "execute_result"
    }
   ],
   "source": [
    "df.tail(3)"
   ]
  },
  {
   "cell_type": "markdown",
   "metadata": {},
   "source": [
    "Відповідь: ми можемо передати параметр, який визначає скільки ліній буде відображено, по замовчуванню їх відображається 5."
   ]
  },
  {
   "cell_type": "markdown",
   "metadata": {},
   "source": [
    "### 4\n",
    "Прочитайте в файлі `DataDictionary-ru.txt`, що означают стовпчики матриці, якому типу належить кожний стовпчик (дійсний, цілий, категорійний)?"
   ]
  },
  {
   "cell_type": "markdown",
   "metadata": {},
   "source": [
    "<b>Відповідь</b>\n",
    "\n",
    "Дійсні стовпчики: RevolvingUtilizationOfUnsecuredLines, DebtRatio, MonthlyIncome\n",
    "\n",
    "Цілі: age, NumberOfTime30-59DaysPastDueNotWorse, NumberOfOpenCreditLinesAndLoans, NumberOfTimes90DaysLate, NumberRealEstateLoansOrLines, NumberOfTime60-89DaysPastDueNotWorse, NumberOfDependents \n",
    "\n",
    "Категорійні: SeriousDlqin2yrs (boolean)"
   ]
  },
  {
   "cell_type": "markdown",
   "metadata": {},
   "source": [
    "### 5\n",
    "\n",
    "Зверніть увагу, що стовпчик `DebtRatio` містить неправдоподібні дані. Тілько значння, що відповідають відомому місячному доходу, є відношенням. Інші – абсолютні значення місячних виплат процентів. \n",
    "\n",
    "Виправьте дані, зробив всі значення стовпчика `DebtRatio` абсолютними (помножте їх на `MonthlyIncome`).  Щоб ваша програма швидко працювала на повних даних, спробуйте не використовувати цикл."
   ]
  },
  {
   "cell_type": "markdown",
   "metadata": {},
   "source": [
    "#### *Функції, що можуть знадобиться при виконанні:*\n",
    "\n",
    "Звертання до элементів DataFrame:\n",
    "  * елемент: `data.loc[i, 'назваСтовпчика']`\n",
    "  * стовпчик: `data['назваСтовпчика']`\n",
    "  * ппдматриця: `data.loc[a:b, списокНазвСтовпчиків]`\n",
    "\n",
    "Умовна індексація:\n",
    "* `data.loc[data['стовпчик'] > 20, списокНазвСтвпчиків]`\n",
    "\n",
    "краще писати так:\n",
    "\n",
    "* `i = data['стовпчик'] > 20`  # вектор `True` и `False`\n",
    "* `data.loc[i, 'назваСтовпчика']`\n",
    "\n",
    "У підматриц номери рядківк наслідуются від вихідної.\n",
    "\n",
    "* `pandas.isnull(скаляр або масив)` - перевірка, чи є значення невизначеним (`NaN`)\n",
    "* `pandas.notnull(скаляр або масив)` - перевірка, чи є значення визначеним (не `NaN`)"
   ]
  },
  {
   "cell_type": "code",
   "execution_count": 16,
   "metadata": {
    "scrolled": true
   },
   "outputs": [],
   "source": [
    "df.loc[:, 'DebtRatio'] = df.loc[:, 'DebtRatio'] * df.loc[:, 'MonthlyIncome']"
   ]
  },
  {
   "cell_type": "markdown",
   "metadata": {},
   "source": [
    "### 6\n",
    "\n",
    "Зменіть ім'я стовпчика на `Debt`.\n",
    "\n",
    "*Функції, що можуть знадобиться при виконанні: `.rename(columns={'стареИмя':'новеИмя'}, inplace=True)`*"
   ]
  },
  {
   "cell_type": "code",
   "execution_count": 17,
   "metadata": {},
   "outputs": [],
   "source": [
    "df.rename(columns={'DebtRatio':'Debt'}, inplace=True)"
   ]
  },
  {
   "cell_type": "code",
   "execution_count": 18,
   "metadata": {},
   "outputs": [
    {
     "data": {
      "text/html": [
       "<div>\n",
       "<style scoped>\n",
       "    .dataframe tbody tr th:only-of-type {\n",
       "        vertical-align: middle;\n",
       "    }\n",
       "\n",
       "    .dataframe tbody tr th {\n",
       "        vertical-align: top;\n",
       "    }\n",
       "\n",
       "    .dataframe thead th {\n",
       "        text-align: right;\n",
       "    }\n",
       "</style>\n",
       "<table border=\"1\" class=\"dataframe\">\n",
       "  <thead>\n",
       "    <tr style=\"text-align: right;\">\n",
       "      <th></th>\n",
       "      <th>Id</th>\n",
       "      <th>SeriousDlqin2yrs</th>\n",
       "      <th>RevolvingUtilizationOfUnsecuredLines</th>\n",
       "      <th>age</th>\n",
       "      <th>NumberOfTime30-59DaysPastDueNotWorse</th>\n",
       "      <th>Debt</th>\n",
       "      <th>MonthlyIncome</th>\n",
       "      <th>NumberOfOpenCreditLinesAndLoans</th>\n",
       "      <th>NumberOfTimes90DaysLate</th>\n",
       "      <th>NumberRealEstateLoansOrLines</th>\n",
       "      <th>NumberOfTime60-89DaysPastDueNotWorse</th>\n",
       "      <th>NumberOfDependents</th>\n",
       "    </tr>\n",
       "  </thead>\n",
       "  <tbody>\n",
       "    <tr>\n",
       "      <th>0</th>\n",
       "      <td>1</td>\n",
       "      <td>1</td>\n",
       "      <td>0.766127</td>\n",
       "      <td>45</td>\n",
       "      <td>2</td>\n",
       "      <td>7323.197016</td>\n",
       "      <td>9120.0</td>\n",
       "      <td>13</td>\n",
       "      <td>0</td>\n",
       "      <td>6</td>\n",
       "      <td>0</td>\n",
       "      <td>2.0</td>\n",
       "    </tr>\n",
       "    <tr>\n",
       "      <th>1</th>\n",
       "      <td>2</td>\n",
       "      <td>0</td>\n",
       "      <td>0.957151</td>\n",
       "      <td>40</td>\n",
       "      <td>0</td>\n",
       "      <td>316.878123</td>\n",
       "      <td>2600.0</td>\n",
       "      <td>4</td>\n",
       "      <td>0</td>\n",
       "      <td>0</td>\n",
       "      <td>0</td>\n",
       "      <td>1.0</td>\n",
       "    </tr>\n",
       "    <tr>\n",
       "      <th>2</th>\n",
       "      <td>3</td>\n",
       "      <td>0</td>\n",
       "      <td>0.658180</td>\n",
       "      <td>38</td>\n",
       "      <td>1</td>\n",
       "      <td>258.914887</td>\n",
       "      <td>3042.0</td>\n",
       "      <td>2</td>\n",
       "      <td>1</td>\n",
       "      <td>0</td>\n",
       "      <td>0</td>\n",
       "      <td>0.0</td>\n",
       "    </tr>\n",
       "    <tr>\n",
       "      <th>3</th>\n",
       "      <td>4</td>\n",
       "      <td>0</td>\n",
       "      <td>0.233810</td>\n",
       "      <td>30</td>\n",
       "      <td>0</td>\n",
       "      <td>118.963951</td>\n",
       "      <td>3300.0</td>\n",
       "      <td>5</td>\n",
       "      <td>0</td>\n",
       "      <td>0</td>\n",
       "      <td>0</td>\n",
       "      <td>0.0</td>\n",
       "    </tr>\n",
       "    <tr>\n",
       "      <th>4</th>\n",
       "      <td>5</td>\n",
       "      <td>0</td>\n",
       "      <td>0.907239</td>\n",
       "      <td>49</td>\n",
       "      <td>1</td>\n",
       "      <td>1584.975094</td>\n",
       "      <td>63588.0</td>\n",
       "      <td>7</td>\n",
       "      <td>0</td>\n",
       "      <td>1</td>\n",
       "      <td>0</td>\n",
       "      <td>0.0</td>\n",
       "    </tr>\n",
       "  </tbody>\n",
       "</table>\n",
       "</div>"
      ],
      "text/plain": [
       "   Id  SeriousDlqin2yrs  RevolvingUtilizationOfUnsecuredLines  age  \\\n",
       "0   1                 1                              0.766127   45   \n",
       "1   2                 0                              0.957151   40   \n",
       "2   3                 0                              0.658180   38   \n",
       "3   4                 0                              0.233810   30   \n",
       "4   5                 0                              0.907239   49   \n",
       "\n",
       "   NumberOfTime30-59DaysPastDueNotWorse         Debt  MonthlyIncome  \\\n",
       "0                                     2  7323.197016         9120.0   \n",
       "1                                     0   316.878123         2600.0   \n",
       "2                                     1   258.914887         3042.0   \n",
       "3                                     0   118.963951         3300.0   \n",
       "4                                     1  1584.975094        63588.0   \n",
       "\n",
       "   NumberOfOpenCreditLinesAndLoans  NumberOfTimes90DaysLate  \\\n",
       "0                               13                        0   \n",
       "1                                4                        0   \n",
       "2                                2                        1   \n",
       "3                                5                        0   \n",
       "4                                7                        0   \n",
       "\n",
       "   NumberRealEstateLoansOrLines  NumberOfTime60-89DaysPastDueNotWorse  \\\n",
       "0                             6                                     0   \n",
       "1                             0                                     0   \n",
       "2                             0                                     0   \n",
       "3                             0                                     0   \n",
       "4                             1                                     0   \n",
       "\n",
       "   NumberOfDependents  \n",
       "0                 2.0  \n",
       "1                 1.0  \n",
       "2                 0.0  \n",
       "3                 0.0  \n",
       "4                 0.0  "
      ]
     },
     "execution_count": 18,
     "metadata": {},
     "output_type": "execute_result"
    }
   ],
   "source": [
    "df.head()"
   ]
  },
  {
   "cell_type": "markdown",
   "metadata": {},
   "source": [
    "### 7\n",
    "\n",
    "Розрахуйте средній щомісячний дохід і присвойте всім клієнтам з невідомим доходом отримане число.\n",
    "\n",
    "*Функції, що можуть знадобиться при виконанні: `.mean()`*\n",
    "\n",
    "*Інші описові статистики:* https://pandas.pydata.org/pandas-docs/stable/reference/frame.html#computations-descriptive-stats"
   ]
  },
  {
   "cell_type": "code",
   "execution_count": 23,
   "metadata": {},
   "outputs": [],
   "source": [
    "mean = df.loc[:, 'Debt'].mean()\n",
    "df['Debt'] = df['Debt'].fillna(mean)"
   ]
  },
  {
   "cell_type": "markdown",
   "metadata": {},
   "source": [
    "### 8\n",
    "\n",
    "Використовуючи метод `groupby`, оцініть імовірності неповернення кредиту (`SeriousDlqin2yrs=1`) для різних значень кількості утриманців (`NumberOfDependents`).  \n",
    "\n",
    "Зробіть аналогічну процедуру для різних значень стовпчика `NumberRealEstateLoansOrLines`\n",
    "\n",
    "*Підказка:*\n",
    "`data['стовпчик'].groupby(data['стовпчик2']).mean()`  *-- розрахунок середніх значень стовпчика1 за групами з стовпчика2*"
   ]
  },
  {
   "cell_type": "code",
   "execution_count": 26,
   "metadata": {
    "scrolled": true
   },
   "outputs": [
    {
     "data": {
      "text/plain": [
       "NumberOfDependents\n",
       "0.0    0.041397\n",
       "1.0    0.089844\n",
       "2.0    0.110465\n",
       "3.0    0.057143\n",
       "4.0    0.033333\n",
       "5.0    0.000000\n",
       "6.0    0.000000\n",
       "8.0    0.000000\n",
       "Name: SeriousDlqin2yrs, dtype: float64"
      ]
     },
     "execution_count": 26,
     "metadata": {},
     "output_type": "execute_result"
    }
   ],
   "source": [
    "df['SeriousDlqin2yrs'].groupby(df['NumberOfDependents']).mean()"
   ]
  },
  {
   "cell_type": "code",
   "execution_count": 28,
   "metadata": {},
   "outputs": [
    {
     "data": {
      "text/plain": [
       "NumberRealEstateLoansOrLines\n",
       "0    0.056863\n",
       "1    0.048729\n",
       "2    0.063158\n",
       "3    0.145455\n",
       "4    0.105263\n",
       "5    0.000000\n",
       "6    1.000000\n",
       "8    0.000000\n",
       "Name: SeriousDlqin2yrs, dtype: float64"
      ]
     },
     "execution_count": 28,
     "metadata": {},
     "output_type": "execute_result"
    }
   ],
   "source": [
    "df['SeriousDlqin2yrs'].groupby(df['NumberRealEstateLoansOrLines']).mean()"
   ]
  },
  {
   "cell_type": "markdown",
   "metadata": {},
   "source": [
    "## Визуалізація даных"
   ]
  },
  {
   "cell_type": "code",
   "execution_count": 29,
   "metadata": {},
   "outputs": [],
   "source": [
    "import matplotlib.pyplot as plt\n",
    "\n",
    "#  функція, яка дозволяє виводити графіки прямо у ноутбуці\n",
    "%matplotlib inline"
   ]
  },
  {
   "cell_type": "markdown",
   "metadata": {},
   "source": [
    "Matplotlib дозволяє зручно візуализировати табличні дані.\n",
    "\n",
    "*Функції, що можуть знадобиться при виконанні:*\n",
    "\n",
    "* Малювання (побудова):\n",
    "   * `plt.plot(x, y)`  див. детально http://matplotlib.org/api/pyplot_api.html#matplotlib.pyplot.plot\n",
    "   * `plt.show()`\n",
    "   * `plt.scatter(x, y)` - графік розсіювання, див. http://matplotlib.org/api/pyplot_api.html#matplotlib.pyplot.scatter\n",
    "   * `plt.hist()` - гістограма, див. http://matplotlib.org/api/pyplot_api.html#matplotlib.pyplot.hist\n",
    "* Малювання (побудова) деількох графіков в одній системі координат:\n",
    "\n",
    "  `fig, ax = plt.subplots()\n",
    "   ax.hist(...)\n",
    "   ax.hist(...)\n",
    "   plt.show()`\n",
    "   \n",
    "* Логарифмічна шкала:\n",
    "    * `ax.set_xscale('log')`  або `ax.set_yscale('log')`\n",
    "* Об'єднання області графіка:\n",
    "    * `ax.axis([x1, x2, y1, y2])`\n",
    "\n",
    "\n",
    "### 9a\n",
    "\n",
    "Побудуйте графік розсіювання на вісях `age` и `Debt`. Cинім відмитьте клиентів без серйозних заборгованостей (`SeriousDlqin2yrs = 0`) а червоним — боржнків (`SeriousDlqin2yrs = 1`)."
   ]
  },
  {
   "cell_type": "code",
   "execution_count": 36,
   "metadata": {},
   "outputs": [
    {
     "data": {
      "image/png": "[encoded data removed]",
      "text/plain": [
       "<Figure size 432x288 with 1 Axes>"
      ]
     },
     "metadata": {
      "needs_background": "light"
     },
     "output_type": "display_data"
    }
   ],
   "source": [
    "colors = {0:'blue', 1:'red'}\n",
    "plt.scatter(df['age'], df['Debt'], marker='o', alpha = 0.2, c=df['SeriousDlqin2yrs'].map(colors));\n",
    "plt.xlabel('Age')\n",
    "plt.ylabel('Debt');"
   ]
  },
  {
   "cell_type": "markdown",
   "metadata": {},
   "source": [
    "### 9b\n",
    "Постройте на одном графике две **нормированные** плотности распределения: красную – для месячного дохода клиентов с задолженностями, синюю – для месячного дохода клиентов без задолженностей. По оси абсцисс отобразите значения до 25000."
   ]
  },
  {
   "cell_type": "code",
   "execution_count": 53,
   "metadata": {},
   "outputs": [],
   "source": [
    "df_income = df.loc[df['MonthlyIncome'] <25000, ['MonthlyIncome', 'SeriousDlqin2yrs']]\n",
    "df_income_debt = df_income.loc[df_income['SeriousDlqin2yrs'] == 1, 'MonthlyIncome']\n",
    "df_income_no_debt = df_income.loc[df_income['SeriousDlqin2yrs'] == 0, 'MonthlyIncome']"
   ]
  },
  {
   "cell_type": "code",
   "execution_count": 66,
   "metadata": {},
   "outputs": [
    {
     "data": {
      "text/plain": [
       "(array([5.68119742e-05, 1.27131691e-04, 9.61433410e-05, 6.39631318e-05,\n",
       "        3.21802092e-05, 1.35077421e-05, 7.94573066e-06, 3.17829226e-06,\n",
       "        1.98643266e-06, 1.19185960e-06]),\n",
       " array([    0.,  2475.,  4950.,  7425.,  9900., 12375., 14850., 17325.,\n",
       "        19800., 22275., 24750.]),\n",
       " <a list of 10 Patch objects>)"
      ]
     },
     "execution_count": 66,
     "metadata": {},
     "output_type": "execute_result"
    },
    {
     "data": {
      "image/png": "[encoded data removed]",
      "text/plain": [
       "<Figure size 432x288 with 1 Axes>"
      ]
     },
     "metadata": {
      "needs_background": "light"
     },
     "output_type": "display_data"
    }
   ],
   "source": [
    "plt.hist(df_income_debt, alpha=0.3, normed=True, color='red')\n",
    "plt.hist(df_income_no_debt, alpha=0.5, normed=True, color='blue')"
   ]
  },
  {
   "cell_type": "markdown",
   "metadata": {},
   "source": [
    "### 9c*\n",
    "Визуалізуйте попарні залежності між небінарними ознаками `'age', 'MonthlyIncome', 'NumberOfDependents'`. При цьому обмежмиио місячний дохід значенням 25000.\n",
    "\n",
    "Які закономірності можна спостерігати на отриманих графіках?\n",
    "\n",
    "*Функції, що можуть знадобиться при виконанні: `pd.plotting.scatter_matrix()`*"
   ]
  },
  {
   "cell_type": "code",
   "execution_count": 80,
   "metadata": {},
   "outputs": [],
   "source": [
    "df_plt = df.loc[df['MonthlyIncome'] <25000, ['age', 'MonthlyIncome', 'NumberOfDependents']]"
   ]
  },
  {
   "cell_type": "code",
   "execution_count": 81,
   "metadata": {},
   "outputs": [
    {
     "data": {
      "text/plain": [
       "array([[<matplotlib.axes._subplots.AxesSubplot object at 0x7fa8d08bbc88>,\n",
       "        <matplotlib.axes._subplots.AxesSubplot object at 0x7fa8d089a0b8>,\n",
       "        <matplotlib.axes._subplots.AxesSubplot object at 0x7fa8d08405f8>],\n",
       "       [<matplotlib.axes._subplots.AxesSubplot object at 0x7fa8d0868b70>,\n",
       "        <matplotlib.axes._subplots.AxesSubplot object at 0x7fa8d081a128>,\n",
       "        <matplotlib.axes._subplots.AxesSubplot object at 0x7fa8d07bf6a0>],\n",
       "       [<matplotlib.axes._subplots.AxesSubplot object at 0x7fa8d07e7c18>,\n",
       "        <matplotlib.axes._subplots.AxesSubplot object at 0x7fa8d0798208>,\n",
       "        <matplotlib.axes._subplots.AxesSubplot object at 0x7fa8d0798240>]],\n",
       "      dtype=object)"
      ]
     },
     "execution_count": 81,
     "metadata": {},
     "output_type": "execute_result"
    },
    {
     "data": {
      "image/png": "[encoded data removed]",
      "text/plain": [
       "<Figure size 720x720 with 9 Axes>"
      ]
     },
     "metadata": {
      "needs_background": "light"
     },
     "output_type": "display_data"
    }
   ],
   "source": [
    "pd.plotting.scatter_matrix(df_plt, alpha=0.2, figsize=(10, 10))"
   ]
  },
  {
   "cell_type": "markdown",
   "metadata": {},
   "source": [
    "Відповідь: \n",
    "\n",
    "1) Більшість клієнтів немає діте або має 1-2 дитини в незалежності від віку чи доходів\n",
    "\n",
    "2) Більшість клієнтів заробляє до 10 тисяч і цей показник також мало залежить від віку"
   ]
  },
  {
   "cell_type": "code",
   "execution_count": null,
   "metadata": {},
   "outputs": [],
   "source": []
  }
 ],
 "metadata": {
  "kernelspec": {
   "display_name": "Python 3",
   "language": "python",
   "name": "python3"
  },
  "language_info": {
   "codemirror_mode": {
    "name": "ipython",
    "version": 3
   },
   "file_extension": ".py",
   "mimetype": "text/x-python",
   "name": "python",
   "nbconvert_exporter": "python",
   "pygments_lexer": "ipython3",
   "version": "3.7.3"
  }
 },
 "nbformat": 4,
 "nbformat_minor": 2
}
