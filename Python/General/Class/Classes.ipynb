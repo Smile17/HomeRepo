{
 "cells": [
  {
   "cell_type": "markdown",
   "metadata": {},
   "source": [
    "# Creating and Instaniating a Class in Python"
   ]
  },
  {
   "cell_type": "code",
   "execution_count": 26,
   "metadata": {},
   "outputs": [
    {
     "name": "stdout",
     "output_type": "stream",
     "text": [
      "3/4/2020\n",
      "3/4/2020\n"
     ]
    }
   ],
   "source": [
    "# Task 1\n",
    "class Date: # Name of the class\n",
    "    def __init__(self, day, month, year): # Initialize class parameters\n",
    "        self.day = day # Set the day of the date\n",
    "        self.month = month # Set the month of the date\n",
    "        self.year = year # Set the year of the date\n",
    "    def get_day(self): # Return a day of the date\n",
    "        return self.day\n",
    "    def set_day(self, x): # Set a day of the date\n",
    "        self.day = x\n",
    "    def get_month(self): # Return a month of the date\n",
    "        return self.month\n",
    "    def set_month(self, x): # Set a month of the date\n",
    "        self.month = x\n",
    "    def get_year(self): # Return a year of the date\n",
    "        return self.year\n",
    "    def set_year(self, x): # Set a year of the date\n",
    "        self.year = x\n",
    "    def displayDate(self): # Display date into the following format: dd/mm/yyyy\n",
    "        print(\"{0}/{1}/{2}\".format(self.day, self.month, self.year))\n",
    "    def __str__(self): # Override str method that invokes in print method\n",
    "        return \"{0}/{1}/{2}\".format(self.day, self.month, self.year) # String representation\n",
    "# Demonstartion   \n",
    "d = Date(3, 4, 2020)\n",
    "d.displayDate()\n",
    "print(d)"
   ]
  },
  {
   "cell_type": "code",
   "execution_count": 32,
   "metadata": {},
   "outputs": [
    {
     "name": "stdout",
     "output_type": "stream",
     "text": [
      "30.0\n",
      "Invoice #INV0001, Description: Invoice example, Qty: 10, Price per item: 2.5\n",
      "0.0\n",
      "Invoice #INV0001, Description: Invoice example, Qty: 0, Price per item: 2.5\n"
     ]
    }
   ],
   "source": [
    "# Task 2\n",
    "class Invoice: # Name of the class\n",
    "    def __init__(self, number, description, qty, price, vat = 0): # Initialize class parameters\n",
    "        self.number = number # Set invoice number\n",
    "        self.description = description # Set invoice description\n",
    "        if qty < 0:\n",
    "            qty = 0\n",
    "        self.qty = qty #  Set quantity of the items\n",
    "        if price < 0:\n",
    "            price = 0\n",
    "        self.price = price # Set the price ot the item\n",
    "        if vat < 0:\n",
    "            vat = 0\n",
    "        self.vat = vat\n",
    "    def get_number(self): # Return a number of the invoice\n",
    "        return self.number\n",
    "    def set_number(self, x): # Set a number of the invoice\n",
    "        self.number = x\n",
    "    def get_description(self): # Return a description of the invoice\n",
    "        return self.description\n",
    "    def set_description(self, x): # Set a description of the invoice\n",
    "        self.number = x\n",
    "    def get_qty(self): # Return a quantity of the items\n",
    "        return self.qty\n",
    "    def set_qty(self, x): # Set a quantity of the items\n",
    "        if x < 0:\n",
    "            x = 0\n",
    "        self.qty = x\n",
    "    def get_price(self): # Return a price of the item\n",
    "        return self.price\n",
    "    def set_price(self, x): # Set a price of the item\n",
    "        if x < 0:\n",
    "            x = 0\n",
    "        self.price = x\n",
    "    def getInvoiceAmount(self):\n",
    "        return self.qty * self.price * (1 + 1.0 * self.vat / 100)\n",
    "    def __str__(self): # Override str method that invokes in print method\n",
    "        return \"Invoice #{0}, Description: {1}, Qty: {2}, Price per item: {3}\".format(self.number, self.description, self.qty, self.price) # String representation\n",
    "\n",
    "# Demonstartion\n",
    "inv = Invoice('INV0001', 'Invoice example', 10, 2.5, 20)\n",
    "print(inv.getInvoiceAmount())\n",
    "print(inv)\n",
    "inv.set_qty(-10)\n",
    "print(inv.getInvoiceAmount())\n",
    "print(inv)"
   ]
  },
  {
   "cell_type": "markdown",
   "metadata": {},
   "source": [
    "# Lab: Implementation of Inheritence mechanism in Python\n",
    "# Lab: Errors and Exception Handling in Python"
   ]
  },
  {
   "cell_type": "code",
   "execution_count": 10,
   "metadata": {},
   "outputs": [
    {
     "name": "stdout",
     "output_type": "stream",
     "text": [
      "Ticket #234, price of a regular ticket: 5\n",
      "Ticket #235, price of a advanced ticket: 3.0\n"
     ]
    }
   ],
   "source": [
    "# Task 1\n",
    "class Ticket: # Name of the class\n",
    "    def __init__(self, number, price = 5): # Initialize class parameters\n",
    "        self.number = number # Set number of the ticket\n",
    "        self.price = price # Set price of the ticket\n",
    "        self.type = \"regular\"\n",
    "    def getPrice(self): # Returns price of the ticket\n",
    "        return self.price\n",
    "    def __str__(self): # Override str method that invokes in print method\n",
    "        return \"Ticket #\" + str(self.number) + \", price of a \" + self.type + \" ticket: \" + str(self.getPrice()) # String representation\n",
    "\n",
    "class AdvancedTicket(Ticket):\n",
    "    def __init__(self, number, price = 5): # Override init method using init from base class\n",
    "        super().__init__(number, price)\n",
    "        self.type = \"advanced\"\n",
    "    def getPrice(self): # Returns price of the ticket\n",
    "        return self.price * 0.6;  # Advanced ticket has a discount of 40%\n",
    "class StudentTicket(Ticket):\n",
    "    def __init__(self, number, price = 5): # Override init method using init from base class\n",
    "        super().__init__(number, price)\n",
    "        self.type = \"student\"\n",
    "    def getPrice(self): # Returns price of the ticket\n",
    "        return self.price * 0.5;  # Student ticket has a discount of 50%\n",
    "class LateTicket(Ticket):\n",
    "    def __init__(self, number, price = 5): # Override init method using init from base class\n",
    "        super().__init__(number, price)\n",
    "        self.type = \"late\"\n",
    "    def getPrice(self): # Returns price of the ticket\n",
    "        return self.price * 1.1;  # Late ticket is more expensive by 10%\n",
    "# Demonstartion \n",
    "t1 = Ticket(234) # Initializing a ticket example\n",
    "print(t1) # Check str method\n",
    "\n",
    "at2 = AdvancedTicket(235)\n",
    "print(at2)"
   ]
  },
  {
   "cell_type": "code",
   "execution_count": 4,
   "metadata": {},
   "outputs": [],
   "source": [
    "# Task 2 Error Handling\n",
    "class WrongIngredientsError(Exception):\n",
    "    pass"
   ]
  },
  {
   "cell_type": "code",
   "execution_count": 10,
   "metadata": {},
   "outputs": [
    {
     "name": "stdout",
     "output_type": "stream",
     "text": [
      "Tuesday pizza: pineapple sausage tomato \n",
      "Friday pizza: pineapple sausage tomato something strange \n",
      "There is no ingredient in the price list: something strange\n",
      "11.5\n"
     ]
    },
    {
     "ename": "WrongIngredientsError",
     "evalue": "There is no ingredient in the price list: strange cheese",
     "output_type": "error",
     "traceback": [
      "\u001b[0;31m---------------------------------------------------------------------------\u001b[0m",
      "\u001b[0;31mWrongIngredientsError\u001b[0m                     Traceback (most recent call last)",
      "\u001b[0;32m<ipython-input-10-1fd5b647ddf2>\u001b[0m in \u001b[0;36m<module>\u001b[0;34m\u001b[0m\n\u001b[1;32m     52\u001b[0m \u001b[0;31m# Demonstrate custom error raising\u001b[0m\u001b[0;34m\u001b[0m\u001b[0;34m\u001b[0m\u001b[0;34m\u001b[0m\u001b[0m\n\u001b[1;32m     53\u001b[0m \u001b[0mpizza\u001b[0m\u001b[0;34m.\u001b[0m\u001b[0maddIngredient\u001b[0m\u001b[0;34m(\u001b[0m\u001b[0;34m\"cheese\"\u001b[0m\u001b[0;34m)\u001b[0m\u001b[0;34m\u001b[0m\u001b[0;34m\u001b[0m\u001b[0m\n\u001b[0;32m---> 54\u001b[0;31m \u001b[0mpizza\u001b[0m\u001b[0;34m.\u001b[0m\u001b[0maddIngredient\u001b[0m\u001b[0;34m(\u001b[0m\u001b[0;34m\"strange cheese\"\u001b[0m\u001b[0;34m)\u001b[0m\u001b[0;34m\u001b[0m\u001b[0;34m\u001b[0m\u001b[0m\n\u001b[0m\u001b[1;32m     55\u001b[0m \u001b[0;34m\u001b[0m\u001b[0m\n",
      "\u001b[0;32m<ipython-input-10-1fd5b647ddf2>\u001b[0m in \u001b[0;36maddIngredient\u001b[0;34m(self, ing)\u001b[0m\n\u001b[1;32m     21\u001b[0m     \u001b[0;32mdef\u001b[0m \u001b[0maddIngredient\u001b[0m\u001b[0;34m(\u001b[0m\u001b[0mself\u001b[0m\u001b[0;34m,\u001b[0m \u001b[0ming\u001b[0m\u001b[0;34m)\u001b[0m\u001b[0;34m:\u001b[0m \u001b[0;31m# Add ingredient to the list\u001b[0m\u001b[0;34m\u001b[0m\u001b[0;34m\u001b[0m\u001b[0m\n\u001b[1;32m     22\u001b[0m         \u001b[0;32mif\u001b[0m \u001b[0;34m(\u001b[0m\u001b[0;32mnot\u001b[0m\u001b[0;34m(\u001b[0m\u001b[0ming\u001b[0m \u001b[0;32min\u001b[0m \u001b[0mprices\u001b[0m\u001b[0;34m)\u001b[0m\u001b[0;34m)\u001b[0m\u001b[0;34m:\u001b[0m \u001b[0;31m# If we do not have ingredient in the price list we raise an error\u001b[0m\u001b[0;34m\u001b[0m\u001b[0;34m\u001b[0m\u001b[0m\n\u001b[0;32m---> 23\u001b[0;31m             \u001b[0;32mraise\u001b[0m \u001b[0mWrongIngredientsError\u001b[0m\u001b[0;34m(\u001b[0m\u001b[0;34m'There is no ingredient in the price list: '\u001b[0m \u001b[0;34m+\u001b[0m \u001b[0mstr\u001b[0m\u001b[0;34m(\u001b[0m\u001b[0ming\u001b[0m\u001b[0;34m)\u001b[0m\u001b[0;34m)\u001b[0m\u001b[0;34m\u001b[0m\u001b[0;34m\u001b[0m\u001b[0m\n\u001b[0m\u001b[1;32m     24\u001b[0m         \u001b[0mself\u001b[0m\u001b[0;34m.\u001b[0m\u001b[0mingredients\u001b[0m\u001b[0;34m.\u001b[0m\u001b[0mappend\u001b[0m\u001b[0;34m(\u001b[0m\u001b[0ming\u001b[0m\u001b[0;34m)\u001b[0m\u001b[0;34m\u001b[0m\u001b[0;34m\u001b[0m\u001b[0m\n\u001b[1;32m     25\u001b[0m     \u001b[0;34m@\u001b[0m\u001b[0mstaticmethod\u001b[0m\u001b[0;34m\u001b[0m\u001b[0;34m\u001b[0m\u001b[0m\n",
      "\u001b[0;31mWrongIngredientsError\u001b[0m: There is no ingredient in the price list: strange cheese"
     ]
    }
   ],
   "source": [
    "# Task 2\n",
    "prices = {'pineapple': 2.5, 'sausage': 5, 'tomato': 4, 'cucumber': 2.5, 'cheese': 4.5}\n",
    "class PizzaOfTheDay:\n",
    "    def __init__(self, day, ingredients):\n",
    "        self.day = day # Set day of the pizza\n",
    "        self.ingredients = ingredients # Set a list of ingredients that uses for the pizza\n",
    "    def __str__(self): # Override str method that invokes in print method\n",
    "    # String representation\n",
    "        res = self.day + \" pizza: \"\n",
    "        for ing in self.ingredients: # Output all ingredients as a string\n",
    "            res += ing + \" \"\n",
    "        return res\n",
    "    def calculatePrice(self): # Calculate the price of the pizza based on its ingredients and its price from dictionary\n",
    "        sum = 0\n",
    "        try:\n",
    "            for ing in self.ingredients:\n",
    "                sum += prices[ing]\n",
    "        except Exception:\n",
    "            print('There is no ingredient in the price list: ' + str(ing))\n",
    "        return sum\n",
    "    def addIngredient(self, ing): # Add ingredient to the list\n",
    "        if (not(ing in prices)): # If we do not have ingredient in the price list we raise an error\n",
    "            raise WrongIngredientsError('There is no ingredient in the price list: ' + str(ing))\n",
    "        self.ingredients.append(ing)\n",
    "    @staticmethod\n",
    "    def makeOrder(): # Make order by dialog with a customer\n",
    "        print(\"Input a dayname: \") # Input day\n",
    "        day = input()\n",
    "        print(\"Input ingredients: \") # Input ingredients\n",
    "        ings = []\n",
    "        while(True):\n",
    "            i = input()\n",
    "            if i == '0':\n",
    "                break\n",
    "            ings.append(i)\n",
    "        pizza = PizzaOfTheDay(day, ings) # Create an object PizzaOfTheDay\n",
    "        print(pizza) # Output its string representation\n",
    "        print(\"Price: \" + str(pizza.calculatePrice())) # Calculate its price based on price list\n",
    "            \n",
    "        \n",
    "        \n",
    "            \n",
    "# Demonstartion\n",
    "pizza = PizzaOfTheDay(\"Tuesday\", ['pineapple', 'sausage', 'tomato'])\n",
    "print(pizza)\n",
    "#PizzaOfTheDay.makeOrder()\n",
    "\n",
    "# DEmonstrate error handling\n",
    "pizza = PizzaOfTheDay(\"Friday\", ['pineapple', 'sausage', 'tomato', 'something strange'])\n",
    "print(pizza)\n",
    "print(pizza.calculatePrice())\n",
    "# Demonstrate custom error raising\n",
    "pizza.addIngredient(\"cheese\")\n",
    "pizza.addIngredient(\"strange cheese\")\n",
    "\n"
   ]
  },
  {
   "cell_type": "markdown",
   "metadata": {},
   "source": [
    "# Middle test"
   ]
  },
  {
   "cell_type": "code",
   "execution_count": 22,
   "metadata": {},
   "outputs": [
    {
     "name": "stdout",
     "output_type": "stream",
     "text": [
      "8320.0 \n",
      "3000 \n",
      "10400.0 \n",
      "Sorted salaries: \n",
      "3000 \n",
      "8320.0 \n",
      "10400.0 \n"
     ]
    }
   ],
   "source": [
    "class Employee: # Name of the class\n",
    "    def __init__(self, salary): # Initialize class parameters\n",
    "        self.salary = salary # Set salary parameter\n",
    "    def calculateSalary(self):\n",
    "        pass\n",
    "    def __lt__(self, other): # Override opertors for sorting\n",
    "        return self.calculateSalary() < other.calculateSalary()\n",
    "class EmployeeHourly(Employee):\n",
    "    def calculateSalary(self): # Calculate salary for hourly workers\n",
    "        return 20.8 * 20 * self.salary\n",
    "class EmployeeFixed(Employee):\n",
    "    def calculateSalary(self): # Calculate salary for workers with fixed salary\n",
    "        return self.salary\n",
    "    \n",
    "emps = [EmployeeHourly(20), EmployeeFixed(3000), EmployeeHourly(25)]\n",
    "for emp in emps: # Print all salaries\n",
    "    print(str(emp.calculateSalary()) + \" \")\n",
    "print('Sorted salaries: ') \n",
    "emps.sort()\n",
    "for emp in emps: # Print all salaries\n",
    "    print(str(emp.calculateSalary()) + \" \")"
   ]
  },
  {
   "cell_type": "markdown",
   "metadata": {},
   "source": [
    "# Practice"
   ]
  },
  {
   "cell_type": "code",
   "execution_count": 39,
   "metadata": {},
   "outputs": [
    {
     "name": "stdout",
     "output_type": "stream",
     "text": [
      "1/1\n",
      "1/3\n",
      "2/9\n",
      "2/1\n"
     ]
    }
   ],
   "source": [
    "# importing \"math\" for mathematical operations  \n",
    "import math\n",
    "\n",
    "def log_operator(func): # Decorator to log into the file\n",
    "    def function_wrapper(x, y):\n",
    "        res = func(x, y) # Calculate operation\n",
    "        f = open(\"log.txt\", \"a\") # Open log file\n",
    "        f.write(\"Operation: \" + func.__name__ + \" \" + str(x) + \" \" + str(y) + \" \" + str(res) + \"\\n\") # Write the message\n",
    "        f.close() # Close the file\n",
    "        return res\n",
    "    return function_wrapper\n",
    "\n",
    "class Rational: # Name of the class\n",
    "    def __init__(self, numerator, denominator): # Initialize class parameters\n",
    "        gcd = math.gcd(numerator, denominator) # Save rational number where numerator and denominator is coprime numbers\n",
    "        self.num = numerator // gcd # Divide by gcd\n",
    "        self.den = denominator // gcd # Divide by gcd\n",
    "    def __str__(self):\n",
    "        return \"{0}/{1}\".format(self.num, self.den)\n",
    "    @log_operator\n",
    "    def __add__(self, other): # Override addition operation\n",
    "        num = (int)(self.num * other.den + self.den * other.num)\n",
    "        den = (int)(self.den * other.den)\n",
    "        return Rational(num, den)\n",
    "    @log_operator\n",
    "    def __sub__(self, other): # Override substraction operation\n",
    "        num = (int)(self.num * other.den - self.den * other.num)\n",
    "        den = (int)(self.den * other.den)\n",
    "        return Rational(num, den)\n",
    "    @log_operator\n",
    "    def __mul__(self, other): # Override multiplication operation\n",
    "        num = (int)(self.num * other.num)\n",
    "        den = (int)(self.den * other.den)\n",
    "        return Rational(num, den)\n",
    "    @log_operator\n",
    "    def __truediv__(self, other): # Override division operation\n",
    "        num = (int)(self.num * other.den)\n",
    "        den = (int)(self.den * other.num)\n",
    "        return Rational(num, den)\n",
    "r1 = Rational(2, 3)\n",
    "r2 = Rational(1, 3)\n",
    "print(r1+r2)\n",
    "print(r1-r2)\n",
    "print(r1*r2)\n",
    "print(r1/r2)"
   ]
  },
  {
   "cell_type": "code",
   "execution_count": null,
   "metadata": {},
   "outputs": [],
   "source": []
  }
 ],
 "metadata": {
  "kernelspec": {
   "display_name": "Python 3 (ipykernel)",
   "language": "python",
   "name": "python3"
  },
  "language_info": {
   "codemirror_mode": {
    "name": "ipython",
    "version": 3
   },
   "file_extension": ".py",
   "mimetype": "text/x-python",
   "name": "python",
   "nbconvert_exporter": "python",
   "pygments_lexer": "ipython3",
   "version": "3.10.7"
  }
 },
 "nbformat": 4,
 "nbformat_minor": 2
}
