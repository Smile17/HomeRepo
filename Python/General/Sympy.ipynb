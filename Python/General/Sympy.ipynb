{
 "cells": [
  {
   "cell_type": "code",
   "execution_count": 7,
   "metadata": {},
   "outputs": [
    {
     "data": {
      "text/latex": [
       "$\\displaystyle \\frac{\\left(- \\sqrt{x} + x^{2}\\right) \\left(\\sqrt{x} + 1\\right)}{x^{\\frac{3}{2}} + \\sqrt{x} + x} = x - 1$"
      ],
      "text/plain": [
       "<IPython.core.display.Math object>"
      ]
     },
     "metadata": {},
     "output_type": "display_data"
    }
   ],
   "source": [
    "from sympy import *\n",
    "from sympy.abc import x, y, z\n",
    "from IPython.display import display, Math\n",
    "init_printing(use_unicode=False, wrap_line=True)\n",
    "\n",
    "# Task 1\n",
    "x = Symbol('x') \n",
    "# expr = ((sqrt(x) + 1)/(x * sqrt(x) + x + sqrt(x))) / (1/(x**2 - sqrt(x)))\n",
    "expr = ((y + 1)/(y**2 * y + y**2 + y)) / (1/(y**4 - y))\n",
    "expr_s = expr.simplify().subs(y**2, x)\n",
    "expr = expr.subs(y**2, x).subs(y, sqrt(x))\n",
    "# Output\n",
    "display(Math(latex(expr) + ' = '+latex(expr_s)))"
   ]
  },
  {
   "cell_type": "code",
   "execution_count": 8,
   "metadata": {},
   "outputs": [
    {
     "data": {
      "text/latex": [
       "$\\displaystyle - \\frac{x^{2} - 1}{x + 3} + \\frac{x^{2} + 1}{x - 4} = 23$"
      ],
      "text/plain": [
       "<IPython.core.display.Math object>"
      ]
     },
     "metadata": {},
     "output_type": "display_data"
    },
    {
     "data": {
      "text/latex": [
       "$\\displaystyle Solutions: \\left [ - \\frac{55}{16}, \\quad 5\\right ]$"
      ],
      "text/plain": [
       "<IPython.core.display.Math object>"
      ]
     },
     "metadata": {},
     "output_type": "display_data"
    },
    {
     "data": {
      "text/latex": [
       "$\\displaystyle Check: f(- \\frac{55}{16}) = 23$"
      ],
      "text/plain": [
       "<IPython.core.display.Math object>"
      ]
     },
     "metadata": {},
     "output_type": "display_data"
    },
    {
     "data": {
      "text/latex": [
       "$\\displaystyle Check: f(5) = 23$"
      ],
      "text/plain": [
       "<IPython.core.display.Math object>"
      ]
     },
     "metadata": {},
     "output_type": "display_data"
    }
   ],
   "source": [
    "# Task 2: Знайти розв'язок в аналітичному вигляді\n",
    "expr = (x ** 2 + 1) / (x - 4) - (x ** 2 - 1) / (x + 3)\n",
    "display(Math(latex(expr) + ' = '+latex(23)))\n",
    "solutions = solve(expr - 23, x)\n",
    "display(Math(\"Solutions: \" + latex(solutions)))\n",
    "display(Math(\"Check: f(%s) = %s\" % ( latex(solutions[0]), expr.subs(x, solutions[0]) )))\n",
    "display(Math(\"Check: f(%s) = %s\" % ( latex(solutions[1]), expr.subs(x, solutions[1]) )))"
   ]
  },
  {
   "cell_type": "code",
   "execution_count": 33,
   "metadata": {},
   "outputs": [
    {
     "data": {
      "text/latex": [
       "$\\displaystyle \\frac{6 \\cdot 3^{\\frac{1}{2 x}}}{- 3^{\\frac{1}{x}} + 27} - 1 = 0$"
      ],
      "text/plain": [
       "<IPython.core.display.Math object>"
      ]
     },
     "metadata": {},
     "output_type": "display_data"
    },
    {
     "data": {
      "text/latex": [
       "$\\displaystyle \\frac{- y^{2} - 6 y + 27}{y^{2} - 27} = 0$"
      ],
      "text/plain": [
       "<IPython.core.display.Math object>"
      ]
     },
     "metadata": {},
     "output_type": "display_data"
    },
    {
     "data": {
      "text/latex": [
       "$\\displaystyle - y^{2} - 6 y + 27 = 0$"
      ],
      "text/plain": [
       "<IPython.core.display.Math object>"
      ]
     },
     "metadata": {},
     "output_type": "display_data"
    },
    {
     "data": {
      "text/latex": [
       "$\\displaystyle Solutions: y = 3$"
      ],
      "text/plain": [
       "<IPython.core.display.Math object>"
      ]
     },
     "metadata": {},
     "output_type": "display_data"
    },
    {
     "data": {
      "text/latex": [
       "$\\displaystyle Solutions: x = \\frac{1}{2}$"
      ],
      "text/plain": [
       "<IPython.core.display.Math object>"
      ]
     },
     "metadata": {},
     "output_type": "display_data"
    }
   ],
   "source": [
    "# Task 3: Знайти розв'язок в аналітичному вигляді\n",
    "from sympy.codegen.cfunctions import log10\n",
    "# eq = Eq((1 + 1/(2*x)) * log10(3) + log10(2) - log10(27 - 3**(1 / x)))\n",
    "expr = (3 * 2 * sqrt(3) ** (1/x) / (27 - 3**(1 / x)) - 1)\n",
    "display(Math(latex(expr) + ' = 0'))\n",
    "expr = expr.subs(sqrt(3) ** (1/x), y).simplify()\n",
    "n,d = fraction(expr)\n",
    "display(Math(latex(expr) + ' = 0'))\n",
    "display(Math(latex(n) + ' = 0'))\n",
    "var('t')\n",
    "solutions = solve(n, y)\n",
    "sol = solutions[1] # only 3 is appropriate\n",
    "display(Math(\"Solutions: y = \" + latex(sol)))\n",
    "expr = (sqrt(3) ** (1/x) - 3)\n",
    "solutions = solve(expr, x)\n",
    "display(Math(\"Solutions: x = \" + latex(solutions[0])))"
   ]
  },
  {
   "cell_type": "code",
   "execution_count": 11,
   "metadata": {},
   "outputs": [
    {
     "data": {
      "image/png": "[encoded data removed]",
      "text/latex": [
       "$$\\left [ \\left ( 1 + \\sqrt[3]{7}, \\quad - 3 \\sqrt[3]{7} + 3, \\quad -2 + 3 \\sqrt[3]{7}\\right ), \\quad \\left ( - \\frac{\\sqrt[3]{7}}{2} + 1 - \\frac{\\sqrt{3} \\sqrt[3]{7} i}{2}, \\quad \\frac{3 \\sqrt[3]{7}}{2} + 3 + \\frac{3 \\sqrt{3} \\sqrt[3]{7} i}{2}, \\quad -2 + 3 \\sqrt[3]{7} \\left(- \\frac{1}{2} - \\frac{\\sqrt{3} i}{2}\\right)\\right ), \\quad \\left ( - \\frac{\\sqrt[3]{7}}{2} + 1 + \\frac{\\sqrt{3} \\sqrt[3]{7} i}{2}, \\quad \\frac{3 \\sqrt[3]{7}}{2} + 3 - \\frac{3 \\sqrt{3} \\sqrt[3]{7} i}{2}, \\quad -2 + 3 \\sqrt[3]{7} \\left(- \\frac{1}{2} + \\frac{\\sqrt{3} i}{2}\\right)\\right )\\right ]$$"
      ],
      "text/plain": [
       "                                              3 ___         ___ 3 ___      3 _\n",
       "      3 ___      3 ___             3 ___      \\/ 7        \\/ 3 *\\/ 7 *I  3*\\/ \n",
       "[(1 + \\/ 7 , - 3*\\/ 7  + 3, -2 + 3*\\/ 7 ), (- ----- + 1 - -------------, -----\n",
       "                                                2               2           2 \n",
       "\n",
       "__           ___ 3 ___                 /        ___  \\      3 ___         ___ \n",
       "7        3*\\/ 3 *\\/ 7 *I         3 ___ |  1   \\/ 3 *I|      \\/ 7        \\/ 3 *\n",
       "-- + 3 + ---------------, -2 + 3*\\/ 7 *|- - - -------|), (- ----- + 1 + ------\n",
       "                2                      \\  2      2   /        2               \n",
       "\n",
       "3 ___      3 ___           ___ 3 ___                 /        ___  \\  \n",
       "\\/ 7 *I  3*\\/ 7        3*\\/ 3 *\\/ 7 *I         3 ___ |  1   \\/ 3 *I|  \n",
       "-------, ------- + 3 - ---------------, -2 + 3*\\/ 7 *|- - + -------|)]\n",
       "2           2                 2                      \\  2      2   /  "
      ]
     },
     "execution_count": 11,
     "metadata": {},
     "output_type": "execute_result"
    }
   ],
   "source": [
    "# Task 4: Розв'язати систему рівнянь в аналітичному вигляді\n",
    "eq1 = Eq(2*x + y + x - 6)\n",
    "eq2 = Eq(3 * x + 2 * y + z - 7)\n",
    "eq3 = Eq((x-1)**3 + (y + 2) ** 3 + (z-3)** 3 - 7)\n",
    "result = solve([eq1,eq2, eq3],(x, y, z))\n",
    "result"
   ]
  },
  {
   "cell_type": "code",
   "execution_count": 12,
   "metadata": {},
   "outputs": [
    {
     "data": {
      "text/latex": [
       "$\\displaystyle \\frac{d}{d x} \\frac{\\sin{\\left (3 x \\right )}}{\\operatorname{atan}{\\left (4 x \\right )}} = \\frac{3 \\cos{\\left (3 x \\right )}}{\\operatorname{atan}{\\left (4 x \\right )}} - \\frac{4 \\sin{\\left (3 x \\right )}}{\\left(16 x^{2} + 1\\right) \\operatorname{atan}^{2}{\\left (4 x \\right )}}$"
      ],
      "text/plain": [
       "<IPython.core.display.Math object>"
      ]
     },
     "metadata": {},
     "output_type": "display_data"
    },
    {
     "data": {
      "text/latex": [
       "$\\displaystyle \\frac{d^{2}}{d x^{2}} \\frac{\\sin{\\left (3 x \\right )}}{\\operatorname{atan}{\\left (4 x \\right )}} = \\frac{\\frac{128 x \\sin{\\left (3 x \\right )}}{\\left(16 x^{2} + 1\\right)^{2} \\operatorname{atan}{\\left (4 x \\right )}} - 9 \\sin{\\left (3 x \\right )} - \\frac{24 \\cos{\\left (3 x \\right )}}{\\left(16 x^{2} + 1\\right) \\operatorname{atan}{\\left (4 x \\right )}} + \\frac{32 \\sin{\\left (3 x \\right )}}{\\left(16 x^{2} + 1\\right)^{2} \\operatorname{atan}^{2}{\\left (4 x \\right )}}}{\\operatorname{atan}{\\left (4 x \\right )}}$"
      ],
      "text/plain": [
       "<IPython.core.display.Math object>"
      ]
     },
     "metadata": {},
     "output_type": "display_data"
    },
    {
     "data": {
      "text/latex": [
       "$\\displaystyle \\frac{d^{3}}{d x^{3}} \\frac{\\sin{\\left (3 x \\right )}}{\\operatorname{atan}{\\left (4 x \\right )}} = \\frac{- \\frac{8192 x^{2} \\sin{\\left (3 x \\right )}}{\\left(16 x^{2} + 1\\right)^{3} \\operatorname{atan}{\\left (4 x \\right )}} + \\frac{1152 x \\cos{\\left (3 x \\right )}}{\\left(16 x^{2} + 1\\right)^{2} \\operatorname{atan}{\\left (4 x \\right )}} - \\frac{3072 x \\sin{\\left (3 x \\right )}}{\\left(16 x^{2} + 1\\right)^{3} \\operatorname{atan}^{2}{\\left (4 x \\right )}} - 27 \\cos{\\left (3 x \\right )} + \\frac{108 \\sin{\\left (3 x \\right )}}{\\left(16 x^{2} + 1\\right) \\operatorname{atan}{\\left (4 x \\right )}} + \\frac{128 \\sin{\\left (3 x \\right )}}{\\left(16 x^{2} + 1\\right)^{2} \\operatorname{atan}{\\left (4 x \\right )}} + \\frac{288 \\cos{\\left (3 x \\right )}}{\\left(16 x^{2} + 1\\right)^{2} \\operatorname{atan}^{2}{\\left (4 x \\right )}} - \\frac{384 \\sin{\\left (3 x \\right )}}{\\left(16 x^{2} + 1\\right)^{3} \\operatorname{atan}^{3}{\\left (4 x \\right )}}}{\\operatorname{atan}{\\left (4 x \\right )}}$"
      ],
      "text/plain": [
       "<IPython.core.display.Math object>"
      ]
     },
     "metadata": {},
     "output_type": "display_data"
    },
    {
     "data": {
      "text/latex": [
       "$\\displaystyle \\frac{d}{d x} \\log{\\left (x + 1 \\right )} = \\frac{1}{x + 1}$"
      ],
      "text/plain": [
       "<IPython.core.display.Math object>"
      ]
     },
     "metadata": {},
     "output_type": "display_data"
    },
    {
     "data": {
      "text/latex": [
       "$\\displaystyle \\frac{d^{2}}{d x^{2}} \\log{\\left (x + 1 \\right )} = - \\frac{1}{\\left(x + 1\\right)^{2}}$"
      ],
      "text/plain": [
       "<IPython.core.display.Math object>"
      ]
     },
     "metadata": {},
     "output_type": "display_data"
    },
    {
     "data": {
      "text/latex": [
       "$\\displaystyle \\frac{d^{3}}{d x^{3}} \\log{\\left (x + 1 \\right )} = \\frac{2}{\\left(x + 1\\right)^{3}}$"
      ],
      "text/plain": [
       "<IPython.core.display.Math object>"
      ]
     },
     "metadata": {},
     "output_type": "display_data"
    },
    {
     "data": {
      "text/latex": [
       "$\\displaystyle \\frac{\\partial}{\\partial x} \\sqrt{\\frac{y^{3}}{x}} = - \\frac{\\sqrt{\\frac{y^{3}}{x}}}{2 x}$"
      ],
      "text/plain": [
       "<IPython.core.display.Math object>"
      ]
     },
     "metadata": {},
     "output_type": "display_data"
    },
    {
     "data": {
      "text/latex": [
       "$\\displaystyle \\frac{\\partial}{\\partial y} \\sqrt{\\frac{y^{3}}{x}} = \\frac{3 \\sqrt{\\frac{y^{3}}{x}}}{2 y}$"
      ],
      "text/plain": [
       "<IPython.core.display.Math object>"
      ]
     },
     "metadata": {},
     "output_type": "display_data"
    }
   ],
   "source": [
    "# Task 7: Обчислити похідну. Знайти y'' та y'''. Знайти частинні похідні\n",
    "expr = sin(3*x) / atan(4 * x)\n",
    "res=Derivative(expr,x)\n",
    "display(Math(latex(Eq(res,res.doit()))))\n",
    "res=Derivative(res,x)\n",
    "display(Math(latex(Eq(res,res.doit()))))\n",
    "res=Derivative(res,x)\n",
    "display(Math(latex(Eq(res,res.doit()))))\n",
    "\n",
    "expr = ln(x + 1)\n",
    "res=Derivative(expr,x)\n",
    "display(Math(latex(Eq(res,res.doit()))))\n",
    "res=Derivative(res,x)\n",
    "display(Math(latex(Eq(res,res.doit()))))\n",
    "res=Derivative(res,x)\n",
    "display(Math(latex(Eq(res,res.doit()))))\n",
    "\n",
    "expr = sqrt(y ** 3 / x)\n",
    "res=Derivative(expr,x)\n",
    "display(Math(latex(Eq(res,res.doit()))))\n",
    "res=Derivative(expr,y)\n",
    "display(Math(latex(Eq(res,res.doit()))))"
   ]
  },
  {
   "cell_type": "code",
   "execution_count": 13,
   "metadata": {},
   "outputs": [
    {
     "data": {
      "text/latex": [
       "$\\displaystyle \\int \\cos{\\left (x \\right )} \\cos{\\left (2 x \\right )} \\cos{\\left (3 x \\right )}\\, dx = - \\frac{x \\sin{\\left (x \\right )} \\sin{\\left (2 x \\right )} \\cos{\\left (3 x \\right )}}{4} + \\frac{x \\sin{\\left (x \\right )} \\sin{\\left (3 x \\right )} \\cos{\\left (2 x \\right )}}{4} + \\frac{x \\sin{\\left (2 x \\right )} \\sin{\\left (3 x \\right )} \\cos{\\left (x \\right )}}{4} + \\frac{x \\cos{\\left (x \\right )} \\cos{\\left (2 x \\right )} \\cos{\\left (3 x \\right )}}{4} + \\frac{3 \\sin{\\left (x \\right )} \\sin{\\left (2 x \\right )} \\sin{\\left (3 x \\right )}}{8} + \\frac{\\sin{\\left (x \\right )} \\cos{\\left (2 x \\right )} \\cos{\\left (3 x \\right )}}{3} + \\frac{5 \\sin{\\left (2 x \\right )} \\cos{\\left (x \\right )} \\cos{\\left (3 x \\right )}}{24}$"
      ],
      "text/plain": [
       "<IPython.core.display.Math object>"
      ]
     },
     "metadata": {},
     "output_type": "display_data"
    },
    {
     "data": {
      "text/latex": [
       "$\\displaystyle \\int_{0}^{\\frac{\\pi}{2}} x \\cos{\\left (x \\right )}\\, dx = -1 + \\frac{\\pi}{2}$"
      ],
      "text/plain": [
       "<IPython.core.display.Math object>"
      ]
     },
     "metadata": {},
     "output_type": "display_data"
    },
    {
     "data": {
      "text/latex": [
       "$\\displaystyle \\int_{1}^{\\infty} \\frac{1}{\\sqrt{x}}\\, dx = \\infty$"
      ],
      "text/plain": [
       "<IPython.core.display.Math object>"
      ]
     },
     "metadata": {},
     "output_type": "display_data"
    }
   ],
   "source": [
    "# Task 8: Знайти значення інтеграла (невизначеного, визначеного, невласного)\n",
    "expr = cos(x) * cos(2 * x) * cos(3 * x)\n",
    "res=Integral(expr,x)\n",
    "display(Math(latex(Eq(res,res.doit()))))\n",
    "\n",
    "expr = x * cos(x)\n",
    "res=Integral(expr,(x,0,pi/2))\n",
    "display(Math(latex(Eq(res,res.doit()))))\n",
    "\n",
    "expr = 1 / sqrt(x)\n",
    "res=Integral(expr,(x,1,oo))\n",
    "display(Math(latex(Eq(res,res.doit()))))"
   ]
  },
  {
   "cell_type": "code",
   "execution_count": null,
   "metadata": {},
   "outputs": [],
   "source": []
  },
  {
   "cell_type": "code",
   "execution_count": null,
   "metadata": {},
   "outputs": [],
   "source": []
  }
 ],
 "metadata": {
  "kernelspec": {
   "display_name": "Python 3 (ipykernel)",
   "language": "python",
   "name": "python3"
  },
  "language_info": {
   "codemirror_mode": {
    "name": "ipython",
    "version": 3
   },
   "file_extension": ".py",
   "mimetype": "text/x-python",
   "name": "python",
   "nbconvert_exporter": "python",
   "pygments_lexer": "ipython3",
   "version": "3.10.7"
  }
 },
 "nbformat": 4,
 "nbformat_minor": 2
}
